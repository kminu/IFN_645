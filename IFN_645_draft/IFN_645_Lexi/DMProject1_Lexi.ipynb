{
 "cells": [
  {
   "cell_type": "code",
   "execution_count": 10,
   "metadata": {},
   "outputs": [],
   "source": [
    "import pandas as pd\n",
    "import numpy as np\n",
    "from sklearn.model_selection import train_test_split\n",
    "from sklearn.metrics import classification_report, accuracy_score\n",
    "from sklearn.model_selection import GridSearchCV\n",
    "from sklearn.preprocessing import StandardScaler\n",
    "from sklearn.linear_model import LogisticRegression\n",
    "from tools import data_prep"
   ]
  },
  {
   "cell_type": "code",
   "execution_count": 15,
   "metadata": {},
   "outputs": [
    {
     "name": "stderr",
     "output_type": "stream",
     "text": [
      "D:\\Programs\\conda\\lib\\site-packages\\IPython\\core\\interactiveshell.py:2903: DtypeWarning: Columns (27) have mixed types. Specify dtype option on import or set low_memory=False.\n",
      "  if self.run_code(code, result):\n"
     ]
    },
    {
     "name": "stdout",
     "output_type": "stream",
     "text": [
      "<class 'pandas.core.frame.DataFrame'>\n",
      "Int64Index: 41432 entries, 0 to 41475\n",
      "Data columns (total 31 columns):\n",
      "PurchaseID                           41432 non-null int64\n",
      "PurchaseTimestamp                    41432 non-null int64\n",
      "PurchaseDate                         41432 non-null object\n",
      "Auction                              41432 non-null object\n",
      "VehYear                              41432 non-null float64\n",
      "Make                                 41432 non-null object\n",
      "Color                                41432 non-null object\n",
      "Transmission                         41432 non-null object\n",
      "WheelTypeID                          41432 non-null object\n",
      "WheelType                            41380 non-null object\n",
      "VehOdo                               41432 non-null float64\n",
      "Nationality                          41432 non-null object\n",
      "Size                                 41432 non-null object\n",
      "TopThreeAmericanName                 41432 non-null object\n",
      "MMRAcquisitionAuctionAveragePrice    41416 non-null object\n",
      "MMRAcquisitionAuctionCleanPrice      41429 non-null object\n",
      "MMRAcquisitionRetailAveragePrice     41429 non-null object\n",
      "MMRAcquisitonRetailCleanPrice        41327 non-null object\n",
      "MMRCurrentAuctionAveragePrice        41429 non-null object\n",
      "MMRCurrentAuctionCleanPrice          41429 non-null object\n",
      "MMRCurrentRetailAveragePrice         41409 non-null object\n",
      "MMRCurrentRetailCleanPrice           41409 non-null object\n",
      "MMRCurrentRetailRatio                41116 non-null object\n",
      "PRIMEUNIT                            41432 non-null object\n",
      "AUCGUART                             41432 non-null object\n",
      "VNST                                 41432 non-null object\n",
      "VehBCost                             41432 non-null object\n",
      "IsOnlineSale                         41432 non-null object\n",
      "WarrantyCost                         41432 non-null float64\n",
      "ForSale                              41432 non-null object\n",
      "IsBadBuy                             41432 non-null int64\n",
      "dtypes: float64(3), int64(3), object(25)\n",
      "memory usage: 10.1+ MB\n",
      "<class 'pandas.core.frame.DataFrame'>\n",
      "Int64Index: 41432 entries, 0 to 41475\n",
      "Columns: 135 entries, PurchaseID to VNST_WV\n",
      "dtypes: category(2), float64(11), int64(5), object(4), uint8(113)\n",
      "memory usage: 11.2+ MB\n"
     ]
    }
   ],
   "source": [
    "df1 = data_prep()\n",
    "df1.info()"
   ]
  },
  {
   "cell_type": "code",
   "execution_count": 16,
   "metadata": {},
   "outputs": [],
   "source": [
    "# Setting up the dataFrame for Machine learning \n",
    "# copy the data and exclude some columns(dropcol) unncessary for training\n",
    "dropcol = (['PurchaseID','PurchaseTimestamp', 'PurchaseDate' ,'WheelTypeID', 'PRIMEUNIT', \\\n",
    "            'AUCGUART', 'IsOnlineSale', 'ForSale'])\n",
    "df1 = df1.drop(dropcol,  axis = 1)\n"
   ]
  },
  {
   "cell_type": "code",
   "execution_count": 17,
   "metadata": {},
   "outputs": [
    {
     "name": "stderr",
     "output_type": "stream",
     "text": [
      "D:\\Programs\\conda\\lib\\site-packages\\IPython\\core\\interactiveshell.py:2903: DtypeWarning: Columns (27) have mixed types. Specify dtype option on import or set low_memory=False.\n",
      "  if self.run_code(code, result):\n"
     ]
    },
    {
     "name": "stdout",
     "output_type": "stream",
     "text": [
      "<class 'pandas.core.frame.DataFrame'>\n",
      "Int64Index: 41432 entries, 0 to 41475\n",
      "Data columns (total 31 columns):\n",
      "PurchaseID                           41432 non-null int64\n",
      "PurchaseTimestamp                    41432 non-null int64\n",
      "PurchaseDate                         41432 non-null object\n",
      "Auction                              41432 non-null object\n",
      "VehYear                              41432 non-null float64\n",
      "Make                                 41432 non-null object\n",
      "Color                                41432 non-null object\n",
      "Transmission                         41432 non-null object\n",
      "WheelTypeID                          41432 non-null object\n",
      "WheelType                            41380 non-null object\n",
      "VehOdo                               41432 non-null float64\n",
      "Nationality                          41432 non-null object\n",
      "Size                                 41432 non-null object\n",
      "TopThreeAmericanName                 41432 non-null object\n",
      "MMRAcquisitionAuctionAveragePrice    41416 non-null object\n",
      "MMRAcquisitionAuctionCleanPrice      41429 non-null object\n",
      "MMRAcquisitionRetailAveragePrice     41429 non-null object\n",
      "MMRAcquisitonRetailCleanPrice        41327 non-null object\n",
      "MMRCurrentAuctionAveragePrice        41429 non-null object\n",
      "MMRCurrentAuctionCleanPrice          41429 non-null object\n",
      "MMRCurrentRetailAveragePrice         41409 non-null object\n",
      "MMRCurrentRetailCleanPrice           41409 non-null object\n",
      "MMRCurrentRetailRatio                41116 non-null object\n",
      "PRIMEUNIT                            41432 non-null object\n",
      "AUCGUART                             41432 non-null object\n",
      "VNST                                 41432 non-null object\n",
      "VehBCost                             41432 non-null object\n",
      "IsOnlineSale                         41432 non-null object\n",
      "WarrantyCost                         41432 non-null float64\n",
      "ForSale                              41432 non-null object\n",
      "IsBadBuy                             41432 non-null int64\n",
      "dtypes: float64(3), int64(3), object(25)\n",
      "memory usage: 10.1+ MB\n"
     ]
    },
    {
     "name": "stderr",
     "output_type": "stream",
     "text": [
      "D:\\Programs\\conda\\lib\\site-packages\\ipykernel_launcher.py:17: FutureWarning: Method .as_matrix will be removed in a future version. Use .values instead.\n"
     ]
    }
   ],
   "source": [
    "#from sklearn.preprocessing import LabelEncoder\n",
    "#labelEncoder = LabelEncoder()\n",
    "\n",
    "#categorical_feature_mask = df_final.dtypes==object\n",
    "#categorical_cols = df_final.columns[categorical_feature_mask].tolist()\n",
    "#df_final[categorical_cols] = df_final[categorical_cols].apply(lambda col: labelEncoder.fit_transform(col))\n",
    "#df_final.values[:,7] = labelEncoder.fit_transform(df_final.values[:,7])\n",
    "\n",
    "#df_final\n",
    "df1 = data_prep()\n",
    "# set the random seed - consistent\n",
    "rs = 10\n",
    "\n",
    "# train test split\n",
    "y = df1['IsBadBuy']\n",
    "X = df1.drop(['IsBadBuy'], axis=1)\n",
    "X_mat = X.as_matrix()\n",
    "X_train, X_test, y_train, y_test = train_test_split(X_mat, y, test_size=0.3, stratify=y, random_state=rs)"
   ]
  },
  {
   "cell_type": "code",
   "execution_count": 14,
   "metadata": {},
   "outputs": [
    {
     "name": "stdout",
     "output_type": "stream",
     "text": [
      "Before scaling\n",
      "-------------\n",
      "Variable #0: min 0, max 41475, mean 20689.33 and std dev 11982.32\n",
      "Variable #1: min 1231113600, max 1293667200, mean 1262209946.68 and std dev 17954860.16\n"
     ]
    },
    {
     "ename": "TypeError",
     "evalue": "unsupported operand type(s) for /: 'str' and 'int'",
     "output_type": "error",
     "traceback": [
      "\u001b[1;31m---------------------------------------------------------------------------\u001b[0m",
      "\u001b[1;31mTypeError\u001b[0m                                 Traceback (most recent call last)",
      "\u001b[1;32m<ipython-input-14-c3c62e6e8d48>\u001b[0m in \u001b[0;36m<module>\u001b[1;34m()\u001b[0m\n\u001b[0;32m      7\u001b[0m     \u001b[0mcol\u001b[0m \u001b[1;33m=\u001b[0m \u001b[0mX_train\u001b[0m\u001b[1;33m[\u001b[0m\u001b[1;33m:\u001b[0m\u001b[1;33m,\u001b[0m\u001b[0mi\u001b[0m\u001b[1;33m]\u001b[0m\u001b[1;33m\u001b[0m\u001b[0m\n\u001b[0;32m      8\u001b[0m     print(\"Variable #{}: min {}, max {}, mean {:.2f} and std dev {:.2f}\".\n\u001b[1;32m----> 9\u001b[1;33m           format(i, min(col), max(col), np.mean(col), np.std(col)))\n\u001b[0m\u001b[0;32m     10\u001b[0m \u001b[1;33m\u001b[0m\u001b[0m\n\u001b[0;32m     11\u001b[0m \u001b[1;31m# learn the mean and std.dev of variables from training data\u001b[0m\u001b[1;33m\u001b[0m\u001b[1;33m\u001b[0m\u001b[0m\n",
      "\u001b[1;32mD:\\Programs\\conda\\lib\\site-packages\\numpy\\core\\fromnumeric.py\u001b[0m in \u001b[0;36mmean\u001b[1;34m(a, axis, dtype, out, keepdims)\u001b[0m\n\u001b[0;32m   2955\u001b[0m \u001b[1;33m\u001b[0m\u001b[0m\n\u001b[0;32m   2956\u001b[0m     return _methods._mean(a, axis=axis, dtype=dtype,\n\u001b[1;32m-> 2957\u001b[1;33m                           out=out, **kwargs)\n\u001b[0m\u001b[0;32m   2958\u001b[0m \u001b[1;33m\u001b[0m\u001b[0m\n\u001b[0;32m   2959\u001b[0m \u001b[1;33m\u001b[0m\u001b[0m\n",
      "\u001b[1;32mD:\\Programs\\conda\\lib\\site-packages\\numpy\\core\\_methods.py\u001b[0m in \u001b[0;36m_mean\u001b[1;34m(a, axis, dtype, out, keepdims)\u001b[0m\n\u001b[0;32m     80\u001b[0m             \u001b[0mret\u001b[0m \u001b[1;33m=\u001b[0m \u001b[0mret\u001b[0m\u001b[1;33m.\u001b[0m\u001b[0mdtype\u001b[0m\u001b[1;33m.\u001b[0m\u001b[0mtype\u001b[0m\u001b[1;33m(\u001b[0m\u001b[0mret\u001b[0m \u001b[1;33m/\u001b[0m \u001b[0mrcount\u001b[0m\u001b[1;33m)\u001b[0m\u001b[1;33m\u001b[0m\u001b[0m\n\u001b[0;32m     81\u001b[0m     \u001b[1;32melse\u001b[0m\u001b[1;33m:\u001b[0m\u001b[1;33m\u001b[0m\u001b[0m\n\u001b[1;32m---> 82\u001b[1;33m         \u001b[0mret\u001b[0m \u001b[1;33m=\u001b[0m \u001b[0mret\u001b[0m \u001b[1;33m/\u001b[0m \u001b[0mrcount\u001b[0m\u001b[1;33m\u001b[0m\u001b[0m\n\u001b[0m\u001b[0;32m     83\u001b[0m \u001b[1;33m\u001b[0m\u001b[0m\n\u001b[0;32m     84\u001b[0m     \u001b[1;32mreturn\u001b[0m \u001b[0mret\u001b[0m\u001b[1;33m\u001b[0m\u001b[0m\n",
      "\u001b[1;31mTypeError\u001b[0m: unsupported operand type(s) for /: 'str' and 'int'"
     ]
    }
   ],
   "source": [
    "# initialise a standard scaler object\n",
    "scaler = StandardScaler()\n",
    "\n",
    "# visualise min, max, mean and standard dev of data before scaling\n",
    "print(\"Before scaling\\n-------------\")\n",
    "for i in range(5):\n",
    "    col = X_train[:,i]\n",
    "    print(\"Variable #{}: min {}, max {}, mean {:.2f} and std dev {:.2f}\".\n",
    "          format(i, min(col), max(col), np.mean(col), np.std(col)))\n",
    "\n",
    "# learn the mean and std.dev of variables from training data\n",
    "# then use the learned values to transform training data\n",
    "X_train = scaler.fit_transform(X_train, y_train)\n",
    "\n",
    "print(\"After scaling\\n-------------\")\n",
    "for i in range(5):\n",
    "    col = X_train[:,i]\n",
    "    print(\"Variable #{}: min {}, max {}, mean {:.2f} and std dev {:.2f}\".\n",
    "          format(i, min(col), max(col), np.mean(col), np.std(col)))\n",
    "\n",
    "# use the statistic that you learned from training to transform test data\n",
    "# NEVER learn from test data, this is supposed to be a set of dataset\n",
    "# that the model has never seen before\n",
    "X_test = scaler.transform(X_test)"
   ]
  },
  {
   "cell_type": "code",
   "execution_count": 7,
   "metadata": {},
   "outputs": [
    {
     "name": "stderr",
     "output_type": "stream",
     "text": [
      "/Users/lexi/anaconda3/lib/python3.7/site-packages/sklearn/linear_model/logistic.py:433: FutureWarning: Default solver will be changed to 'lbfgs' in 0.22. Specify a solver to silence this warning.\n",
      "  FutureWarning)\n"
     ]
    },
    {
     "data": {
      "text/plain": [
       "LogisticRegression(C=1.0, class_weight=None, dual=False, fit_intercept=True,\n",
       "          intercept_scaling=1, max_iter=100, multi_class='warn',\n",
       "          n_jobs=None, penalty='l2', random_state=10, solver='warn',\n",
       "          tol=0.0001, verbose=0, warm_start=False)"
      ]
     },
     "execution_count": 7,
     "metadata": {},
     "output_type": "execute_result"
    }
   ],
   "source": [
    "model = LogisticRegression(random_state=rs)\n",
    "\n",
    "# fit it to training data\n",
    "model.fit(X_train, y_train)"
   ]
  },
  {
   "cell_type": "code",
   "execution_count": 8,
   "metadata": {},
   "outputs": [
    {
     "name": "stdout",
     "output_type": "stream",
     "text": [
      "Train accuracy: 0.8708364940348942\n",
      "Test accuracy: 0.8700724054706356\n",
      "              precision    recall  f1-score   support\n",
      "\n",
      "           0       0.87      1.00      0.93     10820\n",
      "           1       0.31      0.00      0.00      1610\n",
      "\n",
      "   micro avg       0.87      0.87      0.87     12430\n",
      "   macro avg       0.59      0.50      0.47     12430\n",
      "weighted avg       0.80      0.87      0.81     12430\n",
      "\n"
     ]
    }
   ],
   "source": [
    "# training and test accuracy\n",
    "print(\"Train accuracy:\", model.score(X_train, y_train))\n",
    "print(\"Test accuracy:\", model.score(X_test, y_test))\n",
    "\n",
    "# classification report on test data\n",
    "y_pred = model.predict(X_test)\n",
    "print(classification_report(y_test, y_pred))\n"
   ]
  },
  {
   "cell_type": "code",
   "execution_count": 9,
   "metadata": {},
   "outputs": [
    {
     "name": "stdout",
     "output_type": "stream",
     "text": [
      "Transmission : -0.08809261449207823\n",
      "VehOdo : 0.07697614987079651\n",
      "MMRAcquisitionAuctionAveragePrice : -0.8952309946189534\n",
      "MMRAcquisitionAuctionCleanPrice : 0.0900613594528273\n",
      "MMRAcquisitionRetailAveragePrice : 0.9581828846746545\n",
      "MMRAcquisitonRetailCleanPrice : -0.07821708586580872\n",
      "MMRCurrentAuctionAveragePrice : 0.9354512065975777\n",
      "MMRCurrentAuctionCleanPrice : -0.3210638728159821\n",
      "MMRCurrentRetailAveragePrice : -0.506398841333568\n",
      "MMRCurrentRetailCleanPrice : -0.08581751516406032\n",
      "MMRCurrentRetailRatio : -0.03074918176808289\n",
      "VehBCost : -0.32712309435490305\n",
      "WarrantyCost : 0.041484431601290894\n",
      "Auction_ADESA : 0.07392924609918439\n",
      "Auction_MANHEIM : -0.0997344382416251\n",
      "Auction_OTHER : 0.04283257531496547\n",
      "VehYear_2001.0 : 0.09217908248196918\n",
      "VehYear_2002.0 : 0.10968796545163366\n",
      "VehYear_2003.0 : 0.11490531944449085\n",
      "VehYear_2004.0 : 0.08562868062280296\n"
     ]
    }
   ],
   "source": [
    "feature_names = X.columns\n",
    "coef = model.coef_[0]\n",
    "\n",
    "# limit to 20 features, you can comment the following line to print out everything\n",
    "coef = coef[:20]\n",
    "\n",
    "for i in range(len(coef)):\n",
    "    print(feature_names[i], ':', coef[i])"
   ]
  },
  {
   "cell_type": "code",
   "execution_count": 10,
   "metadata": {},
   "outputs": [
    {
     "name": "stdout",
     "output_type": "stream",
     "text": [
      "MMRAcquisitionRetailAveragePrice : 0.9581828846746545\n",
      "MMRCurrentAuctionAveragePrice : 0.9354512065975777\n",
      "MMRAcquisitionAuctionAveragePrice : -0.8952309946189534\n",
      "MMRCurrentRetailAveragePrice : -0.506398841333568\n",
      "VehBCost : -0.32712309435490305\n",
      "MMRCurrentAuctionCleanPrice : -0.3210638728159821\n",
      "VehYear_2008.0 : -0.18381160147654335\n",
      "WheelType_Alloy : 0.1715457428724775\n",
      "WheelType_Covers : -0.16969976721996594\n",
      "Nationality_TOP LINE ASIAN : 0.16804729155914697\n",
      "TopThreeAmericanName_GM : -0.1475167308037749\n",
      "Make_NISSAN : -0.12744256469655843\n",
      "Make_TOYOTA : -0.12096407097233595\n",
      "VehYear_2003.0 : 0.11490531944449085\n",
      "VNST_ID : -0.11220067309642154\n",
      "VehYear_2002.0 : 0.10968796545163366\n",
      "VehYear_2009.0 : -0.10092824260287092\n",
      "Auction_MANHEIM : -0.0997344382416251\n",
      "VehYear_2007.0 : -0.09652881355322182\n",
      "TopThreeAmericanName_CHRYSLER : 0.09239097537473827\n"
     ]
    }
   ],
   "source": [
    "# grab feature importances from the model and feature name from the original X\n",
    "coef = model.coef_[0]\n",
    "feature_names = X.columns\n",
    "\n",
    "# sort them out in descending order\n",
    "indices = np.argsort(np.absolute(coef))\n",
    "indices = np.flip(indices, axis=0)\n",
    "\n",
    "# limit to 20 features, you can leave this out to print out everything\n",
    "indices = indices[:20]\n",
    "\n",
    "for i in indices:\n",
    "    print(feature_names[i], ':', coef[i])"
   ]
  },
  {
   "cell_type": "code",
   "execution_count": 11,
   "metadata": {},
   "outputs": [
    {
     "name": "stderr",
     "output_type": "stream",
     "text": [
      "/Users/lexi/anaconda3/lib/python3.7/site-packages/sklearn/linear_model/logistic.py:433: FutureWarning: Default solver will be changed to 'lbfgs' in 0.22. Specify a solver to silence this warning.\n",
      "  FutureWarning)\n"
     ]
    },
    {
     "name": "stdout",
     "output_type": "stream",
     "text": [
      "Train accuracy: 0.8708020136542307\n",
      "Test accuracy: 0.8700724054706356\n",
      "              precision    recall  f1-score   support\n",
      "\n",
      "           0       0.87      1.00      0.93     10820\n",
      "           1       0.22      0.00      0.00      1610\n",
      "\n",
      "   micro avg       0.87      0.87      0.87     12430\n",
      "   macro avg       0.55      0.50      0.47     12430\n",
      "weighted avg       0.79      0.87      0.81     12430\n",
      "\n",
      "{'C': 0.01}\n"
     ]
    }
   ],
   "source": [
    "# grid search CV\n",
    "params = {'C': [pow(10, x) for x in range(-6, 4)]}\n",
    "\n",
    "# use all cores to tune logistic regression with C parameter\n",
    "cv = GridSearchCV(param_grid=params, estimator=LogisticRegression(random_state=rs), cv=10, n_jobs=-1)\n",
    "cv.fit(X_train, y_train)\n",
    "\n",
    "# test the best model\n",
    "print(\"Train accuracy:\", cv.score(X_train, y_train))\n",
    "print(\"Test accuracy:\", cv.score(X_test, y_test))\n",
    "\n",
    "y_pred = cv.predict(X_test)\n",
    "print(classification_report(y_test, y_pred))\n",
    "\n",
    "# print parameters of the best model\n",
    "print(cv.best_params_)"
   ]
  },
  {
   "cell_type": "code",
   "execution_count": null,
   "metadata": {},
   "outputs": [],
   "source": []
  }
 ],
 "metadata": {
  "kernelspec": {
   "display_name": "Python 3",
   "language": "python",
   "name": "python3"
  },
  "language_info": {
   "codemirror_mode": {
    "name": "ipython",
    "version": 3
   },
   "file_extension": ".py",
   "mimetype": "text/x-python",
   "name": "python",
   "nbconvert_exporter": "python",
   "pygments_lexer": "ipython3",
   "version": "3.6.5"
  }
 },
 "nbformat": 4,
 "nbformat_minor": 2
}
