{
 "cells": [
  {
   "cell_type": "code",
   "execution_count": 2,
   "metadata": {},
   "outputs": [],
   "source": [
    "import pandas as pd"
   ]
  },
  {
   "cell_type": "markdown",
   "metadata": {},
   "source": [
    "### Import cleaned dataset"
   ]
  },
  {
   "cell_type": "code",
   "execution_count": 3,
   "metadata": {},
   "outputs": [
    {
     "name": "stdout",
     "output_type": "stream",
     "text": [
      "<class 'pandas.core.frame.DataFrame'>\n",
      "RangeIndex: 5866 entries, 0 to 5865\n",
      "Data columns (total 6 columns):\n",
      "ip           5866 non-null object\n",
      "date_time    5866 non-null object\n",
      "request      5866 non-null object\n",
      "step         5866 non-null int64\n",
      "session      5866 non-null int64\n",
      "user_id      5866 non-null int64\n",
      "dtypes: int64(3), object(3)\n",
      "memory usage: 275.0+ KB\n"
     ]
    },
    {
     "data": {
      "text/html": [
       "<div>\n",
       "<style scoped>\n",
       "    .dataframe tbody tr th:only-of-type {\n",
       "        vertical-align: middle;\n",
       "    }\n",
       "\n",
       "    .dataframe tbody tr th {\n",
       "        vertical-align: top;\n",
       "    }\n",
       "\n",
       "    .dataframe thead th {\n",
       "        text-align: right;\n",
       "    }\n",
       "</style>\n",
       "<table border=\"1\" class=\"dataframe\">\n",
       "  <thead>\n",
       "    <tr style=\"text-align: right;\">\n",
       "      <th></th>\n",
       "      <th>ip</th>\n",
       "      <th>date_time</th>\n",
       "      <th>request</th>\n",
       "      <th>step</th>\n",
       "      <th>session</th>\n",
       "      <th>user_id</th>\n",
       "    </tr>\n",
       "  </thead>\n",
       "  <tbody>\n",
       "    <tr>\n",
       "      <th>0</th>\n",
       "      <td>c210-49-32-6.rochd2.</td>\n",
       "      <td>18/Apr/2005:21:25:07</td>\n",
       "      <td>/</td>\n",
       "      <td>1</td>\n",
       "      <td>3</td>\n",
       "      <td>3</td>\n",
       "    </tr>\n",
       "    <tr>\n",
       "      <th>1</th>\n",
       "      <td>visp.inabox.telstra.</td>\n",
       "      <td>19/Apr/2005:08:24:28</td>\n",
       "      <td>/</td>\n",
       "      <td>1</td>\n",
       "      <td>12</td>\n",
       "      <td>12</td>\n",
       "    </tr>\n",
       "    <tr>\n",
       "      <th>2</th>\n",
       "      <td>dsl-61-95-54-84.requ</td>\n",
       "      <td>19/Apr/2005:08:33:01</td>\n",
       "      <td>/</td>\n",
       "      <td>1</td>\n",
       "      <td>13</td>\n",
       "      <td>13</td>\n",
       "    </tr>\n",
       "    <tr>\n",
       "      <th>3</th>\n",
       "      <td>d220-236-91-52.dsl.n</td>\n",
       "      <td>19/Apr/2005:09:16:06</td>\n",
       "      <td>/</td>\n",
       "      <td>1</td>\n",
       "      <td>15</td>\n",
       "      <td>15</td>\n",
       "    </tr>\n",
       "    <tr>\n",
       "      <th>4</th>\n",
       "      <td>allptrs.eq.edu.au</td>\n",
       "      <td>19/Apr/2005:09:47:54</td>\n",
       "      <td>/</td>\n",
       "      <td>1</td>\n",
       "      <td>22</td>\n",
       "      <td>22</td>\n",
       "    </tr>\n",
       "    <tr>\n",
       "      <th>5</th>\n",
       "      <td>cpe-144-136-135-38.q</td>\n",
       "      <td>19/Apr/2005:10:13:37</td>\n",
       "      <td>/</td>\n",
       "      <td>1</td>\n",
       "      <td>23</td>\n",
       "      <td>23</td>\n",
       "    </tr>\n",
       "    <tr>\n",
       "      <th>6</th>\n",
       "      <td>225-145-222-203.rev.</td>\n",
       "      <td>19/Apr/2005:11:48:32</td>\n",
       "      <td>/</td>\n",
       "      <td>1</td>\n",
       "      <td>25</td>\n",
       "      <td>25</td>\n",
       "    </tr>\n",
       "    <tr>\n",
       "      <th>7</th>\n",
       "      <td>cpe-138-130-198-54.q</td>\n",
       "      <td>19/Apr/2005:12:31:54</td>\n",
       "      <td>/</td>\n",
       "      <td>1</td>\n",
       "      <td>26</td>\n",
       "      <td>26</td>\n",
       "    </tr>\n",
       "    <tr>\n",
       "      <th>8</th>\n",
       "      <td>203-219-44-170-qld.t</td>\n",
       "      <td>19/Apr/2005:12:33:49</td>\n",
       "      <td>/</td>\n",
       "      <td>1</td>\n",
       "      <td>29</td>\n",
       "      <td>29</td>\n",
       "    </tr>\n",
       "    <tr>\n",
       "      <th>9</th>\n",
       "      <td>cpe-138-130-198-54.q</td>\n",
       "      <td>19/Apr/2005:12:42:51</td>\n",
       "      <td>/</td>\n",
       "      <td>1</td>\n",
       "      <td>30</td>\n",
       "      <td>30</td>\n",
       "    </tr>\n",
       "  </tbody>\n",
       "</table>\n",
       "</div>"
      ],
      "text/plain": [
       "                     ip             date_time request  step  session  user_id\n",
       "0  c210-49-32-6.rochd2.  18/Apr/2005:21:25:07       /     1        3        3\n",
       "1  visp.inabox.telstra.  19/Apr/2005:08:24:28       /     1       12       12\n",
       "2  dsl-61-95-54-84.requ  19/Apr/2005:08:33:01       /     1       13       13\n",
       "3  d220-236-91-52.dsl.n  19/Apr/2005:09:16:06       /     1       15       15\n",
       "4     allptrs.eq.edu.au  19/Apr/2005:09:47:54       /     1       22       22\n",
       "5  cpe-144-136-135-38.q  19/Apr/2005:10:13:37       /     1       23       23\n",
       "6  225-145-222-203.rev.  19/Apr/2005:11:48:32       /     1       25       25\n",
       "7  cpe-138-130-198-54.q  19/Apr/2005:12:31:54       /     1       26       26\n",
       "8  203-219-44-170-qld.t  19/Apr/2005:12:33:49       /     1       29       29\n",
       "9  cpe-138-130-198-54.q  19/Apr/2005:12:42:51       /     1       30       30"
      ]
     },
     "execution_count": 3,
     "metadata": {},
     "output_type": "execute_result"
    }
   ],
   "source": [
    "df = pd.read_csv('datasets/web_log_data.csv')\n",
    "df.info()\n",
    "df.head(10)"
   ]
  },
  {
   "cell_type": "code",
   "execution_count": 4,
   "metadata": {},
   "outputs": [
    {
     "name": "stdout",
     "output_type": "stream",
     "text": [
      "user_id      0\n",
      "session      0\n",
      "step         0\n",
      "request      0\n",
      "date_time    0\n",
      "ip           0\n",
      "dtype: int64\n"
     ]
    }
   ],
   "source": [
    "#find missing data in a dataset\n",
    "MissingData = df.isnull().sum()\n",
    "print(MissingData.sort_values(ascending = False))"
   ]
  },
  {
   "cell_type": "code",
   "execution_count": 20,
   "metadata": {},
   "outputs": [],
   "source": [
    "#data time\n",
    "#https://www.geeksforgeeks.org/python-working-with-date-and-time-using-pandas/\n",
    "df['date_time'] =  pd.to_datetime(df['date_time'], format=\"%d/%b/%Y:%H:%M:%S\")"
   ]
  },
  {
   "cell_type": "code",
   "execution_count": 21,
   "metadata": {},
   "outputs": [],
   "source": [
    "# Create features for year, month, day, hour, and minute \n",
    "df['year'] = df['date_time'].dt.year \n",
    "df['month'] = df['date_time'].dt.month \n",
    "df['day'] = df['date_time'].dt.day \n",
    "df['hour'] = df['date_time'].dt.hour \n",
    "df['minute'] = df['date_time'].dt.minute"
   ]
  },
  {
   "cell_type": "code",
   "execution_count": 22,
   "metadata": {},
   "outputs": [
    {
     "data": {
      "text/html": [
       "<div>\n",
       "<style scoped>\n",
       "    .dataframe tbody tr th:only-of-type {\n",
       "        vertical-align: middle;\n",
       "    }\n",
       "\n",
       "    .dataframe tbody tr th {\n",
       "        vertical-align: top;\n",
       "    }\n",
       "\n",
       "    .dataframe thead th {\n",
       "        text-align: right;\n",
       "    }\n",
       "</style>\n",
       "<table border=\"1\" class=\"dataframe\">\n",
       "  <thead>\n",
       "    <tr style=\"text-align: right;\">\n",
       "      <th></th>\n",
       "      <th>ip</th>\n",
       "      <th>date_time</th>\n",
       "      <th>request</th>\n",
       "      <th>step</th>\n",
       "      <th>session</th>\n",
       "      <th>user_id</th>\n",
       "      <th>year</th>\n",
       "      <th>month</th>\n",
       "      <th>day</th>\n",
       "      <th>hour</th>\n",
       "      <th>minute</th>\n",
       "    </tr>\n",
       "  </thead>\n",
       "  <tbody>\n",
       "    <tr>\n",
       "      <th>0</th>\n",
       "      <td>c210-49-32-6.rochd2.</td>\n",
       "      <td>2005-04-18 21:25:07</td>\n",
       "      <td>/</td>\n",
       "      <td>1</td>\n",
       "      <td>3</td>\n",
       "      <td>3</td>\n",
       "      <td>2005</td>\n",
       "      <td>4</td>\n",
       "      <td>18</td>\n",
       "      <td>21</td>\n",
       "      <td>25</td>\n",
       "    </tr>\n",
       "    <tr>\n",
       "      <th>1</th>\n",
       "      <td>visp.inabox.telstra.</td>\n",
       "      <td>2005-04-19 08:24:28</td>\n",
       "      <td>/</td>\n",
       "      <td>1</td>\n",
       "      <td>12</td>\n",
       "      <td>12</td>\n",
       "      <td>2005</td>\n",
       "      <td>4</td>\n",
       "      <td>19</td>\n",
       "      <td>8</td>\n",
       "      <td>24</td>\n",
       "    </tr>\n",
       "    <tr>\n",
       "      <th>2</th>\n",
       "      <td>dsl-61-95-54-84.requ</td>\n",
       "      <td>2005-04-19 08:33:01</td>\n",
       "      <td>/</td>\n",
       "      <td>1</td>\n",
       "      <td>13</td>\n",
       "      <td>13</td>\n",
       "      <td>2005</td>\n",
       "      <td>4</td>\n",
       "      <td>19</td>\n",
       "      <td>8</td>\n",
       "      <td>33</td>\n",
       "    </tr>\n",
       "    <tr>\n",
       "      <th>3</th>\n",
       "      <td>d220-236-91-52.dsl.n</td>\n",
       "      <td>2005-04-19 09:16:06</td>\n",
       "      <td>/</td>\n",
       "      <td>1</td>\n",
       "      <td>15</td>\n",
       "      <td>15</td>\n",
       "      <td>2005</td>\n",
       "      <td>4</td>\n",
       "      <td>19</td>\n",
       "      <td>9</td>\n",
       "      <td>16</td>\n",
       "    </tr>\n",
       "    <tr>\n",
       "      <th>4</th>\n",
       "      <td>allptrs.eq.edu.au</td>\n",
       "      <td>2005-04-19 09:47:54</td>\n",
       "      <td>/</td>\n",
       "      <td>1</td>\n",
       "      <td>22</td>\n",
       "      <td>22</td>\n",
       "      <td>2005</td>\n",
       "      <td>4</td>\n",
       "      <td>19</td>\n",
       "      <td>9</td>\n",
       "      <td>47</td>\n",
       "    </tr>\n",
       "  </tbody>\n",
       "</table>\n",
       "</div>"
      ],
      "text/plain": [
       "                     ip           date_time request  step  session  user_id  \\\n",
       "0  c210-49-32-6.rochd2. 2005-04-18 21:25:07       /     1        3        3   \n",
       "1  visp.inabox.telstra. 2005-04-19 08:24:28       /     1       12       12   \n",
       "2  dsl-61-95-54-84.requ 2005-04-19 08:33:01       /     1       13       13   \n",
       "3  d220-236-91-52.dsl.n 2005-04-19 09:16:06       /     1       15       15   \n",
       "4     allptrs.eq.edu.au 2005-04-19 09:47:54       /     1       22       22   \n",
       "\n",
       "   year  month  day  hour  minute  \n",
       "0  2005      4   18    21      25  \n",
       "1  2005      4   19     8      24  \n",
       "2  2005      4   19     8      33  \n",
       "3  2005      4   19     9      16  \n",
       "4  2005      4   19     9      47  "
      ]
     },
     "execution_count": 22,
     "metadata": {},
     "output_type": "execute_result"
    }
   ],
   "source": [
    "df.head()"
   ]
  },
  {
   "cell_type": "code",
   "execution_count": null,
   "metadata": {},
   "outputs": [],
   "source": []
  },
  {
   "cell_type": "code",
   "execution_count": null,
   "metadata": {},
   "outputs": [],
   "source": []
  },
  {
   "cell_type": "code",
   "execution_count": null,
   "metadata": {},
   "outputs": [],
   "source": []
  },
  {
   "cell_type": "code",
   "execution_count": null,
   "metadata": {},
   "outputs": [],
   "source": []
  },
  {
   "cell_type": "code",
   "execution_count": null,
   "metadata": {},
   "outputs": [],
   "source": []
  },
  {
   "cell_type": "markdown",
   "metadata": {},
   "source": [
    "# Part 4 Clustering"
   ]
  },
  {
   "cell_type": "code",
   "execution_count": 5,
   "metadata": {},
   "outputs": [],
   "source": [
    "#df = pd.concat([df,pd.get_dummies(df['ip'], prefix='ip', prefix_sep='_', columns= (''))], axis=1)\n",
    "#df.drop(['ip'],axis=1, inplace=True)"
   ]
  },
  {
   "cell_type": "code",
   "execution_count": 6,
   "metadata": {},
   "outputs": [
    {
     "name": "stderr",
     "output_type": "stream",
     "text": [
      "C:\\Users\\kmw41\\Anaconda3\\lib\\site-packages\\ipykernel_launcher.py:7: FutureWarning: Method .as_matrix will be removed in a future version. Use .values instead.\n",
      "  import sys\n",
      "C:\\Users\\kmw41\\Anaconda3\\lib\\site-packages\\sklearn\\utils\\validation.py:475: DataConversionWarning: Data with input dtype int64 was converted to float64 by StandardScaler.\n",
      "  warnings.warn(msg, DataConversionWarning)\n"
     ]
    }
   ],
   "source": [
    "from sklearn.preprocessing import StandardScaler\n",
    "\n",
    "# take 3 variables and drop the rest\n",
    "df2 = df[['step']]\n",
    "\n",
    "# convert df2 to matrix\n",
    "X = df2.as_matrix()\n",
    "\n",
    "# scaling\n",
    "scaler = StandardScaler()\n",
    "X = scaler.fit_transform(X)"
   ]
  },
  {
   "cell_type": "code",
   "execution_count": 7,
   "metadata": {},
   "outputs": [
    {
     "name": "stdout",
     "output_type": "stream",
     "text": [
      "Sum of intra-cluster distance: 1199.006381150884\n",
      "Centroid locations:\n",
      "[-0.40608193]\n",
      "[3.4902619]\n",
      "[0.89280273]\n"
     ]
    }
   ],
   "source": [
    "from sklearn.cluster import KMeans\n",
    "\n",
    "# random state, we will use 42 instead of 10 for a change\n",
    "rs = 42\n",
    "\n",
    "# set the random state. different random state seeds might result in different centroids locations\n",
    "model = KMeans(n_clusters=3, random_state=rs)\n",
    "model.fit(X)\n",
    "\n",
    "# sum of intra-cluster distances\n",
    "print(\"Sum of intra-cluster distance:\", model.inertia_)\n",
    "\n",
    "print(\"Centroid locations:\")\n",
    "for centroid in model.cluster_centers_:\n",
    "    print(centroid)"
   ]
  },
  {
   "cell_type": "code",
   "execution_count": 8,
   "metadata": {},
   "outputs": [
    {
     "name": "stderr",
     "output_type": "stream",
     "text": [
      "C:\\Users\\kmw41\\Anaconda3\\lib\\site-packages\\ipykernel_launcher.py:10: SettingWithCopyWarning: \n",
      "A value is trying to be set on a copy of a slice from a DataFrame.\n",
      "Try using .loc[row_indexer,col_indexer] = value instead\n",
      "\n",
      "See the caveats in the documentation: http://pandas.pydata.org/pandas-docs/stable/indexing.html#indexing-view-versus-copy\n",
      "  # Remove the CWD from sys.path while we load stuff.\n"
     ]
    },
    {
     "name": "stdout",
     "output_type": "stream",
     "text": [
      "Cluster membership\n",
      "0    4534\n",
      "2    1081\n",
      "1     251\n",
      "Name: Cluster_ID, dtype: int64\n"
     ]
    },
    {
     "data": {
      "text/plain": [
       "<Figure size 582.111x500 with 6 Axes>"
      ]
     },
     "metadata": {},
     "output_type": "display_data"
    }
   ],
   "source": [
    "from matplotlib import pyplot as plt\n",
    "from scipy.cluster.hierarchy import dendrogram\n",
    "import seaborn as sns\n",
    "\n",
    "model = KMeans(n_clusters=3, random_state=rs).fit(X)\n",
    "\n",
    "# assign cluster ID to each record in X\n",
    "# Ignore the warning, does not apply to our case here\n",
    "y = model.predict(X)\n",
    "df2['Cluster_ID'] = y\n",
    "\n",
    "# how many records are in each cluster\n",
    "print(\"Cluster membership\")\n",
    "print(df2['Cluster_ID'].value_counts())\n",
    "\n",
    "# pairplot the cluster distribution.\n",
    "cluster_g = sns.pairplot(df2, hue='Cluster_ID')\n",
    "plt.show()"
   ]
  },
  {
   "cell_type": "markdown",
   "metadata": {},
   "source": [
    "#### Analysis\n",
    "step\n",
    "* Cluster 0 have considerable higher number of steps taken during surfing\n",
    "* Cluster 1 and 2, both have minimal steps taken (0-20) in a single log in\n",
    "\n",
    "session\n",
    "* Cluster 0 have dense distributed session id and significantlyhave more steps (>20)  \n",
    "* Cluster 1 and have session id 1-1000, 2000 respectively. Both have only steps of 20 or less in each session."
   ]
  },
  {
   "cell_type": "code",
   "execution_count": 9,
   "metadata": {},
   "outputs": [
    {
     "name": "stdout",
     "output_type": "stream",
     "text": [
      "1     1939\n",
      "2      960\n",
      "3      600\n",
      "4      424\n",
      "5      334\n",
      "6      277\n",
      "7      223\n",
      "8      183\n",
      "9      144\n",
      "10     122\n",
      "11      99\n",
      "12      74\n",
      "13      65\n",
      "14      54\n",
      "15      46\n",
      "16      37\n",
      "17      34\n",
      "18      30\n",
      "19      27\n",
      "20      26\n",
      "21      24\n",
      "22      20\n",
      "23      15\n",
      "24      14\n",
      "25      12\n",
      "26      11\n",
      "27      11\n",
      "29       7\n",
      "28       7\n",
      "30       6\n",
      "      ... \n",
      "55       1\n",
      "47       1\n",
      "60       1\n",
      "56       1\n",
      "52       1\n",
      "44       1\n",
      "40       1\n",
      "36       1\n",
      "48       1\n",
      "57       1\n",
      "37       1\n",
      "41       1\n",
      "39       1\n",
      "35       1\n",
      "51       1\n",
      "62       1\n",
      "58       1\n",
      "54       1\n",
      "50       1\n",
      "46       1\n",
      "42       1\n",
      "38       1\n",
      "34       1\n",
      "59       1\n",
      "61       1\n",
      "43       1\n",
      "53       1\n",
      "49       1\n",
      "45       1\n",
      "63       1\n",
      "Name: step, Length: 63, dtype: int64\n"
     ]
    }
   ],
   "source": [
    "print(df['step'].value_counts())"
   ]
  },
  {
   "cell_type": "markdown",
   "metadata": {},
   "source": [
    "# Part4.2 Association mining"
   ]
  },
  {
   "cell_type": "code",
   "execution_count": 10,
   "metadata": {},
   "outputs": [
    {
     "name": "stdout",
     "output_type": "stream",
     "text": [
      "ip\n",
      "002.b.004.brs.iprimu                                  [/, /services.html]\n",
      "034.mel0205.mel.ipri                                                  [/]\n",
      "038.b.004.brs.iprimu                                                  [/]\n",
      "042.058.dsl.mel.ipri                                                  [/]\n",
      "058.a.001.cns.iprimu    [/eaglefarm/, /eaglefarm/javascript/menu.js, /...\n",
      "081.a.004.syd.iprimu                                                  [/]\n",
      "086.a.002.brs.iprimu         [/eaglefarm/, /eaglefarm/javascript/menu.js]\n",
      "099.a.001.brs.iprimu                             [/, /, /springwood.html]\n",
      "1.cust21.qld.dsl.oze                                    [/, /favicon.ico]\n",
      "103.cust20.qld.dsl.o    [/, /favicon.ico, /favicon.ico, /favicon.ico, ...\n",
      "107.a.004.brs.iprimu    [/, /, /acacia.html, /direct.html, /eaglefarm,...\n",
      "11.128-142-203.dart.                    [/, /services.html, /whoare.html]\n",
      "114.a.001.brs.iprimu    [/, /acacia.html, /direct.html, /eaglefarm, /e...\n",
      "118.a.002.gct.iprimu    [/, /acacia.html, /direct.html, /favicon.ico, ...\n",
      "122.cust31.nsw.dsl.o      [/, /favicon.ico, /favicon.ico, /services.html]\n",
      "137.219.60.156                                                        [/]\n",
      "141394-ppp248.for.kb                                                  [/]\n",
      "144.133.222.196                             [/, /favicon.ico, /more.html]\n",
      "144.135.2.28            [/, /eaglefarm, /eaglefarm/, /eaglefarm/javasc...\n",
      "144.135.7.65            [/eaglefarm/, /eaglefarm/javascript/menu.js, /...\n",
      "Name: request, dtype: object\n"
     ]
    }
   ],
   "source": [
    "# group by account, then list all services\n",
    "transactions = df.groupby(['ip'])['request'].apply(list)\n",
    "print(transactions.head(20))"
   ]
  },
  {
   "cell_type": "code",
   "execution_count": 11,
   "metadata": {},
   "outputs": [],
   "source": [
    "def convert_apriori_results_to_pandas_df(results):\n",
    "    rules = []\n",
    "    \n",
    "    for rule_set in results:\n",
    "        for rule in rule_set.ordered_statistics:\n",
    "            # items_base = left side of rules, items_add = right side\n",
    "            # support, confidence and lift for respective rules\n",
    "            rules.append([','.join(rule.items_base), ','.join(rule.items_add),\n",
    "                         rule_set.support, rule.confidence, rule.lift]) \n",
    "    \n",
    "    # typecast it to pandas df\n",
    "    return pd.DataFrame(rules, columns=['Left_side', 'Right_side', 'Support', 'Confidence', 'Lift']) "
   ]
  },
  {
   "cell_type": "code",
   "execution_count": 12,
   "metadata": {},
   "outputs": [
    {
     "name": "stdout",
     "output_type": "stream",
     "text": [
      "[RelationRecord(items=frozenset({'/eaglefarm/', '/eaglefarm/javascript/menu.js'}), support=0.21597300337457817, ordered_statistics=[OrderedStatistic(items_base=frozenset({'/eaglefarm/'}), items_add=frozenset({'/eaglefarm/javascript/menu.js'}), confidence=0.923076923076923, lift=3.6150457472043374), OrderedStatistic(items_base=frozenset({'/eaglefarm/javascript/menu.js'}), items_add=frozenset({'/eaglefarm/'}), confidence=0.8458149779735682, lift=3.615045747204337)]), RelationRecord(items=frozenset({'/eaglefarm/', '/eaglefarm/pdf/Web_Price_List.pdf'}), support=0.140607424071991, ordered_statistics=[OrderedStatistic(items_base=frozenset({'/eaglefarm/'}), items_add=frozenset({'/eaglefarm/pdf/Web_Price_List.pdf'}), confidence=0.6009615384615384, lift=3.7360476062399135), OrderedStatistic(items_base=frozenset({'/eaglefarm/pdf/Web_Price_List.pdf'}), items_add=frozenset({'/eaglefarm/'}), confidence=0.8741258741258741, lift=3.7360476062399135)]), RelationRecord(items=frozenset({'/eaglefarm/', '/eaglefarm/pricelist'}), support=0.156355455568054, ordered_statistics=[OrderedStatistic(items_base=frozenset({'/eaglefarm/'}), items_add=frozenset({'/eaglefarm/pricelist'}), confidence=0.6682692307692307, lift=3.8577360139860137), OrderedStatistic(items_base=frozenset({'/eaglefarm/pricelist'}), items_add=frozenset({'/eaglefarm/'}), confidence=0.9025974025974026, lift=3.8577360139860137)]), RelationRecord(items=frozenset({'/eaglefarm/', '/eaglefarm/pricelist/'}), support=0.156355455568054, ordered_statistics=[OrderedStatistic(items_base=frozenset({'/eaglefarm/'}), items_add=frozenset({'/eaglefarm/pricelist/'}), confidence=0.6682692307692307, lift=3.8328473945409427), OrderedStatistic(items_base=frozenset({'/eaglefarm/pricelist/'}), items_add=frozenset({'/eaglefarm/'}), confidence=0.8967741935483872, lift=3.832847394540943)]), RelationRecord(items=frozenset({'/eaglefarm/pdf/Web_Price_List.pdf', '/eaglefarm/javascript/menu.js'}), support=0.15523059617547807, ordered_statistics=[OrderedStatistic(items_base=frozenset({'/eaglefarm/javascript/menu.js'}), items_add=frozenset({'/eaglefarm/pdf/Web_Price_List.pdf'}), confidence=0.6079295154185023, lift=3.7793660084408986), OrderedStatistic(items_base=frozenset({'/eaglefarm/pdf/Web_Price_List.pdf'}), items_add=frozenset({'/eaglefarm/javascript/menu.js'}), confidence=0.965034965034965, lift=3.779366008440898)])]\n"
     ]
    }
   ],
   "source": [
    "from apyori import apriori\n",
    "\n",
    "# type cast the transactions from pandas into normal list format and run apriori\n",
    "transaction_list = list(transactions)\n",
    "results = list(apriori(transaction_list, min_support=0.1, min_confidence = 0.2, min_lift = 3, min_length = 2, max_length = 2))\n",
    "\n",
    "# print first 5 rules\n",
    "print(results[:5])"
   ]
  },
  {
   "cell_type": "code",
   "execution_count": 13,
   "metadata": {},
   "outputs": [
    {
     "name": "stdout",
     "output_type": "stream",
     "text": [
      "                            Left_side                         Right_side  \\\n",
      "0                         /eaglefarm/      /eaglefarm/javascript/menu.js   \n",
      "1       /eaglefarm/javascript/menu.js                        /eaglefarm/   \n",
      "2                         /eaglefarm/  /eaglefarm/pdf/Web_Price_List.pdf   \n",
      "3   /eaglefarm/pdf/Web_Price_List.pdf                        /eaglefarm/   \n",
      "4                         /eaglefarm/               /eaglefarm/pricelist   \n",
      "5                /eaglefarm/pricelist                        /eaglefarm/   \n",
      "6                         /eaglefarm/              /eaglefarm/pricelist/   \n",
      "7               /eaglefarm/pricelist/                        /eaglefarm/   \n",
      "8       /eaglefarm/javascript/menu.js  /eaglefarm/pdf/Web_Price_List.pdf   \n",
      "9   /eaglefarm/pdf/Web_Price_List.pdf      /eaglefarm/javascript/menu.js   \n",
      "10      /eaglefarm/javascript/menu.js               /eaglefarm/pricelist   \n",
      "11               /eaglefarm/pricelist      /eaglefarm/javascript/menu.js   \n",
      "12      /eaglefarm/javascript/menu.js              /eaglefarm/pricelist/   \n",
      "13              /eaglefarm/pricelist/      /eaglefarm/javascript/menu.js   \n",
      "14  /eaglefarm/pdf/Web_Price_List.pdf               /eaglefarm/pricelist   \n",
      "15               /eaglefarm/pricelist  /eaglefarm/pdf/Web_Price_List.pdf   \n",
      "16  /eaglefarm/pdf/Web_Price_List.pdf              /eaglefarm/pricelist/   \n",
      "17              /eaglefarm/pricelist/  /eaglefarm/pdf/Web_Price_List.pdf   \n",
      "18               /eaglefarm/pricelist              /eaglefarm/pricelist/   \n",
      "19              /eaglefarm/pricelist/               /eaglefarm/pricelist   \n",
      "\n",
      "     Support  Confidence      Lift  \n",
      "0   0.215973    0.923077  3.615046  \n",
      "1   0.215973    0.845815  3.615046  \n",
      "2   0.140607    0.600962  3.736048  \n",
      "3   0.140607    0.874126  3.736048  \n",
      "4   0.156355    0.668269  3.857736  \n",
      "5   0.156355    0.902597  3.857736  \n",
      "6   0.156355    0.668269  3.832847  \n",
      "7   0.156355    0.896774  3.832847  \n",
      "8   0.155231    0.607930  3.779366  \n",
      "9   0.155231    0.965035  3.779366  \n",
      "10  0.169854    0.665198  3.840008  \n",
      "11  0.169854    0.980519  3.840008  \n",
      "12  0.170979    0.669604  3.840500  \n",
      "13  0.170979    0.980645  3.840500  \n",
      "14  0.154106    0.958042  5.530515  \n",
      "15  0.154106    0.889610  5.530515  \n",
      "16  0.156355    0.972028  5.575051  \n",
      "17  0.156355    0.896774  5.575051  \n",
      "18  0.172103    0.993506  5.698240  \n",
      "19  0.172103    0.987097  5.698240  \n"
     ]
    }
   ],
   "source": [
    "result_df = convert_apriori_results_to_pandas_df(results)\n",
    "print(result_df.head(20))"
   ]
  },
  {
   "cell_type": "code",
   "execution_count": 14,
   "metadata": {},
   "outputs": [
    {
     "name": "stdout",
     "output_type": "stream",
     "text": [
      "                            Left_side                         Right_side  \\\n",
      "19              /eaglefarm/pricelist/               /eaglefarm/pricelist   \n",
      "18               /eaglefarm/pricelist              /eaglefarm/pricelist/   \n",
      "17              /eaglefarm/pricelist/  /eaglefarm/pdf/Web_Price_List.pdf   \n",
      "16  /eaglefarm/pdf/Web_Price_List.pdf              /eaglefarm/pricelist/   \n",
      "14  /eaglefarm/pdf/Web_Price_List.pdf               /eaglefarm/pricelist   \n",
      "15               /eaglefarm/pricelist  /eaglefarm/pdf/Web_Price_List.pdf   \n",
      "4                         /eaglefarm/               /eaglefarm/pricelist   \n",
      "5                /eaglefarm/pricelist                        /eaglefarm/   \n",
      "13              /eaglefarm/pricelist/      /eaglefarm/javascript/menu.js   \n",
      "12      /eaglefarm/javascript/menu.js              /eaglefarm/pricelist/   \n",
      "11               /eaglefarm/pricelist      /eaglefarm/javascript/menu.js   \n",
      "10      /eaglefarm/javascript/menu.js               /eaglefarm/pricelist   \n",
      "7               /eaglefarm/pricelist/                        /eaglefarm/   \n",
      "6                         /eaglefarm/              /eaglefarm/pricelist/   \n",
      "8       /eaglefarm/javascript/menu.js  /eaglefarm/pdf/Web_Price_List.pdf   \n",
      "\n",
      "     Support  Confidence      Lift  \n",
      "19  0.172103    0.987097  5.698240  \n",
      "18  0.172103    0.993506  5.698240  \n",
      "17  0.156355    0.896774  5.575051  \n",
      "16  0.156355    0.972028  5.575051  \n",
      "14  0.154106    0.958042  5.530515  \n",
      "15  0.154106    0.889610  5.530515  \n",
      "4   0.156355    0.668269  3.857736  \n",
      "5   0.156355    0.902597  3.857736  \n",
      "13  0.170979    0.980645  3.840500  \n",
      "12  0.170979    0.669604  3.840500  \n",
      "11  0.169854    0.980519  3.840008  \n",
      "10  0.169854    0.665198  3.840008  \n",
      "7   0.156355    0.896774  3.832847  \n",
      "6   0.156355    0.668269  3.832847  \n",
      "8   0.155231    0.607930  3.779366  \n"
     ]
    }
   ],
   "source": [
    "# sort all acquired rules descending by lift\n",
    "result_df = result_df.sort_values(by='Lift', ascending=False)\n",
    "print(result_df.head(15))"
   ]
  },
  {
   "cell_type": "code",
   "execution_count": 15,
   "metadata": {},
   "outputs": [
    {
     "name": "stdout",
     "output_type": "stream",
     "text": [
      "                            Left_side                         Right_side  \\\n",
      "18               /eaglefarm/pricelist              /eaglefarm/pricelist/   \n",
      "19              /eaglefarm/pricelist/               /eaglefarm/pricelist   \n",
      "13              /eaglefarm/pricelist/      /eaglefarm/javascript/menu.js   \n",
      "11               /eaglefarm/pricelist      /eaglefarm/javascript/menu.js   \n",
      "16  /eaglefarm/pdf/Web_Price_List.pdf              /eaglefarm/pricelist/   \n",
      "9   /eaglefarm/pdf/Web_Price_List.pdf      /eaglefarm/javascript/menu.js   \n",
      "14  /eaglefarm/pdf/Web_Price_List.pdf               /eaglefarm/pricelist   \n",
      "0                         /eaglefarm/      /eaglefarm/javascript/menu.js   \n",
      "5                /eaglefarm/pricelist                        /eaglefarm/   \n",
      "17              /eaglefarm/pricelist/  /eaglefarm/pdf/Web_Price_List.pdf   \n",
      "7               /eaglefarm/pricelist/                        /eaglefarm/   \n",
      "15               /eaglefarm/pricelist  /eaglefarm/pdf/Web_Price_List.pdf   \n",
      "3   /eaglefarm/pdf/Web_Price_List.pdf                        /eaglefarm/   \n",
      "1       /eaglefarm/javascript/menu.js                        /eaglefarm/   \n",
      "20                         /more.html                     /services.html   \n",
      "\n",
      "     Support  Confidence      Lift  \n",
      "18  0.172103    0.993506  5.698240  \n",
      "19  0.172103    0.987097  5.698240  \n",
      "13  0.170979    0.980645  3.840500  \n",
      "11  0.169854    0.980519  3.840008  \n",
      "16  0.156355    0.972028  5.575051  \n",
      "9   0.155231    0.965035  3.779366  \n",
      "14  0.154106    0.958042  5.530515  \n",
      "0   0.215973    0.923077  3.615046  \n",
      "5   0.156355    0.902597  3.857736  \n",
      "17  0.156355    0.896774  5.575051  \n",
      "7   0.156355    0.896774  3.832847  \n",
      "15  0.154106    0.889610  5.530515  \n",
      "3   0.140607    0.874126  3.736048  \n",
      "1   0.215973    0.845815  3.615046  \n",
      "20  0.111361    0.798387  3.445467  \n"
     ]
    }
   ],
   "source": [
    "# sort all acquired rules descending by lift\n",
    "result_df = result_df.sort_values(by='Confidence', ascending=False)\n",
    "print(result_df.head(15))"
   ]
  },
  {
   "cell_type": "code",
   "execution_count": null,
   "metadata": {},
   "outputs": [],
   "source": []
  },
  {
   "cell_type": "code",
   "execution_count": null,
   "metadata": {},
   "outputs": [],
   "source": []
  },
  {
   "cell_type": "code",
   "execution_count": null,
   "metadata": {},
   "outputs": [],
   "source": []
  }
 ],
 "metadata": {
  "kernelspec": {
   "display_name": "Python 3",
   "language": "python",
   "name": "python3"
  },
  "language_info": {
   "codemirror_mode": {
    "name": "ipython",
    "version": 3
   },
   "file_extension": ".py",
   "mimetype": "text/x-python",
   "name": "python",
   "nbconvert_exporter": "python",
   "pygments_lexer": "ipython3",
   "version": "3.6.5"
  }
 },
 "nbformat": 4,
 "nbformat_minor": 2
}
