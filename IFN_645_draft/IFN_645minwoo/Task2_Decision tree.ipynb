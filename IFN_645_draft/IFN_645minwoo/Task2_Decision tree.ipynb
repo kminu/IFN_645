{
 "cells": [
  {
   "cell_type": "code",
   "execution_count": 29,
   "metadata": {},
   "outputs": [],
   "source": [
    "import pandas as pd\n",
    "import matplotlib.pyplot as plt\n",
    "import seaborn as snsa\n",
    "import numpy as np\n",
    "from sklearn.model_selection import train_test_split\n",
    "from sklearn.tree import DecisionTreeClassifier\n",
    "from sklearn.model_selection import GridSearchCV\n",
    "from sklearn.metrics import classification_report, accuracy_score\n",
    "import pydot\n",
    "from io import StringIO\n",
    "from sklearn.tree import export_graphviz\n",
    "from dm_tool import data_prep \n",
    "\n",
    "%matplotlib inline"
   ]
  },
  {
   "cell_type": "code",
   "execution_count": 30,
   "metadata": {},
   "outputs": [
    {
     "name": "stderr",
     "output_type": "stream",
     "text": [
      "C:\\Users\\kmw41\\Anaconda3\\lib\\site-packages\\IPython\\core\\interactiveshell.py:3185: DtypeWarning: Columns (27) have mixed types. Specify dtype option on import or set low_memory=False.\n",
      "  if (yield from self.run_code(code, result)):\n"
     ]
    },
    {
     "name": "stdout",
     "output_type": "stream",
     "text": [
      "<class 'pandas.core.frame.DataFrame'>\n",
      "Int64Index: 41432 entries, 0 to 41475\n",
      "Data columns (total 23 columns):\n",
      "Auction                              41432 non-null object\n",
      "VehYear                              41432 non-null category\n",
      "Make                                 41432 non-null object\n",
      "Color                                41432 non-null object\n",
      "Transmission                         41432 non-null int64\n",
      "WheelType                            41432 non-null object\n",
      "VehOdo                               41432 non-null float64\n",
      "Nationality                          41432 non-null object\n",
      "Size                                 41432 non-null object\n",
      "TopThreeAmericanName                 41432 non-null object\n",
      "MMRAcquisitionAuctionAveragePrice    41432 non-null float64\n",
      "MMRAcquisitionAuctionCleanPrice      41432 non-null float64\n",
      "MMRAcquisitionRetailAveragePrice     41432 non-null float64\n",
      "MMRAcquisitonRetailCleanPrice        41432 non-null float64\n",
      "MMRCurrentAuctionAveragePrice        41432 non-null float64\n",
      "MMRCurrentAuctionCleanPrice          41432 non-null float64\n",
      "MMRCurrentRetailAveragePrice         41432 non-null float64\n",
      "MMRCurrentRetailCleanPrice           41432 non-null float64\n",
      "MMRCurrentRetailRatio                41432 non-null float64\n",
      "VNST                                 41432 non-null object\n",
      "VehBCost                             41432 non-null int64\n",
      "WarrantyCost                         41432 non-null float64\n",
      "IsBadBuy                             41432 non-null int64\n",
      "dtypes: category(1), float64(11), int64(3), object(8)\n",
      "memory usage: 7.3+ MB\n"
     ]
    }
   ],
   "source": [
    "X, y = data_prep()"
   ]
  },
  {
   "cell_type": "markdown",
   "metadata": {},
   "source": [
    "### Splitting the dataset "
   ]
  },
  {
   "cell_type": "code",
   "execution_count": 31,
   "metadata": {},
   "outputs": [
    {
     "name": "stderr",
     "output_type": "stream",
     "text": [
      "C:\\Users\\kmw41\\Anaconda3\\lib\\site-packages\\ipykernel_launcher.py:5: FutureWarning: Method .as_matrix will be removed in a future version. Use .values instead.\n",
      "  \"\"\"\n"
     ]
    }
   ],
   "source": [
    "# setting random state\n",
    "# .as_matrix removed replaced with .values\n",
    "# train test 70 / 30 percent\n",
    "rs = 10\n",
    "X_mat = X.as_matrix()\n",
    "X_train, X_test, y_train, y_test = train_test_split(X_mat, y, test_size=0.30, stratify=y, random_state=rs)\n",
    "#print(X_train.shape)\n",
    "#print(X_test.shape)\n",
    "#print(y_train.shape)\n",
    "#print(y_test.shape)"
   ]
  },
  {
   "cell_type": "markdown",
   "metadata": {},
   "source": [
    "### Model construction and evaluation"
   ]
  },
  {
   "cell_type": "code",
   "execution_count": 32,
   "metadata": {},
   "outputs": [
    {
     "name": "stdout",
     "output_type": "stream",
     "text": [
      "Train accuracy: 1.0\n",
      "Test accuracy: 0.7430879155017086\n",
      "              precision    recall  f1-score   support\n",
      "\n",
      "           0       0.74      0.75      0.74      1609\n",
      "           1       0.74      0.74      0.74      1610\n",
      "\n",
      "   micro avg       0.74      0.74      0.74      3219\n",
      "   macro avg       0.74      0.74      0.74      3219\n",
      "weighted avg       0.74      0.74      0.74      3219\n",
      "\n",
      "\n",
      "\n",
      "*********** Feature Importances ************\n",
      "\n",
      "Auction_ADESA                      :0.1995101601994742\n",
      "MMRCurrentAuctionAveragePrice      :0.08689502227148588\n",
      "VehOdo                             :0.055604154360218365\n",
      "VehBCost                           :0.05538934621533245\n",
      "MMRCurrentRetailRatio              :0.03981649521430139\n",
      "VNST_OK                            :0.036412515793597014\n",
      "MMRCurrentRetailCleanPrice         :0.03201626794904837\n",
      "WarrantyCost                       :0.03078806439276344\n",
      "MMRAcquisitionAuctionCleanPrice    :0.028899555397435737\n",
      "MMRAcquisitionRetailAveragePrice   :0.028746623186930085\n",
      "VNST_CO                            :0.026729579783474254\n",
      "MMRAcquisitionAuctionAveragePrice  :0.026533071872595657\n",
      "MMRAcquisitonRetailCleanPrice      :0.024578572068890796\n",
      "MMRCurrentAuctionCleanPrice        :0.02363437980800341\n",
      "Auction_OTHER                      :0.0212836194353651\n",
      "MMRCurrentRetailAveragePrice       :0.016647237518684507\n",
      "VNST_AZ                            :0.0161641404607167\n",
      "VNST_PA                            :0.014729430579449317\n",
      "VNST_CA                            :0.014702315151108848\n",
      "Auction_MANHEIM                    :0.011968625479672092\n"
     ]
    }
   ],
   "source": [
    "# simple decision tree training\n",
    "model = DecisionTreeClassifier(random_state=rs)\n",
    "model.fit(X_train, y_train)\n",
    "\n",
    "# decision tree evaluation\n",
    "print(\"Train accuracy:\", model.score(X_train, y_train))\n",
    "print(\"Test accuracy:\", model.score(X_test, y_test))\n",
    "\n",
    "# Confusion Matrix\n",
    "y_pred = model.predict(X_test)\n",
    "print(classification_report(y_test, y_pred))\n",
    "\n",
    "# grab feature importances from the model and feature name from the original X\n",
    "importances = model.feature_importances_\n",
    "feature_names = X.columns\n",
    "\n",
    "indices = np.argsort(importances)\n",
    "indices = np.flip(indices, axis=0)\n",
    "\n",
    "# limit to 20 features, you can leave this out to print out everything\n",
    "indices = indices[:20]\n",
    "\n",
    "print(\"\\n\\n*********** Feature Importances ************\\n\")   \n",
    "for i in indices:\n",
    "    print(f\"{feature_names[i]:<35}:{importances[i]}\")"
   ]
  },
  {
   "cell_type": "markdown",
   "metadata": {},
   "source": [
    "#### Another Decition Tree model "
   ]
  },
  {
   "cell_type": "code",
   "execution_count": 33,
   "metadata": {},
   "outputs": [
    {
     "name": "stdout",
     "output_type": "stream",
     "text": [
      "Train accuracy: 0.7441086406603648\n",
      "Test accuracy: 0.7418452935694315\n",
      "              precision    recall  f1-score   support\n",
      "\n",
      "           0       0.70      0.84      0.76      1609\n",
      "           1       0.80      0.65      0.72      1610\n",
      "\n",
      "   micro avg       0.74      0.74      0.74      3219\n",
      "   macro avg       0.75      0.74      0.74      3219\n",
      "weighted avg       0.75      0.74      0.74      3219\n",
      "\n"
     ]
    }
   ],
   "source": [
    "#retrain with a small max_depth limit 3\n",
    "model_2 = DecisionTreeClassifier(max_depth=3, random_state=rs, )\n",
    "model_2.fit(X_train, y_train)\n",
    "\n",
    "print(\"Train accuracy:\", model_2.score(X_train, y_train))\n",
    "print(\"Test accuracy:\", model_2.score(X_test, y_test))\n",
    "\n",
    "y_pred = model_2.predict(X_test)\n",
    "print(classification_report(y_test, y_pred))"
   ]
  },
  {
   "cell_type": "code",
   "execution_count": 34,
   "metadata": {},
   "outputs": [
    {
     "name": "stdout",
     "output_type": "stream",
     "text": [
      "Train accuracy: 0.7540939954733058\n",
      "Test accuracy: 0.7530288909599254\n",
      "              precision    recall  f1-score   support\n",
      "\n",
      "           0       0.72      0.84      0.77      1609\n",
      "           1       0.80      0.67      0.73      1610\n",
      "\n",
      "   micro avg       0.75      0.75      0.75      3219\n",
      "   macro avg       0.76      0.75      0.75      3219\n",
      "weighted avg       0.76      0.75      0.75      3219\n",
      "\n",
      "\n",
      "\n",
      "*********** Feature Importances ************\n",
      "\n",
      "Auction_ADESA                      :0.6393264236558694\n",
      "MMRCurrentAuctionAveragePrice      :0.12713659886786932\n",
      "VNST_OK                            :0.09553155133038324\n",
      "VNST_CO                            :0.04485855622790786\n",
      "VNST_AZ                            :0.03366041621952035\n",
      "VNST_CA                            :0.030926899326011344\n",
      "Auction_OTHER                      :0.028559554372438543\n",
      "Make_INFINITI                      :0.0\n",
      "Make_HYUNDAI                       :0.0\n",
      "Make_MINI                          :0.0\n",
      "Make_HONDA                         :0.0\n",
      "Make_ISUZU                         :0.0\n",
      "Make_JEEP                          :0.0\n",
      "Make_KIA                           :0.0\n",
      "Make_LEXUS                         :0.0\n",
      "Make_GMC                           :0.0\n",
      "Make_LINCOLN                       :0.0\n",
      "Make_MAZDA                         :0.0\n",
      "Make_MERCURY                       :0.0\n",
      "VNST_WV                            :0.0\n"
     ]
    }
   ],
   "source": [
    "#retrain with a small max_depth limit 4\n",
    "model_3 = DecisionTreeClassifier(max_depth=4, random_state=rs, criterion='entropy',)\n",
    "model_3.fit(X_train, y_train)\n",
    "\n",
    "print(\"Train accuracy:\", model_3.score(X_train, y_train))\n",
    "print(\"Test accuracy:\", model_3.score(X_test, y_test))\n",
    "\n",
    "y_pred = model_3.predict(X_test)\n",
    "print(classification_report(y_test, y_pred))\n",
    "\n",
    "#max_depth 4.8 maximal optimum\n",
    "\n",
    "# grab feature importances from the model and feature name from the original X\n",
    "importances = model_3.feature_importances_\n",
    "feature_names = X.columns\n",
    "\n",
    "indices = np.argsort(importances)\n",
    "indices = np.flip(indices, axis=0)\n",
    "\n",
    "# limit to 20 features, you can leave this out to print out everything\n",
    "indices = indices[:20]\n",
    "\n",
    "\n",
    "print(\"\\n\\n*********** Feature Importances ************\\n\")   \n",
    "for i in indices:\n",
    "    print(f\"{feature_names[i]:<35}:{importances[i]}\")"
   ]
  },
  {
   "cell_type": "code",
   "execution_count": 35,
   "metadata": {},
   "outputs": [
    {
     "name": "stdout",
     "output_type": "stream",
     "text": [
      "Train accuracy: 0.7540939954733058\n",
      "Test accuracy: 0.7530288909599254\n",
      "              precision    recall  f1-score   support\n",
      "\n",
      "           0       0.72      0.84      0.77      1609\n",
      "           1       0.80      0.67      0.73      1610\n",
      "\n",
      "   micro avg       0.75      0.75      0.75      3219\n",
      "   macro avg       0.76      0.75      0.75      3219\n",
      "weighted avg       0.76      0.75      0.75      3219\n",
      "\n",
      "\n",
      "\n",
      "***********  Feature Importances ************\n",
      "\n",
      "Auction_ADESA                      :0.6038690878394326\n",
      "MMRCurrentAuctionAveragePrice      :0.1536919921491218\n",
      "VNST_OK                            :0.09714194151783924\n",
      "VNST_CO                            :0.054804938088385755\n",
      "VNST_AZ                            :0.03426193135146482\n",
      "Auction_OTHER                      :0.0289828003898018\n",
      "VehBCost                           :0.027247308663954077\n",
      "Make_INFINITI                      :0.0\n",
      "Make_HYUNDAI                       :0.0\n",
      "Make_ISUZU                         :0.0\n",
      "Make_MINI                          :0.0\n",
      "Make_HONDA                         :0.0\n",
      "Make_JEEP                          :0.0\n",
      "Make_KIA                           :0.0\n",
      "Make_LEXUS                         :0.0\n",
      "Make_GMC                           :0.0\n",
      "Make_LINCOLN                       :0.0\n",
      "Make_MAZDA                         :0.0\n",
      "Make_MERCURY                       :0.0\n",
      "VNST_WV                            :0.0\n"
     ]
    }
   ],
   "source": [
    "# another model with params change\n",
    "# retrain with a small max_depth limit 4\n",
    "model_3 = DecisionTreeClassifier(max_depth=4, random_state=rs, criterion = 'gini', splitter='best'  )\n",
    "model_3.fit(X_train, y_train)\n",
    "\n",
    "print(\"Train accuracy:\", model_3.score(X_train, y_train))\n",
    "print(\"Test accuracy:\", model_3.score(X_test, y_test))\n",
    "\n",
    "y_pred = model_3.predict(X_test)\n",
    "print(classification_report(y_test, y_pred))\n",
    "\n",
    "#max_depth 4 maximal optimum\n",
    "\n",
    "# grab feature importances from the model and feature name from the original X\n",
    "importances = model_3.feature_importances_\n",
    "feature_names = X.columns\n",
    "\n",
    "indices = np.argsort(importances)\n",
    "indices = np.flip(indices, axis=0)\n",
    "\n",
    "# limit to 20 features, you can leave this out to print out everything\n",
    "indices = indices[:20]\n",
    "\n",
    "\n",
    "print(\"\\n\\n***********  Feature Importances ************\\n\")   \n",
    "for i in indices:\n",
    "    print(f\"{feature_names[i]:<35}:{importances[i]}\")"
   ]
  },
  {
   "cell_type": "code",
   "execution_count": 36,
   "metadata": {},
   "outputs": [],
   "source": [
    "# visualize with graphViz\n",
    "# refer to png file in your folder\n",
    "dotfile = StringIO()\n",
    "export_graphviz(model_3, out_file=dotfile, feature_names=X.columns)\n",
    "graph = pydot.graph_from_dot_data(dotfile.getvalue())\n",
    "graph[0].write_png(\"model_3Tree.png\") # saved in the following file - will return True if successful"
   ]
  },
  {
   "cell_type": "code",
   "execution_count": 37,
   "metadata": {},
   "outputs": [
    {
     "data": {
      "text/plain": [
       "Text(0, 0.5, 'accuracy')"
      ]
     },
     "execution_count": 37,
     "metadata": {},
     "output_type": "execute_result"
    },
    {
     "data": {
      "image/png": "[encoded data removed]",
      "text/plain": [
       "<Figure size 432x288 with 1 Axes>"
      ]
     },
     "metadata": {
      "needs_background": "light"
     },
     "output_type": "display_data"
    }
   ],
   "source": [
    "test_score = []\n",
    "train_score = []\n",
    "\n",
    "# check the model performance for max depth from 2-20\n",
    "for max_depth in range(2, 21):\n",
    "    model = DecisionTreeClassifier(max_depth=max_depth, random_state=rs)\n",
    "    model.fit(X_train, y_train)\n",
    "    \n",
    "    test_score.append(model.score(X_test, y_test))\n",
    "    train_score.append(model.score(X_train, y_train))\n",
    "\n",
    "\n",
    "plt.plot(range(2, 21), train_score, 'b', range(2,21), test_score, 'r', )\n",
    "plt.xlabel('max_depth\\nBlue = training acc. Red = test acc.')\n",
    "plt.ylabel('accuracy')\n",
    "\n",
    "\n",
    "\n",
    "# At max_depth 5 ovefitting is  evident"
   ]
  },
  {
   "cell_type": "markdown",
   "metadata": {},
   "source": [
    "#### Task 2.2 Grid Search"
   ]
  },
  {
   "cell_type": "code",
   "execution_count": 38,
   "metadata": {},
   "outputs": [
    {
     "name": "stdout",
     "output_type": "stream",
     "text": [
      "Train accuracy: 0.75902010384769\n",
      "Test accuracy: 0.7567567567567568\n",
      "              precision    recall  f1-score   support\n",
      "\n",
      "           0       0.72      0.84      0.77      1609\n",
      "           1       0.80      0.68      0.74      1610\n",
      "\n",
      "   micro avg       0.76      0.76      0.76      3219\n",
      "   macro avg       0.76      0.76      0.76      3219\n",
      "weighted avg       0.76      0.76      0.76      3219\n",
      "\n",
      "{'criterion': 'entropy', 'max_depth': 5, 'min_samples_leaf': 20}\n"
     ]
    }
   ],
   "source": [
    "# grid search CV\n",
    "params = {'criterion': ['gini', 'entropy'],\n",
    "          'max_depth': range(2, 6),\n",
    "          'min_samples_leaf': range(20, 60, 10)}\n",
    "\n",
    "cv = GridSearchCV(param_grid=params, estimator=DecisionTreeClassifier(random_state=rs), cv=10)\n",
    "cv.fit(X_train, y_train)\n",
    "\n",
    "print(\"Train accuracy:\", cv.score(X_train, y_train))\n",
    "print(\"Test accuracy:\", cv.score(X_test, y_test))\n",
    "\n",
    "# test the best model\n",
    "y_pred = cv.predict(X_test)\n",
    "print(classification_report(y_test, y_pred))\n",
    "\n",
    "# print parameters of the best model\n",
    "print(cv.best_params_)"
   ]
  },
  {
   "cell_type": "code",
   "execution_count": 39,
   "metadata": {},
   "outputs": [
    {
     "name": "stdout",
     "output_type": "stream",
     "text": [
      "Train accuracy: 0.75902010384769\n",
      "Test accuracy: 0.7567567567567568\n",
      "              precision    recall  f1-score   support\n",
      "\n",
      "           0       0.72      0.84      0.77      1609\n",
      "           1       0.80      0.68      0.74      1610\n",
      "\n",
      "   micro avg       0.76      0.76      0.76      3219\n",
      "   macro avg       0.76      0.76      0.76      3219\n",
      "weighted avg       0.76      0.76      0.76      3219\n",
      "\n",
      "{'criterion': 'gini', 'max_depth': 5, 'min_samples_leaf': 26}\n"
     ]
    }
   ],
   "source": [
    "# grid search CV #2\n",
    "params = {'criterion': ['gini', 'entropy'],\n",
    "          'max_depth': range(2, 6),\n",
    "          'min_samples_leaf': range(20, 35)}\n",
    "\n",
    "cv = GridSearchCV(param_grid=params, estimator=DecisionTreeClassifier(random_state=rs), cv=10)\n",
    "cv.fit(X_train, y_train)\n",
    "\n",
    "print(\"Train accuracy:\", cv.score(X_train, y_train))\n",
    "print(\"Test accuracy:\", cv.score(X_test, y_test))\n",
    "\n",
    "# test the best model\n",
    "y_pred = cv.predict(X_test)\n",
    "print(classification_report(y_test, y_pred))\n",
    "\n",
    "# print parameters of the best model\n",
    "print(cv.best_params_)"
   ]
  },
  {
   "cell_type": "code",
   "execution_count": 40,
   "metadata": {},
   "outputs": [],
   "source": [
    "def analyse_feature_importance(dm_model, feature_names, n_to_display=20):\n",
    "    # grab feature importances from the model\n",
    "    importances = dm_model.feature_importances_\n",
    "    \n",
    "    # sort them out in descending order\n",
    "    indices = np.argsort(importances)\n",
    "    indices = np.flip(indices, axis=0)\n",
    "\n",
    "    # limit to 20 features, you can leave this out to print out everything\n",
    "    indices = indices[:n_to_display]\n",
    "\n",
    "    print(\"\\n\\n*********** Feature Importances ************\\n\")   \n",
    "    for i in indices:\n",
    "        print(f\"{feature_names[i]:<35}:{importances[i]}\")\n",
    "\n",
    "def visualize_decision_tree(dm_model, feature_names, save_name):\n",
    "    dotfile = StringIO()\n",
    "    export_graphviz(dm_model, out_file=dotfile, feature_names=feature_names)\n",
    "    graph = pydot.graph_from_dot_data(dotfile.getvalue())\n",
    "    graph[0].write_png(save_name) # saved in the following file"
   ]
  },
  {
   "cell_type": "code",
   "execution_count": 41,
   "metadata": {},
   "outputs": [
    {
     "name": "stdout",
     "output_type": "stream",
     "text": [
      "\n",
      "\n",
      "*********** Feature Importances ************\n",
      "\n",
      "Auction_ADESA                      :0.571435214578175\n",
      "MMRCurrentAuctionAveragePrice      :0.1454371788211704\n",
      "VNST_OK                            :0.09192443745447534\n",
      "VNST_CO                            :0.051861359005029174\n",
      "VNST_AZ                            :0.03242171935598875\n",
      "VNST_PA                            :0.029128640102322405\n",
      "Auction_OTHER                      :0.02742613108261397\n",
      "VehBCost                           :0.025783852802885004\n",
      "VNST_CA                            :0.015410298161252467\n",
      "VNST_TX                            :0.004722860655972494\n",
      "MMRCurrentRetailRatio              :0.004448307980114939\n",
      "Make_LINCOLN                       :0.0\n",
      "Make_LEXUS                         :0.0\n",
      "Make_JEEP                          :0.0\n",
      "Make_KIA                           :0.0\n",
      "Make_MERCURY                       :0.0\n",
      "Make_ISUZU                         :0.0\n",
      "Make_INFINITI                      :0.0\n",
      "Make_HYUNDAI                       :0.0\n",
      "Make_HONDA                         :0.0\n"
     ]
    }
   ],
   "source": [
    "analyse_feature_importance(cv.best_estimator_, X.columns, 20)\n",
    "visualize_decision_tree(cv.best_estimator_, X.columns, \"optimal_tree.png\")"
   ]
  },
  {
   "cell_type": "code",
   "execution_count": null,
   "metadata": {},
   "outputs": [],
   "source": []
  },
  {
   "cell_type": "code",
   "execution_count": null,
   "metadata": {},
   "outputs": [],
   "source": []
  },
  {
   "cell_type": "code",
   "execution_count": null,
   "metadata": {},
   "outputs": [],
   "source": []
  },
  {
   "cell_type": "code",
   "execution_count": null,
   "metadata": {},
   "outputs": [],
   "source": []
  },
  {
   "cell_type": "code",
   "execution_count": null,
   "metadata": {},
   "outputs": [],
   "source": []
  },
  {
   "cell_type": "code",
   "execution_count": null,
   "metadata": {},
   "outputs": [],
   "source": []
  }
 ],
 "metadata": {
  "kernelspec": {
   "display_name": "Python 3",
   "language": "python",
   "name": "python3"
  },
  "language_info": {
   "codemirror_mode": {
    "name": "ipython",
    "version": 3
   },
   "file_extension": ".py",
   "mimetype": "text/x-python",
   "name": "python",
   "nbconvert_exporter": "python",
   "pygments_lexer": "ipython3",
   "version": "3.7.1"
  }
 },
 "nbformat": 4,
 "nbformat_minor": 2
}
