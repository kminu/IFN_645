{
 "cells": [
  {
   "cell_type": "markdown",
   "metadata": {},
   "source": [
    "### Part 4 Clustering and Association Mining to Web Data"
   ]
  },
  {
   "cell_type": "code",
   "execution_count": 3,
   "metadata": {},
   "outputs": [],
   "source": [
    "import pandas as pd"
   ]
  },
  {
   "cell_type": "markdown",
   "metadata": {},
   "source": [
    "#### Import cleaned dataset"
   ]
  },
  {
   "cell_type": "code",
   "execution_count": 7,
   "metadata": {},
   "outputs": [
    {
     "name": "stdout",
     "output_type": "stream",
     "text": [
      "<class 'pandas.core.frame.DataFrame'>\n",
      "RangeIndex: 5866 entries, 0 to 5865\n",
      "Data columns (total 6 columns):\n",
      "ip           5866 non-null object\n",
      "date_time    5866 non-null object\n",
      "request      5866 non-null object\n",
      "step         5866 non-null int64\n",
      "session      5866 non-null int64\n",
      "user_id      5866 non-null int64\n",
      "dtypes: int64(3), object(3)\n",
      "memory usage: 275.0+ KB\n"
     ]
    },
    {
     "data": {
      "text/html": [
       "<div>\n",
       "<style scoped>\n",
       "    .dataframe tbody tr th:only-of-type {\n",
       "        vertical-align: middle;\n",
       "    }\n",
       "\n",
       "    .dataframe tbody tr th {\n",
       "        vertical-align: top;\n",
       "    }\n",
       "\n",
       "    .dataframe thead th {\n",
       "        text-align: right;\n",
       "    }\n",
       "</style>\n",
       "<table border=\"1\" class=\"dataframe\">\n",
       "  <thead>\n",
       "    <tr style=\"text-align: right;\">\n",
       "      <th></th>\n",
       "      <th>ip</th>\n",
       "      <th>date_time</th>\n",
       "      <th>request</th>\n",
       "      <th>step</th>\n",
       "      <th>session</th>\n",
       "      <th>user_id</th>\n",
       "    </tr>\n",
       "  </thead>\n",
       "  <tbody>\n",
       "    <tr>\n",
       "      <th>0</th>\n",
       "      <td>c210-49-32-6.rochd2.</td>\n",
       "      <td>18/Apr/2005:21:25:07</td>\n",
       "      <td>/</td>\n",
       "      <td>1</td>\n",
       "      <td>3</td>\n",
       "      <td>3</td>\n",
       "    </tr>\n",
       "    <tr>\n",
       "      <th>1</th>\n",
       "      <td>visp.inabox.telstra.</td>\n",
       "      <td>19/Apr/2005:08:24:28</td>\n",
       "      <td>/</td>\n",
       "      <td>1</td>\n",
       "      <td>12</td>\n",
       "      <td>12</td>\n",
       "    </tr>\n",
       "    <tr>\n",
       "      <th>2</th>\n",
       "      <td>dsl-61-95-54-84.requ</td>\n",
       "      <td>19/Apr/2005:08:33:01</td>\n",
       "      <td>/</td>\n",
       "      <td>1</td>\n",
       "      <td>13</td>\n",
       "      <td>13</td>\n",
       "    </tr>\n",
       "    <tr>\n",
       "      <th>3</th>\n",
       "      <td>d220-236-91-52.dsl.n</td>\n",
       "      <td>19/Apr/2005:09:16:06</td>\n",
       "      <td>/</td>\n",
       "      <td>1</td>\n",
       "      <td>15</td>\n",
       "      <td>15</td>\n",
       "    </tr>\n",
       "    <tr>\n",
       "      <th>4</th>\n",
       "      <td>allptrs.eq.edu.au</td>\n",
       "      <td>19/Apr/2005:09:47:54</td>\n",
       "      <td>/</td>\n",
       "      <td>1</td>\n",
       "      <td>22</td>\n",
       "      <td>22</td>\n",
       "    </tr>\n",
       "    <tr>\n",
       "      <th>5</th>\n",
       "      <td>cpe-144-136-135-38.q</td>\n",
       "      <td>19/Apr/2005:10:13:37</td>\n",
       "      <td>/</td>\n",
       "      <td>1</td>\n",
       "      <td>23</td>\n",
       "      <td>23</td>\n",
       "    </tr>\n",
       "    <tr>\n",
       "      <th>6</th>\n",
       "      <td>225-145-222-203.rev.</td>\n",
       "      <td>19/Apr/2005:11:48:32</td>\n",
       "      <td>/</td>\n",
       "      <td>1</td>\n",
       "      <td>25</td>\n",
       "      <td>25</td>\n",
       "    </tr>\n",
       "    <tr>\n",
       "      <th>7</th>\n",
       "      <td>cpe-138-130-198-54.q</td>\n",
       "      <td>19/Apr/2005:12:31:54</td>\n",
       "      <td>/</td>\n",
       "      <td>1</td>\n",
       "      <td>26</td>\n",
       "      <td>26</td>\n",
       "    </tr>\n",
       "    <tr>\n",
       "      <th>8</th>\n",
       "      <td>203-219-44-170-qld.t</td>\n",
       "      <td>19/Apr/2005:12:33:49</td>\n",
       "      <td>/</td>\n",
       "      <td>1</td>\n",
       "      <td>29</td>\n",
       "      <td>29</td>\n",
       "    </tr>\n",
       "    <tr>\n",
       "      <th>9</th>\n",
       "      <td>cpe-138-130-198-54.q</td>\n",
       "      <td>19/Apr/2005:12:42:51</td>\n",
       "      <td>/</td>\n",
       "      <td>1</td>\n",
       "      <td>30</td>\n",
       "      <td>30</td>\n",
       "    </tr>\n",
       "  </tbody>\n",
       "</table>\n",
       "</div>"
      ],
      "text/plain": [
       "                     ip             date_time request  step  session  user_id\n",
       "0  c210-49-32-6.rochd2.  18/Apr/2005:21:25:07       /     1        3        3\n",
       "1  visp.inabox.telstra.  19/Apr/2005:08:24:28       /     1       12       12\n",
       "2  dsl-61-95-54-84.requ  19/Apr/2005:08:33:01       /     1       13       13\n",
       "3  d220-236-91-52.dsl.n  19/Apr/2005:09:16:06       /     1       15       15\n",
       "4     allptrs.eq.edu.au  19/Apr/2005:09:47:54       /     1       22       22\n",
       "5  cpe-144-136-135-38.q  19/Apr/2005:10:13:37       /     1       23       23\n",
       "6  225-145-222-203.rev.  19/Apr/2005:11:48:32       /     1       25       25\n",
       "7  cpe-138-130-198-54.q  19/Apr/2005:12:31:54       /     1       26       26\n",
       "8  203-219-44-170-qld.t  19/Apr/2005:12:33:49       /     1       29       29\n",
       "9  cpe-138-130-198-54.q  19/Apr/2005:12:42:51       /     1       30       30"
      ]
     },
     "execution_count": 7,
     "metadata": {},
     "output_type": "execute_result"
    }
   ],
   "source": [
    "df = pd.read_csv('CaseStudy2Data\\web_log_data.csv' )\n",
    "df.info()\n",
    "df.head(10)"
   ]
  },
  {
   "cell_type": "code",
   "execution_count": 22,
   "metadata": {},
   "outputs": [],
   "source": [
    "#print(df['user_id'].value_counts())"
   ]
  },
  {
   "cell_type": "code",
   "execution_count": 23,
   "metadata": {},
   "outputs": [],
   "source": [
    "#df = pd.concat([df,pd.get_dummies(df['ip'], prefix='ip', prefix_sep='_', columns= (''))], axis=1)\n",
    "#df.drop(['ip'],axis=1, inplace=True)"
   ]
  },
  {
   "cell_type": "code",
   "execution_count": 8,
   "metadata": {},
   "outputs": [
    {
     "name": "stderr",
     "output_type": "stream",
     "text": [
      "D:\\Programs\\conda\\lib\\site-packages\\ipykernel_launcher.py:7: FutureWarning: Method .as_matrix will be removed in a future version. Use .values instead.\n",
      "  import sys\n",
      "D:\\Programs\\conda\\lib\\site-packages\\sklearn\\utils\\validation.py:595: DataConversionWarning: Data with input dtype int64 was converted to float64 by StandardScaler.\n",
      "  warnings.warn(msg, DataConversionWarning)\n",
      "D:\\Programs\\conda\\lib\\site-packages\\sklearn\\utils\\validation.py:595: DataConversionWarning: Data with input dtype int64 was converted to float64 by StandardScaler.\n",
      "  warnings.warn(msg, DataConversionWarning)\n"
     ]
    }
   ],
   "source": [
    "from sklearn.preprocessing import StandardScaler\n",
    "\n",
    "# take 3 variables and drop the rest\n",
    "df2 = df[['step']]\n",
    "\n",
    "# convert df2 to matrix\n",
    "X = df2.as_matrix()\n",
    "\n",
    "# scaling\n",
    "scaler = StandardScaler()\n",
    "X = scaler.fit_transform(X)"
   ]
  },
  {
   "cell_type": "code",
   "execution_count": 9,
   "metadata": {},
   "outputs": [
    {
     "name": "stdout",
     "output_type": "stream",
     "text": [
      "Sum of intra-cluster distance: 1199.006381150884\n",
      "Centroid locations:\n",
      "[-0.40608193]\n",
      "[3.4902619]\n",
      "[0.89280273]\n"
     ]
    }
   ],
   "source": [
    "from sklearn.cluster import KMeans\n",
    "\n",
    "# random state, we will use 42 instead of 10 for a change\n",
    "rs = 42\n",
    "\n",
    "# set the random state. different random state seeds might result in different centroids locations\n",
    "model = KMeans(n_clusters=3, random_state=rs)\n",
    "model.fit(X)\n",
    "\n",
    "# sum of intra-cluster distances\n",
    "print(\"Sum of intra-cluster distance:\", model.inertia_)\n",
    "\n",
    "print(\"Centroid locations:\")\n",
    "for centroid in model.cluster_centers_:\n",
    "    print(centroid)"
   ]
  },
  {
   "cell_type": "code",
   "execution_count": 10,
   "metadata": {},
   "outputs": [
    {
     "name": "stderr",
     "output_type": "stream",
     "text": [
      "D:\\Programs\\conda\\lib\\site-packages\\ipykernel_launcher.py:10: SettingWithCopyWarning: \n",
      "A value is trying to be set on a copy of a slice from a DataFrame.\n",
      "Try using .loc[row_indexer,col_indexer] = value instead\n",
      "\n",
      "See the caveats in the documentation: http://pandas.pydata.org/pandas-docs/stable/indexing.html#indexing-view-versus-copy\n",
      "  # Remove the CWD from sys.path while we load stuff.\n"
     ]
    },
    {
     "name": "stdout",
     "output_type": "stream",
     "text": [
      "Cluster membership\n",
      "0    4534\n",
      "2    1081\n",
      "1     251\n",
      "Name: Cluster_ID, dtype: int64\n"
     ]
    },
    {
     "name": "stderr",
     "output_type": "stream",
     "text": [
      "D:\\Programs\\conda\\lib\\site-packages\\statsmodels\\nonparametric\\kde.py:488: RuntimeWarning: invalid value encountered in true_divide\n",
      "  binned = fast_linbin(X, a, b, gridsize) / (delta * nobs)\n",
      "D:\\Programs\\conda\\lib\\site-packages\\statsmodels\\nonparametric\\kdetools.py:34: RuntimeWarning: invalid value encountered in double_scalars\n",
      "  FAC1 = 2*(np.pi*bw/RANGE)**2\n"
     ]
    },
    {
     "data": {
      "text/plain": [
       "<Figure size 582.111x500 with 6 Axes>"
      ]
     },
     "metadata": {},
     "output_type": "display_data"
    }
   ],
   "source": [
    "from matplotlib import pyplot as plt\n",
    "from scipy.cluster.hierarchy import dendrogram\n",
    "import seaborn as sns\n",
    "\n",
    "model = KMeans(n_clusters=3, random_state=rs).fit(X)\n",
    "\n",
    "# assign cluster ID to each record in X\n",
    "# Ignore the warning, does not apply to our case here\n",
    "y = model.predict(X)\n",
    "df2['Cluster_ID'] = y\n",
    "\n",
    "# how many records are in each cluster\n",
    "print(\"Cluster membership\")\n",
    "print(df2['Cluster_ID'].value_counts())\n",
    "\n",
    "# pairplot the cluster distribution.\n",
    "cluster_g = sns.pairplot(df2, hue='Cluster_ID')\n",
    "plt.show()"
   ]
  },
  {
   "cell_type": "markdown",
   "metadata": {},
   "source": [
    "#### Analysis\n",
    "step\n",
    "* Cluster 0 have considerable higher number of steps taken during surfing\n",
    "* Cluster 1 and 2, both have minimal steps taken (0-20) in a single log in\n",
    "\n",
    "session\n",
    "* Cluster 0 have dense distributed session id and significantlyhave more steps (>20)  \n",
    "* Cluster 1 and have session id 1-1000, 2000 respectively. Both have only steps of 20 or less in each session."
   ]
  },
  {
   "cell_type": "code",
   "execution_count": null,
   "metadata": {},
   "outputs": [],
   "source": [
    "print(df['step'].value_counts())"
   ]
  },
  {
   "cell_type": "markdown",
   "metadata": {},
   "source": [
    "### Part4.2 Association mining"
   ]
  },
  {
   "cell_type": "code",
   "execution_count": 15,
   "metadata": {},
   "outputs": [
    {
     "name": "stdout",
     "output_type": "stream",
     "text": [
      "ip\n",
      "002.b.004.brs.iprimu                                  [/, /services.html]\n",
      "034.mel0205.mel.ipri                                                  [/]\n",
      "038.b.004.brs.iprimu                                                  [/]\n",
      "042.058.dsl.mel.ipri                                                  [/]\n",
      "058.a.001.cns.iprimu    [/eaglefarm/, /eaglefarm/javascript/menu.js, /...\n",
      "081.a.004.syd.iprimu                                                  [/]\n",
      "086.a.002.brs.iprimu         [/eaglefarm/, /eaglefarm/javascript/menu.js]\n",
      "099.a.001.brs.iprimu                             [/, /, /springwood.html]\n",
      "1.cust21.qld.dsl.oze                                    [/, /favicon.ico]\n",
      "103.cust20.qld.dsl.o    [/, /favicon.ico, /favicon.ico, /favicon.ico, ...\n",
      "107.a.004.brs.iprimu    [/, /, /acacia.html, /direct.html, /eaglefarm,...\n",
      "11.128-142-203.dart.                    [/, /services.html, /whoare.html]\n",
      "114.a.001.brs.iprimu    [/, /acacia.html, /direct.html, /eaglefarm, /e...\n",
      "118.a.002.gct.iprimu    [/, /acacia.html, /direct.html, /favicon.ico, ...\n",
      "122.cust31.nsw.dsl.o      [/, /favicon.ico, /favicon.ico, /services.html]\n",
      "137.219.60.156                                                        [/]\n",
      "141394-ppp248.for.kb                                                  [/]\n",
      "144.133.222.196                             [/, /favicon.ico, /more.html]\n",
      "144.135.2.28            [/, /eaglefarm, /eaglefarm/, /eaglefarm/javasc...\n",
      "144.135.7.65            [/eaglefarm/, /eaglefarm/javascript/menu.js, /...\n",
      "Name: request, dtype: object\n"
     ]
    }
   ],
   "source": [
    "# group by iphost, then list all requestlinks\n",
    "links = df.groupby(['ip'])['request'].apply(list)\n",
    "print(links.head(20))"
   ]
  },
  {
   "cell_type": "code",
   "execution_count": 16,
   "metadata": {},
   "outputs": [
    {
     "name": "stdout",
     "output_type": "stream",
     "text": [
      "[RelationRecord(items=frozenset({'/'}), support=0.6377952755905512, ordered_statistics=[OrderedStatistic(items_base=frozenset(), items_add=frozenset({'/'}), confidence=0.6377952755905512, lift=1.0)]), RelationRecord(items=frozenset({'/direct.html'}), support=0.0764904386951631, ordered_statistics=[OrderedStatistic(items_base=frozenset(), items_add=frozenset({'/direct.html'}), confidence=0.0764904386951631, lift=1.0)]), RelationRecord(items=frozenset({'/eaglefarm'}), support=0.06299212598425197, ordered_statistics=[OrderedStatistic(items_base=frozenset(), items_add=frozenset({'/eaglefarm'}), confidence=0.06299212598425197, lift=1.0)]), RelationRecord(items=frozenset({'/eaglefarm/'}), support=0.23397075365579303, ordered_statistics=[OrderedStatistic(items_base=frozenset(), items_add=frozenset({'/eaglefarm/'}), confidence=0.23397075365579303, lift=1.0)]), RelationRecord(items=frozenset({'/eaglefarm/contact'}), support=0.05061867266591676, ordered_statistics=[OrderedStatistic(items_base=frozenset(), items_add=frozenset({'/eaglefarm/contact'}), confidence=0.05061867266591676, lift=1.0)])]\n"
     ]
    }
   ],
   "source": [
    "from apyori import apriori\n",
    "\n",
    "# type cast the transactions from pandas into normal list format and run apriori\n",
    "links_list = list(links)\n",
    "results = list(apriori(links_list, min_support=0.05))\n",
    "\n",
    "# print first 5 rules\n",
    "print(results[:5])"
   ]
  },
  {
   "cell_type": "code",
   "execution_count": 17,
   "metadata": {},
   "outputs": [
    {
     "name": "stdout",
     "output_type": "stream",
     "text": [
      "   Left_side                         Right_side   Support  Confidence  Lift\n",
      "0                                             /  0.637795    0.637795   1.0\n",
      "1                                  /direct.html  0.076490    0.076490   1.0\n",
      "2                                    /eaglefarm  0.062992    0.062992   1.0\n",
      "3                                   /eaglefarm/  0.233971    0.233971   1.0\n",
      "4                            /eaglefarm/contact  0.050619    0.050619   1.0\n",
      "5                        /eaglefarm/default.htm  0.068616    0.068616   1.0\n",
      "6                 /eaglefarm/javascript/menu.js  0.255343    0.255343   1.0\n",
      "7             /eaglefarm/pdf/Web_Price_List.pdf  0.160855    0.160855   1.0\n",
      "8                          /eaglefarm/pricelist  0.173228    0.173228   1.0\n",
      "9                         /eaglefarm/pricelist/  0.174353    0.174353   1.0\n",
      "10                          /eaglefarm/specials  0.071991    0.071991   1.0\n",
      "11                         /eaglefarm/specials/  0.098988    0.098988   1.0\n",
      "12                                 /favicon.ico  0.173228    0.173228   1.0\n",
      "13                              /guarantee.html  0.056243    0.056243   1.0\n",
      "14                                  /index.html  0.073116    0.073116   1.0\n",
      "15                                   /more.html  0.139483    0.139483   1.0\n",
      "16                                   /richlands  0.065242    0.065242   1.0\n",
      "17                                  /richlands/  0.067492    0.067492   1.0\n",
      "18                /richlands/javascript/menu.js  0.059618    0.059618   1.0\n",
      "19                                  /robots.txt  0.056243    0.056243   1.0\n"
     ]
    }
   ],
   "source": [
    "def convert_apriori_results_to_pandas_df(results):\n",
    "    rules = []\n",
    "    \n",
    "    for rule_set in results:\n",
    "        for rule in rule_set.ordered_statistics:\n",
    "            # items_base = left side of rules, items_add = right side\n",
    "            # support, confidence and lift for respective rules\n",
    "            rules.append([','.join(rule.items_base), ','.join(rule.items_add),\n",
    "                         rule_set.support, rule.confidence, rule.lift]) \n",
    "    \n",
    "    # typecast it to pandas df\n",
    "    return pd.DataFrame(rules, columns=['Left_side', 'Right_side', 'Support', 'Confidence', 'Lift']) \n",
    "\n",
    "result_df = convert_apriori_results_to_pandas_df(results)\n",
    "\n",
    "print(result_df.head(20))"
   ]
  },
  {
   "cell_type": "code",
   "execution_count": 20,
   "metadata": {},
   "outputs": [
    {
     "name": "stdout",
     "output_type": "stream",
     "text": [
      "                                             Left_side  \\\n",
      "148                                      /,/richlands/   \n",
      "268           /richlands/javascript/menu.js,/richlands   \n",
      "147                                       /,/richlands   \n",
      "269          /richlands/javascript/menu.js,/richlands/   \n",
      "267                             /richlands/,/richlands   \n",
      "115                                        /richlands/   \n",
      "114                                         /richlands   \n",
      "118                                        /richlands/   \n",
      "119                      /richlands/javascript/menu.js   \n",
      "116                                         /richlands   \n",
      "117                      /richlands/javascript/menu.js   \n",
      "262          /eaglefarm/specials/,/eaglefarm/pricelist   \n",
      "411  /eaglefarm/pricelist/,/eaglefarm/specials/,/ea...   \n",
      "485  /eaglefarm/pricelist/,/eaglefarm/specials/,/ea...   \n",
      "387  /eaglefarm/specials/,/eaglefarm/javascript/men...   \n",
      "403  /eaglefarm/specials/,/eaglefarm/pdf/Web_Price_...   \n",
      "507  /eaglefarm/javascript/menu.js,/eaglefarm/pdf/W...   \n",
      "475  /eaglefarm/specials/,/eaglefarm/javascript/men...   \n",
      "490  /eaglefarm/pricelist/,/eaglefarm/specials/,/ea...   \n",
      "391  /eaglefarm/pricelist/,/eaglefarm/specials/,/ea...   \n",
      "\n",
      "                        Right_side   Support  Confidence       Lift  \n",
      "148                     /richlands  0.056243    0.980392  15.027045  \n",
      "268                    /richlands/  0.053993    1.000000  14.816667  \n",
      "147                    /richlands/  0.056243    0.980392  14.526144  \n",
      "269                     /richlands  0.053993    0.941176  14.425963  \n",
      "267  /richlands/javascript/menu.js  0.053993    0.857143  14.377358  \n",
      "115                     /richlands  0.062992    0.933333  14.305747  \n",
      "114                    /richlands/  0.062992    0.965517  14.305747  \n",
      "118  /richlands/javascript/menu.js  0.057368    0.850000  14.257547  \n",
      "119                    /richlands/  0.057368    0.962264  14.257547  \n",
      "116  /richlands/javascript/menu.js  0.053993    0.827586  13.881588  \n",
      "117                     /richlands  0.053993    0.905660  13.881588  \n",
      "262            /eaglefarm/specials  0.064117    0.850746  11.817397  \n",
      "411            /eaglefarm/specials  0.064117    0.850746  11.817397  \n",
      "485            /eaglefarm/specials  0.062992    0.848485  11.785985  \n",
      "387            /eaglefarm/specials  0.062992    0.848485  11.785985  \n",
      "403            /eaglefarm/specials  0.053993    0.842105  11.697368  \n",
      "507            /eaglefarm/specials  0.053993    0.842105  11.697368  \n",
      "475            /eaglefarm/specials  0.053993    0.842105  11.697368  \n",
      "490            /eaglefarm/specials  0.053993    0.842105  11.697368  \n",
      "391            /eaglefarm/specials  0.062992    0.835821  11.610075  \n"
     ]
    }
   ],
   "source": [
    "# sort all acquired rules descending by lift\n",
    "result_df = result_df.sort_values(by='Lift', ascending=False)\n",
    "print(result_df.head(20))"
   ]
  },
  {
   "cell_type": "code",
   "execution_count": null,
   "metadata": {},
   "outputs": [],
   "source": []
  },
  {
   "cell_type": "markdown",
   "metadata": {},
   "source": [
    "#### Sequence Mining"
   ]
  },
  {
   "cell_type": "code",
   "execution_count": 35,
   "metadata": {},
   "outputs": [
    {
     "name": "stdout",
     "output_type": "stream",
     "text": [
      "[['/', '/services.html'], ['/'], ['/'], ['/'], ['/eaglefarm/', '/eaglefarm/javascript/menu.js', '/eaglefarm/pdf/Web_Price_List.pdf', '/eaglefarm/pdf/Web_Price_List.pdf', '/eaglefarm/pdf/Web_Price_List.pdf', '/eaglefarm/pdf/Web_Price_List.pdf', '/eaglefarm/pricelist', '/eaglefarm/pricelist/'], ['/'], ['/eaglefarm/', '/eaglefarm/javascript/menu.js'], ['/', '/', '/springwood.html'], ['/', '/favicon.ico'], ['/', '/favicon.ico', '/favicon.ico', '/favicon.ico', '/favicon.ico', '/favicon.ico', '/favicon.ico', '/favicon.ico', '/favicon.ico', '/index.html', '/services.html']]\n"
     ]
    }
   ],
   "source": [
    "transactions = df.groupby(['ip'])['request'].apply(list)\n",
    "sequences = transactions.values.tolist()\n",
    "\n",
    "# show the first 5 sequences\n",
    "\n",
    "print(sequences[:10])"
   ]
  },
  {
   "cell_type": "code",
   "execution_count": 36,
   "metadata": {},
   "outputs": [],
   "source": [
    "from collections import defaultdict\n",
    "import subprocess\n",
    "import re\n",
    "\n",
    "''' Uses SPMF to find association rules in supplied transactions '''\n",
    "def get_association_rules(sequences, min_sup, min_conf):\n",
    "    # step 1: create required input for SPMF\n",
    "    \n",
    "    # prepare a dict to uniquely assign each item in the transactions to an int ID\n",
    "    item_dict = defaultdict(int)\n",
    "    output_dict = defaultdict(str)\n",
    "    item_id = 1\n",
    "    \n",
    "    # write your sequences in SPMF format\n",
    "    with open('seq_rule_input.txt', 'w+') as f:\n",
    "        for sequence in sequences:\n",
    "            z = []\n",
    "            for itemset in sequence:\n",
    "                # if there are multiple items in one itemset\n",
    "                if isinstance(itemset, list):\n",
    "                    for item in itemset:\n",
    "                        if item not in item_dict:\n",
    "                            item_dict[item] = item_id\n",
    "                            item_id += 1\n",
    "\n",
    "                        z.append(item_dict[item])\n",
    "                else:\n",
    "                    if itemset not in item_dict:\n",
    "                        item_dict[itemset] = item_id\n",
    "                        output_dict[str(item_id)] = itemset\n",
    "                        item_id += 1\n",
    "                    z.append(item_dict[itemset])\n",
    "                    \n",
    "                # end of itemset\n",
    "                z.append(-1)\n",
    "            \n",
    "            # end of a sequence\n",
    "            z.append(-2)\n",
    "            f.write(' '.join([str(x) for x in z]))\n",
    "            f.write('\\n')\n",
    "    \n",
    "    # run SPMF with supplied parameters\n",
    "    supp_param = '{}%'.format(int(min_sup * 100))\n",
    "    conf_param = '{}%'.format(int(min_conf * 100))\n",
    "    subprocess.call(['java', '-jar', 'spmf.jar', 'run', 'RuleGrowth', 'seq_rule_input.txt', 'seq_rule_output.txt', '10%', '10%'], shell=True)\n",
    "    \n",
    "    # read back the output rules\n",
    "    outputs = open('seq_rule_output.txt', 'r').read().strip().split('\\n')\n",
    "    output_rules = []\n",
    "    for rule in outputs:\n",
    "        left, right, sup, conf = re.search(pattern=r'([0-9\\,]+) ==> ([0-9\\,]+) #SUP: ([0-9]+) #CONF: ([0-9\\.]+)', string=rule).groups()\n",
    "        sup = int(sup) / len(sequences)\n",
    "        conf = float(conf)\n",
    "        output_rules.append([[output_dict[x] for x in left.split(',')], [output_dict[x] for x in right.split(',')], sup, conf])\n",
    "    \n",
    "    # return pandas DataFrame\n",
    "    return pd.DataFrame(output_rules, columns = ['Left_rule', 'Right_rule', 'Support', 'Confidence'])"
   ]
  },
  {
   "cell_type": "code",
   "execution_count": 37,
   "metadata": {},
   "outputs": [
    {
     "ename": "FileNotFoundError",
     "evalue": "[Errno 2] No such file or directory: 'seq_rule_output.txt'",
     "output_type": "error",
     "traceback": [
      "\u001b[1;31m---------------------------------------------------------------------------\u001b[0m",
      "\u001b[1;31mFileNotFoundError\u001b[0m                         Traceback (most recent call last)",
      "\u001b[1;32m<ipython-input-37-9c9339752c6f>\u001b[0m in \u001b[0;36m<module>\u001b[1;34m()\u001b[0m\n\u001b[1;32m----> 1\u001b[1;33m \u001b[0mget_association_rules\u001b[0m\u001b[1;33m(\u001b[0m\u001b[0msequences\u001b[0m\u001b[1;33m,\u001b[0m \u001b[1;36m0.1\u001b[0m\u001b[1;33m,\u001b[0m \u001b[1;36m0.1\u001b[0m\u001b[1;33m)\u001b[0m\u001b[1;33m\u001b[0m\u001b[0m\n\u001b[0m",
      "\u001b[1;32m<ipython-input-36-03f584f7edc1>\u001b[0m in \u001b[0;36mget_association_rules\u001b[1;34m(sequences, min_sup, min_conf)\u001b[0m\n\u001b[0;32m     46\u001b[0m \u001b[1;33m\u001b[0m\u001b[0m\n\u001b[0;32m     47\u001b[0m     \u001b[1;31m# read back the output rules\u001b[0m\u001b[1;33m\u001b[0m\u001b[1;33m\u001b[0m\u001b[0m\n\u001b[1;32m---> 48\u001b[1;33m     \u001b[0moutputs\u001b[0m \u001b[1;33m=\u001b[0m \u001b[0mopen\u001b[0m\u001b[1;33m(\u001b[0m\u001b[1;34m'seq_rule_output.txt'\u001b[0m\u001b[1;33m,\u001b[0m \u001b[1;34m'r'\u001b[0m\u001b[1;33m)\u001b[0m\u001b[1;33m.\u001b[0m\u001b[0mread\u001b[0m\u001b[1;33m(\u001b[0m\u001b[1;33m)\u001b[0m\u001b[1;33m.\u001b[0m\u001b[0mstrip\u001b[0m\u001b[1;33m(\u001b[0m\u001b[1;33m)\u001b[0m\u001b[1;33m.\u001b[0m\u001b[0msplit\u001b[0m\u001b[1;33m(\u001b[0m\u001b[1;34m'\\n'\u001b[0m\u001b[1;33m)\u001b[0m\u001b[1;33m\u001b[0m\u001b[0m\n\u001b[0m\u001b[0;32m     49\u001b[0m     \u001b[0moutput_rules\u001b[0m \u001b[1;33m=\u001b[0m \u001b[1;33m[\u001b[0m\u001b[1;33m]\u001b[0m\u001b[1;33m\u001b[0m\u001b[0m\n\u001b[0;32m     50\u001b[0m     \u001b[1;32mfor\u001b[0m \u001b[0mrule\u001b[0m \u001b[1;32min\u001b[0m \u001b[0moutputs\u001b[0m\u001b[1;33m:\u001b[0m\u001b[1;33m\u001b[0m\u001b[0m\n",
      "\u001b[1;31mFileNotFoundError\u001b[0m: [Errno 2] No such file or directory: 'seq_rule_output.txt'"
     ]
    }
   ],
   "source": [
    "get_association_rules(sequences, 0.1, 0.1)"
   ]
  },
  {
   "cell_type": "code",
   "execution_count": null,
   "metadata": {},
   "outputs": [],
   "source": []
  }
 ],
 "metadata": {
  "kernelspec": {
   "display_name": "Python 3",
   "language": "python",
   "name": "python3"
  },
  "language_info": {
   "codemirror_mode": {
    "name": "ipython",
    "version": 3
   },
   "file_extension": ".py",
   "mimetype": "text/x-python",
   "name": "python",
   "nbconvert_exporter": "python",
   "pygments_lexer": "ipython3",
   "version": "3.6.5"
  }
 },
 "nbformat": 4,
 "nbformat_minor": 2
}
