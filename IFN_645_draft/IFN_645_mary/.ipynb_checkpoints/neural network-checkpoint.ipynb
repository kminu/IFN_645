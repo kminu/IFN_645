{
 "cells": [
  {
   "cell_type": "code",
   "execution_count": 1,
   "metadata": {},
   "outputs": [],
   "source": [
    "import pandas as pd\n",
    "import numpy as np\n",
    "from sklearn.model_selection import train_test_split, GridSearchCV \n",
    "from sklearn.preprocessing import StandardScaler\n",
    "from sklearn.neural_network import MLPClassifier\n",
    "from sklearn.metrics import classification_report, accuracy_score,confusion_matrix\n",
    "from sklearn.feature_selection import SelectFromModel,RFECV\n",
    "from sklearn.tree import DecisionTreeClassifier\n",
    "from sklearn.linear_model import LogisticRegression\n",
    "import pydot\n",
    "from io import StringIO\n",
    "from sklearn.tree import export_graphviz\n",
    "\n",
    "from tools import data_prep \n",
    "import matplotlib.pyplot as plt\n",
    "import seaborn as sns\n",
    "\n",
    "%matplotlib inline"
   ]
  },
  {
   "cell_type": "markdown",
   "metadata": {},
   "source": [
    "### Splitting the dataset "
   ]
  },
  {
   "cell_type": "code",
   "execution_count": 2,
   "metadata": {},
   "outputs": [
    {
     "name": "stderr",
     "output_type": "stream",
     "text": [
      "D:\\Programs\\conda\\lib\\site-packages\\IPython\\core\\interactiveshell.py:2903: DtypeWarning: Columns (27) have mixed types. Specify dtype option on import or set low_memory=False.\n",
      "  if self.run_code(code, result):\n"
     ]
    },
    {
     "name": "stdout",
     "output_type": "stream",
     "text": [
      "<class 'pandas.core.frame.DataFrame'>\n",
      "Int64Index: 41432 entries, 0 to 41475\n",
      "Data columns (total 31 columns):\n",
      "PurchaseID                           41432 non-null int64\n",
      "PurchaseTimestamp                    41432 non-null int64\n",
      "PurchaseDate                         41432 non-null object\n",
      "Auction                              41432 non-null object\n",
      "VehYear                              41432 non-null float64\n",
      "Make                                 41432 non-null object\n",
      "Color                                41432 non-null object\n",
      "Transmission                         41432 non-null object\n",
      "WheelTypeID                          41432 non-null object\n",
      "WheelType                            41380 non-null object\n",
      "VehOdo                               41432 non-null float64\n",
      "Nationality                          41432 non-null object\n",
      "Size                                 41432 non-null object\n",
      "TopThreeAmericanName                 41432 non-null object\n",
      "MMRAcquisitionAuctionAveragePrice    41416 non-null object\n",
      "MMRAcquisitionAuctionCleanPrice      41429 non-null object\n",
      "MMRAcquisitionRetailAveragePrice     41429 non-null object\n",
      "MMRAcquisitonRetailCleanPrice        41327 non-null object\n",
      "MMRCurrentAuctionAveragePrice        41429 non-null object\n",
      "MMRCurrentAuctionCleanPrice          41429 non-null object\n",
      "MMRCurrentRetailAveragePrice         41409 non-null object\n",
      "MMRCurrentRetailCleanPrice           41409 non-null object\n",
      "MMRCurrentRetailRatio                41116 non-null object\n",
      "PRIMEUNIT                            41432 non-null object\n",
      "AUCGUART                             41432 non-null object\n",
      "VNST                                 41432 non-null object\n",
      "VehBCost                             41432 non-null object\n",
      "IsOnlineSale                         41432 non-null object\n",
      "WarrantyCost                         41432 non-null float64\n",
      "ForSale                              41432 non-null object\n",
      "IsBadBuy                             41432 non-null int64\n",
      "dtypes: float64(3), int64(3), object(25)\n",
      "memory usage: 10.1+ MB\n"
     ]
    }
   ],
   "source": [
    "df = data_prep()\n",
    "y = df['IsBadBuy']\n",
    "X = df.drop(['IsBadBuy'], axis=1)"
   ]
  },
  {
   "cell_type": "code",
   "execution_count": 3,
   "metadata": {},
   "outputs": [
    {
     "name": "stdout",
     "output_type": "stream",
     "text": [
      "(7511, 126)\n"
     ]
    },
    {
     "name": "stderr",
     "output_type": "stream",
     "text": [
      "D:\\Programs\\conda\\lib\\site-packages\\ipykernel_launcher.py:2: FutureWarning: Method .as_matrix will be removed in a future version. Use .values instead.\n",
      "  \n"
     ]
    }
   ],
   "source": [
    "rs = 10\n",
    "X_mat = X.as_matrix()\n",
    "X_train, X_test, y_train, y_test = train_test_split(X_mat, y, test_size=0.30, stratify=y, random_state=rs)\n",
    "\n",
    "# Feature Scaling\n",
    "scaler = StandardScaler()\n",
    "X_train = scaler.fit_transform(X_train, y_train)\n",
    "X_test = scaler.transform(X_test)\n",
    "print(X_train.shape)\n",
    "# (7511, 126)\n"
   ]
  },
  {
   "cell_type": "markdown",
   "metadata": {},
   "source": [
    "## Task 4.1 Neural network --default setting"
   ]
  },
  {
   "cell_type": "code",
   "execution_count": 4,
   "metadata": {},
   "outputs": [
    {
     "name": "stdout",
     "output_type": "stream",
     "text": [
      "Iteration 1, loss = 0.58964795\n",
      "Iteration 2, loss = 0.45177474\n",
      "Iteration 3, loss = 0.40806275\n",
      "Iteration 4, loss = 0.38484375\n",
      "Iteration 5, loss = 0.36935767\n",
      "Iteration 6, loss = 0.35699076\n",
      "Iteration 7, loss = 0.34710083\n",
      "Iteration 8, loss = 0.33766670\n",
      "Iteration 9, loss = 0.32936229\n",
      "Iteration 10, loss = 0.32219213\n",
      "Iteration 11, loss = 0.31491517\n",
      "Iteration 12, loss = 0.30888697\n",
      "Iteration 13, loss = 0.30334863\n",
      "Iteration 14, loss = 0.29675402\n",
      "Iteration 15, loss = 0.29146177\n",
      "Iteration 16, loss = 0.28663765\n",
      "Iteration 17, loss = 0.28216681\n",
      "Iteration 18, loss = 0.27758995\n",
      "Iteration 19, loss = 0.27280424\n",
      "Iteration 20, loss = 0.27029158\n",
      "Iteration 21, loss = 0.26577205\n",
      "Iteration 22, loss = 0.26129818\n",
      "Iteration 23, loss = 0.25790721\n",
      "Iteration 24, loss = 0.25536672\n",
      "Iteration 25, loss = 0.25067828\n",
      "Iteration 26, loss = 0.24678953\n",
      "Iteration 27, loss = 0.24457243\n",
      "Iteration 28, loss = 0.24264520\n",
      "Iteration 29, loss = 0.23853933\n",
      "Iteration 30, loss = 0.23668792\n",
      "Iteration 31, loss = 0.23395726\n",
      "Iteration 32, loss = 0.23101260\n",
      "Iteration 33, loss = 0.22755564\n",
      "Iteration 34, loss = 0.22544332\n",
      "Iteration 35, loss = 0.22282593\n",
      "Iteration 36, loss = 0.22128227\n",
      "Iteration 37, loss = 0.21842724\n",
      "Iteration 38, loss = 0.21544830\n",
      "Iteration 39, loss = 0.21295445\n",
      "Iteration 40, loss = 0.21030658\n",
      "Iteration 41, loss = 0.20957699\n",
      "Iteration 42, loss = 0.20560928\n",
      "Iteration 43, loss = 0.20370774\n",
      "Iteration 44, loss = 0.20185119\n",
      "Iteration 45, loss = 0.19953879\n",
      "Iteration 46, loss = 0.19789160\n",
      "Iteration 47, loss = 0.19603770\n",
      "Iteration 48, loss = 0.19364070\n",
      "Iteration 49, loss = 0.19300845\n",
      "Iteration 50, loss = 0.18914561\n",
      "Iteration 51, loss = 0.18840668\n",
      "Iteration 52, loss = 0.18650125\n",
      "Iteration 53, loss = 0.18530471\n",
      "Iteration 54, loss = 0.18161139\n",
      "Iteration 55, loss = 0.18046542\n",
      "Iteration 56, loss = 0.17917163\n",
      "Iteration 57, loss = 0.17905590\n",
      "Iteration 58, loss = 0.17584709\n",
      "Iteration 59, loss = 0.17271626\n",
      "Iteration 60, loss = 0.17246028\n",
      "Iteration 61, loss = 0.17028414\n",
      "Iteration 62, loss = 0.16962039\n",
      "Iteration 63, loss = 0.16753983\n",
      "Iteration 64, loss = 0.16515832\n",
      "Iteration 65, loss = 0.16299508\n",
      "Iteration 66, loss = 0.16425726\n",
      "Iteration 67, loss = 0.16074635\n",
      "Iteration 68, loss = 0.15864308\n",
      "Iteration 69, loss = 0.15684650\n",
      "Iteration 70, loss = 0.15578587\n",
      "Iteration 71, loss = 0.15505146\n",
      "Iteration 72, loss = 0.15295736\n",
      "Iteration 73, loss = 0.15521260\n",
      "Iteration 74, loss = 0.15333454\n",
      "Iteration 75, loss = 0.14940678\n",
      "Iteration 76, loss = 0.15002586\n",
      "Iteration 77, loss = 0.14681531\n",
      "Iteration 78, loss = 0.14553905\n",
      "Iteration 79, loss = 0.14576825\n",
      "Iteration 80, loss = 0.14281599\n",
      "Iteration 81, loss = 0.14357703\n",
      "Iteration 82, loss = 0.14261910\n",
      "Iteration 83, loss = 0.14112810\n",
      "Iteration 84, loss = 0.13961386\n",
      "Iteration 85, loss = 0.13758640\n",
      "Iteration 86, loss = 0.13742425\n",
      "Iteration 87, loss = 0.13672225\n",
      "Iteration 88, loss = 0.13445497\n",
      "Iteration 89, loss = 0.13426152\n",
      "Iteration 90, loss = 0.13287401\n",
      "Iteration 91, loss = 0.13109824\n",
      "Iteration 92, loss = 0.12942205\n",
      "Iteration 93, loss = 0.12845810\n",
      "Iteration 94, loss = 0.12839035\n",
      "Iteration 95, loss = 0.12638824\n",
      "Iteration 96, loss = 0.12506321\n",
      "Iteration 97, loss = 0.12386699\n",
      "Iteration 98, loss = 0.12408939\n",
      "Iteration 99, loss = 0.12302482\n",
      "Iteration 100, loss = 0.12096252\n",
      "Iteration 101, loss = 0.12165293\n",
      "Iteration 102, loss = 0.11881834\n",
      "Iteration 103, loss = 0.11820534\n",
      "Iteration 104, loss = 0.11761638\n",
      "Iteration 105, loss = 0.11669972\n",
      "Iteration 106, loss = 0.11593446\n",
      "Iteration 107, loss = 0.11532647\n",
      "Iteration 108, loss = 0.11373204\n",
      "Iteration 109, loss = 0.11326682\n",
      "Iteration 110, loss = 0.11333679\n",
      "Iteration 111, loss = 0.11190217\n",
      "Iteration 112, loss = 0.10943053\n",
      "Iteration 113, loss = 0.10983707\n",
      "Iteration 114, loss = 0.11054304\n",
      "Iteration 115, loss = 0.11013249\n",
      "Training loss did not improve more than tol=0.000100 for two consecutive epochs. Stopping.\n",
      "MLPClassifier(activation='relu', alpha=0.0001, batch_size='auto', beta_1=0.9,\n",
      "       beta_2=0.999, early_stopping=False, epsilon=1e-08,\n",
      "       hidden_layer_sizes=(100,), learning_rate='constant',\n",
      "       learning_rate_init=0.001, max_iter=200, momentum=0.9,\n",
      "       nesterovs_momentum=True, power_t=0.5, random_state=10, shuffle=True,\n",
      "       solver='adam', tol=0.0001, validation_fraction=0.1, verbose=True,\n",
      "       warm_start=False)\n",
      "\n",
      "Train accuracy: 0.9665823458926908\n",
      "Test accuracy: 0.7996272134203168\n",
      "\n",
      "              precision    recall  f1-score   support\n",
      "\n",
      "          0       0.78      0.84      0.81      1609\n",
      "          1       0.83      0.76      0.79      1610\n",
      "\n",
      "avg / total       0.80      0.80      0.80      3219\n",
      "\n",
      "\n",
      "\n"
     ]
    },
    {
     "data": {
      "text/plain": [
       "Text(0.5,1,'Confusion Matrix Default NN')"
      ]
     },
     "execution_count": 4,
     "metadata": {},
     "output_type": "execute_result"
    },
    {
     "data": {
      "image/png": "[encoded data removed]",
      "text/plain": [
       "<Figure size 432x288 with 2 Axes>"
      ]
     },
     "metadata": {},
     "output_type": "display_data"
    }
   ],
   "source": [
    "# Fitting model to the Training set\n",
    "model = MLPClassifier(random_state=rs,verbose=True)\n",
    "model.fit(X_train, y_train)\n",
    "\n",
    "test_score=model.score(X_test, y_test)\n",
    "train_score=model.score(X_train, y_train)\n",
    "\n",
    "print(model)\n",
    "print(\"\\nTrain accuracy:\", model.score(X_train, y_train))\n",
    "print(\"Test accuracy:\", model.score(X_test, y_test))\n",
    "\n",
    "# Predicting the Test set results\n",
    "y_pred = model.predict(X_test)\n",
    "print('\\n',classification_report(y_test, y_pred))\n",
    "\n",
    "\n",
    "print('\\n')\n",
    "\n",
    "#  Making the Confusion Matrix\n",
    "cm = confusion_matrix(y_test, y_pred)\n",
    "sns.heatmap(cm, center=True, annot=True, fmt=\"d\").set_title(\"Confusion Matrix Default NN\")"
   ]
  },
  {
   "cell_type": "markdown",
   "metadata": {},
   "source": [
    "## Task 4.2 GridSearch\n"
   ]
  },
  {
   "cell_type": "code",
   "execution_count": 51,
   "metadata": {},
   "outputs": [],
   "source": [
    "# Build classifier model as estimator for the GridDearchCV model\n",
    "model_nn = MLPClassifier(random_state=rs, warm_start =True, max_iter=1000,verbose = True)"
   ]
  },
  {
   "cell_type": "code",
   "execution_count": 9,
   "metadata": {},
   "outputs": [],
   "source": [
    "# Build GridSearchCV base model\n",
    "def GridSearch(model, params):\n",
    "    # grid search \n",
    "    #param_grid=params\n",
    "    cv = GridSearchCV(param_grid= params,\n",
    "                  estimator=model, \n",
    "                  scoring= 'accuracy',\n",
    "                  cv=10, \n",
    "                  n_jobs=-1)\n",
    "    \n",
    "    # fit the model \n",
    "    cv.fit(X_train, y_train)\n",
    "    \n",
    "    # Print the model architecture\n",
    "    print(\"\\n Model Description\\n\", cv)\n",
    "    \n",
    "    # Evaluation metrics\n",
    "    print(\"Train accuracy:\", cv.score(X_train, y_train))\n",
    "    print(\"Test accuracy:\", cv.score(X_test, y_test))\n",
    "    \n",
    "    #Print Classification Report\n",
    "    y_pred = cv.predict(X_test)\n",
    "    print(classification_report(y_test, y_pred))\n",
    "    print(\"\\n Best Score\", cv.best_score_)\n",
    "    \n",
    "    # Print the Best Params\n",
    "    print(\"\\n Best Param\")\n",
    "    print(cv.best_params_)\n",
    "    \n",
    "    #  Making the Confusion Matrix\n",
    "    cm = confusion_matrix(y_test, y_pred)\n",
    "    sns.heatmap(cm, center=True, annot=True, fmt=\"d\",).set_title(\"Confusion Matrix\")"
   ]
  },
  {
   "cell_type": "code",
   "execution_count": 8,
   "metadata": {},
   "outputs": [
    {
     "name": "stdout",
     "output_type": "stream",
     "text": [
      "Iteration 1, loss = 0.79450565\n",
      "Iteration 2, loss = 0.65662153\n",
      "Iteration 3, loss = 0.58950552\n",
      "Iteration 4, loss = 0.54558785\n",
      "Iteration 5, loss = 0.51244268\n",
      "Iteration 6, loss = 0.48703696\n",
      "Iteration 7, loss = 0.46733128\n",
      "Iteration 8, loss = 0.45096594\n",
      "Iteration 9, loss = 0.43795477\n",
      "Iteration 10, loss = 0.42713843\n",
      "Iteration 11, loss = 0.41794675\n",
      "Iteration 12, loss = 0.41073399\n",
      "Iteration 13, loss = 0.40431531\n",
      "Iteration 14, loss = 0.39918733\n",
      "Iteration 15, loss = 0.39451960\n",
      "Iteration 16, loss = 0.39045840\n",
      "Iteration 17, loss = 0.38706753\n",
      "Iteration 18, loss = 0.38391104\n",
      "Iteration 19, loss = 0.38082953\n",
      "Iteration 20, loss = 0.37787862\n",
      "Iteration 21, loss = 0.37400557\n",
      "Iteration 22, loss = 0.37099551\n",
      "Iteration 23, loss = 0.36849573\n",
      "Iteration 24, loss = 0.36633718\n",
      "Iteration 25, loss = 0.36444967\n",
      "Iteration 26, loss = 0.36265467\n",
      "Iteration 27, loss = 0.36068688\n",
      "Iteration 28, loss = 0.35923160\n",
      "Iteration 29, loss = 0.35758597\n",
      "Iteration 30, loss = 0.35570452\n",
      "Iteration 31, loss = 0.35420260\n",
      "Iteration 32, loss = 0.35319697\n",
      "Iteration 33, loss = 0.35151170\n",
      "Iteration 34, loss = 0.35064594\n",
      "Iteration 35, loss = 0.34953184\n",
      "Iteration 36, loss = 0.34849213\n",
      "Iteration 37, loss = 0.34690848\n",
      "Iteration 38, loss = 0.34611204\n",
      "Iteration 39, loss = 0.34492423\n",
      "Iteration 40, loss = 0.34387472\n",
      "Iteration 41, loss = 0.34296933\n",
      "Iteration 42, loss = 0.34260942\n",
      "Iteration 43, loss = 0.34138578\n",
      "Iteration 44, loss = 0.34075757\n",
      "Iteration 45, loss = 0.33968271\n",
      "Iteration 46, loss = 0.33858920\n",
      "Iteration 47, loss = 0.33795046\n",
      "Iteration 48, loss = 0.33718517\n",
      "Iteration 49, loss = 0.33655936\n",
      "Iteration 50, loss = 0.33604330\n",
      "Iteration 51, loss = 0.33544824\n",
      "Iteration 52, loss = 0.33477638\n",
      "Iteration 53, loss = 0.33441165\n",
      "Iteration 54, loss = 0.33359730\n",
      "Iteration 55, loss = 0.33291352\n",
      "Iteration 56, loss = 0.33184647\n",
      "Iteration 57, loss = 0.33169109\n",
      "Iteration 58, loss = 0.33099571\n",
      "Iteration 59, loss = 0.33079589\n",
      "Iteration 60, loss = 0.32970731\n",
      "Iteration 61, loss = 0.32976260\n",
      "Iteration 62, loss = 0.32897742\n",
      "Iteration 63, loss = 0.32869930\n",
      "Iteration 64, loss = 0.32857707\n",
      "Iteration 65, loss = 0.32765364\n",
      "Iteration 66, loss = 0.32723537\n",
      "Iteration 67, loss = 0.32654369\n",
      "Iteration 68, loss = 0.32665222\n",
      "Iteration 69, loss = 0.32676711\n",
      "Iteration 70, loss = 0.32592246\n",
      "Iteration 71, loss = 0.32568310\n",
      "Iteration 72, loss = 0.32516186\n",
      "Iteration 73, loss = 0.32486654\n",
      "Iteration 74, loss = 0.32433098\n",
      "Iteration 75, loss = 0.32422618\n",
      "Iteration 76, loss = 0.32391397\n",
      "Iteration 77, loss = 0.32317759\n",
      "Iteration 78, loss = 0.32306549\n",
      "Iteration 79, loss = 0.32272005\n",
      "Iteration 80, loss = 0.32265446\n",
      "Iteration 81, loss = 0.32230808\n",
      "Iteration 82, loss = 0.32197803\n",
      "Iteration 83, loss = 0.32150837\n",
      "Iteration 84, loss = 0.32118526\n",
      "Iteration 85, loss = 0.32098518\n",
      "Iteration 86, loss = 0.32052675\n",
      "Iteration 87, loss = 0.32005126\n",
      "Iteration 88, loss = 0.32025784\n",
      "Iteration 89, loss = 0.31979013\n",
      "Iteration 90, loss = 0.31887001\n",
      "Iteration 91, loss = 0.31908879\n",
      "Iteration 92, loss = 0.31866167\n",
      "Iteration 93, loss = 0.31842513\n",
      "Iteration 94, loss = 0.31805479\n",
      "Iteration 95, loss = 0.31770275\n",
      "Iteration 96, loss = 0.31757827\n",
      "Iteration 97, loss = 0.31721215\n",
      "Iteration 98, loss = 0.31700842\n",
      "Iteration 99, loss = 0.31694704\n",
      "Iteration 100, loss = 0.31641533\n",
      "Iteration 101, loss = 0.31601297\n",
      "Iteration 102, loss = 0.31632641\n",
      "Iteration 103, loss = 0.31568268\n",
      "Iteration 104, loss = 0.31595867\n",
      "Iteration 105, loss = 0.31555843\n",
      "Iteration 106, loss = 0.31550369\n",
      "Iteration 107, loss = 0.31529099\n",
      "Iteration 108, loss = 0.31506126\n",
      "Iteration 109, loss = 0.31479165\n",
      "Iteration 110, loss = 0.31466674\n",
      "Iteration 111, loss = 0.31448571\n",
      "Iteration 112, loss = 0.31455378\n",
      "Iteration 113, loss = 0.31455535\n",
      "Iteration 114, loss = 0.31384661\n",
      "Iteration 115, loss = 0.31405537\n",
      "Iteration 116, loss = 0.31360612\n",
      "Iteration 117, loss = 0.31360333\n",
      "Iteration 118, loss = 0.31373514\n",
      "Iteration 119, loss = 0.31365261\n",
      "Training loss did not improve more than tol=0.000100 for two consecutive epochs. Stopping.\n",
      "\n",
      " Model Description\n",
      " GridSearchCV(cv=10, error_score='raise',\n",
      "       estimator=MLPClassifier(activation='relu', alpha=0.0001, batch_size='auto', beta_1=0.9,\n",
      "       beta_2=0.999, early_stopping=False, epsilon=1e-08,\n",
      "       hidden_layer_sizes=(100,), learning_rate='constant',\n",
      "       learning_rate_init=0.001, max_iter=1000, momentum=0.9,\n",
      "       nesterovs_momentum=True, power_t=0.5, random_state=10, shuffle=True,\n",
      "       solver='adam', tol=0.0001, validation_fraction=0.1, verbose=True,\n",
      "       warm_start=True),\n",
      "       fit_params=None, iid=True, n_jobs=-1,\n",
      "       param_grid={'hidden_layer_sizes': [(5,), (25,), (45,), (65,), (85,)]},\n",
      "       pre_dispatch='2*n_jobs', refit=True, return_train_score='warn',\n",
      "       scoring='accuracy', verbose=0)\n",
      "Train accuracy: 0.8599387564904807\n",
      "Test accuracy: 0.8266542404473439\n",
      "             precision    recall  f1-score   support\n",
      "\n",
      "          0       0.78      0.90      0.84      1609\n",
      "          1       0.89      0.75      0.81      1610\n",
      "\n",
      "avg / total       0.83      0.83      0.83      3219\n",
      "\n",
      "\n",
      " Best Score 0.8239914791638929\n",
      "\n",
      " Best Param\n",
      "{'hidden_layer_sizes': (5,)}\n"
     ]
    },
    {
     "data": {
      "image/png": "[encoded data removed]",
      "text/plain": [
       "<Figure size 432x288 with 2 Axes>"
      ]
     },
     "metadata": {},
     "output_type": "display_data"
    }
   ],
   "source": [
    "# Params with 1 param only\n",
    "params = {'hidden_layer_sizes': [(x,) for x in range(5, 86, 20)]}\n",
    "GridSearch(model_nn)"
   ]
  },
  {
   "cell_type": "code",
   "execution_count": 11,
   "metadata": {},
   "outputs": [
    {
     "name": "stdout",
     "output_type": "stream",
     "text": [
      "Iteration 1, loss = 0.79622887\n",
      "Iteration 2, loss = 0.69621280\n",
      "Iteration 3, loss = 0.63886936\n",
      "Iteration 4, loss = 0.59881099\n",
      "Iteration 5, loss = 0.56511899\n",
      "Iteration 6, loss = 0.53433946\n",
      "Iteration 7, loss = 0.50683762\n",
      "Iteration 8, loss = 0.48410629\n",
      "Iteration 9, loss = 0.46452138\n",
      "Iteration 10, loss = 0.44861227\n",
      "Iteration 11, loss = 0.43570061\n",
      "Iteration 12, loss = 0.42559875\n",
      "Iteration 13, loss = 0.41737150\n",
      "Iteration 14, loss = 0.41054459\n",
      "Iteration 15, loss = 0.40496937\n",
      "Iteration 16, loss = 0.39977084\n",
      "Iteration 17, loss = 0.39561514\n",
      "Iteration 18, loss = 0.39183884\n",
      "Iteration 19, loss = 0.38868153\n",
      "Iteration 20, loss = 0.38557752\n",
      "Iteration 21, loss = 0.38301724\n",
      "Iteration 22, loss = 0.38064323\n",
      "Iteration 23, loss = 0.37814663\n",
      "Iteration 24, loss = 0.37578868\n",
      "Iteration 25, loss = 0.37400063\n",
      "Iteration 26, loss = 0.37201650\n",
      "Iteration 27, loss = 0.37001926\n",
      "Iteration 28, loss = 0.36796752\n",
      "Iteration 29, loss = 0.36629319\n",
      "Iteration 30, loss = 0.36450299\n",
      "Iteration 31, loss = 0.36265202\n",
      "Iteration 32, loss = 0.36100123\n",
      "Iteration 33, loss = 0.35925995\n",
      "Iteration 34, loss = 0.35784191\n",
      "Iteration 35, loss = 0.35587253\n",
      "Iteration 36, loss = 0.35440736\n",
      "Iteration 37, loss = 0.35346393\n",
      "Iteration 38, loss = 0.35202498\n",
      "Iteration 39, loss = 0.35126741\n",
      "Iteration 40, loss = 0.35007554\n",
      "Iteration 41, loss = 0.34937962\n",
      "Iteration 42, loss = 0.34845554\n",
      "Iteration 43, loss = 0.34769731\n",
      "Iteration 44, loss = 0.34697567\n",
      "Iteration 45, loss = 0.34607375\n",
      "Iteration 46, loss = 0.34555008\n",
      "Iteration 47, loss = 0.34476822\n",
      "Iteration 48, loss = 0.34422008\n",
      "Iteration 49, loss = 0.34322039\n",
      "Iteration 50, loss = 0.34258319\n",
      "Iteration 51, loss = 0.34211944\n",
      "Iteration 52, loss = 0.34174819\n",
      "Iteration 53, loss = 0.34126196\n",
      "Iteration 54, loss = 0.34066939\n",
      "Iteration 55, loss = 0.34027287\n",
      "Iteration 56, loss = 0.33968560\n",
      "Iteration 57, loss = 0.33907886\n",
      "Iteration 58, loss = 0.33866950\n",
      "Iteration 59, loss = 0.33832038\n",
      "Iteration 60, loss = 0.33793273\n",
      "Iteration 61, loss = 0.33734951\n",
      "Iteration 62, loss = 0.33711171\n",
      "Iteration 63, loss = 0.33667965\n",
      "Iteration 64, loss = 0.33616129\n",
      "Iteration 65, loss = 0.33612808\n",
      "Iteration 66, loss = 0.33563308\n",
      "Iteration 67, loss = 0.33518677\n",
      "Iteration 68, loss = 0.33468520\n",
      "Iteration 69, loss = 0.33443703\n",
      "Iteration 70, loss = 0.33416644\n",
      "Iteration 71, loss = 0.33365752\n",
      "Iteration 72, loss = 0.33358177\n",
      "Iteration 73, loss = 0.33360202\n",
      "Iteration 74, loss = 0.33325993\n",
      "Iteration 75, loss = 0.33306084\n",
      "Iteration 76, loss = 0.33261203\n",
      "Iteration 77, loss = 0.33243875\n",
      "Iteration 78, loss = 0.33217613\n",
      "Iteration 79, loss = 0.33192580\n",
      "Iteration 80, loss = 0.33172757\n",
      "Iteration 81, loss = 0.33133531\n",
      "Iteration 82, loss = 0.33148899\n",
      "Iteration 83, loss = 0.33118111\n",
      "Iteration 84, loss = 0.33121765\n",
      "Iteration 85, loss = 0.33044254\n",
      "Iteration 86, loss = 0.33057200\n",
      "Iteration 87, loss = 0.33008558\n",
      "Iteration 88, loss = 0.33010893\n",
      "Iteration 89, loss = 0.32997853\n",
      "Iteration 90, loss = 0.33016471\n",
      "Iteration 91, loss = 0.32956108\n",
      "Iteration 92, loss = 0.32950723\n",
      "Iteration 93, loss = 0.32914576\n",
      "Iteration 94, loss = 0.32925205\n",
      "Iteration 95, loss = 0.32892378\n",
      "Iteration 96, loss = 0.32851556\n",
      "Iteration 97, loss = 0.32832350\n",
      "Iteration 98, loss = 0.32848814\n",
      "Iteration 99, loss = 0.32804444\n",
      "Iteration 100, loss = 0.32794597\n",
      "Iteration 101, loss = 0.32787742\n",
      "Iteration 102, loss = 0.32757566\n",
      "Iteration 103, loss = 0.32719271\n",
      "Iteration 104, loss = 0.32691924\n",
      "Iteration 105, loss = 0.32681761\n",
      "Iteration 106, loss = 0.32674343\n",
      "Iteration 107, loss = 0.32691767\n",
      "Iteration 108, loss = 0.32660581\n",
      "Iteration 109, loss = 0.32640085\n",
      "Iteration 110, loss = 0.32621192\n",
      "Iteration 111, loss = 0.32607579\n",
      "Iteration 112, loss = 0.32601581\n",
      "Iteration 113, loss = 0.32593858\n",
      "Iteration 114, loss = 0.32572014\n",
      "Iteration 115, loss = 0.32552907\n",
      "Iteration 116, loss = 0.32511503\n",
      "Iteration 117, loss = 0.32521671\n",
      "Iteration 118, loss = 0.32507048\n",
      "Iteration 119, loss = 0.32489151\n",
      "Iteration 120, loss = 0.32506794\n",
      "Iteration 121, loss = 0.32466628\n",
      "Iteration 122, loss = 0.32476567\n",
      "Iteration 123, loss = 0.32477485\n",
      "Iteration 124, loss = 0.32438080\n",
      "Iteration 125, loss = 0.32425609\n",
      "Iteration 126, loss = 0.32412502\n",
      "Iteration 127, loss = 0.32407789\n",
      "Iteration 128, loss = 0.32416150\n",
      "Iteration 129, loss = 0.32383800\n",
      "Iteration 130, loss = 0.32394051\n",
      "Iteration 131, loss = 0.32374813\n",
      "Iteration 132, loss = 0.32340540\n",
      "Iteration 133, loss = 0.32369299\n",
      "Iteration 134, loss = 0.32355784\n",
      "Iteration 135, loss = 0.32321013\n",
      "Iteration 136, loss = 0.32308089\n",
      "Iteration 137, loss = 0.32309523\n",
      "Iteration 138, loss = 0.32271601\n",
      "Iteration 139, loss = 0.32277271\n",
      "Iteration 140, loss = 0.32249995\n",
      "Iteration 141, loss = 0.32261748\n",
      "Iteration 142, loss = 0.32263243\n",
      "Iteration 143, loss = 0.32286212\n",
      "Training loss did not improve more than tol=0.000100 for two consecutive epochs. Stopping.\n",
      "\n",
      " Model Description\n",
      " GridSearchCV(cv=10, error_score='raise',\n",
      "       estimator=MLPClassifier(activation='relu', alpha=0.0001, batch_size='auto', beta_1=0.9,\n",
      "       beta_2=0.999, early_stopping=False, epsilon=1e-08,\n",
      "       hidden_layer_sizes=(100,), learning_rate='constant',\n",
      "       learning_rate_init=0.001, max_iter=1000, momentum=0.9,\n",
      "       nesterovs_momentum=True, power_t=0.5, random_state=10, shuffle=True,\n",
      "       solver='adam', tol=0.0001, validation_fraction=0.1, verbose=True,\n",
      "       warm_start=True),\n",
      "       fit_params=None, iid=True, n_jobs=-1,\n",
      "       param_grid={'hidden_layer_sizes': [(3,), (5,), (7,), (9,)], 'alpha': [0.01, 0.001, 0.0001]},\n",
      "       pre_dispatch='2*n_jobs', refit=True, return_train_score='warn',\n",
      "       scoring='accuracy', verbose=0)\n",
      "Train accuracy: 0.8528824390893356\n",
      "Test accuracy: 0.8365952159055607\n",
      "             precision    recall  f1-score   support\n",
      "\n",
      "          0       0.79      0.92      0.85      1609\n",
      "          1       0.91      0.75      0.82      1610\n",
      "\n",
      "avg / total       0.85      0.84      0.84      3219\n",
      "\n",
      "\n",
      " Best Score 0.8278524830248968\n",
      "\n",
      " Best Param\n",
      "{'alpha': 0.001, 'hidden_layer_sizes': (3,)}\n"
     ]
    },
    {
     "data": {
      "image/png": "[encoded data removed]",
      "text/plain": [
       "<Figure size 432x288 with 2 Axes>"
      ]
     },
     "metadata": {},
     "output_type": "display_data"
    }
   ],
   "source": [
    "# Params with 2 params\n",
    "params_2 = {'hidden_layer_sizes': [(3,), (5,), (7,), (9,)], \n",
    "          'alpha': [0.01,0.001, 0.0001,]}\n",
    "GridSearch(model_nn,params_2)"
   ]
  },
  {
   "cell_type": "code",
   "execution_count": 78,
   "metadata": {},
   "outputs": [
    {
     "name": "stdout",
     "output_type": "stream",
     "text": [
      "Iteration 1, loss = 0.48221726\n",
      "Iteration 2, loss = 0.39843040\n",
      "Iteration 3, loss = 0.37763348\n",
      "Iteration 4, loss = 0.36614546\n",
      "Iteration 5, loss = 0.35610566\n",
      "Iteration 6, loss = 0.35217094\n",
      "Iteration 7, loss = 0.35312606\n",
      "Iteration 8, loss = 0.34975456\n",
      "Iteration 9, loss = 0.34990565\n",
      "Iteration 10, loss = 0.35011831\n",
      "Iteration 11, loss = 0.34793465\n",
      "Iteration 12, loss = 0.34662084\n",
      "Iteration 13, loss = 0.34194841\n",
      "Iteration 14, loss = 0.34064303\n",
      "Iteration 15, loss = 0.33983664\n",
      "Iteration 16, loss = 0.33838697\n",
      "Iteration 17, loss = 0.33792570\n",
      "Iteration 18, loss = 0.33996112\n",
      "Iteration 19, loss = 0.34131845\n",
      "Iteration 20, loss = 0.33450043\n",
      "Iteration 21, loss = 0.33438505\n",
      "Iteration 22, loss = 0.33340980\n",
      "Iteration 23, loss = 0.33391919\n",
      "Iteration 24, loss = 0.33179057\n",
      "Iteration 25, loss = 0.33026724\n",
      "Iteration 26, loss = 0.33086783\n",
      "Iteration 27, loss = 0.33128570\n",
      "Iteration 28, loss = 0.33003627\n",
      "Iteration 29, loss = 0.33006559\n",
      "Iteration 30, loss = 0.33159119\n",
      "Iteration 31, loss = 0.32701962\n",
      "Iteration 32, loss = 0.32976130\n",
      "Iteration 33, loss = 0.32947619\n",
      "Iteration 34, loss = 0.33080392\n",
      "Training loss did not improve more than tol=0.000100 for two consecutive epochs. Stopping.\n",
      "\n",
      " Model Description\n",
      " GridSearchCV(cv=10, error_score='raise',\n",
      "       estimator=MLPClassifier(activation='relu', alpha=0.0001, batch_size='auto', beta_1=0.9,\n",
      "       beta_2=0.999, early_stopping=False, epsilon=1e-08,\n",
      "       hidden_layer_sizes=(100,), learning_rate='constant',\n",
      "       learning_rate_init=0.001, max_iter=1000, momentum=0.9,\n",
      "       nesterovs_momentum=True, power_t=0.5, random_state=10, shuffle=True,\n",
      "       solver='adam', tol=0.0001, validation_fraction=0.1, verbose=True,\n",
      "       warm_start=True),\n",
      "       fit_params=None, iid=True, n_jobs=-1,\n",
      "       param_grid={'hidden_layer_sizes': [(2,), (3,), (4,)], 'alpha': [0.001, 0.003, 0.005], 'activation': ['tanh', 'relu'], 'solver': ['sgd', 'adam'], 'learning_rate': ['constant', 'adaptive'], 'learning_rate_init': [0.3, 0.5, 1.0]},\n",
      "       pre_dispatch='2*n_jobs', refit=True, return_train_score='warn',\n",
      "       scoring='accuracy', verbose=0)\n",
      "Train accuracy: 0.8494208494208494\n",
      "Test accuracy: 0.8288288288288288\n",
      "             precision    recall  f1-score   support\n",
      "\n",
      "          0       0.79      0.89      0.84      1609\n",
      "          1       0.87      0.77      0.82      1610\n",
      "\n",
      "avg / total       0.83      0.83      0.83      3219\n",
      "\n",
      "\n",
      " Best Score 0.8298495539874851\n",
      "\n",
      " Best Param\n",
      "{'activation': 'relu', 'alpha': 0.005, 'hidden_layer_sizes': (4,), 'learning_rate': 'constant', 'learning_rate_init': 0.5, 'solver': 'sgd'}\n"
     ]
    },
    {
     "data": {
      "image/png": "[encoded data removed]",
      "text/plain": [
       "<Figure size 432x288 with 2 Axes>"
      ]
     },
     "metadata": {},
     "output_type": "display_data"
    }
   ],
   "source": [
    "# Params with 6 params\n",
    "params_6 = {'hidden_layer_sizes': [(2,), (3,), (4,),], #HLS=3 from last GridSearch\n",
    "          'alpha': [0.001, 0.003, 0.005],# 0.001 from last GridSearch\n",
    "          'activation': ['tanh', 'relu'], #added t\n",
    "          'solver': ['sgd','adam'], # added\n",
    "          'learning_rate': ['constant','adaptive'],\n",
    "          'learning_rate_init':[0.3, 0.5,1.0]}\n",
    "GridSearch(model_nn,params_6)"
   ]
  },
  {
   "cell_type": "markdown",
   "metadata": {},
   "source": [
    "## Task 4.3 Feature selection (RFE,Log,Dt selection feature"
   ]
  },
  {
   "cell_type": "code",
   "execution_count": 42,
   "metadata": {},
   "outputs": [],
   "source": [
    "model_lr = LogisticRegression(random_state=rs, max_iter = 10000) # converge warning @100: max_iter set to 1000"
   ]
  },
  {
   "cell_type": "markdown",
   "metadata": {},
   "source": [
    "#### Running Regressor RFE "
   ]
  },
  {
   "cell_type": "code",
   "execution_count": 46,
   "metadata": {},
   "outputs": [
    {
     "name": "stdout",
     "output_type": "stream",
     "text": [
      "Train accuracy: 0.8239914791638929\n",
      "Test accuracy: 0.8219944082013048\n",
      "             precision    recall  f1-score   support\n",
      "\n",
      "          0       0.77      0.92      0.84      1609\n",
      "          1       0.90      0.72      0.80      1610\n",
      "\n",
      "avg / total       0.83      0.82      0.82      3219\n",
      "\n",
      "{'C': 0.1, 'penalty': 'l2', 'solver': 'newton-cg'}\n"
     ]
    },
    {
     "data": {
      "text/plain": [
       "Text(0.5,1,'Confusion Matrix')"
      ]
     },
     "execution_count": 46,
     "metadata": {},
     "output_type": "execute_result"
    },
    {
     "data": {
      "image/png": "[encoded data removed]",
      "text/plain": [
       "<Figure size 432x288 with 2 Axes>"
      ]
     },
     "metadata": {},
     "output_type": "display_data"
    }
   ],
   "source": [
    "# using RFE in GridSearchLogistic \n",
    "X_train_sel = rfe.transform(X_train)\n",
    "X_test_sel = rfe.transform(X_test)\n",
    "# grid search CV\n",
    "#params = {'C': [pow(10, x) for x in range(-6, 4)]}\n",
    "params = {'C': [pow(10, x) for x in range(-6, 4)],\n",
    "          'penalty':['l2'],\n",
    "          #'C':[0.8,1.2],\n",
    "          'solver':['newton-cg', 'lbfgs', 'sag', 'saga','liblinear']}\n",
    "           # 'solver':['liblinear']}\n",
    "cv = GridSearchCV(param_grid=params, estimator= model_lr, cv=10, n_jobs=-1)\n",
    "cv.fit(X_train_sel, y_train)\n",
    "\n",
    "# test the best model\n",
    "print(\"Train accuracy:\", cv.score(X_train_sel, y_train))\n",
    "print(\"Test accuracy:\", cv.score(X_test_sel, y_test))\n",
    "\n",
    "y_pred = cv.predict(X_test_sel)\n",
    "print(classification_report(y_test, y_pred))\n",
    "\n",
    "# print parameters of the best model\n",
    "print(cv.best_params_)\n",
    "\n",
    "#  Making the Confusion Matrix\n",
    "cm = confusion_matrix(y_test, y_pred)\n",
    "sns.heatmap(cm, center=True, annot=True, fmt=\"d\",).set_title(\"Confusion Matrix\")\n",
    "#Train accuracy: 0.8239914791638929\n",
    "#Test accuracy: 0.8219944082013048\n",
    "#            precision    recall  f1-score   support\n",
    "\n",
    "#          0       0.77      0.92      0.84      1609\n",
    "#          1       0.90      0.72      0.80      1610"
   ]
  },
  {
   "cell_type": "markdown",
   "metadata": {},
   "source": [
    "#### Running Regressor RFE + log transformation"
   ]
  },
  {
   "cell_type": "code",
   "execution_count": null,
   "metadata": {},
   "outputs": [],
   "source": [
    "#Visualise numeric columns\n",
    "def plot_skewed_columns(df):\n",
    "    # setting up subplots for easier visualisation\n",
    "    f, axes = plt.subplots(3,3, figsize=(12,12), sharex=False)\n",
    "\n",
    "    # acquisition price plots\n",
    "    sns.distplot(df['MMRAcquisitionAuctionAveragePrice'].dropna(), hist=False, ax=axes[0,0])\n",
    "    sns.distplot(df['MMRAcquisitionAuctionCleanPrice'].dropna(), hist=False, ax=axes[0,1])\n",
    "    sns.distplot(df['MMRAcquisitionRetailAveragePrice'].dropna(), hist=False, ax=axes[0,2])\n",
    "    sns.distplot(df['MMRAcquisitonRetailCleanPrice'].dropna(), hist=False, ax=axes[1,0])\n",
    "\n",
    "    # current price plots\n",
    "    sns.distplot(df['MMRCurrentAuctionAveragePrice'].dropna(), hist=False, ax=axes[1,1])\n",
    "    sns.distplot(df['MMRCurrentAuctionCleanPrice'].dropna(), hist=False, ax=axes[1,2])\n",
    "    sns.distplot(df['MMRCurrentRetailAveragePrice'].dropna(), hist=False, ax=axes[2,0])\n",
    "    sns.distplot(df['MMRCurrentRetailCleanPrice'].dropna(), hist=False, ax=axes[2,1])\n",
    "    sns.distplot(df['VehBCost'].dropna(), hist=False, ax=axes[2,2]) \n",
    "    \n",
    "plot_skewed_columns(df)"
   ]
  },
  {
   "cell_type": "code",
   "execution_count": null,
   "metadata": {},
   "outputs": [],
   "source": [
    "# Transform columns and visualise\n",
    "# list columns to be transformed\n",
    "columns_to_transform = ['MMRAcquisitionAuctionAveragePrice', 'MMRAcquisitionAuctionCleanPrice', 'MMRAcquisitionRetailAveragePrice', 'MMRAcquisitonRetailCleanPrice',\n",
    "                        'MMRCurrentAuctionAveragePrice', 'MMRCurrentAuctionCleanPrice', 'MMRCurrentRetailAveragePrice', 'MMRCurrentRetailCleanPrice','VehBCost']\n",
    "\n",
    "# copy the dataframe\n",
    "df_log = df.copy()\n",
    "\n",
    "# transform the columns with np.log\n",
    "for col in columns_to_transform:\n",
    "    df_log[col] = df_log[col].apply(lambda x: x+1)\n",
    "    df_log[col] = df_log[col].apply(np.log)\n",
    "    \n",
    "# plot them again to show the distribution\n",
    "plot_skewed_columns(df_log)\n",
    "    "
   ]
  },
  {
   "cell_type": "code",
   "execution_count": null,
   "metadata": {},
   "outputs": [],
   "source": [
    "# create X, y and train test data partitions\n",
    "y_log = df_log['IsBadBuy']\n",
    "X_log = df_log.drop(['IsBadBuy'], axis=1)\n",
    "X_mat_log = X_log.as_matrix()\n",
    "X_train_log, X_test_log, y_train_log, y_test_log = train_test_split(X_mat_log, y_log, test_size=0.3, stratify=y_log, \n",
    "                                                                    random_state=rs)\n",
    "\n",
    "# standardise them again\n",
    "scaler_log = StandardScaler()\n",
    "X_train_log = scaler_log.fit_transform(X_train_log, y_train_log)\n",
    "X_test_log = scaler_log.transform(X_test_log)"
   ]
  },
  {
   "cell_type": "code",
   "execution_count": 47,
   "metadata": {},
   "outputs": [
    {
     "name": "stdout",
     "output_type": "stream",
     "text": [
      "Original feature set 126\n",
      "Number of features after elimination 47\n"
     ]
    }
   ],
   "source": [
    "# running RFE + log transformation\n",
    "#rfe = RFECV(estimator = model_lr, cv=10)\n",
    "rfe.fit(X_train_log, y_train_log) # run the RFECV on log transformed dataset\n",
    "# comparing how many variables before and after\n",
    "print(\"Original feature set\", X_train_log.shape[1])\n",
    "print(\"Number of features after elimination\", rfe.n_features_)\n",
    "# Original feature set 126\n",
    "# Number of features after elimination 47"
   ]
  },
  {
   "cell_type": "code",
   "execution_count": 48,
   "metadata": {},
   "outputs": [
    {
     "name": "stdout",
     "output_type": "stream",
     "text": [
      "Train accuracy: 0.8230595127146851\n",
      "Test accuracy: 0.8229263746505125\n",
      "             precision    recall  f1-score   support\n",
      "\n",
      "          0       0.77      0.92      0.84      1609\n",
      "          1       0.90      0.73      0.80      1610\n",
      "\n",
      "avg / total       0.83      0.82      0.82      3219\n",
      "\n",
      "{'C': 1, 'penalty': 'l2', 'solver': 'newton-cg'}\n"
     ]
    },
    {
     "data": {
      "text/plain": [
       "Text(0.5,1,'Confusion Matrix')"
      ]
     },
     "execution_count": 48,
     "metadata": {},
     "output_type": "execute_result"
    },
    {
     "data": {
      "image/png": "[encoded data removed]",
      "text/plain": [
       "<Figure size 432x288 with 2 Axes>"
      ]
     },
     "metadata": {},
     "output_type": "display_data"
    }
   ],
   "source": [
    "# select features from log transformed dataset\n",
    "X_train_sel_log = rfe.transform(X_train_log)\n",
    "X_test_sel_log = rfe.transform(X_test_log)\n",
    "\n",
    "# init grid search CV on transformed dataset\n",
    "cv = GridSearchCV(param_grid=params, estimator= model_lr, cv=10, n_jobs=-1)\n",
    "cv.fit(X_train_sel_log, y_train_log)\n",
    "\n",
    "# test the best model\n",
    "print(\"Train accuracy:\", cv.score(X_train_sel_log, y_train_log))\n",
    "print(\"Test accuracy:\", cv.score(X_test_sel_log, y_test_log))\n",
    "\n",
    "y_pred_log = cv.predict(X_test_sel_log)\n",
    "print(classification_report(y_test_log, y_pred_log))\n",
    "\n",
    "# print parameters of the best model\n",
    "print(cv.best_params_)\n",
    "\n",
    "#  Making the Confusion Matrix\n",
    "cm = confusion_matrix(y_test_log, y_pred)\n",
    "sns.heatmap(cm, center=True, annot=True, fmt=\"d\",).set_title(\"Confusion Matrix Regression RFE + Log\")"
   ]
  },
  {
   "cell_type": "code",
   "execution_count": 54,
   "metadata": {},
   "outputs": [
    {
     "name": "stdout",
     "output_type": "stream",
     "text": [
      "Iteration 1, loss = 0.66521300\n",
      "Iteration 2, loss = 0.56895832\n",
      "Iteration 3, loss = 0.51091360\n",
      "Iteration 4, loss = 0.47544894\n",
      "Iteration 5, loss = 0.45200065\n",
      "Iteration 6, loss = 0.43557623\n",
      "Iteration 7, loss = 0.42334185\n",
      "Iteration 8, loss = 0.41366596\n",
      "Iteration 9, loss = 0.40639909\n",
      "Iteration 10, loss = 0.40085274\n",
      "Iteration 11, loss = 0.39644540\n",
      "Iteration 12, loss = 0.39282308\n",
      "Iteration 13, loss = 0.38977437\n",
      "Iteration 14, loss = 0.38678432\n",
      "Iteration 15, loss = 0.38434135\n",
      "Iteration 16, loss = 0.38208250\n",
      "Iteration 17, loss = 0.37996954\n",
      "Iteration 18, loss = 0.37798888\n",
      "Iteration 19, loss = 0.37632228\n",
      "Iteration 20, loss = 0.37468462\n",
      "Iteration 21, loss = 0.37298003\n",
      "Iteration 22, loss = 0.37176416\n",
      "Iteration 23, loss = 0.37041481\n",
      "Iteration 24, loss = 0.36930015\n",
      "Iteration 25, loss = 0.36792798\n",
      "Iteration 26, loss = 0.36651001\n",
      "Iteration 27, loss = 0.36556589\n",
      "Iteration 28, loss = 0.36399957\n",
      "Iteration 29, loss = 0.36290743\n",
      "Iteration 30, loss = 0.36171895\n",
      "Iteration 31, loss = 0.36079285\n",
      "Iteration 32, loss = 0.35974485\n",
      "Iteration 33, loss = 0.35913044\n",
      "Iteration 34, loss = 0.35831793\n",
      "Iteration 35, loss = 0.35724404\n",
      "Iteration 36, loss = 0.35653483\n",
      "Iteration 37, loss = 0.35621884\n",
      "Iteration 38, loss = 0.35553958\n",
      "Iteration 39, loss = 0.35488056\n",
      "Iteration 40, loss = 0.35440405\n",
      "Iteration 41, loss = 0.35350744\n",
      "Iteration 42, loss = 0.35313921\n",
      "Iteration 43, loss = 0.35271553\n",
      "Iteration 44, loss = 0.35203689\n",
      "Iteration 45, loss = 0.35160073\n",
      "Iteration 46, loss = 0.35102588\n",
      "Iteration 47, loss = 0.35050860\n",
      "Iteration 48, loss = 0.35024028\n",
      "Iteration 49, loss = 0.34983470\n",
      "Iteration 50, loss = 0.34924340\n",
      "Iteration 51, loss = 0.34872436\n",
      "Iteration 52, loss = 0.34823983\n",
      "Iteration 53, loss = 0.34805375\n",
      "Iteration 54, loss = 0.34734301\n",
      "Iteration 55, loss = 0.34693341\n",
      "Iteration 56, loss = 0.34659868\n",
      "Iteration 57, loss = 0.34634176\n",
      "Iteration 58, loss = 0.34571632\n",
      "Iteration 59, loss = 0.34557643\n",
      "Iteration 60, loss = 0.34514644\n",
      "Iteration 61, loss = 0.34458796\n",
      "Iteration 62, loss = 0.34450995\n",
      "Iteration 63, loss = 0.34408558\n",
      "Iteration 64, loss = 0.34400840\n",
      "Iteration 65, loss = 0.34365920\n",
      "Iteration 66, loss = 0.34329989\n",
      "Iteration 67, loss = 0.34330823\n",
      "Iteration 68, loss = 0.34285562\n",
      "Iteration 69, loss = 0.34291919\n",
      "Iteration 70, loss = 0.34280167\n",
      "Iteration 71, loss = 0.34245474\n",
      "Iteration 72, loss = 0.34220888\n",
      "Iteration 73, loss = 0.34207627\n",
      "Iteration 74, loss = 0.34152272\n",
      "Iteration 75, loss = 0.34140514\n",
      "Iteration 76, loss = 0.34157853\n",
      "Iteration 77, loss = 0.34122429\n",
      "Iteration 78, loss = 0.34062656\n",
      "Iteration 79, loss = 0.34066666\n",
      "Iteration 80, loss = 0.34045286\n",
      "Iteration 81, loss = 0.34031702\n",
      "Iteration 82, loss = 0.33980257\n",
      "Iteration 83, loss = 0.33965815\n",
      "Iteration 84, loss = 0.33968600\n",
      "Iteration 85, loss = 0.33953293\n",
      "Iteration 86, loss = 0.33924936\n",
      "Iteration 87, loss = 0.33901489\n",
      "Iteration 88, loss = 0.33904093\n",
      "Iteration 89, loss = 0.33888681\n",
      "Iteration 90, loss = 0.33851802\n",
      "Iteration 91, loss = 0.33860694\n",
      "Iteration 92, loss = 0.33826057\n",
      "Iteration 93, loss = 0.33824272\n",
      "Iteration 94, loss = 0.33805693\n",
      "Iteration 95, loss = 0.33781198\n",
      "Iteration 96, loss = 0.33778389\n",
      "Iteration 97, loss = 0.33753743\n",
      "Iteration 98, loss = 0.33753919\n",
      "Iteration 99, loss = 0.33754772\n",
      "Iteration 100, loss = 0.33720123\n",
      "Iteration 101, loss = 0.33705648\n",
      "Iteration 102, loss = 0.33709180\n",
      "Iteration 103, loss = 0.33693623\n",
      "Iteration 104, loss = 0.33671714\n",
      "Iteration 105, loss = 0.33691357\n",
      "Iteration 106, loss = 0.33630278\n",
      "Iteration 107, loss = 0.33669290\n",
      "Iteration 108, loss = 0.33657539\n",
      "Iteration 109, loss = 0.33619692\n",
      "Iteration 110, loss = 0.33656244\n",
      "Iteration 111, loss = 0.33630434\n",
      "Iteration 112, loss = 0.33597464\n",
      "Iteration 113, loss = 0.33591742\n",
      "Iteration 114, loss = 0.33579141\n",
      "Iteration 115, loss = 0.33595641\n",
      "Iteration 116, loss = 0.33591161\n",
      "Iteration 117, loss = 0.33567411\n",
      "Iteration 118, loss = 0.33583927\n",
      "Iteration 119, loss = 0.33541240\n",
      "Iteration 120, loss = 0.33521884\n",
      "Iteration 121, loss = 0.33530815\n",
      "Iteration 122, loss = 0.33529517\n",
      "Iteration 123, loss = 0.33542724\n",
      "Training loss did not improve more than tol=0.000100 for two consecutive epochs. Stopping.\n",
      "\n",
      " Model Description\n",
      " GridSearchCV(cv=10, error_score='raise',\n",
      "       estimator=MLPClassifier(activation='relu', alpha=0.0001, batch_size='auto', beta_1=0.9,\n",
      "       beta_2=0.999, early_stopping=False, epsilon=1e-08,\n",
      "       hidden_layer_sizes=(100,), learning_rate='constant',\n",
      "       learning_rate_init=0.001, max_iter=1000, momentum=0.9,\n",
      "       nesterovs_momentum=True, power_t=0.5, random_state=10, shuffle=True,\n",
      "       solver='adam', tol=0.0001, validation_fraction=0.1, verbose=True,\n",
      "       warm_start=True),\n",
      "       fit_params=None, iid=True, n_jobs=-1,\n",
      "       param_grid={'hidden_layer_sizes': [(3,), (5,), (7,), (9,)], 'alpha': [0.01, 0.001, 0.0001]},\n",
      "       pre_dispatch='2*n_jobs', refit=True, return_train_score='warn',\n",
      "       scoring='accuracy', verbose=0)\n",
      "Train accuracy: 0.8484888829716416\n",
      "Test accuracy: 0.8365952159055607\n",
      "\n",
      "              precision    recall  f1-score   support\n",
      "\n",
      "          0       0.79      0.92      0.85      1609\n",
      "          1       0.90      0.76      0.82      1610\n",
      "\n",
      "avg / total       0.85      0.84      0.84      3219\n",
      "\n",
      "\n",
      " Best Score 0.8373052855811477\n",
      "\n",
      " Best Param\n",
      "{'alpha': 0.01, 'hidden_layer_sizes': (7,)}\n"
     ]
    },
    {
     "data": {
      "text/plain": [
       "Text(0.5,1,'CM Neural Netwith Regression RFE')"
      ]
     },
     "execution_count": 54,
     "metadata": {},
     "output_type": "execute_result"
    },
    {
     "data": {
      "image/png": "[encoded data removed]",
      "text/plain": [
       "<Figure size 432x288 with 2 Axes>"
      ]
     },
     "metadata": {},
     "output_type": "display_data"
    }
   ],
   "source": [
    "# Network using best params from neural network Grid Search and 50 input features from Regression RFE\n",
    "model_nn_reg_RFE = GridSearchCV(param_grid= params_2, estimator=model_nn, scoring= 'accuracy',cv=10, n_jobs=-1)\n",
    "    \n",
    "# fit the model \n",
    "model_nn_reg_RFE.fit(X_train_sel, y_train)\n",
    "    \n",
    "# Print the model architecture\n",
    "print(\"\\n Model Description\\n\", model_nn_reg_RFE)\n",
    "    \n",
    "# Evaluation metrics\n",
    "print(\"Train accuracy:\", model_nn_reg_RFE.score(X_train_sel, y_train))\n",
    "print(\"Test accuracy:\", model_nn_reg_RFE.score(X_test_sel, y_test))\n",
    "    \n",
    "#Print Classification Report\n",
    "y_pred = model_nn_reg_RFE.predict(X_test_sel)\n",
    "print('\\n',classification_report(y_test, y_pred))\n",
    "\n",
    "print(\"\\n Best Score\", model_nn_reg_RFE.best_score_)\n",
    "    \n",
    "# Print the Best Params\n",
    "print(\"\\n Best Param\")\n",
    "print(model_nn_reg_RFE.best_params_)\n",
    "    \n",
    "#  Making the Confusion Matrix\n",
    "#  Making the Confusion Matrix\n",
    "cm = confusion_matrix(y_test_log, y_pred)\n",
    "sns.heatmap(cm, center=True, annot=True, fmt=\"d\",).set_title(\"CM Neural Netwith Regression RFE\")"
   ]
  },
  {
   "cell_type": "code",
   "execution_count": 79,
   "metadata": {},
   "outputs": [
    {
     "name": "stdout",
     "output_type": "stream",
     "text": [
      "Iteration 1, loss = 0.68681949\n",
      "Iteration 2, loss = 0.63252543\n",
      "Iteration 3, loss = 0.58880290\n",
      "Iteration 4, loss = 0.55231506\n",
      "Iteration 5, loss = 0.52259763\n",
      "Iteration 6, loss = 0.49843966\n",
      "Iteration 7, loss = 0.47938229\n",
      "Iteration 8, loss = 0.46418725\n",
      "Iteration 9, loss = 0.45209469\n",
      "Iteration 10, loss = 0.44232420\n",
      "Iteration 11, loss = 0.43436094\n",
      "Iteration 12, loss = 0.42778545\n",
      "Iteration 13, loss = 0.42227051\n",
      "Iteration 14, loss = 0.41757274\n",
      "Iteration 15, loss = 0.41365408\n",
      "Iteration 16, loss = 0.41010699\n",
      "Iteration 17, loss = 0.40668152\n",
      "Iteration 18, loss = 0.40346755\n",
      "Iteration 19, loss = 0.40047572\n",
      "Iteration 20, loss = 0.39777669\n",
      "Iteration 21, loss = 0.39541372\n",
      "Iteration 22, loss = 0.39320259\n",
      "Iteration 23, loss = 0.39115082\n",
      "Iteration 24, loss = 0.38887635\n",
      "Iteration 25, loss = 0.38716647\n",
      "Iteration 26, loss = 0.38546890\n",
      "Iteration 27, loss = 0.38365369\n",
      "Iteration 28, loss = 0.38225599\n",
      "Iteration 29, loss = 0.38086452\n",
      "Iteration 30, loss = 0.37938567\n",
      "Iteration 31, loss = 0.37799911\n",
      "Iteration 32, loss = 0.37686898\n",
      "Iteration 33, loss = 0.37580529\n",
      "Iteration 34, loss = 0.37471217\n",
      "Iteration 35, loss = 0.37363305\n",
      "Iteration 36, loss = 0.37275712\n",
      "Iteration 37, loss = 0.37166984\n",
      "Iteration 38, loss = 0.37075497\n",
      "Iteration 39, loss = 0.37024560\n",
      "Iteration 40, loss = 0.36926944\n",
      "Iteration 41, loss = 0.36868875\n",
      "Iteration 42, loss = 0.36782450\n",
      "Iteration 43, loss = 0.36712003\n",
      "Iteration 44, loss = 0.36657696\n",
      "Iteration 45, loss = 0.36603932\n",
      "Iteration 46, loss = 0.36533472\n",
      "Iteration 47, loss = 0.36464721\n",
      "Iteration 48, loss = 0.36422018\n",
      "Iteration 49, loss = 0.36388674\n",
      "Iteration 50, loss = 0.36323553\n",
      "Iteration 51, loss = 0.36265330\n",
      "Iteration 52, loss = 0.36230373\n",
      "Iteration 53, loss = 0.36193318\n",
      "Iteration 54, loss = 0.36160670\n",
      "Iteration 55, loss = 0.36121209\n",
      "Iteration 56, loss = 0.36073178\n",
      "Iteration 57, loss = 0.36033502\n",
      "Iteration 58, loss = 0.36019743\n",
      "Iteration 59, loss = 0.35984165\n",
      "Iteration 60, loss = 0.35938499\n",
      "Iteration 61, loss = 0.35904792\n",
      "Iteration 62, loss = 0.35897647\n",
      "Iteration 63, loss = 0.35892071\n",
      "Iteration 64, loss = 0.35827003\n",
      "Iteration 65, loss = 0.35800409\n",
      "Iteration 66, loss = 0.35776048\n",
      "Iteration 67, loss = 0.35749414\n",
      "Iteration 68, loss = 0.35712608\n",
      "Iteration 69, loss = 0.35696468\n",
      "Iteration 70, loss = 0.35666705\n",
      "Iteration 71, loss = 0.35632905\n",
      "Iteration 72, loss = 0.35617533\n",
      "Iteration 73, loss = 0.35593332\n",
      "Iteration 74, loss = 0.35564114\n",
      "Iteration 75, loss = 0.35559296\n",
      "Iteration 76, loss = 0.35530016\n",
      "Iteration 77, loss = 0.35502369\n",
      "Iteration 78, loss = 0.35485108\n",
      "Iteration 79, loss = 0.35453978\n",
      "Iteration 80, loss = 0.35440918\n",
      "Iteration 81, loss = 0.35435709\n",
      "Iteration 82, loss = 0.35404399\n",
      "Iteration 83, loss = 0.35396129\n",
      "Iteration 84, loss = 0.35354964\n",
      "Iteration 85, loss = 0.35339495\n",
      "Iteration 86, loss = 0.35320341\n",
      "Iteration 87, loss = 0.35287583\n",
      "Iteration 88, loss = 0.35279303\n",
      "Iteration 89, loss = 0.35276442\n",
      "Iteration 90, loss = 0.35234909\n",
      "Iteration 91, loss = 0.35221748\n",
      "Iteration 92, loss = 0.35209882\n",
      "Iteration 93, loss = 0.35188478\n",
      "Iteration 94, loss = 0.35153638\n",
      "Iteration 95, loss = 0.35155034\n",
      "Iteration 96, loss = 0.35135427\n",
      "Iteration 97, loss = 0.35110691\n",
      "Iteration 98, loss = 0.35106962\n",
      "Iteration 99, loss = 0.35098112\n",
      "Iteration 100, loss = 0.35083162\n",
      "Iteration 101, loss = 0.35064887\n",
      "Iteration 102, loss = 0.35049933\n",
      "Iteration 103, loss = 0.35037833\n",
      "Iteration 104, loss = 0.35051209\n",
      "Iteration 105, loss = 0.34996216\n",
      "Iteration 106, loss = 0.34972845\n",
      "Iteration 107, loss = 0.34971643\n",
      "Iteration 108, loss = 0.34948764\n",
      "Iteration 109, loss = 0.34942448\n",
      "Iteration 110, loss = 0.34965597\n",
      "Iteration 111, loss = 0.34896446\n",
      "Iteration 112, loss = 0.34892956\n",
      "Iteration 113, loss = 0.34883490\n",
      "Iteration 114, loss = 0.34858500\n",
      "Iteration 115, loss = 0.34860225\n",
      "Iteration 116, loss = 0.34848531\n",
      "Iteration 117, loss = 0.34838770\n",
      "Training loss did not improve more than tol=0.000100 for two consecutive epochs. Stopping.\n",
      "\n",
      " Model Description\n",
      " GridSearchCV(cv=10, error_score='raise',\n",
      "       estimator=MLPClassifier(activation='relu', alpha=0.0001, batch_size='auto', beta_1=0.9,\n",
      "       beta_2=0.999, early_stopping=False, epsilon=1e-08,\n",
      "       hidden_layer_sizes=(100,), learning_rate='constant',\n",
      "       learning_rate_init=0.001, max_iter=1000, momentum=0.9,\n",
      "       nesterovs_momentum=True, power_t=0.5, random_state=10, shuffle=True,\n",
      "       solver='adam', tol=0.0001, validation_fraction=0.1, verbose=True,\n",
      "       warm_start=True),\n",
      "       fit_params=None, iid=True, n_jobs=-1,\n",
      "       param_grid={'hidden_layer_sizes': [(3,), (5,), (7,), (9,)], 'alpha': [0.01, 0.001, 0.0001]},\n",
      "       pre_dispatch='2*n_jobs', refit=True, return_train_score='warn',\n",
      "       scoring='accuracy', verbose=0)\n",
      "Train accuracy: 0.8434296365330848\n",
      "Test accuracy: 0.8294501397949674\n",
      "\n",
      "              precision    recall  f1-score   support\n",
      "\n",
      "          0       0.77      0.92      0.84      1609\n",
      "          1       0.90      0.73      0.80      1610\n",
      "\n",
      "avg / total       0.83      0.82      0.82      3219\n",
      "\n",
      "\n",
      " Best Score 0.8373052855811477\n",
      "\n",
      " Best Param\n",
      "{'alpha': 0.01, 'hidden_layer_sizes': (7,)}\n"
     ]
    },
    {
     "data": {
      "text/plain": [
       "Text(0.5,1,'CM Neural Net model_nn_reg_RFELog')"
      ]
     },
     "execution_count": 79,
     "metadata": {},
     "output_type": "execute_result"
    },
    {
     "data": {
      "image/png": "[encoded data removed]",
      "text/plain": [
       "<Figure size 432x288 with 2 Axes>"
      ]
     },
     "metadata": {},
     "output_type": "display_data"
    }
   ],
   "source": [
    "# Network using best params from neural network Grid Search and 50 input features from Regression RFE + Log\n",
    "model_nn_reg_RFELog = GridSearchCV(param_grid= params_2, estimator=model_nn, scoring= 'accuracy',cv=10, n_jobs=-1)\n",
    "    \n",
    "# fit the model \n",
    "model_nn_reg_RFELog.fit(X_train_sel_log, y_train_log)\n",
    "    \n",
    "# Print the model architecture\n",
    "print(\"\\n Model Description\\n\", model_nn_reg_RFELog)\n",
    "    \n",
    "# Evaluation metrics\n",
    "print(\"Train accuracy:\", model_nn_reg_RFELog.score(X_train_sel_log, y_train_log))\n",
    "print(\"Test accuracy:\", model_nn_reg_RFELog.score(X_test_sel_log, y_test_log))\n",
    "    \n",
    "#Print Classification Report\n",
    "y_pred = model_nn_reg_RFELog.predict(X_test_sel_log)\n",
    "print('\\n',classification_report(y_test_log, y_pred_log))\n",
    "print(\"\\n Best Score\", model_nn_reg_RFE.best_score_)\n",
    "    \n",
    "# Print the Best Params\n",
    "print(\"\\n Best Param\")\n",
    "print(model_nn_reg_RFE.best_params_)\n",
    "    \n",
    "#  Making the Confusion Matrix\n",
    "#  Making the Confusion Matrix\n",
    "cm = confusion_matrix(y_test_log, y_pred)\n",
    "sns.heatmap(cm, center=True, annot=True, fmt=\"d\",).set_title(\"CM Neural Net model_nn_reg_RFELog\")"
   ]
  },
  {
   "cell_type": "markdown",
   "metadata": {},
   "source": [
    "#### Decision Tree feature selection"
   ]
  },
  {
   "cell_type": "code",
   "execution_count": 71,
   "metadata": {},
   "outputs": [
    {
     "data": {
      "text/plain": [
       "GridSearchCV(cv=10, error_score='raise',\n",
       "       estimator=DecisionTreeClassifier(class_weight=None, criterion='gini', max_depth=None,\n",
       "            max_features=None, max_leaf_nodes=None,\n",
       "            min_impurity_decrease=0.0, min_impurity_split=None,\n",
       "            min_samples_leaf=1, min_samples_split=2,\n",
       "            min_weight_fraction_leaf=0.0, presort=False, random_state=10,\n",
       "            splitter='best'),\n",
       "       fit_params=None, iid=True, n_jobs=1,\n",
       "       param_grid={'criterion': ['gini', 'entropy'], 'max_depth': range(3, 8), 'min_samples_leaf': range(20, 61, 10)},\n",
       "       pre_dispatch='2*n_jobs', refit=True, return_train_score='warn',\n",
       "       scoring=None, verbose=0)"
      ]
     },
     "execution_count": 71,
     "metadata": {},
     "output_type": "execute_result"
    }
   ],
   "source": [
    "params = {'criterion': ['gini', 'entropy'],\n",
    "          'max_depth': range(3, 8),\n",
    "          'min_samples_leaf': range(20, 61, 10)}\n",
    "\n",
    "cv = GridSearchCV(param_grid=params, estimator=DecisionTreeClassifier(random_state=rs), cv=10)\n",
    "cv.fit(X_train_log, y_train_log)\n",
    "#analyse_feature_importance(cv.best_estimator_, X_log.columns)\n"
   ]
  },
  {
   "cell_type": "code",
   "execution_count": 72,
   "metadata": {},
   "outputs": [
    {
     "name": "stdout",
     "output_type": "stream",
     "text": [
      "\n",
      "\n",
      "*********** Feature Importances ************\n",
      "\n",
      "Auction_ADESA                      :0.5176540074804418\n",
      "MMRCurrentAuctionAveragePrice      :0.13174921064149606\n",
      "VNST_OK                            :0.08327287541916883\n",
      "VNST_CO                            :0.046980374393189514\n",
      "VNST_AZ                            :0.041939879545988185\n",
      "VNST_PA                            :0.026387168478151042\n",
      "Auction_MANHEIM                    :0.024844892828453393\n",
      "VNST_MO                            :0.023951674346237097\n",
      "VehBCost                           :0.023357179241310644\n",
      "WheelType_Covers                   :0.021930342177082365\n",
      "VNST_CA                            :0.013959942257897904\n",
      "VNST_NC                            :0.01197805445920417\n",
      "MMRCurrentRetailRatio              :0.007710191209249742\n",
      "VNST_FL                            :0.0062271442202155745\n",
      "VNST_VA                            :0.004565215501667725\n",
      "VNST_TX                            :0.0042783638161687145\n",
      "MMRAcquisitionAuctionAveragePrice  :0.003778788018178759\n",
      "WarrantyCost                       :0.0030546043653619805\n",
      "MMRAcquisitionRetailAveragePrice   :0.0023800916005366915\n",
      "Make_MINI                          :0.0\n"
     ]
    }
   ],
   "source": [
    "#importances =cv.best_estimator_, X_log.columns)\n",
    "# grab feature importances from the model\n",
    "\n",
    "dm_model = cv.best_estimator_\n",
    "importances = dm_model.feature_importances_   \n",
    "# sort them out in descending order\n",
    "indices = np.argsort(importances)\n",
    "indices = np.flip(indices, axis=0)\n",
    "\n",
    "# limit to 20 features, you can leave this out to print out everything\n",
    "indices = indices[:20]\n",
    "\n",
    "print(\"\\n\\n*********** Feature Importances ************\\n\")   \n",
    "for i in indices:\n",
    "    print(f\"{X_log.columns[i]:<35}:{importances[i]}\")"
   ]
  },
  {
   "cell_type": "code",
   "execution_count": 73,
   "metadata": {},
   "outputs": [
    {
     "name": "stdout",
     "output_type": "stream",
     "text": [
      "(7511, 12)\n"
     ]
    }
   ],
   "source": [
    "from sklearn.feature_selection import SelectFromModel\n",
    "\n",
    "selectmodel = SelectFromModel(cv.best_estimator_, prefit=True)\n",
    "X_train_sel_model = selectmodel.transform(X_train)\n",
    "X_test_sel_model = selectmodel.transform(X_test)\n",
    "\n",
    "print(X_train_sel_model.shape)\\\n",
    "# (7511, 12)"
   ]
  },
  {
   "cell_type": "code",
   "execution_count": 75,
   "metadata": {},
   "outputs": [
    {
     "name": "stdout",
     "output_type": "stream",
     "text": [
      "Iteration 1, loss = 0.73648625\n",
      "Iteration 2, loss = 0.67080083\n",
      "Iteration 3, loss = 0.62447537\n",
      "Iteration 4, loss = 0.59012099\n",
      "Iteration 5, loss = 0.56288563\n",
      "Iteration 6, loss = 0.54086770\n",
      "Iteration 7, loss = 0.52285228\n",
      "Iteration 8, loss = 0.50804105\n",
      "Iteration 9, loss = 0.49612988\n",
      "Iteration 10, loss = 0.48607655\n",
      "Iteration 11, loss = 0.47765043\n",
      "Iteration 12, loss = 0.47042893\n",
      "Iteration 13, loss = 0.46419602\n",
      "Iteration 14, loss = 0.45875398\n",
      "Iteration 15, loss = 0.45413551\n",
      "Iteration 16, loss = 0.45010624\n",
      "Iteration 17, loss = 0.44669364\n",
      "Iteration 18, loss = 0.44368681\n",
      "Iteration 19, loss = 0.44119852\n",
      "Iteration 20, loss = 0.43904657\n",
      "Iteration 21, loss = 0.43715404\n",
      "Iteration 22, loss = 0.43552833\n",
      "Iteration 23, loss = 0.43404135\n",
      "Iteration 24, loss = 0.43237971\n",
      "Iteration 25, loss = 0.43076313\n",
      "Iteration 26, loss = 0.42925666\n",
      "Iteration 27, loss = 0.42773450\n",
      "Iteration 28, loss = 0.42655762\n",
      "Iteration 29, loss = 0.42552538\n",
      "Iteration 30, loss = 0.42467394\n",
      "Iteration 31, loss = 0.42378300\n",
      "Iteration 32, loss = 0.42309702\n",
      "Iteration 33, loss = 0.42234283\n",
      "Iteration 34, loss = 0.42167951\n",
      "Iteration 35, loss = 0.42111225\n",
      "Iteration 36, loss = 0.42042710\n",
      "Iteration 37, loss = 0.41998303\n",
      "Iteration 38, loss = 0.41943040\n",
      "Iteration 39, loss = 0.41901550\n",
      "Iteration 40, loss = 0.41857267\n",
      "Iteration 41, loss = 0.41831454\n",
      "Iteration 42, loss = 0.41769858\n",
      "Iteration 43, loss = 0.41746946\n",
      "Iteration 44, loss = 0.41696196\n",
      "Iteration 45, loss = 0.41670638\n",
      "Iteration 46, loss = 0.41642865\n",
      "Iteration 47, loss = 0.41613867\n",
      "Iteration 48, loss = 0.41589074\n",
      "Iteration 49, loss = 0.41597188\n",
      "Iteration 50, loss = 0.41552154\n",
      "Iteration 51, loss = 0.41523442\n",
      "Iteration 52, loss = 0.41503674\n",
      "Iteration 53, loss = 0.41485360\n",
      "Iteration 54, loss = 0.41464799\n",
      "Iteration 55, loss = 0.41434092\n",
      "Iteration 56, loss = 0.41444498\n",
      "Iteration 57, loss = 0.41409049\n",
      "Iteration 58, loss = 0.41399772\n",
      "Iteration 59, loss = 0.41375546\n",
      "Iteration 60, loss = 0.41375523\n",
      "Iteration 61, loss = 0.41369481\n",
      "Iteration 62, loss = 0.41329883\n",
      "Iteration 63, loss = 0.41319311\n",
      "Iteration 64, loss = 0.41328021\n",
      "Iteration 65, loss = 0.41300909\n",
      "Iteration 66, loss = 0.41283411\n",
      "Iteration 67, loss = 0.41275611\n",
      "Iteration 68, loss = 0.41251736\n",
      "Iteration 69, loss = 0.41250723\n",
      "Iteration 70, loss = 0.41250679\n",
      "Iteration 71, loss = 0.41229987\n",
      "Iteration 72, loss = 0.41231328\n",
      "Iteration 73, loss = 0.41205719\n",
      "Iteration 74, loss = 0.41203388\n",
      "Iteration 75, loss = 0.41210106\n",
      "Iteration 76, loss = 0.41192686\n",
      "Iteration 77, loss = 0.41179508\n",
      "Iteration 78, loss = 0.41177188\n",
      "Iteration 79, loss = 0.41169150\n",
      "Iteration 80, loss = 0.41164569\n",
      "Training loss did not improve more than tol=0.000100 for two consecutive epochs. Stopping.\n",
      "Train accuracy: 0.7961656237518306\n",
      "Test accuracy: 0.7881329605467536\n",
      "             precision    recall  f1-score   support\n",
      "\n",
      "          0       0.73      0.92      0.81      1609\n",
      "          1       0.89      0.65      0.76      1610\n",
      "\n",
      "avg / total       0.81      0.79      0.78      3219\n",
      "\n",
      "{'alpha': 0.0001, 'hidden_layer_sizes': (9,)}\n"
     ]
    },
    {
     "data": {
      "text/plain": [
       "Text(0.5,1,'CM Decision Tree feature selection ')"
      ]
     },
     "execution_count": 75,
     "metadata": {},
     "output_type": "execute_result"
    },
    {
     "data": {
      "image/png": "[encoded data removed]",
      "text/plain": [
       "<Figure size 432x288 with 2 Axes>"
      ]
     },
     "metadata": {},
     "output_type": "display_data"
    }
   ],
   "source": [
    "#params = {'hidden_layer_sizes': [(3,), (5,), (7,), (9,)], 'alpha': [0.01,0.001, 0.0001, 0.00001]}\n",
    "\n",
    "cv = GridSearchCV(param_grid=params_2, estimator=model_nn, cv=10, n_jobs=-1)\n",
    "cv.fit(X_train_sel_model, y_train)\n",
    "\n",
    "print(\"Train accuracy:\", cv.score(X_train_sel_model, y_train))\n",
    "print(\"Test accuracy:\", cv.score(X_test_sel_model, y_test))\n",
    "\n",
    "y_pred = cv.predict(X_test_sel_model)\n",
    "print(classification_report(y_test, y_pred))\n",
    "\n",
    "print(cv.best_params_)\n",
    "\n",
    "#  Making the Confusion Matrix\n",
    "cm = confusion_matrix(y_test, y_pred)\n",
    "sns.heatmap(cm, center=True, annot=True, fmt=\"d\",).set_title(\"CM Decision Tree feature selection \")"
   ]
  },
  {
   "cell_type": "code",
   "execution_count": null,
   "metadata": {},
   "outputs": [],
   "source": []
  },
  {
   "cell_type": "code",
   "execution_count": null,
   "metadata": {},
   "outputs": [],
   "source": []
  },
  {
   "cell_type": "code",
   "execution_count": null,
   "metadata": {},
   "outputs": [],
   "source": []
  },
  {
   "cell_type": "markdown",
   "metadata": {},
   "source": [
    "Task 5"
   ]
  },
  {
   "cell_type": "markdown",
   "metadata": {},
   "source": [
    "# Task 5 Comparing Models"
   ]
  },
  {
   "cell_type": "code",
   "execution_count": 2,
   "metadata": {},
   "outputs": [],
   "source": [
    "# To start here\n"
   ]
  },
  {
   "cell_type": "code",
   "execution_count": 5,
   "metadata": {},
   "outputs": [
    {
     "name": "stdout",
     "output_type": "stream",
     "text": [
      "DecisionTreeClassifier(class_weight=None, criterion='gini', max_depth=4,\n",
      "            max_features=None, max_leaf_nodes=None,\n",
      "            min_impurity_decrease=0.0, min_impurity_split=None,\n",
      "            min_samples_leaf=40, min_samples_split=2,\n",
      "            min_weight_fraction_leaf=0.0, presort=False, random_state=10,\n",
      "            splitter='best')\n",
      "LogisticRegression(C=1, class_weight=None, dual=False, fit_intercept=True,\n",
      "          intercept_scaling=1, max_iter=100, multi_class='ovr', n_jobs=1,\n",
      "          penalty='l2', random_state=10, solver='liblinear', tol=0.0001,\n",
      "          verbose=0, warm_start=False)\n",
      "MLPClassifier(activation='relu', alpha=0.001, batch_size='auto', beta_1=0.9,\n",
      "       beta_2=0.999, early_stopping=False, epsilon=1e-08,\n",
      "       hidden_layer_sizes=(3,), learning_rate='constant',\n",
      "       learning_rate_init=0.001, max_iter=500, momentum=0.9,\n",
      "       nesterovs_momentum=True, power_t=0.5, random_state=10, shuffle=True,\n",
      "       solver='adam', tol=0.0001, validation_fraction=0.1, verbose=False,\n",
      "       warm_start=False)\n"
     ]
    }
   ],
   "source": [
    "# grid search CV for decision tree\n",
    "params_dt = {'criterion': ['gini'],\n",
    "          'max_depth': range(2, 5),\n",
    "          'min_samples_leaf': range(40, 61, 5)}\n",
    "\n",
    "cv = GridSearchCV(param_grid=params_dt, estimator=DecisionTreeClassifier(random_state=rs), cv=10)\n",
    "cv.fit(X_train, y_train)\n",
    "\n",
    "dt_model = cv.best_estimator_\n",
    "print(dt_model)\n",
    "\n",
    "# grid search CV for logistic regression\n",
    "params_log_reg = {'C': [pow(10, x) for x in range(-6, 4)]}\n",
    "\n",
    "cv = GridSearchCV(param_grid=params_log_reg, estimator=LogisticRegression(random_state=rs), cv=10, n_jobs=-1)\n",
    "cv.fit(X_train, y_train)\n",
    "\n",
    "log_reg_model = cv.best_estimator_\n",
    "print(log_reg_model)\n",
    "\n",
    "# grid search CV for NN\n",
    "params_nn = {'hidden_layer_sizes': [(3,), (5,), (7,), (9,)], 'alpha': [0.01,0.001, 0.0001, 0.00001]}\n",
    "\n",
    "cv = GridSearchCV(param_grid=params_nn, estimator=MLPClassifier(max_iter=500, random_state=rs), cv=10, n_jobs=-1)\n",
    "cv.fit(X_train, y_train)\n",
    "\n",
    "nn_model = cv.best_estimator_\n",
    "print(nn_model)"
   ]
  },
  {
   "cell_type": "markdown",
   "metadata": {
    "collapsed": true
   },
   "source": [
    " ### Ensemble model"
   ]
  },
  {
   "cell_type": "code",
   "execution_count": 38,
   "metadata": {},
   "outputs": [],
   "source": [
    "# import the model\n",
    "from sklearn.ensemble import VotingClassifier\n",
    "from sklearn.metrics import roc_auc_score\n",
    "from sklearn.metrics import roc_curve"
   ]
  },
  {
   "cell_type": "code",
   "execution_count": 16,
   "metadata": {},
   "outputs": [],
   "source": [
    "# initialise the classifier with 3 different estimators\n",
    "voting = VotingClassifier(estimators=[('dt', dt_model), ('lr', log_reg_model), ('nn', nn_model)], voting='soft')"
   ]
  },
  {
   "cell_type": "code",
   "execution_count": null,
   "metadata": {},
   "outputs": [],
   "source": []
  },
  {
   "cell_type": "code",
   "execution_count": 17,
   "metadata": {},
   "outputs": [
    {
     "name": "stdout",
     "output_type": "stream",
     "text": [
      "Ensemble train accuracy: 0.8406337371854613\n",
      "Ensemble test accuracy: 0.8282075178626903\n"
     ]
    },
    {
     "name": "stderr",
     "output_type": "stream",
     "text": [
      "D:\\Programs\\conda\\lib\\site-packages\\sklearn\\preprocessing\\label.py:151: DeprecationWarning: The truth value of an empty array is ambiguous. Returning False, but in future this will result in an error. Use `array.size > 0` to check that an array is not empty.\n",
      "  if diff:\n",
      "D:\\Programs\\conda\\lib\\site-packages\\sklearn\\preprocessing\\label.py:151: DeprecationWarning: The truth value of an empty array is ambiguous. Returning False, but in future this will result in an error. Use `array.size > 0` to check that an array is not empty.\n",
      "  if diff:\n"
     ]
    }
   ],
   "source": [
    "# fit the voting classifier to training data\n",
    "voting.fit(X_train, y_train)\n",
    "\n",
    "# evaluate train and test accuracy\n",
    "print(\"Ensemble train accuracy:\", voting.score(X_train, y_train))\n",
    "print(\"Ensemble test accuracy:\", voting.score(X_test, y_test))\n",
    "\n",
    "# evaluate ROC auc score\n",
    "y_pred_proba_ensemble = voting.predict_proba(X_test)\n",
    "roc_index_ensemble = roc_auc_score(y_test, y_pred_proba_ensemble[:, 1])\n",
    "#print(\"ROC score of voting classifier:\", roc_index_ensemble)\n"
   ]
  },
  {
   "cell_type": "code",
   "execution_count": 19,
   "metadata": {},
   "outputs": [
    {
     "name": "stdout",
     "output_type": "stream",
     "text": [
      "ROC index on test for DT                 : 0.7814940416677926\n",
      "ROC index on test for logistic regression: 0.8819223390169426\n",
      "ROC index on test for NN                 : 0.8992518789881452\n",
      "ROC score of voting classifier           : 0.8976166671170319\n"
     ]
    }
   ],
   "source": [
    "# ROC\n",
    "y_pred_proba_dt = dt_model.predict_proba(X_test)\n",
    "y_pred_proba_log_reg = log_reg_model.predict_proba(X_test)\n",
    "y_pred_proba_nn = nn_model.predict_proba(X_test)\n",
    "\n",
    "roc_index_dt = roc_auc_score(y_test, y_pred_proba_dt[:, 1])\n",
    "roc_index_log_reg = roc_auc_score(y_test, y_pred_proba_log_reg[:, 1])\n",
    "roc_index_nn = roc_auc_score(y_test, y_pred_proba_nn[:, 1])\n",
    "\n",
    "print(\"ROC index on test for DT                 :\", roc_index_dt)\n",
    "print(\"ROC index on test for logistic regression:\", roc_index_log_reg)\n",
    "print(\"ROC index on test for NN                 :\", roc_index_nn)\n",
    "print(\"ROC score of voting classifier           :\", roc_index_ensemble)"
   ]
  },
  {
   "cell_type": "code",
   "execution_count": 44,
   "metadata": {},
   "outputs": [
    {
     "data": {
      "image/png": "[encoded data removed]",
      "text/plain": [
       "<Figure size 432x288 with 1 Axes>"
      ]
     },
     "metadata": {},
     "output_type": "display_data"
    }
   ],
   "source": [
    "import matplotlib.pyplot as plt\n",
    "\n",
    "fpr_dt, tpr_dt, thresholds_dt = roc_curve(y_test, y_pred_proba_dt[:,1])\n",
    "fpr_log_reg, tpr_log_reg, thresholds_log_reg = roc_curve(y_test, y_pred_proba_log_reg[:,1])\n",
    "fpr_nn, tpr_nn, thresholds_nn = roc_curve(y_test, y_pred_proba_nn[:,1])\n",
    "fpr_en, tpr_en, thresholds_en = roc_curve(y_test, y_pred_proba_ensemble[:,1])\n",
    "\n",
    "\n",
    "\n",
    "plt.plot(fpr_dt, tpr_dt, label='ROC Curve for DT {:.3f}'.format(roc_index_dt), color='red', lw=0.5)\n",
    "plt.plot(fpr_log_reg, tpr_log_reg, label='ROC Curve for Log reg {:.3f}'.format(roc_index_log_reg), color='green', lw=0.5)\n",
    "plt.plot(fpr_nn, tpr_nn, label='ROC Curve for NN {:.3f}'.format(roc_index_nn), color='darkorange', lw=0.5)\n",
    "plt.plot(fpr_en, tpr_en, thresholds_en, label='ROC Curve for Ensemble {:.3f}'.format(roc_index_ensemble), color='black', lw=0.5)\n",
    "\n",
    "# plt.plot(fpr[2], tpr[2], color='darkorange',\n",
    "#          lw=lw, label='ROC curve (area = %0.2f)' % roc_auc[2])\n",
    "plt.plot([0, 1], [0, 1], color='navy', lw=0.5, linestyle='--')\n",
    "plt.xlim([0.0, 1.0])\n",
    "plt.ylim([0.0, 1.0])\n",
    "plt.xlabel('False Positive Rate')\n",
    "plt.ylabel('True Positive Rate')\n",
    "plt.title('Receiver operating characteristic example')\n",
    "plt.legend(loc=\"lower right\")\n",
    "plt.show()"
   ]
  },
  {
   "cell_type": "code",
   "execution_count": 20,
   "metadata": {},
   "outputs": [
    {
     "name": "stdout",
     "output_type": "stream",
     "text": [
      "Accuracy score on test for DT                 : 0.7489903696800249\n",
      "Accuracy score on test for logistic regression: 0.8232370301335818\n",
      "Accuracy score on test for NN                 : 0.8365952159055607\n",
      "Accuracy score on test for Ensemble           : 0.8282075178626903\n"
     ]
    },
    {
     "name": "stderr",
     "output_type": "stream",
     "text": [
      "D:\\Programs\\conda\\lib\\site-packages\\sklearn\\preprocessing\\label.py:151: DeprecationWarning: The truth value of an empty array is ambiguous. Returning False, but in future this will result in an error. Use `array.size > 0` to check that an array is not empty.\n",
      "  if diff:\n"
     ]
    }
   ],
   "source": [
    "# Test Accuracy\n",
    "y_pred_dt = dt_model.predict(X_test)\n",
    "y_pred_log_reg = log_reg_model.predict(X_test)\n",
    "y_pred_nn = nn_model.predict(X_test)\n",
    "\n",
    "print(\"Accuracy score on test for DT                 :\", accuracy_score(y_test, y_pred_dt))\n",
    "print(\"Accuracy score on test for logistic regression:\", accuracy_score(y_test, y_pred_log_reg))\n",
    "print(\"Accuracy score on test for NN                 :\", accuracy_score(y_test, y_pred_nn))\n",
    "print(\"Accuracy score on test for Ensemble           :\", voting.score(X_test, y_test))"
   ]
  },
  {
   "cell_type": "code",
   "execution_count": 33,
   "metadata": {},
   "outputs": [
    {
     "name": "stdout",
     "output_type": "stream",
     "text": [
      "Classification report on Decision Tree \n",
      "\n",
      "              precision    recall  f1-score   support\n",
      "\n",
      "          0       0.71      0.84      0.77      1609\n",
      "          1       0.80      0.66      0.73      1610\n",
      "\n",
      "avg / total       0.76      0.75      0.75      3219\n",
      "\n",
      "\n",
      "Classification report on Logistic Regression \n",
      "\n",
      "              precision    recall  f1-score   support\n",
      "\n",
      "          0       0.77      0.92      0.84      1609\n",
      "          1       0.90      0.73      0.80      1610\n",
      "\n",
      "avg / total       0.84      0.82      0.82      3219\n",
      "\n",
      "C\n",
      "lassification report on Neura Network \n",
      "\n",
      "              precision    recall  f1-score   support\n",
      "\n",
      "          0       0.79      0.92      0.85      1609\n",
      "          1       0.91      0.75      0.82      1610\n",
      "\n",
      "avg / total       0.85      0.84      0.84      3219\n",
      "\n"
     ]
    }
   ],
   "source": [
    "cr_dt = classification_report(y_test, y_pred_dt)\n",
    "cr_lr = classification_report(y_test, y_pred_log_reg)\n",
    "cr_nn = classification_report(y_test, y_pred_nn)\n",
    "#cr_en = classification_report(y_test, y_pred_proba_ensemble)\n",
    "\n",
    "print('Classification report on Decision Tree \\n\\n', cr_dt)\n",
    "print('\\nClassification report on Logistic Regression \\n\\n', cr_lr)\n",
    "print('C\\nlassification report on Neura Network \\n\\n', cr_nn)"
   ]
  },
  {
   "cell_type": "code",
   "execution_count": 34,
   "metadata": {},
   "outputs": [
    {
     "ename": "ValueError",
     "evalue": "Mix type of y not allowed, got types {'continuous-multioutput', 'binary'}",
     "output_type": "error",
     "traceback": [
      "\u001b[1;31m---------------------------------------------------------------------------\u001b[0m",
      "\u001b[1;31mValueError\u001b[0m                                Traceback (most recent call last)",
      "\u001b[1;32m<ipython-input-34-e8f3b99e6b36>\u001b[0m in \u001b[0;36m<module>\u001b[1;34m()\u001b[0m\n\u001b[1;32m----> 1\u001b[1;33m \u001b[0mcr_en\u001b[0m \u001b[1;33m=\u001b[0m \u001b[0mclassification_report\u001b[0m\u001b[1;33m(\u001b[0m\u001b[0my_test\u001b[0m\u001b[1;33m,\u001b[0m \u001b[0my_pred_proba_ensemble\u001b[0m\u001b[1;33m)\u001b[0m\u001b[1;33m\u001b[0m\u001b[0m\n\u001b[0m",
      "\u001b[1;32mD:\\Programs\\conda\\lib\\site-packages\\sklearn\\metrics\\classification.py\u001b[0m in \u001b[0;36mclassification_report\u001b[1;34m(y_true, y_pred, labels, target_names, sample_weight, digits)\u001b[0m\n\u001b[0;32m   1419\u001b[0m \u001b[1;33m\u001b[0m\u001b[0m\n\u001b[0;32m   1420\u001b[0m     \u001b[1;32mif\u001b[0m \u001b[0mlabels\u001b[0m \u001b[1;32mis\u001b[0m \u001b[1;32mNone\u001b[0m\u001b[1;33m:\u001b[0m\u001b[1;33m\u001b[0m\u001b[0m\n\u001b[1;32m-> 1421\u001b[1;33m         \u001b[0mlabels\u001b[0m \u001b[1;33m=\u001b[0m \u001b[0munique_labels\u001b[0m\u001b[1;33m(\u001b[0m\u001b[0my_true\u001b[0m\u001b[1;33m,\u001b[0m \u001b[0my_pred\u001b[0m\u001b[1;33m)\u001b[0m\u001b[1;33m\u001b[0m\u001b[0m\n\u001b[0m\u001b[0;32m   1422\u001b[0m     \u001b[1;32melse\u001b[0m\u001b[1;33m:\u001b[0m\u001b[1;33m\u001b[0m\u001b[0m\n\u001b[0;32m   1423\u001b[0m         \u001b[0mlabels\u001b[0m \u001b[1;33m=\u001b[0m \u001b[0mnp\u001b[0m\u001b[1;33m.\u001b[0m\u001b[0masarray\u001b[0m\u001b[1;33m(\u001b[0m\u001b[0mlabels\u001b[0m\u001b[1;33m)\u001b[0m\u001b[1;33m\u001b[0m\u001b[0m\n",
      "\u001b[1;32mD:\\Programs\\conda\\lib\\site-packages\\sklearn\\utils\\multiclass.py\u001b[0m in \u001b[0;36munique_labels\u001b[1;34m(*ys)\u001b[0m\n\u001b[0;32m     81\u001b[0m \u001b[1;33m\u001b[0m\u001b[0m\n\u001b[0;32m     82\u001b[0m     \u001b[1;32mif\u001b[0m \u001b[0mlen\u001b[0m\u001b[1;33m(\u001b[0m\u001b[0mys_types\u001b[0m\u001b[1;33m)\u001b[0m \u001b[1;33m>\u001b[0m \u001b[1;36m1\u001b[0m\u001b[1;33m:\u001b[0m\u001b[1;33m\u001b[0m\u001b[0m\n\u001b[1;32m---> 83\u001b[1;33m         \u001b[1;32mraise\u001b[0m \u001b[0mValueError\u001b[0m\u001b[1;33m(\u001b[0m\u001b[1;34m\"Mix type of y not allowed, got types %s\"\u001b[0m \u001b[1;33m%\u001b[0m \u001b[0mys_types\u001b[0m\u001b[1;33m)\u001b[0m\u001b[1;33m\u001b[0m\u001b[0m\n\u001b[0m\u001b[0;32m     84\u001b[0m \u001b[1;33m\u001b[0m\u001b[0m\n\u001b[0;32m     85\u001b[0m     \u001b[0mlabel_type\u001b[0m \u001b[1;33m=\u001b[0m \u001b[0mys_types\u001b[0m\u001b[1;33m.\u001b[0m\u001b[0mpop\u001b[0m\u001b[1;33m(\u001b[0m\u001b[1;33m)\u001b[0m\u001b[1;33m\u001b[0m\u001b[0m\n",
      "\u001b[1;31mValueError\u001b[0m: Mix type of y not allowed, got types {'continuous-multioutput', 'binary'}"
     ]
    }
   ],
   "source": [
    "cr_en = classification_report(y_test, y_pred_proba_ensemble)"
   ]
  },
  {
   "cell_type": "code",
   "execution_count": 35,
   "metadata": {},
   "outputs": [
    {
     "data": {
      "text/plain": [
       "array([[8.91847954e-01, 1.08152046e-01],\n",
       "       [7.94477634e-01, 2.05522366e-01],\n",
       "       [8.20521228e-01, 1.79478772e-01],\n",
       "       ...,\n",
       "       [7.34291362e-01, 2.65708638e-01],\n",
       "       [7.35651798e-01, 2.64348202e-01],\n",
       "       [3.01855574e-05, 9.99969814e-01]])"
      ]
     },
     "execution_count": 35,
     "metadata": {},
     "output_type": "execute_result"
    }
   ],
   "source": [
    "y_pred_proba_ensemble"
   ]
  },
  {
   "cell_type": "code",
   "execution_count": null,
   "metadata": {},
   "outputs": [],
   "source": []
  }
 ],
 "metadata": {
  "celltoolbar": "Attachments",
  "kernelspec": {
   "display_name": "Python 3",
   "language": "python",
   "name": "python3"
  },
  "language_info": {
   "codemirror_mode": {
    "name": "ipython",
    "version": 3
   },
   "file_extension": ".py",
   "mimetype": "text/x-python",
   "name": "python",
   "nbconvert_exporter": "python",
   "pygments_lexer": "ipython3",
   "version": "3.6.5"
  }
 },
 "nbformat": 4,
 "nbformat_minor": 2
}
