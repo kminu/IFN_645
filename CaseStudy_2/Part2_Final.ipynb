{
 "cells": [
  {
   "cell_type": "code",
   "execution_count": 1,
   "metadata": {},
   "outputs": [],
   "source": [
    "'''\n",
    "Online retail sales data from 01/12/2010 and 09/12/2011 is analysed to find assication between items\n",
    "For this, association mining is applied to detect association between items. \n",
    "'''\n",
    "\n",
    "#load library\n",
    "import pandas as pd"
   ]
  },
  {
   "cell_type": "code",
   "execution_count": 2,
   "metadata": {},
   "outputs": [
    {
     "name": "stderr",
     "output_type": "stream",
     "text": [
      "C:\\Users\\kmw41\\Anaconda3\\lib\\site-packages\\IPython\\core\\interactiveshell.py:2785: DtypeWarning: Columns (0) have mixed types. Specify dtype option on import or set low_memory=False.\n",
      "  interactivity=interactivity, compiler=compiler, result=result)\n"
     ]
    }
   ],
   "source": [
    "#load the dataset\n",
    "#Due to the error \"utf-8 codec can't decode byte 0xa3 in position 28: invalid start byte\"\n",
    "#encoding = 'unicode_escape' is applied\n",
    "df = pd.read_csv('datasets/online retail.csv',header=0,encoding = 'unicode_escape')"
   ]
  },
  {
   "cell_type": "code",
   "execution_count": 3,
   "metadata": {},
   "outputs": [
    {
     "name": "stdout",
     "output_type": "stream",
     "text": [
      "<class 'pandas.core.frame.DataFrame'>\n",
      "RangeIndex: 532619 entries, 0 to 532618\n",
      "Data columns (total 8 columns):\n",
      "InvoiceNo      532619 non-null object\n",
      "StockCode      532619 non-null object\n",
      "Description    531165 non-null object\n",
      "Quantity       532619 non-null int64\n",
      "InvoiceDate    532619 non-null object\n",
      "UnitPrice      532619 non-null float64\n",
      "CustomerID     397924 non-null float64\n",
      "Country        532619 non-null object\n",
      "dtypes: float64(2), int64(1), object(5)\n",
      "memory usage: 32.5+ MB\n"
     ]
    }
   ],
   "source": [
    "df.info()"
   ]
  },
  {
   "cell_type": "code",
   "execution_count": 4,
   "metadata": {},
   "outputs": [
    {
     "data": {
      "text/html": [
       "<div>\n",
       "<style scoped>\n",
       "    .dataframe tbody tr th:only-of-type {\n",
       "        vertical-align: middle;\n",
       "    }\n",
       "\n",
       "    .dataframe tbody tr th {\n",
       "        vertical-align: top;\n",
       "    }\n",
       "\n",
       "    .dataframe thead th {\n",
       "        text-align: right;\n",
       "    }\n",
       "</style>\n",
       "<table border=\"1\" class=\"dataframe\">\n",
       "  <thead>\n",
       "    <tr style=\"text-align: right;\">\n",
       "      <th></th>\n",
       "      <th>InvoiceNo</th>\n",
       "      <th>StockCode</th>\n",
       "      <th>Description</th>\n",
       "      <th>Quantity</th>\n",
       "      <th>InvoiceDate</th>\n",
       "      <th>UnitPrice</th>\n",
       "      <th>CustomerID</th>\n",
       "      <th>Country</th>\n",
       "    </tr>\n",
       "  </thead>\n",
       "  <tbody>\n",
       "    <tr>\n",
       "      <th>0</th>\n",
       "      <td>536365</td>\n",
       "      <td>85123A</td>\n",
       "      <td>WHITE HANGING HEART T-LIGHT HOLDER</td>\n",
       "      <td>6</td>\n",
       "      <td>1/12/2010 8:26</td>\n",
       "      <td>2.55</td>\n",
       "      <td>17850.0</td>\n",
       "      <td>United Kingdom</td>\n",
       "    </tr>\n",
       "    <tr>\n",
       "      <th>1</th>\n",
       "      <td>536365</td>\n",
       "      <td>71053</td>\n",
       "      <td>WHITE METAL LANTERN</td>\n",
       "      <td>6</td>\n",
       "      <td>1/12/2010 8:26</td>\n",
       "      <td>3.39</td>\n",
       "      <td>17850.0</td>\n",
       "      <td>United Kingdom</td>\n",
       "    </tr>\n",
       "    <tr>\n",
       "      <th>2</th>\n",
       "      <td>536365</td>\n",
       "      <td>84406B</td>\n",
       "      <td>CREAM CUPID HEARTS COAT HANGER</td>\n",
       "      <td>8</td>\n",
       "      <td>1/12/2010 8:26</td>\n",
       "      <td>2.75</td>\n",
       "      <td>17850.0</td>\n",
       "      <td>United Kingdom</td>\n",
       "    </tr>\n",
       "    <tr>\n",
       "      <th>3</th>\n",
       "      <td>536365</td>\n",
       "      <td>84029G</td>\n",
       "      <td>KNITTED UNION FLAG HOT WATER BOTTLE</td>\n",
       "      <td>6</td>\n",
       "      <td>1/12/2010 8:26</td>\n",
       "      <td>3.39</td>\n",
       "      <td>17850.0</td>\n",
       "      <td>United Kingdom</td>\n",
       "    </tr>\n",
       "    <tr>\n",
       "      <th>4</th>\n",
       "      <td>536365</td>\n",
       "      <td>84029E</td>\n",
       "      <td>RED WOOLLY HOTTIE WHITE HEART.</td>\n",
       "      <td>6</td>\n",
       "      <td>1/12/2010 8:26</td>\n",
       "      <td>3.39</td>\n",
       "      <td>17850.0</td>\n",
       "      <td>United Kingdom</td>\n",
       "    </tr>\n",
       "  </tbody>\n",
       "</table>\n",
       "</div>"
      ],
      "text/plain": [
       "  InvoiceNo StockCode                          Description  Quantity  \\\n",
       "0    536365    85123A   WHITE HANGING HEART T-LIGHT HOLDER         6   \n",
       "1    536365     71053                  WHITE METAL LANTERN         6   \n",
       "2    536365    84406B       CREAM CUPID HEARTS COAT HANGER         8   \n",
       "3    536365    84029G  KNITTED UNION FLAG HOT WATER BOTTLE         6   \n",
       "4    536365    84029E       RED WOOLLY HOTTIE WHITE HEART.         6   \n",
       "\n",
       "      InvoiceDate  UnitPrice  CustomerID         Country  \n",
       "0  1/12/2010 8:26       2.55     17850.0  United Kingdom  \n",
       "1  1/12/2010 8:26       3.39     17850.0  United Kingdom  \n",
       "2  1/12/2010 8:26       2.75     17850.0  United Kingdom  \n",
       "3  1/12/2010 8:26       3.39     17850.0  United Kingdom  \n",
       "4  1/12/2010 8:26       3.39     17850.0  United Kingdom  "
      ]
     },
     "execution_count": 4,
     "metadata": {},
     "output_type": "execute_result"
    }
   ],
   "source": [
    "df.head()"
   ]
  },
  {
   "cell_type": "code",
   "execution_count": 5,
   "metadata": {},
   "outputs": [],
   "source": [
    "'''\n",
    "Data preprocessing \n",
    "### do in need to remove space?###\n",
    "'''\n",
    "#remove negative values in quantiy column as it is not necessaory in terms of analysis of association.\n",
    "df.drop(df[df.Quantity < 0].index, inplace=True)\n",
    "    \n",
    "# remove inappropriate values in stockcode column\n",
    "df.drop(df[df.StockCode == 'DCGS0073'].index, inplace=True) # written as ebay\n",
    "df.drop(df[df.StockCode == 'DCGS0069'].index, inplace=True) # written as ebay\n",
    "df.drop(df[df.StockCode == 'DCGS0068'].index, inplace=True) # written as ebay\n",
    "df.drop(df[df.StockCode == 'DCGS0067'].index, inplace=True) # written as ebay\n",
    "df.drop(df[df.StockCode == 'DCGS0003'].index, inplace=True) # written as ebay\n",
    "df.drop(df[df.StockCode == 'B'].index, inplace=True)\n",
    "df.drop(df[df.StockCode == 'AMAZONEFEE'].index, inplace=True)\n",
    "df.drop(df[df.StockCode == 'BANK CHARGES'].index, inplace=True)\n",
    "df.drop(df[df.StockCode == 'C2'].index, inplace=True)\n",
    "df.drop(df[df.StockCode == 'DOT'].index, inplace=True)\n",
    "df.drop(df[df.StockCode == 'M'].index, inplace=True)\n",
    "df.drop(df[df.StockCode == 'PADS'].index, inplace=True)\n",
    "df.drop(df[df.StockCode == 'POST'].index, inplace=True)\n",
    "df.drop(df[df.StockCode == 'S'].index, inplace=True)\n",
    "\n",
    "#gift is a gift voucher so that it may be better not to remove it\n",
    "#df.drop(df[df.StockCode == 'gift_0001_10'].index, inplace=True)\n",
    "#df.drop(df[df.StockCode == 'gift_0001_20'].index, inplace=True)\n",
    "#df.drop(df[df.StockCode == 'gift_0001_30'].index, inplace=True)\n",
    "#df.drop(df[df.StockCode == 'gift_0001_40'].index, inplace=True)\n",
    "#df.drop(df[df.StockCode == 'gift_0001_50'].index, inplace=True)\n"
   ]
  },
  {
   "cell_type": "code",
   "execution_count": 6,
   "metadata": {},
   "outputs": [
    {
     "name": "stdout",
     "output_type": "stream",
     "text": [
      "<class 'pandas.core.frame.DataFrame'>\n",
      "Int64Index: 528950 entries, 0 to 532618\n",
      "Data columns (total 8 columns):\n",
      "InvoiceNo      528950 non-null object\n",
      "StockCode      528950 non-null object\n",
      "Description    528364 non-null object\n",
      "Quantity       528950 non-null int64\n",
      "InvoiceDate    528950 non-null object\n",
      "UnitPrice      528950 non-null float64\n",
      "CustomerID     396370 non-null float64\n",
      "Country        528950 non-null object\n",
      "dtypes: float64(2), int64(1), object(5)\n",
      "memory usage: 36.3+ MB\n"
     ]
    }
   ],
   "source": [
    "df.info()"
   ]
  },
  {
   "cell_type": "code",
   "execution_count": 7,
   "metadata": {},
   "outputs": [],
   "source": [
    "#drop nan value in description\n",
    "#MissingData = df.isnull().sum()\n",
    "#print(MissingData.sort_values(ascending = False))\n",
    "df = df.dropna(subset = ['Description'])"
   ]
  },
  {
   "cell_type": "code",
   "execution_count": 130,
   "metadata": {},
   "outputs": [],
   "source": [
    "#print(df['Description'].unique())\n",
    "#print(df['Description'].value_counts())"
   ]
  },
  {
   "cell_type": "code",
   "execution_count": 131,
   "metadata": {},
   "outputs": [
    {
     "name": "stdout",
     "output_type": "stream",
     "text": [
      "InvoiceNo\n",
      "536365    [WHITE HANGING HEART T-LIGHT HOLDER, WHITE MET...\n",
      "536366    [HAND WARMER UNION JACK, HAND WARMER RED POLKA...\n",
      "536367    [ASSORTED COLOUR BIRD ORNAMENT, POPPY'S PLAYHO...\n",
      "536368    [JAM MAKING SET WITH JARS, RED COAT RACK PARIS...\n",
      "536369                           [BATH BUILDING BLOCK WORD]\n",
      "Name: Description, dtype: object\n"
     ]
    }
   ],
   "source": [
    "# grouping dataset based on InoviceNo and Description\n",
    "transactions = df.groupby(['InvoiceNo'])['Description'].apply(list)\n",
    "print(transactions.head(5))"
   ]
  },
  {
   "cell_type": "code",
   "execution_count": 132,
   "metadata": {},
   "outputs": [],
   "source": [
    "def convert_apriori_results_to_pandas_df(results):\n",
    "    rules = []\n",
    "    \n",
    "    for rule_set in results:\n",
    "        for rule in rule_set.ordered_statistics:\n",
    "            # items_base = left side of rules, items_add = right side\n",
    "            # support, confidence and lift for respective rules\n",
    "            rules.append([','.join(rule.items_base), ','.join(rule.items_add),\n",
    "                         rule_set.support, rule.confidence, rule.lift]) \n",
    "    \n",
    "    # typecast it to pandas df\n",
    "    return pd.DataFrame(rules, columns=['Left_side', 'Right_side', 'Support', 'Confidence', 'Lift']) "
   ]
  },
  {
   "cell_type": "code",
   "execution_count": 133,
   "metadata": {},
   "outputs": [
    {
     "name": "stdout",
     "output_type": "stream",
     "text": [
      "[RelationRecord(items=frozenset({'JAM MAKING SET PRINTED', '6 RIBBONS RUSTIC CHARM'}), support=0.01182483214750977, ordered_statistics=[OrderedStatistic(items_base=frozenset({'6 RIBBONS RUSTIC CHARM'}), items_add=frozenset({'JAM MAKING SET PRINTED'}), confidence=0.24712041884816752, lift=4.2444314280307465), OrderedStatistic(items_base=frozenset({'JAM MAKING SET PRINTED'}), items_add=frozenset({'6 RIBBONS RUSTIC CHARM'}), confidence=0.20309810671256454, lift=4.2444314280307465)]), RelationRecord(items=frozenset({'6 RIBBONS RUSTIC CHARM', 'JAM MAKING SET WITH JARS'}), support=0.010371780739553062, ordered_statistics=[OrderedStatistic(items_base=frozenset({'6 RIBBONS RUSTIC CHARM'}), items_add=frozenset({'JAM MAKING SET WITH JARS'}), confidence=0.21675392670157068, lift=3.8181596373432902)]), RelationRecord(items=frozenset({'6 RIBBONS RUSTIC CHARM', 'NATURAL SLATE HEART CHALKBOARD '}), support=0.009920833750876842, ordered_statistics=[OrderedStatistic(items_base=frozenset({'6 RIBBONS RUSTIC CHARM'}), items_add=frozenset({'NATURAL SLATE HEART CHALKBOARD '}), confidence=0.20732984293193718, lift=3.31296157344724)]), RelationRecord(items=frozenset({'6 RIBBONS RUSTIC CHARM', 'PACK OF 72 RETROSPOT CAKE CASES'}), support=0.01192504258943782, ordered_statistics=[OrderedStatistic(items_base=frozenset({'6 RIBBONS RUSTIC CHARM'}), items_add=frozenset({'PACK OF 72 RETROSPOT CAKE CASES'}), confidence=0.24921465968586387, lift=3.7680501348564177)]), RelationRecord(items=frozenset({'6 RIBBONS RUSTIC CHARM', 'RECIPE BOX PANTRY YELLOW DESIGN'}), support=0.010522096402445134, ordered_statistics=[OrderedStatistic(items_base=frozenset({'6 RIBBONS RUSTIC CHARM'}), items_add=frozenset({'RECIPE BOX PANTRY YELLOW DESIGN'}), confidence=0.21989528795811517, lift=3.928979549747594)])]\n"
     ]
    }
   ],
   "source": [
    "from apyori import apriori\n",
    "\n",
    "# type cast the transactions from pandas into normal list format and run apriori\n",
    "transaction_list = list(transactions)\n",
    "results = list(apriori(transaction_list, min_support=0.009, min_confidence = 0.2, min_lift = 3, min_length = 2, max_length = 2))\n",
    "#results = list(apriori(transaction_list, min_support=0.009, min_confidence = 0.2, min_lift = 3, min_length = 1, max_length = 5))\n",
    "\n",
    "\n",
    "# print first 5 rules\n",
    "print(results[:5])"
   ]
  },
  {
   "cell_type": "code",
   "execution_count": 134,
   "metadata": {},
   "outputs": [
    {
     "name": "stdout",
     "output_type": "stream",
     "text": [
      "                             Left_side                          Right_side  \\\n",
      "0               6 RIBBONS RUSTIC CHARM              JAM MAKING SET PRINTED   \n",
      "1               JAM MAKING SET PRINTED              6 RIBBONS RUSTIC CHARM   \n",
      "2               6 RIBBONS RUSTIC CHARM            JAM MAKING SET WITH JARS   \n",
      "3               6 RIBBONS RUSTIC CHARM     NATURAL SLATE HEART CHALKBOARD    \n",
      "4               6 RIBBONS RUSTIC CHARM     PACK OF 72 RETROSPOT CAKE CASES   \n",
      "5               6 RIBBONS RUSTIC CHARM     RECIPE BOX PANTRY YELLOW DESIGN   \n",
      "6               6 RIBBONS RUSTIC CHARM           SCANDINAVIAN REDS RIBBONS   \n",
      "7            SCANDINAVIAN REDS RIBBONS              6 RIBBONS RUSTIC CHARM   \n",
      "8               6 RIBBONS RUSTIC CHARM   SET OF 3 CAKE TINS PANTRY DESIGN    \n",
      "9      60 CAKE CASES DOLLY GIRL DESIGN         60 TEATIME FAIRY CAKE CASES   \n",
      "10         60 TEATIME FAIRY CAKE CASES     60 CAKE CASES DOLLY GIRL DESIGN   \n",
      "11     60 CAKE CASES DOLLY GIRL DESIGN  PACK OF 60 PINK PAISLEY CAKE CASES   \n",
      "12  PACK OF 60 PINK PAISLEY CAKE CASES     60 CAKE CASES DOLLY GIRL DESIGN   \n",
      "13     60 CAKE CASES DOLLY GIRL DESIGN      PACK OF 60 SPACEBOY CAKE CASES   \n",
      "14      PACK OF 60 SPACEBOY CAKE CASES     60 CAKE CASES DOLLY GIRL DESIGN   \n",
      "15     60 CAKE CASES DOLLY GIRL DESIGN     PACK OF 72 RETROSPOT CAKE CASES   \n",
      "16     60 CAKE CASES VINTAGE CHRISTMAS     PAPER CHAIN KIT 50'S CHRISTMAS    \n",
      "17     PAPER CHAIN KIT 50'S CHRISTMAS      60 CAKE CASES VINTAGE CHRISTMAS   \n",
      "18     60 CAKE CASES VINTAGE CHRISTMAS   PAPER CHAIN KIT VINTAGE CHRISTMAS   \n",
      "19   PAPER CHAIN KIT VINTAGE CHRISTMAS     60 CAKE CASES VINTAGE CHRISTMAS   \n",
      "\n",
      "     Support  Confidence       Lift  \n",
      "0   0.011825    0.247120   4.244431  \n",
      "1   0.011825    0.203098   4.244431  \n",
      "2   0.010372    0.216754   3.818160  \n",
      "3   0.009921    0.207330   3.312962  \n",
      "4   0.011925    0.249215   3.768050  \n",
      "5   0.010522    0.219895   3.928980  \n",
      "6   0.010873    0.227225  10.055342  \n",
      "7   0.010873    0.481153  10.055342  \n",
      "8   0.010171    0.212565   3.063091  \n",
      "9   0.009971    0.455378  10.976359  \n",
      "10  0.009971    0.240338  10.976359  \n",
      "11  0.010422    0.475973  10.931484  \n",
      "12  0.010422    0.239356  10.931484  \n",
      "13  0.009670    0.441648  16.950775  \n",
      "14  0.009670    0.371154  16.950775  \n",
      "15  0.012125    0.553776   8.372921  \n",
      "16  0.013579    0.438511   7.544663  \n",
      "17  0.013579    0.233621   7.544663  \n",
      "18  0.012526    0.404531   9.845884  \n",
      "19  0.012526    0.304878   9.845884  \n"
     ]
    }
   ],
   "source": [
    "result_df = convert_apriori_results_to_pandas_df(results)\n",
    "print(result_df.head(20))"
   ]
  },
  {
   "cell_type": "code",
   "execution_count": 135,
   "metadata": {},
   "outputs": [
    {
     "name": "stdout",
     "output_type": "stream",
     "text": [
      "                Left_side            Right_side   Support  Confidence  \\\n",
      "424     HERB MARKER THYME  HERB MARKER ROSEMARY  0.011073    0.932489   \n",
      "423  HERB MARKER ROSEMARY     HERB MARKER THYME  0.011073    0.920833   \n",
      "407   HERB MARKER CHIVES    HERB MARKER PARSLEY  0.009670    0.923445   \n",
      "408   HERB MARKER PARSLEY   HERB MARKER CHIVES   0.009670    0.810924   \n",
      "412     HERB MARKER THYME   HERB MARKER CHIVES   0.009470    0.797468   \n",
      "411   HERB MARKER CHIVES      HERB MARKER THYME  0.009470    0.904306   \n",
      "405   HERB MARKER CHIVES       HERB MARKER MINT  0.009520    0.909091   \n",
      "406      HERB MARKER MINT   HERB MARKER CHIVES   0.009520    0.791667   \n",
      "422     HERB MARKER THYME   HERB MARKER PARSLEY  0.010672    0.898734   \n",
      "421   HERB MARKER PARSLEY     HERB MARKER THYME  0.010672    0.894958   \n",
      "409   HERB MARKER CHIVES   HERB MARKER ROSEMARY  0.009470    0.904306   \n",
      "410  HERB MARKER ROSEMARY   HERB MARKER CHIVES   0.009470    0.787500   \n",
      "419   HERB MARKER PARSLEY  HERB MARKER ROSEMARY  0.010773    0.903361   \n",
      "420  HERB MARKER ROSEMARY   HERB MARKER PARSLEY  0.010773    0.895833   \n",
      "413      HERB MARKER MINT   HERB MARKER PARSLEY  0.010622    0.883333   \n",
      "\n",
      "          Lift  \n",
      "424  77.544269  \n",
      "423  77.544269  \n",
      "407  77.437457  \n",
      "408  77.437457  \n",
      "412  76.152504  \n",
      "411  76.152504  \n",
      "405  75.598485  \n",
      "406  75.598485  \n",
      "422  75.365280  \n",
      "421  75.365280  \n",
      "409  75.200598  \n",
      "410  75.200598  \n",
      "419  75.122024  \n",
      "420  75.122024  \n",
      "413  74.073810  \n"
     ]
    }
   ],
   "source": [
    "# sort all acquired rules descending by lift\n",
    "result_df = result_df.sort_values(by='Lift', ascending=False)\n",
    "print(result_df.head(15))"
   ]
  },
  {
   "cell_type": "code",
   "execution_count": 136,
   "metadata": {},
   "outputs": [
    {
     "name": "stdout",
     "output_type": "stream",
     "text": [
      "                   Left_side                Right_side   Support  Confidence  \\\n",
      "424        HERB MARKER THYME      HERB MARKER ROSEMARY  0.011073    0.932489   \n",
      "407      HERB MARKER CHIVES        HERB MARKER PARSLEY  0.009670    0.923445   \n",
      "423     HERB MARKER ROSEMARY         HERB MARKER THYME  0.011073    0.920833   \n",
      "1315  REGENCY TEA PLATE PINK  REGENCY TEA PLATE GREEN   0.013929    0.911475   \n",
      "405      HERB MARKER CHIVES           HERB MARKER MINT  0.009520    0.909091   \n",
      "411      HERB MARKER CHIVES          HERB MARKER THYME  0.009470    0.904306   \n",
      "409      HERB MARKER CHIVES       HERB MARKER ROSEMARY  0.009470    0.904306   \n",
      "419      HERB MARKER PARSLEY      HERB MARKER ROSEMARY  0.010773    0.903361   \n",
      "422        HERB MARKER THYME       HERB MARKER PARSLEY  0.010672    0.898734   \n",
      "420     HERB MARKER ROSEMARY       HERB MARKER PARSLEY  0.010773    0.895833   \n",
      "421      HERB MARKER PARSLEY         HERB MARKER THYME  0.010672    0.894958   \n",
      "402     HERB MARKER ROSEMARY         HERB MARKER BASIL  0.010723    0.891667   \n",
      "414      HERB MARKER PARSLEY          HERB MARKER MINT  0.010622    0.890756   \n",
      "400      HERB MARKER PARSLEY         HERB MARKER BASIL  0.010622    0.890756   \n",
      "404        HERB MARKER THYME         HERB MARKER BASIL  0.010522    0.886076   \n",
      "\n",
      "           Lift  \n",
      "424   77.544269  \n",
      "407   77.437457  \n",
      "423   77.544269  \n",
      "1315  47.746001  \n",
      "405   75.598485  \n",
      "411   76.152504  \n",
      "409   75.200598  \n",
      "419   75.122024  \n",
      "422   75.365280  \n",
      "420   75.122024  \n",
      "421   75.365280  \n",
      "402   73.536708  \n",
      "414   74.073810  \n",
      "400   73.461629  \n",
      "404   73.075636  \n"
     ]
    }
   ],
   "source": [
    "# sort all acquired rules descending by lift\n",
    "result_df = result_df.sort_values(by='Confidence', ascending=False)\n",
    "print(result_df.head(15))"
   ]
  },
  {
   "cell_type": "code",
   "execution_count": 137,
   "metadata": {},
   "outputs": [
    {
     "name": "stdout",
     "output_type": "stream",
     "text": [
      "               Left_side            Right_side   Support  Confidence  \\\n",
      "407  HERB MARKER CHIVES    HERB MARKER PARSLEY  0.009670    0.923445   \n",
      "405  HERB MARKER CHIVES       HERB MARKER MINT  0.009520    0.909091   \n",
      "411  HERB MARKER CHIVES      HERB MARKER THYME  0.009470    0.904306   \n",
      "409  HERB MARKER CHIVES   HERB MARKER ROSEMARY  0.009470    0.904306   \n",
      "396  HERB MARKER CHIVES      HERB MARKER BASIL  0.009119    0.870813   \n",
      "\n",
      "          Lift  \n",
      "407  77.437457  \n",
      "405  75.598485  \n",
      "411  76.152504  \n",
      "409  75.200598  \n",
      "396  71.816916  \n"
     ]
    }
   ],
   "source": [
    "search = result_df[result_df['Left_side'] == 'HERB MARKER CHIVES ']\n",
    "print(search)"
   ]
  },
  {
   "cell_type": "markdown",
   "metadata": {},
   "source": [
    "# Sequence Analysis "
   ]
  },
  {
   "cell_type": "code",
   "execution_count": 9,
   "metadata": {},
   "outputs": [],
   "source": [
    "# convert time/date into a sepcific format\n",
    "df['InvoiceDate'] = pd.to_datetime(df['InvoiceDate'], format = '%d/%m/%Y %H:%M')"
   ]
  },
  {
   "cell_type": "code",
   "execution_count": 10,
   "metadata": {},
   "outputs": [],
   "source": [
    "#transactions = df.groupby(['CustomerID','InvoiceDate'])['Description'].apply(list)\n",
    "#transactions.head(10)\n",
    "#StockCode"
   ]
  },
  {
   "cell_type": "code",
   "execution_count": 11,
   "metadata": {},
   "outputs": [
    {
     "name": "stdout",
     "output_type": "stream",
     "text": [
      "[['MEDIUM CERAMIC TOP STORAGE JAR'], ['BLACK CANDELABRA T-LIGHT HOLDER', 'AIRLINE BAG VINTAGE JET SET BROWN', 'COLOUR GLASS. STAR T-LIGHT HOLDER', 'MINI PAINT SET VINTAGE ', 'CLEAR DRAWER KNOB ACRYLIC EDWARDIAN', 'PINK DRAWER KNOB ACRYLIC EDWARDIAN', 'GREEN DRAWER KNOB ACRYLIC EDWARDIAN', 'RED DRAWER KNOB ACRYLIC EDWARDIAN', 'PURPLE DRAWERKNOB ACRYLIC EDWARDIAN', 'BLUE DRAWER KNOB ACRYLIC EDWARDIAN', 'ALARM CLOCK BAKELIKE CHOCOLATE', 'ALARM CLOCK BAKELIKE GREEN', 'ALARM CLOCK BAKELIKE RED ', 'ALARM CLOCK BAKELIKE PINK', 'ALARM CLOCK BAKELIKE ORANGE', 'FOUR HOOK  WHITE LOVEBIRDS', 'BLACK GRAND BAROQUE PHOTO FRAME', 'BATHROOM METAL SIGN ', 'LARGE HEART MEASURING SPOONS', 'BOX OF 6 ASSORTED COLOUR TEASPOONS', 'BLUE 3 PIECE POLKADOT CUTLERY SET', 'RED 3 PIECE RETROSPOT CUTLERY SET', 'PINK 3 PIECE POLKADOT CUTLERY SET', 'EMERGENCY FIRST AID TIN ', 'SET OF 2 TINS VINTAGE BATHROOM ', 'SET/3 DECOUPAGE STACKING TINS', 'BOOM BOX SPEAKER BOYS', 'RED TOADSTOOL LED NIGHT LIGHT', '3D DOG PICTURE PLAYING CARDS', 'BLACK EAR MUFF HEADPHONES', 'CAMOUFLAGE EAR MUFF HEADPHONES'], ['PINK NEW BAROQUECANDLESTICK CANDLE', 'BLUE NEW BAROQUE CANDLESTICK CANDLE', 'BLACK CANDELABRA T-LIGHT HOLDER', 'WOODLAND CHARLOTTE BAG', 'AIRLINE BAG VINTAGE JET SET BROWN', 'AIRLINE BAG VINTAGE JET SET WHITE', 'SANDWICH BATH SPONGE', 'ALARM CLOCK BAKELIKE CHOCOLATE', 'ALARM CLOCK BAKELIKE GREEN', 'ALARM CLOCK BAKELIKE RED ', 'ALARM CLOCK BAKELIKE PINK', 'ALARM CLOCK BAKELIKE ORANGE', 'SMALL HEART MEASURING SPOONS', '72 SWEETHEART FAIRY CAKE CASES', '60 TEATIME FAIRY CAKE CASES', 'PACK OF 60 MUSHROOM CAKE CASES', 'PACK OF 60 SPACEBOY CAKE CASES', 'TEA TIME OVEN GLOVE', 'RED RETROSPOT OVEN GLOVE ', 'RED RETROSPOT OVEN GLOVE DOUBLE', 'SET/2 RED RETROSPOT TEA TOWELS ', 'REGENCY CAKESTAND 3 TIER', 'BOX OF 6 ASSORTED COLOUR TEASPOONS', 'MINI LADLE LOVE HEART RED ', 'CHOCOLATE CALCULATOR', 'TOOTHPASTE TUBE PEN', 'SET OF 2 TINS VINTAGE BATHROOM ', 'RED TOADSTOOL LED NIGHT LIGHT', '3D DOG PICTURE PLAYING CARDS'], ['AIRLINE BAG VINTAGE JET SET WHITE', 'AIRLINE BAG VINTAGE JET SET RED', 'AIRLINE BAG VINTAGE TOKYO 78', 'AIRLINE BAG VINTAGE JET SET BROWN', 'RED RETROSPOT PURSE ', 'ICE CREAM SUNDAE LIP GLOSS', 'VINTAGE HEADS AND TAILS CARD GAME ', 'HOLIDAY FUN LUDO', 'TREASURE ISLAND BOOK BOX', 'WATERING CAN PINK BUNNY', 'RED DRAWER KNOB ACRYLIC EDWARDIAN', 'LARGE HEART MEASURING SPOONS', 'SMALL HEART MEASURING SPOONS', 'PACK OF 60 DINOSAUR CAKE CASES', 'RED RETROSPOT OVEN GLOVE DOUBLE', 'REGENCY CAKESTAND 3 TIER', 'ROSES REGENCY TEACUP AND SAUCER ', 'RED TOADSTOOL LED NIGHT LIGHT', 'MINI PAINT SET VINTAGE ', '3D SHEET OF DOG STICKERS', '3D SHEET OF CAT STICKERS', 'SMALL FOLDING SCISSOR(POINTED EDGE)', 'GIFT BAG PSYCHEDELIC APPLES', 'SET OF 2 TINS VINTAGE BATHROOM '], ['RABBIT NIGHT LIGHT', 'REGENCY TEA STRAINER', 'REGENCY TEA PLATE GREEN ', 'REGENCY TEA PLATE PINK', 'REGENCY TEA PLATE ROSES ', 'REGENCY TEAPOT ROSES ', 'REGENCY SUGAR BOWL GREEN', 'REGENCY MILK JUG PINK ', 'AIRLINE BAG VINTAGE TOKYO 78', 'AIRLINE BAG VINTAGE JET SET BROWN', 'VICTORIAN SEWING KIT', 'NAMASTE SWAGAT INCENSE', 'TRIPLE HOOK ANTIQUE IVORY ROSE', 'SMALL HEART MEASURING SPOONS', '3D DOG PICTURE PLAYING CARDS', 'FEATHER PEN,COAL BLACK', 'ALARM CLOCK BAKELIKE RED ', 'ALARM CLOCK BAKELIKE CHOCOLATE'], ['SET OF 60 VINTAGE LEAF CAKE CASES ', 'SET 40 HEART SHAPE PETIT FOUR CASES', 'AIRLINE BAG VINTAGE JET SET BROWN', 'AIRLINE BAG VINTAGE JET SET RED', 'AIRLINE BAG VINTAGE JET SET WHITE', 'AIRLINE BAG VINTAGE TOKYO 78', 'AIRLINE BAG VINTAGE WORLD CHAMPION ', 'WOODLAND DESIGN  COTTON TOTE BAG', 'WOODLAND CHARLOTTE BAG', 'ALARM CLOCK BAKELIKE RED ', 'TRIPLE HOOK ANTIQUE IVORY ROSE', 'SINGLE ANTIQUE ROSE HOOK IVORY', 'TEA TIME OVEN GLOVE', '72 SWEETHEART FAIRY CAKE CASES', '60 TEATIME FAIRY CAKE CASES', 'PACK OF 60 DINOSAUR CAKE CASES', 'REGENCY CAKESTAND 3 TIER', 'REGENCY MILK JUG PINK ', '3D DOG PICTURE PLAYING CARDS', 'REVOLVER WOODEN RULER ', 'VINTAGE HEADS AND TAILS CARD GAME ', 'RED REFECTORY CLOCK '], ['MINI LIGHTS WOODLAND MUSHROOMS', 'PINK GOOSE FEATHER TREE 60CM', 'MADRAS NOTEBOOK MEDIUM', 'AIRLINE BAG VINTAGE WORLD CHAMPION ', 'AIRLINE BAG VINTAGE JET SET BROWN', 'AIRLINE BAG VINTAGE TOKYO 78', 'AIRLINE BAG VINTAGE JET SET RED', 'BIRDCAGE DECORATION TEALIGHT HOLDER', 'CHRISTMAS METAL TAGS ASSORTED ', 'REGENCY CAKESTAND 3 TIER', 'REGENCY TEAPOT ROSES ', 'TEA TIME DES TEA COSY', 'TEA TIME KITCHEN APRON', 'TEA TIME OVEN GLOVE', 'PINK REGENCY TEACUP AND SAUCER', 'GREEN REGENCY TEACUP AND SAUCER', '3D DOG PICTURE PLAYING CARDS', 'RABBIT NIGHT LIGHT', 'RED TOADSTOOL LED NIGHT LIGHT', 'TREASURE ISLAND BOOK BOX', 'VINTAGE HEADS AND TAILS CARD GAME ', 'MINI PLAYING CARDS DOLLY GIRL ', 'MINI PLAYING CARDS SPACEBOY ', 'PLAYING CARDS KEEP CALM & CARRY ON', 'REVOLVER WOODEN RULER ', 'WOODEN SCHOOL COLOURING SET', 'MINI PAINT SET VINTAGE ', 'TRADITIONAL KNITTING NANCY', 'TRIPLE HOOK ANTIQUE IVORY ROSE', 'PANTRY HOOK SPATULA', 'PANTRY HOOK BALLOON WHISK ', 'PANTRY HOOK TEA STRAINER ', 'ROSES REGENCY TEACUP AND SAUCER ', 'ALARM CLOCK BAKELIKE CHOCOLATE', 'ALARM CLOCK BAKELIKE PINK', 'ALARM CLOCK BAKELIKE GREEN', 'ALARM CLOCK BAKELIKE RED ', 'PACK OF 60 MUSHROOM CAKE CASES', 'PACK OF 60 SPACEBOY CAKE CASES', 'SET OF 60 VINTAGE LEAF CAKE CASES ', '60 TEATIME FAIRY CAKE CASES', '72 SWEETHEART FAIRY CAKE CASES', 'SMALL HEART MEASURING SPOONS', 'LARGE HEART MEASURING SPOONS', 'WOODLAND CHARLOTTE BAG', 'REGENCY TEA STRAINER', 'FOOD CONTAINER SET 3 LOVE HEART '], ['CLASSIC CHROME BICYCLE BELL ', 'BICYCLE PUNCTURE REPAIR KIT ', 'BOOM BOX SPEAKER BOYS', 'PINK NEW BAROQUECANDLESTICK CANDLE', 'RED TOADSTOOL LED NIGHT LIGHT', 'RABBIT NIGHT LIGHT', 'WOODLAND CHARLOTTE BAG', 'PINK GOOSE FEATHER TREE 60CM', 'CHRISTMAS TABLE SILVER CANDLE SPIKE', 'MINI PLAYING CARDS SPACEBOY ', 'MINI PLAYING CARDS DOLLY GIRL '], ['72 SWEETHEART FAIRY CAKE CASES', '60 CAKE CASES DOLLY GIRL DESIGN', '60 TEATIME FAIRY CAKE CASES', '60 TEATIME FAIRY CAKE CASES', 'PACK OF 72 SKULL CAKE CASES', 'PACK OF 72 SKULL CAKE CASES', 'PACK OF 12 LONDON TISSUES ', 'PACK OF 12 WOODLAND TISSUES ', 'PACK OF 12 SUKI TISSUES ', 'SWEETIES  STICKERS', 'SET OF 72 SKULL PAPER  DOILIES', 'SET OF 72 PINK HEART PAPER DOILIES', '60 CAKE CASES VINTAGE CHRISTMAS', '60 CAKE CASES VINTAGE CHRISTMAS', 'PACK OF 60 PINK PAISLEY CAKE CASES', 'PACK OF 60 PINK PAISLEY CAKE CASES'], ['PACK OF 12 RED RETROSPOT TISSUES ', 'PACK OF 12 HEARTS DESIGN TISSUES ', 'MULTI HEARTS  STICKERS', 'PACK OF 12 BLUE PAISLEY TISSUES ', 'PACK OF 12 SKULL TISSUES']]\n"
     ]
    }
   ],
   "source": [
    "transactions = df.groupby(['CustomerID','InvoiceDate'])['Description'].apply(list)\n",
    "sequences = transactions.values.tolist()\n",
    "#StockCode\n",
    "#Description\n",
    "# show the first 5 sequences\n",
    "print(sequences[:10])"
   ]
  },
  {
   "cell_type": "code",
   "execution_count": 13,
   "metadata": {},
   "outputs": [],
   "source": [
    "from collections import defaultdict\n",
    "import subprocess\n",
    "import re\n",
    "\n",
    "''' Uses SPMF to find association rules in supplied transactions '''\n",
    "def get_association_rules(sequences, min_sup, min_conf):\n",
    "    # step 1: create required input for SPMF\n",
    "    \n",
    "    # prepare a dict to uniquely assign each item in the transactions to an int ID\n",
    "    item_dict = defaultdict(int)\n",
    "    output_dict = defaultdict(str)\n",
    "    item_id = 1\n",
    "    \n",
    "    # write your sequences in SPMF format\n",
    "    with open('seq_rule_input.txt', 'w+') as f:\n",
    "        for sequence in sequences:\n",
    "            z = []\n",
    "            for itemset in sequence:\n",
    "                # if there are multiple items in one itemset\n",
    "                if isinstance(itemset, list):\n",
    "                    for item in itemset:\n",
    "                        if item not in item_dict:\n",
    "                            item_dict[item] = item_id\n",
    "                            item_id += 1\n",
    "\n",
    "                        z.append(item_dict[item])\n",
    "                else:\n",
    "                    if itemset not in item_dict:\n",
    "                        item_dict[itemset] = item_id\n",
    "                        output_dict[str(item_id)] = itemset\n",
    "                        item_id += 1\n",
    "                    z.append(item_dict[itemset])\n",
    "                    \n",
    "                # end of itemset\n",
    "                z.append(-1)\n",
    "            \n",
    "            # end of a sequence\n",
    "            z.append(-2)\n",
    "            f.write(' '.join([str(x) for x in z]))\n",
    "            f.write('\\n')\n",
    "    \n",
    "    # run SPMF with supplied parameters\n",
    "    #supp_param = '{}%'.format(int(min_sup * 100))\n",
    "    #conf_param = '{}%'.format(int(min_conf * 100))\n",
    "    #subprocess.call(['java', '-jar', 'spmf.jar', 'run', 'RuleGrowth', 'seq_rule_input.txt', 'seq_rule_output.txt', '10%', '10%'], shell=True)\n",
    "    \n",
    "    # read back the output rules\n",
    "    outputs = open('seq_rule_output.txt', 'r').read().strip().split('\\n')\n",
    "    output_rules = []\n",
    "    for rule in outputs:\n",
    "        left, right, sup, conf = re.search(pattern=r'([0-9\\,]+) ==> ([0-9\\,]+) #SUP: ([0-9]+) #CONF: ([0-9\\.]+)', string=rule).groups()\n",
    "        sup = int(sup) / len(sequences)\n",
    "        conf = float(conf)\n",
    "        output_rules.append([[output_dict[x] for x in left.split(',')], [output_dict[x] for x in right.split(',')], sup, conf])\n",
    "    \n",
    "    # return pandas DataFrame\n",
    "    return pd.DataFrame(output_rules, columns = ['Left_rule', 'Right_rule', 'Support', 'Confidence'])"
   ]
  },
  {
   "cell_type": "code",
   "execution_count": 14,
   "metadata": {},
   "outputs": [],
   "source": [
    "result = get_association_rules(sequences, 0.009, 0.2)"
   ]
  },
  {
   "cell_type": "code",
   "execution_count": 15,
   "metadata": {},
   "outputs": [
    {
     "name": "stdout",
     "output_type": "stream",
     "text": [
      "                                        Left_rule  \\\n",
      "19           [BOX OF 6 ASSORTED COLOUR TEASPOONS]   \n",
      "68                          [TOOTHPASTE TUBE PEN]   \n",
      "55                       [WOODLAND CHARLOTTE BAG]   \n",
      "59                       [WOODLAND CHARLOTTE BAG]   \n",
      "57                       [WOODLAND CHARLOTTE BAG]   \n",
      "62  [WOODLAND CHARLOTTE BAG, TOOTHPASTE TUBE PEN]   \n",
      "64                         [CHOCOLATE CALCULATOR]   \n",
      "66                         [CHOCOLATE CALCULATOR]   \n",
      "67    [CHOCOLATE CALCULATOR, TOOTHPASTE TUBE PEN]   \n",
      "65                         [CHOCOLATE CALCULATOR]   \n",
      "\n",
      "                                           Right_rule   Support  Confidence  \n",
      "19                           [WOODLAND CHARLOTTE BAG]  0.011904    0.861660  \n",
      "68                  [AIRLINE BAG VINTAGE JET SET RED]  0.009228    0.949438  \n",
      "55                              [TOOTHPASTE TUBE PEN]  0.008955    0.589928  \n",
      "59                  [AIRLINE BAG VINTAGE JET SET RED]  0.008792    0.579137  \n",
      "57  [TOOTHPASTE TUBE PEN, AIRLINE BAG VINTAGE JET ...  0.008737    0.575540  \n",
      "62                  [AIRLINE BAG VINTAGE JET SET RED]  0.008737    0.975610  \n",
      "64                              [TOOTHPASTE TUBE PEN]  0.008191    0.931677  \n",
      "66                  [AIRLINE BAG VINTAGE JET SET RED]  0.008082    0.919255  \n",
      "67                  [AIRLINE BAG VINTAGE JET SET RED]  0.007972    0.973333  \n",
      "65  [TOOTHPASTE TUBE PEN, AIRLINE BAG VINTAGE JET ...  0.007972    0.906832  \n"
     ]
    }
   ],
   "source": [
    "# sort all acquired rules descending by support\n",
    "result = result.sort_values(by='Support', ascending=False)\n",
    "print(result.head(10))"
   ]
  },
  {
   "cell_type": "code",
   "execution_count": null,
   "metadata": {},
   "outputs": [],
   "source": [
    "export_csv = result.to_csv (r'C:\\Users\\kmw41\\Desktop\\0_case2\\result_support.csv', index = None, header=True) "
   ]
  },
  {
   "cell_type": "code",
   "execution_count": 16,
   "metadata": {},
   "outputs": [
    {
     "name": "stdout",
     "output_type": "stream",
     "text": [
      "                                            Left_rule  \\\n",
      "45  [BOX OF 6 ASSORTED COLOUR TEASPOONS, CHOCOLATE...   \n",
      "46  [BOX OF 6 ASSORTED COLOUR TEASPOONS, TOOTHPAST...   \n",
      "38  [BOX OF 6 ASSORTED COLOUR TEASPOONS, WOODLAND ...   \n",
      "50  [BOX OF 6 ASSORTED COLOUR TEASPOONS, WOODLAND ...   \n",
      "49  [BOX OF 6 ASSORTED COLOUR TEASPOONS, WOODLAND ...   \n",
      "42  [BOX OF 6 ASSORTED COLOUR TEASPOONS, WOODLAND ...   \n",
      "44  [BOX OF 6 ASSORTED COLOUR TEASPOONS, CHOCOLATE...   \n",
      "48  [BOX OF 6 ASSORTED COLOUR TEASPOONS, WOODLAND ...   \n",
      "40  [BOX OF 6 ASSORTED COLOUR TEASPOONS, CHOCOLATE...   \n",
      "36  [BOX OF 6 ASSORTED COLOUR TEASPOONS, CHOCOLATE...   \n",
      "56     [WOODLAND CHARLOTTE BAG, CHOCOLATE CALCULATOR]   \n",
      "60     [WOODLAND CHARLOTTE BAG, CHOCOLATE CALCULATOR]   \n",
      "61  [WOODLAND CHARLOTTE BAG, CHOCOLATE CALCULATOR,...   \n",
      "58     [WOODLAND CHARLOTTE BAG, CHOCOLATE CALCULATOR]   \n",
      "62      [WOODLAND CHARLOTTE BAG, TOOTHPASTE TUBE PEN]   \n",
      "67        [CHOCOLATE CALCULATOR, TOOTHPASTE TUBE PEN]   \n",
      "18                   [PACK OF 60 DINOSAUR CAKE CASES]   \n",
      "68                              [TOOTHPASTE TUBE PEN]   \n",
      "64                             [CHOCOLATE CALCULATOR]   \n",
      "66                             [CHOCOLATE CALCULATOR]   \n",
      "\n",
      "                                           Right_rule   Support  Confidence  \n",
      "45                  [AIRLINE BAG VINTAGE JET SET RED]  0.006880    1.000000  \n",
      "46                  [AIRLINE BAG VINTAGE JET SET RED]  0.007863    1.000000  \n",
      "38                              [TOOTHPASTE TUBE PEN]  0.006826    1.000000  \n",
      "50                  [AIRLINE BAG VINTAGE JET SET RED]  0.007809    1.000000  \n",
      "49                  [AIRLINE BAG VINTAGE JET SET RED]  0.006826    1.000000  \n",
      "42  [TOOTHPASTE TUBE PEN, AIRLINE BAG VINTAGE JET ...  0.006826    1.000000  \n",
      "44                  [AIRLINE BAG VINTAGE JET SET RED]  0.006880    1.000000  \n",
      "48                  [AIRLINE BAG VINTAGE JET SET RED]  0.006826    1.000000  \n",
      "40  [TOOTHPASTE TUBE PEN, AIRLINE BAG VINTAGE JET ...  0.006880    1.000000  \n",
      "36                              [TOOTHPASTE TUBE PEN]  0.006880    1.000000  \n",
      "56                              [TOOTHPASTE TUBE PEN]  0.007809    0.993056  \n",
      "60                  [AIRLINE BAG VINTAGE JET SET RED]  0.007754    0.986111  \n",
      "61                  [AIRLINE BAG VINTAGE JET SET RED]  0.007699    0.986014  \n",
      "58  [TOOTHPASTE TUBE PEN, AIRLINE BAG VINTAGE JET ...  0.007699    0.979167  \n",
      "62                  [AIRLINE BAG VINTAGE JET SET RED]  0.008737    0.975610  \n",
      "67                  [AIRLINE BAG VINTAGE JET SET RED]  0.007972    0.973333  \n",
      "18                        [ALARM CLOCK BAKELIKE PINK]  0.003440    0.954545  \n",
      "68                  [AIRLINE BAG VINTAGE JET SET RED]  0.009228    0.949438  \n",
      "64                              [TOOTHPASTE TUBE PEN]  0.008191    0.931677  \n",
      "66                  [AIRLINE BAG VINTAGE JET SET RED]  0.008082    0.919255  \n"
     ]
    }
   ],
   "source": [
    "# sort all acquired rules descending by confidence\n",
    "result = result.sort_values(by='Confidence', ascending=False)\n",
    "print(result.head(20))"
   ]
  },
  {
   "cell_type": "code",
   "execution_count": 18,
   "metadata": {},
   "outputs": [],
   "source": [
    "export_csv = result.to_csv (r'C:\\Users\\kmw41\\Desktop\\0_case2\\result_confidence.csv', index = None, header=True) "
   ]
  },
  {
   "cell_type": "code",
   "execution_count": null,
   "metadata": {},
   "outputs": [],
   "source": []
  }
 ],
 "metadata": {
  "kernelspec": {
   "display_name": "Python 3",
   "language": "python",
   "name": "python3"
  },
  "language_info": {
   "codemirror_mode": {
    "name": "ipython",
    "version": 3
   },
   "file_extension": ".py",
   "mimetype": "text/x-python",
   "name": "python",
   "nbconvert_exporter": "python",
   "pygments_lexer": "ipython3",
   "version": "3.6.5"
  }
 },
 "nbformat": 4,
 "nbformat_minor": 2
}
