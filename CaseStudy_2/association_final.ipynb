{
 "cells": [
  {
   "cell_type": "code",
   "execution_count": 1,
   "metadata": {},
   "outputs": [],
   "source": [
    "'''\n",
    "Herein, association mining based on online reatil sale is performed\n",
    "'''\n",
    "import pandas as pd"
   ]
  },
  {
   "cell_type": "code",
   "execution_count": 2,
   "metadata": {},
   "outputs": [
    {
     "name": "stderr",
     "output_type": "stream",
     "text": [
      "C:\\Users\\kmw41\\Anaconda3\\lib\\site-packages\\IPython\\core\\interactiveshell.py:3049: DtypeWarning: Columns (0) have mixed types. Specify dtype option on import or set low_memory=False.\n",
      "  interactivity=interactivity, compiler=compiler, result=result)\n"
     ]
    }
   ],
   "source": [
    "#load the dataset\n",
    "#Due to the error \"utf-8 codec can't decode byte 0xa3 in position 28: invalid start byte\"\n",
    "#encoding = 'unicode_escape' is applied\n",
    "df = pd.read_csv('casestudy2-data/online retail.csv',header=0,encoding = 'unicode_escape')"
   ]
  },
  {
   "cell_type": "code",
   "execution_count": 3,
   "metadata": {},
   "outputs": [
    {
     "name": "stdout",
     "output_type": "stream",
     "text": [
      "<class 'pandas.core.frame.DataFrame'>\n",
      "RangeIndex: 532619 entries, 0 to 532618\n",
      "Data columns (total 8 columns):\n",
      "InvoiceNo      532619 non-null object\n",
      "StockCode      532619 non-null object\n",
      "Description    531165 non-null object\n",
      "Quantity       532619 non-null int64\n",
      "InvoiceDate    532619 non-null object\n",
      "UnitPrice      532619 non-null float64\n",
      "CustomerID     397924 non-null float64\n",
      "Country        532619 non-null object\n",
      "dtypes: float64(2), int64(1), object(5)\n",
      "memory usage: 32.5+ MB\n"
     ]
    }
   ],
   "source": [
    "df.info()"
   ]
  },
  {
   "cell_type": "code",
   "execution_count": 4,
   "metadata": {},
   "outputs": [],
   "source": [
    "'''\n",
    "Data preprocessing \n",
    "\n",
    "### do in need to remove space?###\n",
    "'''\n",
    "#remove negative values in quantiy column as it is not necessaory values in terms of analysis of association.\n",
    "df.drop(df[df.Quantity < 0].index, inplace=True)\n",
    "    \n",
    "# remove inappropriate values\n",
    "df.drop(df[df.StockCode == 'DCGS0073'].index, inplace=True) # written as ebay\n",
    "df.drop(df[df.StockCode == 'DCGS0069'].index, inplace=True) # written as ebay\n",
    "df.drop(df[df.StockCode == 'DCGS0068'].index, inplace=True) # written as ebay\n",
    "df.drop(df[df.StockCode == 'DCGS0067'].index, inplace=True) # written as ebay\n",
    "df.drop(df[df.StockCode == 'DCGS0003'].index, inplace=True) # written as ebay\n",
    "df.drop(df[df.StockCode == 'B'].index, inplace=True)\n",
    "df.drop(df[df.StockCode == 'AMAZONEFEE'].index, inplace=True)\n",
    "df.drop(df[df.StockCode == 'BANK CHARGES'].index, inplace=True)\n",
    "df.drop(df[df.StockCode == 'C2'].index, inplace=True)\n",
    "df.drop(df[df.StockCode == 'DOT'].index, inplace=True)\n",
    "df.drop(df[df.StockCode == 'M'].index, inplace=True)\n",
    "df.drop(df[df.StockCode == 'PADS'].index, inplace=True)\n",
    "df.drop(df[df.StockCode == 'POST'].index, inplace=True)\n",
    "df.drop(df[df.StockCode == 'S'].index, inplace=True)\n",
    "\n",
    "#gift is a gift voucher so that it may be better not to remove it\n",
    "#df.drop(df[df.StockCode == 'gift_0001_10'].index, inplace=True)\n",
    "#df.drop(df[df.StockCode == 'gift_0001_20'].index, inplace=True)\n",
    "#df.drop(df[df.StockCode == 'gift_0001_30'].index, inplace=True)\n",
    "#df.drop(df[df.StockCode == 'gift_0001_40'].index, inplace=True)\n",
    "#df.drop(df[df.StockCode == 'gift_0001_50'].index, inplace=True)\n",
    " \n"
   ]
  },
  {
   "cell_type": "code",
   "execution_count": 5,
   "metadata": {},
   "outputs": [],
   "source": [
    "#df = df.groupby(['InvoiceNo'])['StockCode'].apply(list)\n",
    "df = df.dropna(subset = ['Description'])\n",
    "#MissingData = df.isnull().sum()\n",
    "#print(MissingData.sort_values(ascending = False))"
   ]
  },
  {
   "cell_type": "code",
   "execution_count": 6,
   "metadata": {},
   "outputs": [],
   "source": [
    "#print(df['Description'].unique())\n",
    "#print(df['Description'].value_counts())"
   ]
  },
  {
   "cell_type": "code",
   "execution_count": 7,
   "metadata": {},
   "outputs": [
    {
     "name": "stdout",
     "output_type": "stream",
     "text": [
      "InvoiceNo\n",
      "536365    [WHITE HANGING HEART T-LIGHT HOLDER, WHITE MET...\n",
      "536366    [HAND WARMER UNION JACK, HAND WARMER RED POLKA...\n",
      "536367    [ASSORTED COLOUR BIRD ORNAMENT, POPPY'S PLAYHO...\n",
      "536368    [JAM MAKING SET WITH JARS, RED COAT RACK PARIS...\n",
      "536369                           [BATH BUILDING BLOCK WORD]\n",
      "Name: Description, dtype: object\n"
     ]
    }
   ],
   "source": [
    "transactions = df.groupby(['InvoiceNo'])['Description'].apply(list)\n",
    "print(transactions.head(5))"
   ]
  },
  {
   "cell_type": "code",
   "execution_count": 8,
   "metadata": {},
   "outputs": [
    {
     "name": "stdout",
     "output_type": "stream",
     "text": [
      "(19958,)\n"
     ]
    }
   ],
   "source": [
    "print(transactions.shape)"
   ]
  },
  {
   "cell_type": "code",
   "execution_count": 9,
   "metadata": {},
   "outputs": [],
   "source": [
    "def convert_apriori_results_to_pandas_df(results):\n",
    "    rules = []\n",
    "    \n",
    "    for rule_set in results:\n",
    "        for rule in rule_set.ordered_statistics:\n",
    "            # items_base = left side of rules, items_add = right side\n",
    "            # support, confidence and lift for respective rules\n",
    "            rules.append([','.join(rule.items_base), ','.join(rule.items_add),\n",
    "                         rule_set.support, rule.confidence, rule.lift]) \n",
    "    \n",
    "    # typecast it to pandas df\n",
    "    return pd.DataFrame(rules, columns=['Left_side', 'Right_side', 'Support', 'Confidence', 'Lift']) "
   ]
  },
  {
   "cell_type": "code",
   "execution_count": 58,
   "metadata": {},
   "outputs": [
    {
     "name": "stdout",
     "output_type": "stream",
     "text": [
      "[RelationRecord(items=frozenset({'JAM MAKING SET PRINTED', '6 RIBBONS RUSTIC CHARM'}), support=0.01182483214750977, ordered_statistics=[OrderedStatistic(items_base=frozenset({'6 RIBBONS RUSTIC CHARM'}), items_add=frozenset({'JAM MAKING SET PRINTED'}), confidence=0.24712041884816752, lift=4.2444314280307465), OrderedStatistic(items_base=frozenset({'JAM MAKING SET PRINTED'}), items_add=frozenset({'6 RIBBONS RUSTIC CHARM'}), confidence=0.20309810671256454, lift=4.2444314280307465)]), RelationRecord(items=frozenset({'JAM MAKING SET WITH JARS', '6 RIBBONS RUSTIC CHARM'}), support=0.010371780739553062, ordered_statistics=[OrderedStatistic(items_base=frozenset({'6 RIBBONS RUSTIC CHARM'}), items_add=frozenset({'JAM MAKING SET WITH JARS'}), confidence=0.21675392670157068, lift=3.8181596373432902)]), RelationRecord(items=frozenset({'NATURAL SLATE HEART CHALKBOARD ', '6 RIBBONS RUSTIC CHARM'}), support=0.009920833750876842, ordered_statistics=[OrderedStatistic(items_base=frozenset({'6 RIBBONS RUSTIC CHARM'}), items_add=frozenset({'NATURAL SLATE HEART CHALKBOARD '}), confidence=0.20732984293193718, lift=3.31296157344724)]), RelationRecord(items=frozenset({'PACK OF 72 RETROSPOT CAKE CASES', '6 RIBBONS RUSTIC CHARM'}), support=0.01192504258943782, ordered_statistics=[OrderedStatistic(items_base=frozenset({'6 RIBBONS RUSTIC CHARM'}), items_add=frozenset({'PACK OF 72 RETROSPOT CAKE CASES'}), confidence=0.24921465968586387, lift=3.7680501348564177)]), RelationRecord(items=frozenset({'RECIPE BOX PANTRY YELLOW DESIGN', '6 RIBBONS RUSTIC CHARM'}), support=0.010522096402445134, ordered_statistics=[OrderedStatistic(items_base=frozenset({'6 RIBBONS RUSTIC CHARM'}), items_add=frozenset({'RECIPE BOX PANTRY YELLOW DESIGN'}), confidence=0.21989528795811517, lift=3.928979549747594)])]\n"
     ]
    }
   ],
   "source": [
    "from apyori import apriori\n",
    "\n",
    "# type cast the transactions from pandas into normal list format and run apriori\n",
    "transaction_list = list(transactions)\n",
    "results = list(apriori(transaction_list, min_support=0.009, min_confidence = 0.2, min_lift = 3, min_length = 2, max_length = 2))\n",
    "\n",
    "# print first 5 rules\n",
    "print(results[:5])"
   ]
  },
  {
   "cell_type": "code",
   "execution_count": 59,
   "metadata": {},
   "outputs": [
    {
     "name": "stdout",
     "output_type": "stream",
     "text": [
      "                             Left_side                          Right_side  \\\n",
      "0               6 RIBBONS RUSTIC CHARM              JAM MAKING SET PRINTED   \n",
      "1               JAM MAKING SET PRINTED              6 RIBBONS RUSTIC CHARM   \n",
      "2               6 RIBBONS RUSTIC CHARM            JAM MAKING SET WITH JARS   \n",
      "3               6 RIBBONS RUSTIC CHARM     NATURAL SLATE HEART CHALKBOARD    \n",
      "4               6 RIBBONS RUSTIC CHARM     PACK OF 72 RETROSPOT CAKE CASES   \n",
      "5               6 RIBBONS RUSTIC CHARM     RECIPE BOX PANTRY YELLOW DESIGN   \n",
      "6               6 RIBBONS RUSTIC CHARM           SCANDINAVIAN REDS RIBBONS   \n",
      "7            SCANDINAVIAN REDS RIBBONS              6 RIBBONS RUSTIC CHARM   \n",
      "8               6 RIBBONS RUSTIC CHARM   SET OF 3 CAKE TINS PANTRY DESIGN    \n",
      "9      60 CAKE CASES DOLLY GIRL DESIGN         60 TEATIME FAIRY CAKE CASES   \n",
      "10         60 TEATIME FAIRY CAKE CASES     60 CAKE CASES DOLLY GIRL DESIGN   \n",
      "11     60 CAKE CASES DOLLY GIRL DESIGN  PACK OF 60 PINK PAISLEY CAKE CASES   \n",
      "12  PACK OF 60 PINK PAISLEY CAKE CASES     60 CAKE CASES DOLLY GIRL DESIGN   \n",
      "13     60 CAKE CASES DOLLY GIRL DESIGN      PACK OF 60 SPACEBOY CAKE CASES   \n",
      "14      PACK OF 60 SPACEBOY CAKE CASES     60 CAKE CASES DOLLY GIRL DESIGN   \n",
      "15     60 CAKE CASES DOLLY GIRL DESIGN     PACK OF 72 RETROSPOT CAKE CASES   \n",
      "16     60 CAKE CASES VINTAGE CHRISTMAS     PAPER CHAIN KIT 50'S CHRISTMAS    \n",
      "17     PAPER CHAIN KIT 50'S CHRISTMAS      60 CAKE CASES VINTAGE CHRISTMAS   \n",
      "18     60 CAKE CASES VINTAGE CHRISTMAS   PAPER CHAIN KIT VINTAGE CHRISTMAS   \n",
      "19   PAPER CHAIN KIT VINTAGE CHRISTMAS     60 CAKE CASES VINTAGE CHRISTMAS   \n",
      "\n",
      "     Support  Confidence       Lift  \n",
      "0   0.011825    0.247120   4.244431  \n",
      "1   0.011825    0.203098   4.244431  \n",
      "2   0.010372    0.216754   3.818160  \n",
      "3   0.009921    0.207330   3.312962  \n",
      "4   0.011925    0.249215   3.768050  \n",
      "5   0.010522    0.219895   3.928980  \n",
      "6   0.010873    0.227225  10.055342  \n",
      "7   0.010873    0.481153  10.055342  \n",
      "8   0.010171    0.212565   3.063091  \n",
      "9   0.009971    0.455378  10.976359  \n",
      "10  0.009971    0.240338  10.976359  \n",
      "11  0.010422    0.475973  10.931484  \n",
      "12  0.010422    0.239356  10.931484  \n",
      "13  0.009670    0.441648  16.950775  \n",
      "14  0.009670    0.371154  16.950775  \n",
      "15  0.012125    0.553776   8.372921  \n",
      "16  0.013579    0.438511   7.544663  \n",
      "17  0.013579    0.233621   7.544663  \n",
      "18  0.012526    0.404531   9.845884  \n",
      "19  0.012526    0.304878   9.845884  \n"
     ]
    }
   ],
   "source": [
    "result_df = convert_apriori_results_to_pandas_df(results)\n",
    "print(result_df.head(20))"
   ]
  },
  {
   "cell_type": "code",
   "execution_count": 60,
   "metadata": {},
   "outputs": [
    {
     "name": "stdout",
     "output_type": "stream",
     "text": [
      "                Left_side            Right_side   Support  Confidence  \\\n",
      "424     HERB MARKER THYME  HERB MARKER ROSEMARY  0.011073    0.932489   \n",
      "423  HERB MARKER ROSEMARY     HERB MARKER THYME  0.011073    0.920833   \n",
      "407   HERB MARKER CHIVES    HERB MARKER PARSLEY  0.009670    0.923445   \n",
      "408   HERB MARKER PARSLEY   HERB MARKER CHIVES   0.009670    0.810924   \n",
      "412     HERB MARKER THYME   HERB MARKER CHIVES   0.009470    0.797468   \n",
      "411   HERB MARKER CHIVES      HERB MARKER THYME  0.009470    0.904306   \n",
      "405   HERB MARKER CHIVES       HERB MARKER MINT  0.009520    0.909091   \n",
      "406      HERB MARKER MINT   HERB MARKER CHIVES   0.009520    0.791667   \n",
      "422     HERB MARKER THYME   HERB MARKER PARSLEY  0.010672    0.898734   \n",
      "421   HERB MARKER PARSLEY     HERB MARKER THYME  0.010672    0.894958   \n",
      "409   HERB MARKER CHIVES   HERB MARKER ROSEMARY  0.009470    0.904306   \n",
      "410  HERB MARKER ROSEMARY   HERB MARKER CHIVES   0.009470    0.787500   \n",
      "419   HERB MARKER PARSLEY  HERB MARKER ROSEMARY  0.010773    0.903361   \n",
      "420  HERB MARKER ROSEMARY   HERB MARKER PARSLEY  0.010773    0.895833   \n",
      "413      HERB MARKER MINT   HERB MARKER PARSLEY  0.010622    0.883333   \n",
      "\n",
      "          Lift  \n",
      "424  77.544269  \n",
      "423  77.544269  \n",
      "407  77.437457  \n",
      "408  77.437457  \n",
      "412  76.152504  \n",
      "411  76.152504  \n",
      "405  75.598485  \n",
      "406  75.598485  \n",
      "422  75.365280  \n",
      "421  75.365280  \n",
      "409  75.200598  \n",
      "410  75.200598  \n",
      "419  75.122024  \n",
      "420  75.122024  \n",
      "413  74.073810  \n"
     ]
    }
   ],
   "source": [
    "# sort all acquired rules descending by lift\n",
    "result_df = result_df.sort_values(by='Lift', ascending=False)\n",
    "print(result_df.head(15))"
   ]
  },
  {
   "cell_type": "code",
   "execution_count": 63,
   "metadata": {},
   "outputs": [
    {
     "name": "stdout",
     "output_type": "stream",
     "text": [
      "                   Left_side                Right_side   Support  Confidence  \\\n",
      "424        HERB MARKER THYME      HERB MARKER ROSEMARY  0.011073    0.932489   \n",
      "407      HERB MARKER CHIVES        HERB MARKER PARSLEY  0.009670    0.923445   \n",
      "423     HERB MARKER ROSEMARY         HERB MARKER THYME  0.011073    0.920833   \n",
      "1315  REGENCY TEA PLATE PINK  REGENCY TEA PLATE GREEN   0.013929    0.911475   \n",
      "405      HERB MARKER CHIVES           HERB MARKER MINT  0.009520    0.909091   \n",
      "411      HERB MARKER CHIVES          HERB MARKER THYME  0.009470    0.904306   \n",
      "409      HERB MARKER CHIVES       HERB MARKER ROSEMARY  0.009470    0.904306   \n",
      "419      HERB MARKER PARSLEY      HERB MARKER ROSEMARY  0.010773    0.903361   \n",
      "422        HERB MARKER THYME       HERB MARKER PARSLEY  0.010672    0.898734   \n",
      "420     HERB MARKER ROSEMARY       HERB MARKER PARSLEY  0.010773    0.895833   \n",
      "421      HERB MARKER PARSLEY         HERB MARKER THYME  0.010672    0.894958   \n",
      "402     HERB MARKER ROSEMARY         HERB MARKER BASIL  0.010723    0.891667   \n",
      "414      HERB MARKER PARSLEY          HERB MARKER MINT  0.010622    0.890756   \n",
      "400      HERB MARKER PARSLEY         HERB MARKER BASIL  0.010622    0.890756   \n",
      "404        HERB MARKER THYME         HERB MARKER BASIL  0.010522    0.886076   \n",
      "\n",
      "           Lift  \n",
      "424   77.544269  \n",
      "407   77.437457  \n",
      "423   77.544269  \n",
      "1315  47.746001  \n",
      "405   75.598485  \n",
      "411   76.152504  \n",
      "409   75.200598  \n",
      "419   75.122024  \n",
      "422   75.365280  \n",
      "420   75.122024  \n",
      "421   75.365280  \n",
      "402   73.536708  \n",
      "414   74.073810  \n",
      "400   73.461629  \n",
      "404   73.075636  \n"
     ]
    }
   ],
   "source": [
    "# sort all acquired rules descending by lift\n",
    "result_df = result_df.sort_values(by='Confidence', ascending=False)\n",
    "print(result_df.head(15))"
   ]
  },
  {
   "cell_type": "code",
   "execution_count": 61,
   "metadata": {},
   "outputs": [
    {
     "name": "stdout",
     "output_type": "stream",
     "text": [
      "               Left_side            Right_side   Support  Confidence  \\\n",
      "407  HERB MARKER CHIVES    HERB MARKER PARSLEY  0.009670    0.923445   \n",
      "411  HERB MARKER CHIVES      HERB MARKER THYME  0.009470    0.904306   \n",
      "405  HERB MARKER CHIVES       HERB MARKER MINT  0.009520    0.909091   \n",
      "409  HERB MARKER CHIVES   HERB MARKER ROSEMARY  0.009470    0.904306   \n",
      "396  HERB MARKER CHIVES      HERB MARKER BASIL  0.009119    0.870813   \n",
      "\n",
      "          Lift  \n",
      "407  77.437457  \n",
      "411  76.152504  \n",
      "405  75.598485  \n",
      "409  75.200598  \n",
      "396  71.816916  \n"
     ]
    }
   ],
   "source": [
    "search = result_df[result_df['Left_side'] == 'HERB MARKER CHIVES ']\n",
    "print(search)"
   ]
  },
  {
   "cell_type": "code",
   "execution_count": null,
   "metadata": {},
   "outputs": [],
   "source": []
  },
  {
   "cell_type": "code",
   "execution_count": null,
   "metadata": {},
   "outputs": [],
   "source": []
  }
 ],
 "metadata": {
  "kernelspec": {
   "display_name": "Python 3",
   "language": "python",
   "name": "python3"
  },
  "language_info": {
   "codemirror_mode": {
    "name": "ipython",
    "version": 3
   },
   "file_extension": ".py",
   "mimetype": "text/x-python",
   "name": "python",
   "nbconvert_exporter": "python",
   "pygments_lexer": "ipython3",
   "version": "3.7.3"
  }
 },
 "nbformat": 4,
 "nbformat_minor": 2
}
