{
 "cells": [
  {
   "cell_type": "code",
   "execution_count": 1,
   "metadata": {},
   "outputs": [],
   "source": [
    "import pandas as pd\n",
    "import numpy as np\n",
    "from sklearn.model_selection import train_test_split, GridSearchCV \n",
    "from sklearn.preprocessing import StandardScaler\n",
    "from sklearn.neural_network import MLPClassifier\n",
    "from sklearn.metrics import classification_report, accuracy_score,confusion_matrix\n",
    "from sklearn.feature_selection import SelectFromModel,RFECV\n",
    "from sklearn.tree import DecisionTreeClassifier\n",
    "from sklearn.linear_model import LogisticRegression\n",
    "import pydot\n",
    "from io import StringIO\n",
    "from sklearn.tree import export_graphviz\n",
    "\n",
    "from tools import data_prep \n",
    "import matplotlib.pyplot as plt\n",
    "import seaborn as sns\n",
    "\n",
    "%matplotlib inline"
   ]
  },
  {
   "cell_type": "markdown",
   "metadata": {},
   "source": [
    "### Splitting the dataset "
   ]
  },
  {
   "cell_type": "code",
   "execution_count": 4,
   "metadata": {},
   "outputs": [
    {
     "name": "stderr",
     "output_type": "stream",
     "text": [
      "D:\\Programs\\conda\\lib\\site-packages\\IPython\\core\\interactiveshell.py:2903: DtypeWarning: Columns (27) have mixed types. Specify dtype option on import or set low_memory=False.\n",
      "  if self.run_code(code, result):\n"
     ]
    },
    {
     "name": "stdout",
     "output_type": "stream",
     "text": [
      "<class 'pandas.core.frame.DataFrame'>\n",
      "Int64Index: 41432 entries, 0 to 41475\n",
      "Data columns (total 31 columns):\n",
      "PurchaseID                           41432 non-null int64\n",
      "PurchaseTimestamp                    41432 non-null int64\n",
      "PurchaseDate                         41432 non-null object\n",
      "Auction                              41432 non-null object\n",
      "VehYear                              41432 non-null float64\n",
      "Make                                 41432 non-null object\n",
      "Color                                41432 non-null object\n",
      "Transmission                         41432 non-null object\n",
      "WheelTypeID                          41432 non-null object\n",
      "WheelType                            41380 non-null object\n",
      "VehOdo                               41432 non-null float64\n",
      "Nationality                          41432 non-null object\n",
      "Size                                 41432 non-null object\n",
      "TopThreeAmericanName                 41432 non-null object\n",
      "MMRAcquisitionAuctionAveragePrice    41416 non-null object\n",
      "MMRAcquisitionAuctionCleanPrice      41429 non-null object\n",
      "MMRAcquisitionRetailAveragePrice     41429 non-null object\n",
      "MMRAcquisitonRetailCleanPrice        41327 non-null object\n",
      "MMRCurrentAuctionAveragePrice        41429 non-null object\n",
      "MMRCurrentAuctionCleanPrice          41429 non-null object\n",
      "MMRCurrentRetailAveragePrice         41409 non-null object\n",
      "MMRCurrentRetailCleanPrice           41409 non-null object\n",
      "MMRCurrentRetailRatio                41116 non-null object\n",
      "PRIMEUNIT                            41432 non-null object\n",
      "AUCGUART                             41432 non-null object\n",
      "VNST                                 41432 non-null object\n",
      "VehBCost                             41432 non-null object\n",
      "IsOnlineSale                         41432 non-null object\n",
      "WarrantyCost                         41432 non-null float64\n",
      "ForSale                              41432 non-null object\n",
      "IsBadBuy                             41432 non-null int64\n",
      "dtypes: float64(3), int64(3), object(25)\n",
      "memory usage: 10.1+ MB\n"
     ]
    }
   ],
   "source": [
    "df = data_prep()\n",
    "y = df['IsBadBuy']\n",
    "X = df.drop(['IsBadBuy'], axis=1)"
   ]
  },
  {
   "cell_type": "code",
   "execution_count": 6,
   "metadata": {},
   "outputs": [
    {
     "name": "stdout",
     "output_type": "stream",
     "text": [
      "(7511, 126)\n"
     ]
    },
    {
     "name": "stderr",
     "output_type": "stream",
     "text": [
      "D:\\Programs\\conda\\lib\\site-packages\\ipykernel_launcher.py:2: FutureWarning: Method .as_matrix will be removed in a future version. Use .values instead.\n",
      "  \n"
     ]
    }
   ],
   "source": [
    "rs = 10\n",
    "X_mat = X.as_matrix()\n",
    "X_train, X_test, y_train, y_test = train_test_split(X_mat, y, test_size=0.30, stratify=y, random_state=rs)\n",
    "\n",
    "# Feature Scaling\n",
    "scaler = StandardScaler()\n",
    "X_train = scaler.fit_transform(X_train, y_train)\n",
    "X_test = scaler.transform(X_test)\n",
    "print(X_train.shape)\n",
    "# (7511, 126)\n"
   ]
  },
  {
   "cell_type": "markdown",
   "metadata": {},
   "source": [
    "## Task 4"
   ]
  },
  {
   "cell_type": "markdown",
   "metadata": {},
   "source": [
    "### Task 4.1 Neural network --default setting"
   ]
  },
  {
   "cell_type": "code",
   "execution_count": null,
   "metadata": {},
   "outputs": [],
   "source": [
    "# Fitting model to the Training set\n",
    "model = MLPClassifier(random_state=rs,verbose=True)\n",
    "model.fit(X_train, y_train)\n",
    "\n",
    "test_score=model.score(X_test, y_test)\n",
    "train_score=model.score(X_train, y_train)\n",
    "\n",
    "print(model)\n",
    "print(\"\\nTrain accuracy:\", model.score(X_train, y_train))\n",
    "print(\"Test accuracy:\", model.score(X_test, y_test))\n",
    "\n",
    "# Predicting the Test set results\n",
    "y_pred = model.predict(X_test)\n",
    "print('\\n',classification_report(y_test, y_pred))\n",
    "\n",
    "\n",
    "print('\\n')\n",
    "\n",
    "#  Making the Confusion Matrix\n",
    "cm = confusion_matrix(y_test, y_pred)\n",
    "sns.heatmap(cm, center=True, annot=True, fmt=\"d\").set_title(\"Confusion Matrix Default NN\")"
   ]
  },
  {
   "cell_type": "markdown",
   "metadata": {},
   "source": [
    "### Task 4.2 GridSearch\n"
   ]
  },
  {
   "cell_type": "code",
   "execution_count": 26,
   "metadata": {},
   "outputs": [],
   "source": [
    "# Build classifier model as estimator for the GridSearchCV model\n",
    "model_nn = MLPClassifier(random_state=rs, warm_start =True, max_iter=1000,verbose = True)"
   ]
  },
  {
   "cell_type": "code",
   "execution_count": 6,
   "metadata": {},
   "outputs": [],
   "source": [
    "# Build GridSearchCV base model\n",
    "def GridSearch(model, params):\n",
    "    # grid search \n",
    "    #param_grid=params\n",
    "    cv = GridSearchCV(param_grid= params,\n",
    "                  estimator=model, \n",
    "                  scoring= 'accuracy',\n",
    "                  cv=10, \n",
    "                  n_jobs=-1)\n",
    "    \n",
    "    # fit the model \n",
    "    cv.fit(X_train, y_train)\n",
    "    \n",
    "    # Print the model architecture\n",
    "    print(\"\\n Model Description\\n\", cv)\n",
    "    \n",
    "    # Evaluation metrics\n",
    "    print(\"Train accuracy:\", cv.score(X_train, y_train))\n",
    "    print(\"Test accuracy:\", cv.score(X_test, y_test))\n",
    "    \n",
    "    #Print Classification Report\n",
    "    y_pred = cv.predict(X_test)\n",
    "    print(classification_report(y_test, y_pred))\n",
    "    print(\"\\n Best Score\", cv.best_score_)\n",
    "    \n",
    "    # Print the Best Params\n",
    "    print(\"\\n Best Param\")\n",
    "    print(cv.best_params_)\n",
    "    \n",
    "    #  Making the Confusion Matrix\n",
    "    cm = confusion_matrix(y_test, y_pred)\n",
    "    sns.heatmap(cm, center=True, annot=True, fmt=\"d\",).set_title(\"Confusion Matrix\")"
   ]
  },
  {
   "cell_type": "code",
   "execution_count": null,
   "metadata": {},
   "outputs": [],
   "source": [
    "# Params with 1 param only\n",
    "params = {'hidden_layer_sizes': [(x,) for x in range(5, 86, 20)]}\n",
    "GridSearch(model_nn, params)"
   ]
  },
  {
   "cell_type": "code",
   "execution_count": null,
   "metadata": {},
   "outputs": [],
   "source": [
    "# Params with 2 params\n",
    "params_2 = {'hidden_layer_sizes': [(3,), (5,), (7,), (9,)], \n",
    "          'alpha': [0.01,0.001, 0.0001,]}\n",
    "GridSearch(model_nn,params_2)"
   ]
  },
  {
   "cell_type": "code",
   "execution_count": null,
   "metadata": {},
   "outputs": [],
   "source": [
    "# Params with 6 params\n",
    "params_6 = {'hidden_layer_sizes': [(2,), (3,), (4,),], #HLS=3 from last GridSearch\n",
    "          'alpha': [0.001, 0.003, 0.005],# 0.001 from last GridSearch\n",
    "          'activation': ['tanh', 'relu'], #added t\n",
    "          'solver': ['sgd','adam'], # added\n",
    "          'learning_rate': ['constant','adaptive'],\n",
    "          'learning_rate_init':[0.01, 0.3, 0.5,1.0]}\n",
    "GridSearch(model_nn,params_6)"
   ]
  },
  {
   "cell_type": "code",
   "execution_count": null,
   "metadata": {},
   "outputs": [],
   "source": []
  },
  {
   "cell_type": "markdown",
   "metadata": {},
   "source": [
    "### Task 4.3 Feature selection (RFE,Log,Dt selection feature"
   ]
  },
  {
   "cell_type": "code",
   "execution_count": 7,
   "metadata": {},
   "outputs": [],
   "source": [
    "model_lr = LogisticRegression(random_state=rs, max_iter = 10000) # converge warning @100: max_iter set to 1000"
   ]
  },
  {
   "cell_type": "markdown",
   "metadata": {},
   "source": [
    "####  Log transformation on Logistic Regression"
   ]
  },
  {
   "cell_type": "code",
   "execution_count": 10,
   "metadata": {},
   "outputs": [],
   "source": [
    "#Visualise numeric columns\n",
    "def plot_skewed_columns(df):\n",
    "    # setting up subplots for easier visualisation\n",
    "    f, axes = plt.subplots(3,3, figsize=(12,12), sharex=False)\n",
    "\n",
    "    # acquisition price plots\n",
    "    sns.distplot(df['MMRAcquisitionAuctionAveragePrice'].dropna(), hist=False, ax=axes[0,0])\n",
    "    sns.distplot(df['MMRAcquisitionAuctionCleanPrice'].dropna(), hist=False, ax=axes[0,1])\n",
    "    sns.distplot(df['MMRAcquisitionRetailAveragePrice'].dropna(), hist=False, ax=axes[0,2])\n",
    "    sns.distplot(df['MMRAcquisitonRetailCleanPrice'].dropna(), hist=False, ax=axes[1,0])\n",
    "\n",
    "    # current price plots\n",
    "    sns.distplot(df['MMRCurrentAuctionAveragePrice'].dropna(), hist=False, ax=axes[1,1])\n",
    "    sns.distplot(df['MMRCurrentAuctionCleanPrice'].dropna(), hist=False, ax=axes[1,2])\n",
    "    sns.distplot(df['MMRCurrentRetailAveragePrice'].dropna(), hist=False, ax=axes[2,0])\n",
    "    sns.distplot(df['MMRCurrentRetailCleanPrice'].dropna(), hist=False, ax=axes[2,1])\n",
    "    \n",
    "    sns.distplot(df['VehBCost'].dropna(), hist=False, ax=axes[2,2]) \n",
    "    \n",
    "#plot_skewed_columns(df)\n",
    "\n",
    "\n",
    "# Transform columns and visualise\n",
    "# list columns to be transformed\n",
    "columns_to_transform = ['MMRAcquisitionAuctionAveragePrice', 'MMRAcquisitionAuctionCleanPrice', 'MMRAcquisitionRetailAveragePrice', 'MMRAcquisitonRetailCleanPrice',\n",
    "                        'MMRCurrentAuctionAveragePrice', 'MMRCurrentAuctionCleanPrice', 'MMRCurrentRetailAveragePrice', 'MMRCurrentRetailCleanPrice','VehBCost']\n",
    "\n",
    "# copy the dataframe\n",
    "df_log = df.copy()\n",
    "\n",
    "# transform the columns with np.log\n",
    "for col in columns_to_transform:\n",
    "    df_log[col] = df_log[col].apply(lambda x: x+1)\n",
    "    df_log[col] = df_log[col].apply(np.log)\n",
    "    \n",
    "# plot them again to show the distribution\n",
    "#plot_skewed_columns(df_log)\n",
    "    "
   ]
  },
  {
   "cell_type": "code",
   "execution_count": 13,
   "metadata": {},
   "outputs": [
    {
     "name": "stdout",
     "output_type": "stream",
     "text": [
      "Train accuracy: 0.8249234456131008\n",
      "Test accuracy: 0.8232370301335818\n",
      "              precision    recall  f1-score   support\n",
      "\n",
      "           0       0.77      0.92      0.84      1609\n",
      "           1       0.90      0.73      0.81      1610\n",
      "\n",
      "   micro avg       0.82      0.82      0.82      3219\n",
      "   macro avg       0.83      0.82      0.82      3219\n",
      "weighted avg       0.83      0.82      0.82      3219\n",
      "\n",
      "{'C': 10, 'penalty': 'l2', 'solver': 'liblinear'}\n"
     ]
    }
   ],
   "source": [
    "# create X, y and train test data partitions\n",
    "y_log = df_log['IsBadBuy']\n",
    "X_log = df_log.drop(['IsBadBuy'], axis=1)\n",
    "X_mat_log = X_log.as_matrix()\n",
    "X_train_log, X_test_log, y_train_log, y_test_log = train_test_split(X_mat_log, y_log, test_size=0.3, stratify=y_log, \n",
    "                                                                    random_state=rs)\n",
    "\n",
    "# standardise them again\n",
    "scaler_log = StandardScaler()\n",
    "X_train_log = scaler_log.fit_transform(X_train_log, y_train_log)\n",
    "X_test_log = scaler_log.transform(X_test_log)\n",
    "# grid search CV for log transformed data\n",
    "#params = {'C': [pow(10, x) for x in range(-6, 4)]}\n",
    "params = {'C': [pow(10, x) for x in range(-6, 4)],\n",
    "          'penalty':['l2'],\n",
    "          #'C':[0.8,1.2],\n",
    "          'solver':['newton-cg', 'lbfgs', 'sag', 'saga','liblinear']}\n",
    "           # 'solver':['liblinear']}\n",
    "    \n",
    "cv = GridSearchCV(param_grid=params, estimator=LogisticRegression(random_state=rs), cv=10, n_jobs=-1)\n",
    "cv.fit(X_train_log, y_train_log)\n",
    "\n",
    "# test the best model\n",
    "print(\"Train accuracy:\", cv.score(X_train_log, y_train_log))\n",
    "print(\"Test accuracy:\", cv.score(X_test_log, y_test_log))\n",
    "\n",
    "y_pred = cv.predict(X_test_log)\n",
    "print(classification_report(y_test_log, y_pred))\n",
    "\n",
    "# print parameters of the best model\n",
    "print(cv.best_params_)"
   ]
  },
  {
   "cell_type": "markdown",
   "metadata": {},
   "source": [
    "#### RFE on Logistic Regression Model"
   ]
  },
  {
   "cell_type": "code",
   "execution_count": 15,
   "metadata": {},
   "outputs": [
    {
     "name": "stdout",
     "output_type": "stream",
     "text": [
      "Original feature set 126\n",
      "Number of features after elimination 50\n"
     ]
    }
   ],
   "source": [
    "# RFE Logistic Regression \n",
    "#model_lr=LogisticRegression(random_state=rs, max_iter = 10000, solver = 'liblinear')\n",
    "rfe = RFECV(estimator = mLogisticRegression(random_state=rs, max_iter = 10000, solver = 'liblinear'), cv=10)\n",
    "rfe.fit(X_train, y_train) # run the RFECV on log transformed dataset\n",
    "# comparing how many variables before and after\n",
    "print(\"Original feature set\", X_train.shape[1])\n",
    "print(\"Number of features after elimination\", rfe.n_features_)\n",
    "\n",
    "# output\n",
    "#Original feature set 126\n",
    "#Number of features after elimination 50"
   ]
  },
  {
   "cell_type": "code",
   "execution_count": 17,
   "metadata": {},
   "outputs": [
    {
     "name": "stdout",
     "output_type": "stream",
     "text": [
      "Train accuracy: 0.8239914791638929\n",
      "Test accuracy: 0.8219944082013048\n",
      "              precision    recall  f1-score   support\n",
      "\n",
      "           0       0.77      0.92      0.84      1609\n",
      "           1       0.90      0.72      0.80      1610\n",
      "\n",
      "   micro avg       0.82      0.82      0.82      3219\n",
      "   macro avg       0.83      0.82      0.82      3219\n",
      "weighted avg       0.83      0.82      0.82      3219\n",
      "\n",
      "{'C': 0.1, 'penalty': 'l2', 'solver': 'newton-cg'}\n"
     ]
    },
    {
     "data": {
      "text/plain": [
       "Text(0.5,1,'Confusion Matrix')"
      ]
     },
     "execution_count": 17,
     "metadata": {},
     "output_type": "execute_result"
    },
    {
     "data": {
      "image/png": "[encoded data removed]",
      "text/plain": [
       "<Figure size 432x288 with 2 Axes>"
      ]
     },
     "metadata": {},
     "output_type": "display_data"
    }
   ],
   "source": [
    "# transformed origial input taking only important features(50)\n",
    "X_train_sel = rfe.transform(X_train)\n",
    "X_test_sel = rfe.transform(X_test)\n",
    "# RFE in GrisSearchCV LogistisRegression \n",
    "params = {'C': [pow(10, x) for x in range(-6, 4)],\n",
    "          'penalty':['l2'],\n",
    "          #'C':[0.8,1.2],\n",
    "          'solver':['newton-cg', 'lbfgs', 'sag', 'saga','liblinear']}\n",
    "           # 'solver':['liblinear']}\n",
    "cv = GridSearchCV(param_grid=params, estimator= model_lr, cv=10, n_jobs=-1)\n",
    "cv.fit(X_train_sel, y_train)\n",
    "\n",
    "# test the best model\n",
    "print(\"Train accuracy:\", cv.score(X_train_sel, y_train))\n",
    "print(\"Test accuracy:\", cv.score(X_test_sel, y_test))\n",
    "\n",
    "y_pred = cv.predict(X_test_sel)\n",
    "print(classification_report(y_test, y_pred))\n",
    "\n",
    "# print parameters of the best model\n",
    "print(cv.best_params_)\n",
    "\n",
    "#  Making the Confusion Matrix\n",
    "cm = confusion_matrix(y_test, y_pred)\n",
    "sns.heatmap(cm, center=True, annot=True, fmt=\"d\",).set_title(\"Confusion Matrix\")\n",
    "#Train accuracy: 0.8239914791638929\n",
    "#Test accuracy: 0.8219944082013048\n",
    "#            precision    recall  f1-score   support\n",
    "\n",
    "#          0       0.77      0.92      0.84      1609\n",
    "#          1       0.90      0.72      0.80      1610"
   ]
  },
  {
   "cell_type": "markdown",
   "metadata": {},
   "source": [
    "#### Logistic Regression RFE + Log"
   ]
  },
  {
   "cell_type": "code",
   "execution_count": 47,
   "metadata": {},
   "outputs": [
    {
     "name": "stdout",
     "output_type": "stream",
     "text": [
      "Original feature set 126\n",
      "Number of features after elimination 47\n"
     ]
    }
   ],
   "source": [
    "# running RFE + log transformation\n",
    "rfe = RFECV(estimator = model_lr, cv=10)\n",
    "rfe.fit(X_train_log, y_train_log) # run the RFECV on log transformed dataset\n",
    "\n",
    "# comparing how many variables before and after\n",
    "print(\"Original feature set\", X_train_log.shape[1])\n",
    "print(\"Number of features after elimination\", rfe.n_features_)\n",
    "# Original feature set 126\n",
    "# Number of features after elimination 47\n",
    "\n",
    "#rfe ranking\n",
    "#print(\"Ranking\", rfe._ranking)\n",
    "\n",
    "# select features from log transformed dataset(47)\n",
    "X_train_sel_log = rfe.transform(X_train_log)\n",
    "X_test_sel_log = rfe.transform(X_test_log)\n",
    "\n",
    "# init grid search CV on transformed dataset\n",
    "cv = GridSearchCV(param_grid=params, estimator= model_lr, cv=10, n_jobs=-1)\n",
    "cv.fit(X_train_sel_log, y_train_log)\n",
    "\n",
    "# test the best model\n",
    "print(\"Train accuracy:\", cv.score(X_train_sel_log, y_train_log))\n",
    "print(\"Test accuracy:\", cv.score(X_test_sel_log, y_test_log))\n",
    "\n",
    "y_pred_log = cv.predict(X_test_sel_log)\n",
    "print(classification_report(y_test_log, y_pred_log))\n",
    "\n",
    "# print parameters of the best model\n",
    "print(cv.best_params_)\n",
    "\n",
    "#  Making the Confusion Matrix\n",
    "cm = confusion_matrix(y_test_log, y_pred)\n",
    "sns.heatmap(cm, center=True, annot=True, fmt=\"d\",).set_title(\"Confusion Matrix Regression RFE + Log\")"
   ]
  },
  {
   "cell_type": "markdown",
   "metadata": {},
   "source": [
    "#### Decision Tree feature selection"
   ]
  },
  {
   "cell_type": "code",
   "execution_count": 38,
   "metadata": {},
   "outputs": [
    {
     "name": "stdout",
     "output_type": "stream",
     "text": [
      "{'criterion': 'gini', 'max_depth': 7, 'min_samples_leaf': 20}\n",
      "\n",
      "\n",
      "*********** Feature Importances ************\n",
      "\n",
      "Auction_ADESA                      :0.5176540074804418\n",
      "MMRCurrentAuctionAveragePrice      :0.13174921064149606\n",
      "VNST_OK                            :0.08327287541916883\n",
      "VNST_CO                            :0.046980374393189514\n",
      "VNST_AZ                            :0.041939879545988185\n",
      "VNST_PA                            :0.026387168478151042\n",
      "Auction_MANHEIM                    :0.024844892828453393\n",
      "VNST_MO                            :0.023951674346237097\n",
      "VehBCost                           :0.023357179241310644\n",
      "WheelType_Covers                   :0.021930342177082365\n",
      "VNST_CA                            :0.013959942257897904\n",
      "VNST_NC                            :0.01197805445920417\n",
      "MMRCurrentRetailRatio              :0.007710191209249742\n",
      "VNST_FL                            :0.0062271442202155745\n",
      "VNST_VA                            :0.004565215501667725\n",
      "VNST_TX                            :0.0042783638161687145\n",
      "MMRAcquisitionAuctionAveragePrice  :0.003778788018178759\n",
      "WarrantyCost                       :0.0030546043653619805\n",
      "MMRAcquisitionRetailAveragePrice   :0.0023800916005366915\n",
      "Make_MINI                          :0.0\n",
      "(7511, 12)\n"
     ]
    }
   ],
   "source": [
    "#from dm_tools import analyse_feature_importance\n",
    "params = {'criterion': ['gini', 'entropy'],\n",
    "          'max_depth': range(3, 8),\n",
    "          'min_samples_leaf': range(20, 61, 10)}\n",
    "\n",
    "cv = GridSearchCV(param_grid=params, estimator=DecisionTreeClassifier(random_state=rs), cv=10)\n",
    "cv.fit(X_train_log, y_train_log)\n",
    "\n",
    "print(cv.best_params_)\n",
    "#analyse_feature_importance(cv.best_estimator_, X_log.columns)\n",
    "# grab feature importances from the model\n",
    "\n",
    "dm_model = cv.best_estimator_\n",
    "importances = dm_model.feature_importances_  \n",
    "\n",
    "# sort them out in descending order\n",
    "indices = np.argsort(importances)\n",
    "indices = np.flip(indices, axis=0)\n",
    "\n",
    "# limit to 20 features, you can leave this out to print out everything\n",
    "indices = indices[:20]\n",
    "\n",
    "print(\"\\n\\n*********** Feature Importances ************\\n\")   \n",
    "for i in indices:\n",
    "    print(f\"{X_log.columns[i]:<35}:{importances[i]}\")\n",
    "\n",
    "# 19 features with more than 0\n",
    "\n",
    "from sklearn.feature_selection import SelectFromModel\n",
    "\n",
    "selectmodel = SelectFromModel(cv.best_estimator_, prefit=True)\n",
    "X_train_sel_model = selectmodel.transform(X_train)\n",
    "X_test_sel_model = selectmodel.transform(X_test)\n",
    "\n",
    "print(X_train_sel_model.shape)\n",
    "# (7511, 12)"
   ]
  },
  {
   "cell_type": "markdown",
   "metadata": {},
   "source": [
    "#### Task 4.3.1 Logistic Regression RFE and Log"
   ]
  },
  {
   "cell_type": "markdown",
   "metadata": {},
   "source": [
    "##### Neural GridSearchCV using RFE from Logistic Regression"
   ]
  },
  {
   "cell_type": "code",
   "execution_count": 32,
   "metadata": {},
   "outputs": [
    {
     "name": "stdout",
     "output_type": "stream",
     "text": [
      "Iteration 1, loss = 0.66488259\n",
      "Iteration 2, loss = 0.56860865\n",
      "Iteration 3, loss = 0.51053064\n",
      "Iteration 4, loss = 0.47501981\n",
      "Iteration 5, loss = 0.45153033\n",
      "Iteration 6, loss = 0.43506463\n",
      "Iteration 7, loss = 0.42281238\n",
      "Iteration 8, loss = 0.41313867\n",
      "Iteration 9, loss = 0.40587406\n",
      "Iteration 10, loss = 0.40028697\n",
      "Iteration 11, loss = 0.39585033\n",
      "Iteration 12, loss = 0.39220931\n",
      "Iteration 13, loss = 0.38917261\n",
      "Iteration 14, loss = 0.38617381\n",
      "Iteration 15, loss = 0.38372360\n",
      "Iteration 16, loss = 0.38145256\n",
      "Iteration 17, loss = 0.37931408\n",
      "Iteration 18, loss = 0.37728496\n",
      "Iteration 19, loss = 0.37563579\n",
      "Iteration 20, loss = 0.37398849\n",
      "Iteration 21, loss = 0.37222824\n",
      "Iteration 22, loss = 0.37097575\n",
      "Iteration 23, loss = 0.36956937\n",
      "Iteration 24, loss = 0.36843924\n",
      "Iteration 25, loss = 0.36704381\n",
      "Iteration 26, loss = 0.36567032\n",
      "Iteration 27, loss = 0.36473613\n",
      "Iteration 28, loss = 0.36321529\n",
      "Iteration 29, loss = 0.36212634\n",
      "Iteration 30, loss = 0.36093319\n",
      "Iteration 31, loss = 0.36004026\n",
      "Iteration 32, loss = 0.35898728\n",
      "Iteration 33, loss = 0.35839995\n",
      "Iteration 34, loss = 0.35755732\n",
      "Iteration 35, loss = 0.35650886\n",
      "Iteration 36, loss = 0.35578953\n",
      "Iteration 37, loss = 0.35547316\n",
      "Iteration 38, loss = 0.35479363\n",
      "Iteration 39, loss = 0.35415797\n",
      "Iteration 40, loss = 0.35362183\n",
      "Iteration 41, loss = 0.35271234\n",
      "Iteration 42, loss = 0.35233676\n",
      "Iteration 43, loss = 0.35188449\n",
      "Iteration 44, loss = 0.35121301\n",
      "Iteration 45, loss = 0.35080100\n",
      "Iteration 46, loss = 0.35026088\n",
      "Iteration 47, loss = 0.34969624\n",
      "Iteration 48, loss = 0.34947900\n",
      "Iteration 49, loss = 0.34910636\n",
      "Iteration 50, loss = 0.34852954\n",
      "Iteration 51, loss = 0.34802802\n",
      "Iteration 52, loss = 0.34758771\n",
      "Iteration 53, loss = 0.34736516\n",
      "Iteration 54, loss = 0.34670049\n",
      "Iteration 55, loss = 0.34627671\n",
      "Iteration 56, loss = 0.34597532\n",
      "Iteration 57, loss = 0.34569658\n",
      "Iteration 58, loss = 0.34507222\n",
      "Iteration 59, loss = 0.34493892\n",
      "Iteration 60, loss = 0.34449372\n",
      "Iteration 61, loss = 0.34393313\n",
      "Iteration 62, loss = 0.34388767\n",
      "Iteration 63, loss = 0.34346237\n",
      "Iteration 64, loss = 0.34339184\n",
      "Iteration 65, loss = 0.34300835\n",
      "Iteration 66, loss = 0.34262484\n",
      "Iteration 67, loss = 0.34261166\n",
      "Iteration 68, loss = 0.34212338\n",
      "Iteration 69, loss = 0.34216392\n",
      "Iteration 70, loss = 0.34199148\n",
      "Iteration 71, loss = 0.34156484\n",
      "Iteration 72, loss = 0.34129042\n",
      "Iteration 73, loss = 0.34119658\n",
      "Iteration 74, loss = 0.34059054\n",
      "Iteration 75, loss = 0.34051203\n",
      "Iteration 76, loss = 0.34066264\n",
      "Iteration 77, loss = 0.34033021\n",
      "Iteration 78, loss = 0.33969154\n",
      "Iteration 79, loss = 0.33971041\n",
      "Iteration 80, loss = 0.33955213\n",
      "Iteration 81, loss = 0.33933451\n",
      "Iteration 82, loss = 0.33883534\n",
      "Iteration 83, loss = 0.33871393\n",
      "Iteration 84, loss = 0.33873211\n",
      "Iteration 85, loss = 0.33859003\n",
      "Iteration 86, loss = 0.33831308\n",
      "Iteration 87, loss = 0.33810700\n",
      "Iteration 88, loss = 0.33818682\n",
      "Iteration 89, loss = 0.33797654\n",
      "Iteration 90, loss = 0.33761317\n",
      "Iteration 91, loss = 0.33768735\n",
      "Iteration 92, loss = 0.33743656\n",
      "Iteration 93, loss = 0.33738167\n",
      "Iteration 94, loss = 0.33724058\n",
      "Iteration 95, loss = 0.33696541\n",
      "Iteration 96, loss = 0.33694295\n",
      "Iteration 97, loss = 0.33664580\n",
      "Iteration 98, loss = 0.33669470\n",
      "Iteration 99, loss = 0.33660323\n",
      "Iteration 100, loss = 0.33627960\n",
      "Iteration 101, loss = 0.33613551\n",
      "Iteration 102, loss = 0.33617286\n",
      "Iteration 103, loss = 0.33603155\n",
      "Iteration 104, loss = 0.33578753\n",
      "Iteration 105, loss = 0.33601664\n",
      "Iteration 106, loss = 0.33541339\n",
      "Iteration 107, loss = 0.33582498\n",
      "Iteration 108, loss = 0.33565911\n",
      "Iteration 109, loss = 0.33532130\n",
      "Iteration 110, loss = 0.33566907\n",
      "Iteration 111, loss = 0.33541900\n",
      "Iteration 112, loss = 0.33506272\n",
      "Iteration 113, loss = 0.33504616\n",
      "Iteration 114, loss = 0.33488982\n",
      "Iteration 115, loss = 0.33508243\n",
      "Iteration 116, loss = 0.33501107\n",
      "Iteration 117, loss = 0.33475699\n",
      "Iteration 118, loss = 0.33501251\n",
      "Iteration 119, loss = 0.33450749\n",
      "Iteration 120, loss = 0.33431237\n",
      "Iteration 121, loss = 0.33441348\n",
      "Iteration 122, loss = 0.33442604\n",
      "Iteration 123, loss = 0.33454321\n",
      "Iteration 124, loss = 0.33438095\n",
      "Iteration 125, loss = 0.33458077\n",
      "Iteration 126, loss = 0.33449895\n",
      "Iteration 127, loss = 0.33378530\n",
      "Iteration 128, loss = 0.33423616\n",
      "Iteration 129, loss = 0.33381860\n",
      "Iteration 130, loss = 0.33383894\n",
      "Iteration 131, loss = 0.33363554\n",
      "Iteration 132, loss = 0.33396741\n",
      "Iteration 133, loss = 0.33393176\n",
      "Iteration 134, loss = 0.33334018\n",
      "Iteration 135, loss = 0.33415413\n",
      "Iteration 136, loss = 0.33345522\n",
      "Iteration 137, loss = 0.33361059\n",
      "Iteration 138, loss = 0.33326236\n",
      "Iteration 139, loss = 0.33329284\n",
      "Iteration 140, loss = 0.33331494\n",
      "Iteration 141, loss = 0.33318794\n",
      "Iteration 142, loss = 0.33348824\n",
      "Iteration 143, loss = 0.33315278\n",
      "Iteration 144, loss = 0.33335794\n",
      "Iteration 145, loss = 0.33312703\n",
      "Training loss did not improve more than tol=0.000100 for 10 consecutive epochs. Stopping.\n",
      "\n",
      " Model Description\n",
      " GridSearchCV(cv=10, error_score='raise-deprecating',\n",
      "       estimator=MLPClassifier(activation='relu', alpha=0.0001, batch_size='auto', beta_1=0.9,\n",
      "       beta_2=0.999, early_stopping=False, epsilon=1e-08,\n",
      "       hidden_layer_sizes=(100,), learning_rate='constant',\n",
      "       learning_rate_init=0.001, max_iter=1000, momentum=0.9,\n",
      "       n_iter_no_change=10, nesterovs_momentum=True, power_t=0.5,\n",
      "       random_state=10, shuffle=True, solver='adam', tol=0.0001,\n",
      "       validation_fraction=0.1, verbose=True, warm_start=True),\n",
      "       fit_params=None, iid='warn', n_jobs=-1,\n",
      "       param_grid={'hidden_layer_sizes': [(3,), (5,), (7,), (9,)], 'alpha': [0.01, 0.001, 0.0001]},\n",
      "       pre_dispatch='2*n_jobs', refit=True, return_train_score='warn',\n",
      "       scoring='accuracy', verbose=0)\n",
      "Train accuracy: 0.848355744907469\n",
      "Test accuracy: 0.8353525939732837\n",
      "\n",
      "               precision    recall  f1-score   support\n",
      "\n",
      "           0       0.79      0.91      0.85      1609\n",
      "           1       0.89      0.76      0.82      1610\n",
      "\n",
      "   micro avg       0.84      0.84      0.84      3219\n",
      "   macro avg       0.84      0.84      0.83      3219\n",
      "weighted avg       0.84      0.84      0.83      3219\n",
      "\n",
      "\n",
      " Best Score 0.8379709759020104\n",
      "\n",
      " Best Param\n",
      "{'alpha': 0.0001, 'hidden_layer_sizes': (7,)}\n"
     ]
    },
    {
     "data": {
      "text/plain": [
       "Text(0.5,1,'CM Neural Netwith Regression RFE')"
      ]
     },
     "execution_count": 32,
     "metadata": {},
     "output_type": "execute_result"
    },
    {
     "data": {
      "image/png": "[encoded data removed]",
      "text/plain": [
       "<Figure size 432x288 with 2 Axes>"
      ]
     },
     "metadata": {},
     "output_type": "display_data"
    }
   ],
   "source": [
    "# Network using best params from neural network Grid Search and 50 input features from Regression RFE\n",
    "model_nn_reg_RFE = GridSearchCV(param_grid= params_2, estimator=model_nn, scoring= 'accuracy',cv=10, n_jobs=-1)\n",
    "    \n",
    "# fit the model \n",
    "model_nn_reg_RFE.fit(X_train_sel, y_train)\n",
    "    \n",
    "# Print the model architecture\n",
    "print(\"\\n Model Description\\n\", model_nn_reg_RFE)\n",
    "    \n",
    "# Evaluation metrics\n",
    "print(\"Train accuracy:\", model_nn_reg_RFE.score(X_train_sel, y_train))\n",
    "print(\"Test accuracy:\", model_nn_reg_RFE.score(X_test_sel, y_test))\n",
    "    \n",
    "#Print Classification Report\n",
    "y_pred = model_nn_reg_RFE.predict(X_test_sel)\n",
    "print('\\n',classification_report(y_test, y_pred))\n",
    "\n",
    "print(\"\\n Best Score\", model_nn_reg_RFE.best_score_)\n",
    "    \n",
    "# Print the Best Params\n",
    "print(\"\\n Best Param\")\n",
    "print(model_nn_reg_RFE.best_params_)\n",
    "    \n",
    "#  Making the Confusion Matrix\n",
    "#  Making the Confusion Matrix\n",
    "cm = confusion_matrix(y_test_log, y_pred)\n",
    "sns.heatmap(cm, center=True, annot=True, fmt=\"d\",).set_title(\"CM Neural Netwith Regression RFE\")"
   ]
  },
  {
   "cell_type": "markdown",
   "metadata": {},
   "source": [
    "#### Neural GRidSearchCV using RFE  and Log Transformation from Logistic Regression"
   ]
  },
  {
   "cell_type": "code",
   "execution_count": 33,
   "metadata": {},
   "outputs": [
    {
     "name": "stdout",
     "output_type": "stream",
     "text": [
      "Iteration 1, loss = 0.66681617\n",
      "Iteration 2, loss = 0.56845287\n",
      "Iteration 3, loss = 0.50947224\n",
      "Iteration 4, loss = 0.47390358\n",
      "Iteration 5, loss = 0.45047805\n",
      "Iteration 6, loss = 0.43376898\n",
      "Iteration 7, loss = 0.42171395\n",
      "Iteration 8, loss = 0.41279552\n",
      "Iteration 9, loss = 0.40594213\n",
      "Iteration 10, loss = 0.40066892\n",
      "Iteration 11, loss = 0.39618438\n",
      "Iteration 12, loss = 0.39273804\n",
      "Iteration 13, loss = 0.38965282\n",
      "Iteration 14, loss = 0.38682461\n",
      "Iteration 15, loss = 0.38444805\n",
      "Iteration 16, loss = 0.38208464\n",
      "Iteration 17, loss = 0.37987330\n",
      "Iteration 18, loss = 0.37814028\n",
      "Iteration 19, loss = 0.37650393\n",
      "Iteration 20, loss = 0.37483105\n",
      "Iteration 21, loss = 0.37336665\n",
      "Iteration 22, loss = 0.37208462\n",
      "Iteration 23, loss = 0.37067159\n",
      "Iteration 24, loss = 0.36965314\n",
      "Iteration 25, loss = 0.36851067\n",
      "Iteration 26, loss = 0.36732072\n",
      "Iteration 27, loss = 0.36646103\n",
      "Iteration 28, loss = 0.36522191\n",
      "Iteration 29, loss = 0.36426281\n",
      "Iteration 30, loss = 0.36331943\n",
      "Iteration 31, loss = 0.36253439\n",
      "Iteration 32, loss = 0.36152898\n",
      "Iteration 33, loss = 0.36105355\n",
      "Iteration 34, loss = 0.36029894\n",
      "Iteration 35, loss = 0.35936752\n",
      "Iteration 36, loss = 0.35871173\n",
      "Iteration 37, loss = 0.35847271\n",
      "Iteration 38, loss = 0.35751637\n",
      "Iteration 39, loss = 0.35693909\n",
      "Iteration 40, loss = 0.35637008\n",
      "Iteration 41, loss = 0.35551702\n",
      "Iteration 42, loss = 0.35493548\n",
      "Iteration 43, loss = 0.35447516\n",
      "Iteration 44, loss = 0.35372607\n",
      "Iteration 45, loss = 0.35319481\n",
      "Iteration 46, loss = 0.35263827\n",
      "Iteration 47, loss = 0.35219187\n",
      "Iteration 48, loss = 0.35182876\n",
      "Iteration 49, loss = 0.35128306\n",
      "Iteration 50, loss = 0.35095944\n",
      "Iteration 51, loss = 0.35040142\n",
      "Iteration 52, loss = 0.34996187\n",
      "Iteration 53, loss = 0.34970172\n",
      "Iteration 54, loss = 0.34936504\n",
      "Iteration 55, loss = 0.34888586\n",
      "Iteration 56, loss = 0.34864856\n",
      "Iteration 57, loss = 0.34844292\n",
      "Iteration 58, loss = 0.34775311\n",
      "Iteration 59, loss = 0.34759677\n",
      "Iteration 60, loss = 0.34720887\n",
      "Iteration 61, loss = 0.34668341\n",
      "Iteration 62, loss = 0.34655963\n",
      "Iteration 63, loss = 0.34615477\n",
      "Iteration 64, loss = 0.34594660\n",
      "Iteration 65, loss = 0.34551311\n",
      "Iteration 66, loss = 0.34515901\n",
      "Iteration 67, loss = 0.34496170\n",
      "Iteration 68, loss = 0.34458547\n",
      "Iteration 69, loss = 0.34444027\n",
      "Iteration 70, loss = 0.34429413\n",
      "Iteration 71, loss = 0.34390250\n",
      "Iteration 72, loss = 0.34368336\n",
      "Iteration 73, loss = 0.34347791\n",
      "Iteration 74, loss = 0.34318891\n",
      "Iteration 75, loss = 0.34273975\n",
      "Iteration 76, loss = 0.34293809\n",
      "Iteration 77, loss = 0.34257986\n",
      "Iteration 78, loss = 0.34216691\n",
      "Iteration 79, loss = 0.34218475\n",
      "Iteration 80, loss = 0.34201307\n",
      "Iteration 81, loss = 0.34175549\n",
      "Iteration 82, loss = 0.34140880\n",
      "Iteration 83, loss = 0.34121743\n",
      "Iteration 84, loss = 0.34136943\n",
      "Iteration 85, loss = 0.34113826\n",
      "Iteration 86, loss = 0.34086144\n",
      "Iteration 87, loss = 0.34070985\n",
      "Iteration 88, loss = 0.34060664\n",
      "Iteration 89, loss = 0.34042752\n",
      "Iteration 90, loss = 0.34016741\n",
      "Iteration 91, loss = 0.34013467\n",
      "Iteration 92, loss = 0.33986267\n",
      "Iteration 93, loss = 0.33975942\n",
      "Iteration 94, loss = 0.33973592\n",
      "Iteration 95, loss = 0.33939360\n",
      "Iteration 96, loss = 0.33934102\n",
      "Iteration 97, loss = 0.33914938\n",
      "Iteration 98, loss = 0.33923101\n",
      "Iteration 99, loss = 0.33898510\n",
      "Iteration 100, loss = 0.33873445\n",
      "Iteration 101, loss = 0.33855852\n",
      "Iteration 102, loss = 0.33858720\n",
      "Iteration 103, loss = 0.33854011\n",
      "Iteration 104, loss = 0.33828711\n",
      "Iteration 105, loss = 0.33822017\n",
      "Iteration 106, loss = 0.33802015\n",
      "Iteration 107, loss = 0.33822614\n",
      "Iteration 108, loss = 0.33796545\n",
      "Iteration 109, loss = 0.33785579\n",
      "Iteration 110, loss = 0.33802573\n",
      "Iteration 111, loss = 0.33772752\n",
      "Iteration 112, loss = 0.33740170\n",
      "Iteration 113, loss = 0.33746550\n",
      "Iteration 114, loss = 0.33742010\n",
      "Iteration 115, loss = 0.33759582\n",
      "Iteration 116, loss = 0.33754034\n",
      "Iteration 117, loss = 0.33711378\n",
      "Iteration 118, loss = 0.33726194\n",
      "Iteration 119, loss = 0.33699909\n",
      "Iteration 120, loss = 0.33679185\n",
      "Iteration 121, loss = 0.33684977\n",
      "Iteration 122, loss = 0.33674014\n",
      "Iteration 123, loss = 0.33683792\n",
      "Iteration 124, loss = 0.33650462\n",
      "Iteration 125, loss = 0.33662302\n",
      "Iteration 126, loss = 0.33664616\n",
      "Iteration 127, loss = 0.33632174\n",
      "Iteration 128, loss = 0.33639767\n",
      "Iteration 129, loss = 0.33634536\n",
      "Iteration 130, loss = 0.33615345\n",
      "Iteration 131, loss = 0.33589559\n",
      "Iteration 132, loss = 0.33610292\n",
      "Iteration 133, loss = 0.33625558\n",
      "Iteration 134, loss = 0.33567561\n",
      "Iteration 135, loss = 0.33602798\n",
      "Iteration 136, loss = 0.33566390\n",
      "Iteration 137, loss = 0.33576008\n",
      "Iteration 138, loss = 0.33552621\n",
      "Iteration 139, loss = 0.33541815\n",
      "Iteration 140, loss = 0.33570308\n",
      "Iteration 141, loss = 0.33541503\n",
      "Iteration 142, loss = 0.33562974\n",
      "Iteration 143, loss = 0.33533786\n",
      "Iteration 144, loss = 0.33548306\n",
      "Iteration 145, loss = 0.33533669\n",
      "Iteration 146, loss = 0.33497568\n",
      "Iteration 147, loss = 0.33497436\n",
      "Iteration 148, loss = 0.33495986\n",
      "Iteration 149, loss = 0.33483989\n",
      "Iteration 150, loss = 0.33488332\n",
      "Iteration 151, loss = 0.33505686\n",
      "Iteration 152, loss = 0.33473998\n",
      "Iteration 153, loss = 0.33479162\n",
      "Iteration 154, loss = 0.33460357\n",
      "Iteration 155, loss = 0.33463022\n",
      "Iteration 156, loss = 0.33488281\n",
      "Iteration 157, loss = 0.33466685\n",
      "Iteration 158, loss = 0.33449537\n",
      "Iteration 159, loss = 0.33436518\n",
      "Iteration 160, loss = 0.33451801\n",
      "Iteration 161, loss = 0.33449982\n",
      "Iteration 162, loss = 0.33428311\n",
      "Iteration 163, loss = 0.33447392\n",
      "Iteration 164, loss = 0.33424018\n",
      "Iteration 165, loss = 0.33424350\n",
      "Iteration 166, loss = 0.33408365\n",
      "Iteration 167, loss = 0.33425212\n",
      "Iteration 168, loss = 0.33404833\n",
      "Iteration 169, loss = 0.33392128\n",
      "Iteration 170, loss = 0.33395178\n",
      "Iteration 171, loss = 0.33409871\n",
      "Iteration 172, loss = 0.33416749\n",
      "Iteration 173, loss = 0.33365761\n",
      "Iteration 174, loss = 0.33402722\n",
      "Iteration 175, loss = 0.33369608\n",
      "Iteration 176, loss = 0.33376104\n",
      "Iteration 177, loss = 0.33358526\n",
      "Iteration 178, loss = 0.33383695\n",
      "Iteration 179, loss = 0.33371906\n",
      "Iteration 180, loss = 0.33358733\n",
      "Iteration 181, loss = 0.33372351\n",
      "Iteration 182, loss = 0.33359639\n",
      "Iteration 183, loss = 0.33354532\n",
      "Iteration 184, loss = 0.33345741\n",
      "Training loss did not improve more than tol=0.000100 for 10 consecutive epochs. Stopping.\n",
      "\n",
      " Model Description\n",
      " GridSearchCV(cv=10, error_score='raise-deprecating',\n",
      "       estimator=MLPClassifier(activation='relu', alpha=0.0001, batch_size='auto', beta_1=0.9,\n",
      "       beta_2=0.999, early_stopping=False, epsilon=1e-08,\n",
      "       hidden_layer_sizes=(100,), learning_rate='constant',\n",
      "       learning_rate_init=0.001, max_iter=1000, momentum=0.9,\n",
      "       n_iter_no_change=10, nesterovs_momentum=True, power_t=0.5,\n",
      "       random_state=10, shuffle=True, solver='adam', tol=0.0001,\n",
      "       validation_fraction=0.1, verbose=True, warm_start=True),\n",
      "       fit_params=None, iid='warn', n_jobs=-1,\n",
      "       param_grid={'hidden_layer_sizes': [(3,), (5,), (7,), (9,)], 'alpha': [0.01, 0.001, 0.0001]},\n",
      "       pre_dispatch='2*n_jobs', refit=True, return_train_score='warn',\n",
      "       scoring='accuracy', verbose=0)\n",
      "Train accuracy: 0.8479563307149514\n",
      "Test accuracy: 0.8365952159055607\n",
      "\n",
      "               precision    recall  f1-score   support\n",
      "\n",
      "           0       0.77      0.92      0.84      1609\n",
      "           1       0.90      0.73      0.80      1610\n",
      "\n",
      "   micro avg       0.82      0.82      0.82      3219\n",
      "   macro avg       0.83      0.82      0.82      3219\n",
      "weighted avg       0.83      0.82      0.82      3219\n",
      "\n",
      "\n",
      " Best Score 0.8374384236453202\n",
      "\n",
      " Best Param\n",
      "{'alpha': 0.0001, 'hidden_layer_sizes': (7,)}\n"
     ]
    },
    {
     "data": {
      "text/plain": [
       "Text(0.5,1,'CM Neural Net model_nn_reg_RFELog')"
      ]
     },
     "execution_count": 33,
     "metadata": {},
     "output_type": "execute_result"
    },
    {
     "data": {
      "image/png": "[encoded data removed]",
      "text/plain": [
       "<Figure size 432x288 with 2 Axes>"
      ]
     },
     "metadata": {},
     "output_type": "display_data"
    }
   ],
   "source": [
    "# Network using best params from neural network Grid Search and 47 input features from Regression RFE + Log\n",
    "model_nn_reg_RFELog = GridSearchCV(param_grid= params_2, estimator=model_nn, scoring= 'accuracy',cv=10, n_jobs=-1)\n",
    "    \n",
    "# fit the model \n",
    "model_nn_reg_RFELog.fit(X_train_sel_log, y_train_log)\n",
    "    \n",
    "# Print the model architecture\n",
    "print(\"\\n Model Description\\n\", model_nn_reg_RFELog)\n",
    "    \n",
    "# Evaluation metrics\n",
    "print(\"Train accuracy:\", model_nn_reg_RFELog.score(X_train_sel_log, y_train_log))\n",
    "print(\"Test accuracy:\", model_nn_reg_RFELog.score(X_test_sel_log, y_test_log))\n",
    "    \n",
    "#Print Classification Report\n",
    "y_pred = model_nn_reg_RFELog.predict(X_test_sel_log)\n",
    "print('\\n',classification_report(y_test_log, y_pred_log))\n",
    "print(\"\\n Best Score\", model_nn_reg_RFELog.best_score_)\n",
    "    \n",
    "# Print the Best Params\n",
    "print(\"\\n Best Param\")\n",
    "print(model_nn_reg_RFELog.best_params_)\n",
    "    \n",
    "#  Making the Confusion Matrix\n",
    "cm = confusion_matrix(y_test_log, y_pred)\n",
    "sns.heatmap(cm, center=True, annot=True, fmt=\"d\",).set_title(\"CM Neural Net model_nn_reg_RFELog\")"
   ]
  },
  {
   "cell_type": "markdown",
   "metadata": {},
   "source": [
    "#### Task 4.3.1 Decision tree feature selection"
   ]
  },
  {
   "cell_type": "markdown",
   "metadata": {},
   "source": [
    "#### Neural GRidSearchCV using feature selection from Decision tree"
   ]
  },
  {
   "cell_type": "code",
   "execution_count": 27,
   "metadata": {},
   "outputs": [
    {
     "name": "stdout",
     "output_type": "stream",
     "text": [
      "Iteration 1, loss = 0.73648625\n",
      "Iteration 2, loss = 0.67080083\n",
      "Iteration 3, loss = 0.62447537\n",
      "Iteration 4, loss = 0.59012099\n",
      "Iteration 5, loss = 0.56288563\n",
      "Iteration 6, loss = 0.54086770\n",
      "Iteration 7, loss = 0.52285228\n",
      "Iteration 8, loss = 0.50804105\n",
      "Iteration 9, loss = 0.49612988\n",
      "Iteration 10, loss = 0.48607655\n",
      "Iteration 11, loss = 0.47765043\n",
      "Iteration 12, loss = 0.47042893\n",
      "Iteration 13, loss = 0.46419602\n",
      "Iteration 14, loss = 0.45875398\n",
      "Iteration 15, loss = 0.45413551\n",
      "Iteration 16, loss = 0.45010624\n",
      "Iteration 17, loss = 0.44669364\n",
      "Iteration 18, loss = 0.44368681\n",
      "Iteration 19, loss = 0.44119852\n",
      "Iteration 20, loss = 0.43904657\n",
      "Iteration 21, loss = 0.43715404\n",
      "Iteration 22, loss = 0.43552833\n",
      "Iteration 23, loss = 0.43404135\n",
      "Iteration 24, loss = 0.43237971\n",
      "Iteration 25, loss = 0.43076313\n",
      "Iteration 26, loss = 0.42925666\n",
      "Iteration 27, loss = 0.42773450\n",
      "Iteration 28, loss = 0.42655762\n",
      "Iteration 29, loss = 0.42552538\n",
      "Iteration 30, loss = 0.42467394\n",
      "Iteration 31, loss = 0.42378300\n",
      "Iteration 32, loss = 0.42309702\n",
      "Iteration 33, loss = 0.42234283\n",
      "Iteration 34, loss = 0.42167951\n",
      "Iteration 35, loss = 0.42111225\n",
      "Iteration 36, loss = 0.42042710\n",
      "Iteration 37, loss = 0.41998303\n",
      "Iteration 38, loss = 0.41943040\n",
      "Iteration 39, loss = 0.41901550\n",
      "Iteration 40, loss = 0.41857267\n",
      "Iteration 41, loss = 0.41831454\n",
      "Iteration 42, loss = 0.41769858\n",
      "Iteration 43, loss = 0.41746946\n",
      "Iteration 44, loss = 0.41696196\n",
      "Iteration 45, loss = 0.41670638\n",
      "Iteration 46, loss = 0.41642865\n",
      "Iteration 47, loss = 0.41613867\n",
      "Iteration 48, loss = 0.41589074\n",
      "Iteration 49, loss = 0.41597188\n",
      "Iteration 50, loss = 0.41552154\n",
      "Iteration 51, loss = 0.41523442\n",
      "Iteration 52, loss = 0.41503674\n",
      "Iteration 53, loss = 0.41485360\n",
      "Iteration 54, loss = 0.41464799\n",
      "Iteration 55, loss = 0.41434092\n",
      "Iteration 56, loss = 0.41444498\n",
      "Iteration 57, loss = 0.41409049\n",
      "Iteration 58, loss = 0.41399772\n",
      "Iteration 59, loss = 0.41375546\n",
      "Iteration 60, loss = 0.41375523\n",
      "Iteration 61, loss = 0.41369481\n",
      "Iteration 62, loss = 0.41329883\n",
      "Iteration 63, loss = 0.41319311\n",
      "Iteration 64, loss = 0.41328021\n",
      "Iteration 65, loss = 0.41300909\n",
      "Iteration 66, loss = 0.41283411\n",
      "Iteration 67, loss = 0.41275611\n",
      "Iteration 68, loss = 0.41251736\n",
      "Iteration 69, loss = 0.41250723\n",
      "Iteration 70, loss = 0.41250679\n",
      "Iteration 71, loss = 0.41229987\n",
      "Iteration 72, loss = 0.41231328\n",
      "Iteration 73, loss = 0.41205719\n",
      "Iteration 74, loss = 0.41203388\n",
      "Iteration 75, loss = 0.41210106\n",
      "Iteration 76, loss = 0.41192686\n",
      "Iteration 77, loss = 0.41179508\n",
      "Iteration 78, loss = 0.41177188\n",
      "Iteration 79, loss = 0.41169150\n",
      "Iteration 80, loss = 0.41164569\n",
      "Iteration 81, loss = 0.41158819\n",
      "Iteration 82, loss = 0.41152022\n",
      "Iteration 83, loss = 0.41134626\n",
      "Iteration 84, loss = 0.41128512\n",
      "Iteration 85, loss = 0.41127615\n",
      "Iteration 86, loss = 0.41115977\n",
      "Iteration 87, loss = 0.41115476\n",
      "Iteration 88, loss = 0.41117337\n",
      "Iteration 89, loss = 0.41126796\n",
      "Iteration 90, loss = 0.41090945\n",
      "Iteration 91, loss = 0.41090001\n",
      "Iteration 92, loss = 0.41082171\n",
      "Iteration 93, loss = 0.41064643\n",
      "Iteration 94, loss = 0.41079211\n",
      "Iteration 95, loss = 0.41070058\n",
      "Iteration 96, loss = 0.41069580\n",
      "Iteration 97, loss = 0.41068072\n",
      "Iteration 98, loss = 0.41052103\n",
      "Iteration 99, loss = 0.41049184\n",
      "Iteration 100, loss = 0.41040230\n",
      "Iteration 101, loss = 0.41038488\n",
      "Iteration 102, loss = 0.41029175\n",
      "Iteration 103, loss = 0.41018749\n",
      "Iteration 104, loss = 0.41025998\n",
      "Iteration 105, loss = 0.41015564\n",
      "Iteration 106, loss = 0.41019700\n",
      "Iteration 107, loss = 0.41003062\n",
      "Iteration 108, loss = 0.40995376\n",
      "Iteration 109, loss = 0.41005203\n",
      "Iteration 110, loss = 0.40984732\n",
      "Iteration 111, loss = 0.40991152\n",
      "Iteration 112, loss = 0.40987135\n",
      "Iteration 113, loss = 0.40981304\n",
      "Iteration 114, loss = 0.40965986\n",
      "Iteration 115, loss = 0.40973042\n",
      "Iteration 116, loss = 0.40965136\n",
      "Iteration 117, loss = 0.40963865\n",
      "Iteration 118, loss = 0.40970128\n",
      "Iteration 119, loss = 0.40949706\n",
      "Iteration 120, loss = 0.40953221\n",
      "Iteration 121, loss = 0.40952705\n",
      "Iteration 122, loss = 0.40949188\n",
      "Iteration 123, loss = 0.40929597\n",
      "Iteration 124, loss = 0.40939957\n",
      "Iteration 125, loss = 0.40930953\n",
      "Iteration 126, loss = 0.40923043\n",
      "Iteration 127, loss = 0.40952185\n",
      "Iteration 128, loss = 0.40928267\n",
      "Iteration 129, loss = 0.40927788\n",
      "Iteration 130, loss = 0.40952883\n",
      "Iteration 131, loss = 0.40953309\n",
      "Iteration 132, loss = 0.40917183\n",
      "Iteration 133, loss = 0.40922389\n",
      "Iteration 134, loss = 0.40913453\n",
      "Training loss did not improve more than tol=0.000100 for 10 consecutive epochs. Stopping.\n",
      "Train accuracy: 0.7962987618160032\n",
      "Test accuracy: 0.7896862379621\n",
      "              precision    recall  f1-score   support\n",
      "\n",
      "           0       0.73      0.92      0.81      1609\n",
      "           1       0.89      0.66      0.76      1610\n",
      "\n",
      "   micro avg       0.79      0.79      0.79      3219\n",
      "   macro avg       0.81      0.79      0.79      3219\n",
      "weighted avg       0.81      0.79      0.79      3219\n",
      "\n",
      "{'alpha': 0.0001, 'hidden_layer_sizes': (9,)}\n"
     ]
    },
    {
     "data": {
      "text/plain": [
       "Text(0.5,1,'CM Decision Tree feature selection ')"
      ]
     },
     "execution_count": 27,
     "metadata": {},
     "output_type": "execute_result"
    },
    {
     "data": {
      "image/png": "[encoded data removed]",
      "text/plain": [
       "<Figure size 432x288 with 2 Axes>"
      ]
     },
     "metadata": {},
     "output_type": "display_data"
    }
   ],
   "source": [
    "# Network using best params from neural network Grid Search and 12 features from Decision tree feature selection\n",
    "#params = {'hidden_layer_sizes': [(3,), (5,), (7,), (9,)], 'alpha': [0.01,0.001, 0.0001, 0.00001]}\n",
    "\n",
    "cv = GridSearchCV(param_grid=params_2, estimator=model_nn, cv=10, n_jobs=-1)\n",
    "cv.fit(X_train_sel_model, y_train)\n",
    "\n",
    "print(\"Train accuracy:\", cv.score(X_train_sel_model, y_train))\n",
    "print(\"Test accuracy:\", cv.score(X_test_sel_model, y_test))\n",
    "\n",
    "y_pred = cv.predict(X_test_sel_model)\n",
    "print(classification_report(y_test, y_pred))\n",
    "\n",
    "print(cv.best_params_)\n",
    "\n",
    "#  Making the Confusion Matrix\n",
    "cm = confusion_matrix(y_test, y_pred)\n",
    "sns.heatmap(cm, center=True, annot=True, fmt=\"d\",).set_title(\"CM Decision Tree feature selection \")"
   ]
  },
  {
   "cell_type": "code",
   "execution_count": null,
   "metadata": {},
   "outputs": [],
   "source": []
  },
  {
   "cell_type": "markdown",
   "metadata": {},
   "source": [
    "# Task 5 Comparing Models"
   ]
  },
  {
   "cell_type": "code",
   "execution_count": 43,
   "metadata": {},
   "outputs": [
    {
     "name": "stdout",
     "output_type": "stream",
     "text": [
      "DecisionTreeClassifier(class_weight=None, criterion='gini', max_depth=7,\n",
      "            max_features=None, max_leaf_nodes=None,\n",
      "            min_impurity_decrease=0.0, min_impurity_split=None,\n",
      "            min_samples_leaf=20, min_samples_split=2,\n",
      "            min_weight_fraction_leaf=0.0, presort=False, random_state=10,\n",
      "            splitter='best')\n",
      "LogisticRegression(C=1, class_weight=None, dual=False, fit_intercept=True,\n",
      "          intercept_scaling=1, max_iter=100, multi_class='warn',\n",
      "          n_jobs=None, penalty='l2', random_state=10, solver='newton-cg',\n",
      "          tol=0.0001, verbose=0, warm_start=False)\n",
      "MLPClassifier(activation='relu', alpha=1e-05, batch_size='auto', beta_1=0.9,\n",
      "       beta_2=0.999, early_stopping=False, epsilon=1e-08,\n",
      "       hidden_layer_sizes=(3,), learning_rate='constant',\n",
      "       learning_rate_init=0.001, max_iter=500, momentum=0.9,\n",
      "       n_iter_no_change=10, nesterovs_momentum=True, power_t=0.5,\n",
      "       random_state=10, shuffle=True, solver='adam', tol=0.0001,\n",
      "       validation_fraction=0.1, verbose=False, warm_start=False)\n"
     ]
    }
   ],
   "source": [
    "# grid search CV for decision tree\n",
    "'''params_dt= {'criterion': ['gini'],\n",
    "          'max_depth': range(2, 5),\n",
    "          'min_samples_leaf': range(40, 61, 5)}\n",
    "'''\n",
    "params_dt = {'criterion': ['gini', 'entropy'],\n",
    "          'max_depth': range(3, 8),\n",
    "          'min_samples_leaf': range(20, 61, 10)}\n",
    "cv = GridSearchCV(param_grid=params_dt, estimator=DecisionTreeClassifier(random_state=rs), cv=10)\n",
    "cv.fit(X_train, y_train)\n",
    "\n",
    "dt_model = cv.best_estimator_\n",
    "print(dt_model)\n",
    "\n",
    "# grid search CV for logistic regression\n",
    "#params_log_reg = {'C': [pow(10, x) for x in range(-6, 4)]}\n",
    "params_log_reg = {'C': [pow(10, x) for x in range(-6, 4)],\n",
    "                  'penalty':['l2'],\n",
    "                  #'C':[0.8,1.2],\n",
    "                  'solver':['newton-cg', 'lbfgs', 'sag', 'saga','liblinear']}\n",
    "\n",
    "cv = GridSearchCV(param_grid=params_log_reg, estimator=LogisticRegression(random_state=rs), cv=10, n_jobs=-1)\n",
    "cv.fit(X_train, y_train)\n",
    "\n",
    "log_reg_model = cv.best_estimator_\n",
    "print(log_reg_model)\n",
    "\n",
    "# grid search CV for NN\n",
    "params_nn = {'hidden_layer_sizes': [(3,), (5,), (7,), (9,)], 'alpha': [0.01,0.001, 0.0001, 0.00001]}\n",
    "\n",
    "cv = GridSearchCV(param_grid=params_nn, estimator=MLPClassifier(max_iter=500, random_state=rs), cv=10, n_jobs=-1)\n",
    "cv.fit(X_train, y_train)\n",
    "\n",
    "nn_model = cv.best_estimator_\n",
    "print(nn_model)"
   ]
  },
  {
   "cell_type": "markdown",
   "metadata": {
    "collapsed": true
   },
   "source": [
    " ### Ensemble model"
   ]
  },
  {
   "cell_type": "code",
   "execution_count": 41,
   "metadata": {},
   "outputs": [],
   "source": [
    "# import the model\n",
    "from sklearn.ensemble import VotingClassifier\n",
    "from sklearn.metrics import roc_auc_score\n",
    "from sklearn.metrics import roc_curve"
   ]
  },
  {
   "cell_type": "code",
   "execution_count": 44,
   "metadata": {},
   "outputs": [],
   "source": [
    "# initialise the classifier with 3 different estimators\n",
    "voting = VotingClassifier(estimators=[('dt', dt_model), ('lr', log_reg_model), ('nn', nn_model)], voting='soft')"
   ]
  },
  {
   "cell_type": "code",
   "execution_count": 47,
   "metadata": {},
   "outputs": [
    {
     "name": "stdout",
     "output_type": "stream",
     "text": [
      "Ensemble train accuracy: 0.8463586739448808\n",
      "Ensemble test accuracy: 0.835663249456353\n"
     ]
    }
   ],
   "source": [
    "# fit the voting classifier to training data\n",
    "voting.fit(X_train, y_train)\n",
    "\n",
    "# evaluate train and test accuracy\n",
    "print(\"Ensemble train accuracy:\", voting.score(X_train, y_train))\n",
    "print(\"Ensemble test accuracy:\", voting.score(X_test, y_test))\n",
    "\n",
    "# evaluate ROC auc score\n",
    "y_pred_proba_ensemble = voting.predict_proba(X_test)\n",
    "roc_index_ensemble = roc_auc_score(y_test, y_pred_proba_ensemble[:, 1])\n",
    "#print(\"ROC score of voting classifier:\", roc_index_ensemble)\n"
   ]
  },
  {
   "cell_type": "code",
   "execution_count": 48,
   "metadata": {},
   "outputs": [
    {
     "name": "stdout",
     "output_type": "stream",
     "text": [
      "ROC index on test for DT                 : 0.8276580878521052\n",
      "ROC index on test for logistic regression: 0.8819030376492478\n",
      "ROC index on test for NN                 : 0.898450872228806\n",
      "ROC score of voting classifier           : 0.9029021536466074\n"
     ]
    }
   ],
   "source": [
    "# ROC\n",
    "y_pred_proba_dt = dt_model.predict_proba(X_test)\n",
    "y_pred_proba_log_reg = log_reg_model.predict_proba(X_test)\n",
    "y_pred_proba_nn = nn_model.predict_proba(X_test)\n",
    "\n",
    "roc_index_dt = roc_auc_score(y_test, y_pred_proba_dt[:, 1])\n",
    "roc_index_log_reg = roc_auc_score(y_test, y_pred_proba_log_reg[:, 1])\n",
    "roc_index_nn = roc_auc_score(y_test, y_pred_proba_nn[:, 1])\n",
    "\n",
    "print(\"ROC index on test for DT                 :\", roc_index_dt)\n",
    "print(\"ROC index on test for logistic regression:\", roc_index_log_reg)\n",
    "print(\"ROC index on test for NN                 :\", roc_index_nn)\n",
    "print(\"ROC score of voting classifier           :\", roc_index_ensemble)"
   ]
  },
  {
   "cell_type": "code",
   "execution_count": 49,
   "metadata": {},
   "outputs": [
    {
     "data": {
      "image/png": "[encoded data removed]",
      "text/plain": [
       "<Figure size 432x288 with 1 Axes>"
      ]
     },
     "metadata": {},
     "output_type": "display_data"
    }
   ],
   "source": [
    "import matplotlib.pyplot as plt\n",
    "\n",
    "fpr_dt, tpr_dt, thresholds_dt = roc_curve(y_test, y_pred_proba_dt[:,1])\n",
    "fpr_log_reg, tpr_log_reg, thresholds_log_reg = roc_curve(y_test, y_pred_proba_log_reg[:,1])\n",
    "fpr_nn, tpr_nn, thresholds_nn = roc_curve(y_test, y_pred_proba_nn[:,1])\n",
    "fpr_en, tpr_en, thresholds_en = roc_curve(y_test, y_pred_proba_ensemble[:,1])\n",
    "\n",
    "\n",
    "\n",
    "plt.plot(fpr_dt, tpr_dt, label='ROC Curve for DT {:.3f}'.format(roc_index_dt), color='red', lw=0.5)\n",
    "plt.plot(fpr_log_reg, tpr_log_reg, label='ROC Curve for Log reg {:.3f}'.format(roc_index_log_reg), color='green', lw=0.5)\n",
    "plt.plot(fpr_nn, tpr_nn, label='ROC Curve for NN {:.3f}'.format(roc_index_nn), color='darkorange', lw=0.5)\n",
    "plt.plot(fpr_en, tpr_en, thresholds_en, label='ROC Curve for Ensemble {:.3f}'.format(roc_index_ensemble), color='black', lw=0.5)\n",
    "\n",
    "# plt.plot(fpr[2], tpr[2], color='darkorange',\n",
    "#          lw=lw, label='ROC curve (area = %0.2f)' % roc_auc[2])\n",
    "plt.plot([0, 1], [0, 1], color='navy', lw=0.5, linestyle='--')\n",
    "plt.xlim([0.0, 1.0])\n",
    "plt.ylim([0.0, 1.0])\n",
    "plt.xlabel('False Positive Rate')\n",
    "plt.ylabel('True Positive Rate')\n",
    "plt.title('Receiver operating characteristic example')\n",
    "plt.legend(loc=\"lower right\")\n",
    "plt.show()"
   ]
  },
  {
   "cell_type": "code",
   "execution_count": 50,
   "metadata": {},
   "outputs": [
    {
     "name": "stdout",
     "output_type": "stream",
     "text": [
      "Accuracy score on test for DT                 : 0.7573780677228953\n",
      "Accuracy score on test for logistic regression: 0.8229263746505125\n",
      "Accuracy score on test for NN                 : 0.8378378378378378\n",
      "Accuracy score on test for Ensemble           : 0.835663249456353\n"
     ]
    }
   ],
   "source": [
    "# Test Accuracy\n",
    "y_pred_dt = dt_model.predict(X_test)\n",
    "y_pred_log_reg = log_reg_model.predict(X_test)\n",
    "y_pred_nn = nn_model.predict(X_test)\n",
    "\n",
    "print(\"Accuracy score on test for DT                 :\", accuracy_score(y_test, y_pred_dt))\n",
    "print(\"Accuracy score on test for logistic regression:\", accuracy_score(y_test, y_pred_log_reg))\n",
    "print(\"Accuracy score on test for NN                 :\", accuracy_score(y_test, y_pred_nn))\n",
    "print(\"Accuracy score on test for Ensemble           :\", voting.score(X_test, y_test))"
   ]
  },
  {
   "cell_type": "code",
   "execution_count": 51,
   "metadata": {},
   "outputs": [
    {
     "name": "stdout",
     "output_type": "stream",
     "text": [
      "Classification report on Decision Tree \n",
      "\n",
      "               precision    recall  f1-score   support\n",
      "\n",
      "           0       0.72      0.84      0.78      1609\n",
      "           1       0.81      0.68      0.74      1610\n",
      "\n",
      "   micro avg       0.76      0.76      0.76      3219\n",
      "   macro avg       0.76      0.76      0.76      3219\n",
      "weighted avg       0.76      0.76      0.76      3219\n",
      "\n",
      "\n",
      "Classification report on Logistic Regression \n",
      "\n",
      "               precision    recall  f1-score   support\n",
      "\n",
      "           0       0.77      0.92      0.84      1609\n",
      "           1       0.90      0.73      0.80      1610\n",
      "\n",
      "   micro avg       0.82      0.82      0.82      3219\n",
      "   macro avg       0.83      0.82      0.82      3219\n",
      "weighted avg       0.83      0.82      0.82      3219\n",
      "\n",
      "\n",
      "Classification report on Neural Network \n",
      "\n",
      "               precision    recall  f1-score   support\n",
      "\n",
      "           0       0.79      0.92      0.85      1609\n",
      "           1       0.91      0.75      0.82      1610\n",
      "\n",
      "   micro avg       0.84      0.84      0.84      3219\n",
      "   macro avg       0.85      0.84      0.84      3219\n",
      "weighted avg       0.85      0.84      0.84      3219\n",
      "\n"
     ]
    }
   ],
   "source": [
    "cr_dt = classification_report(y_test, y_pred_dt)\n",
    "cr_lr = classification_report(y_test, y_pred_log_reg)\n",
    "cr_nn = classification_report(y_test, y_pred_nn)\n",
    "#cr_en = classification_report(y_test, y_pred_proba_ensemble)\n",
    "\n",
    "print('Classification report on Decision Tree \\n\\n', cr_dt)\n",
    "print('\\nClassification report on Logistic Regression \\n\\n', cr_lr)\n",
    "print('\\nClassification report on Neural Network \\n\\n', cr_nn)"
   ]
  },
  {
   "cell_type": "code",
   "execution_count": null,
   "metadata": {},
   "outputs": [],
   "source": [
    "## Confusion metric on ensemble not working yet"
   ]
  },
  {
   "cell_type": "code",
   "execution_count": 61,
   "metadata": {},
   "outputs": [
    {
     "ename": "ValueError",
     "evalue": "Classification metrics can't handle a mix of binary and continuous targets",
     "output_type": "error",
     "traceback": [
      "\u001b[1;31m---------------------------------------------------------------------------\u001b[0m",
      "\u001b[1;31mValueError\u001b[0m                                Traceback (most recent call last)",
      "\u001b[1;32m<ipython-input-61-a12451a7e638>\u001b[0m in \u001b[0;36m<module>\u001b[1;34m()\u001b[0m\n\u001b[0;32m      1\u001b[0m \u001b[1;31m#y_pred_proba_ensemble = voting.predict_proba(X_test)\u001b[0m\u001b[1;33m\u001b[0m\u001b[1;33m\u001b[0m\u001b[0m\n\u001b[1;32m----> 2\u001b[1;33m \u001b[0mcr_en\u001b[0m \u001b[1;33m=\u001b[0m \u001b[0mclassification_report\u001b[0m\u001b[1;33m(\u001b[0m\u001b[0my_test\u001b[0m\u001b[1;33m,\u001b[0m \u001b[0my_pred_proba_ensemble\u001b[0m\u001b[1;33m[\u001b[0m\u001b[1;33m:\u001b[0m\u001b[1;33m,\u001b[0m\u001b[1;36m1\u001b[0m\u001b[1;33m]\u001b[0m\u001b[1;33m)\u001b[0m\u001b[1;33m\u001b[0m\u001b[0m\n\u001b[0m\u001b[0;32m      3\u001b[0m \u001b[1;33m\u001b[0m\u001b[0m\n\u001b[0;32m      4\u001b[0m \u001b[0mprint\u001b[0m\u001b[1;33m(\u001b[0m\u001b[1;34m'Classification report on Decision Tree \\n\\n'\u001b[0m\u001b[1;33m,\u001b[0m \u001b[0mcr_en\u001b[0m\u001b[1;33m)\u001b[0m\u001b[1;33m\u001b[0m\u001b[0m\n",
      "\u001b[1;32mD:\\Programs\\conda\\lib\\site-packages\\sklearn\\metrics\\classification.py\u001b[0m in \u001b[0;36mclassification_report\u001b[1;34m(y_true, y_pred, labels, target_names, sample_weight, digits, output_dict)\u001b[0m\n\u001b[0;32m   1522\u001b[0m     \"\"\"\n\u001b[0;32m   1523\u001b[0m \u001b[1;33m\u001b[0m\u001b[0m\n\u001b[1;32m-> 1524\u001b[1;33m     \u001b[0my_type\u001b[0m\u001b[1;33m,\u001b[0m \u001b[0my_true\u001b[0m\u001b[1;33m,\u001b[0m \u001b[0my_pred\u001b[0m \u001b[1;33m=\u001b[0m \u001b[0m_check_targets\u001b[0m\u001b[1;33m(\u001b[0m\u001b[0my_true\u001b[0m\u001b[1;33m,\u001b[0m \u001b[0my_pred\u001b[0m\u001b[1;33m)\u001b[0m\u001b[1;33m\u001b[0m\u001b[0m\n\u001b[0m\u001b[0;32m   1525\u001b[0m \u001b[1;33m\u001b[0m\u001b[0m\n\u001b[0;32m   1526\u001b[0m     \u001b[0mlabels_given\u001b[0m \u001b[1;33m=\u001b[0m \u001b[1;32mTrue\u001b[0m\u001b[1;33m\u001b[0m\u001b[0m\n",
      "\u001b[1;32mD:\\Programs\\conda\\lib\\site-packages\\sklearn\\metrics\\classification.py\u001b[0m in \u001b[0;36m_check_targets\u001b[1;34m(y_true, y_pred)\u001b[0m\n\u001b[0;32m     79\u001b[0m     \u001b[1;32mif\u001b[0m \u001b[0mlen\u001b[0m\u001b[1;33m(\u001b[0m\u001b[0my_type\u001b[0m\u001b[1;33m)\u001b[0m \u001b[1;33m>\u001b[0m \u001b[1;36m1\u001b[0m\u001b[1;33m:\u001b[0m\u001b[1;33m\u001b[0m\u001b[0m\n\u001b[0;32m     80\u001b[0m         raise ValueError(\"Classification metrics can't handle a mix of {0} \"\n\u001b[1;32m---> 81\u001b[1;33m                          \"and {1} targets\".format(type_true, type_pred))\n\u001b[0m\u001b[0;32m     82\u001b[0m \u001b[1;33m\u001b[0m\u001b[0m\n\u001b[0;32m     83\u001b[0m     \u001b[1;31m# We can't have more than one value on y_type => The set is no more needed\u001b[0m\u001b[1;33m\u001b[0m\u001b[1;33m\u001b[0m\u001b[0m\n",
      "\u001b[1;31mValueError\u001b[0m: Classification metrics can't handle a mix of binary and continuous targets"
     ]
    }
   ],
   "source": [
    "#y_pred_proba_ensemble = voting.predict_proba(X_test)\n",
    "cr_en = classification_report(y_test, y_pred_proba_ensemble[:,1])\n",
    "\n",
    "print('Classification report on Decision Tree \\n\\n', cr_en)"
   ]
  },
  {
   "cell_type": "code",
   "execution_count": 62,
   "metadata": {},
   "outputs": [
    {
     "data": {
      "text/plain": [
       "array([0.11878644, 0.22447602, 0.18394044, ..., 0.35880783, 0.21566561,\n",
       "       0.99997672])"
      ]
     },
     "execution_count": 62,
     "metadata": {},
     "output_type": "execute_result"
    }
   ],
   "source": [
    "y_pred_proba_ensemble[:,1]"
   ]
  },
  {
   "cell_type": "code",
   "execution_count": null,
   "metadata": {},
   "outputs": [],
   "source": []
  }
 ],
 "metadata": {
  "celltoolbar": "Attachments",
  "kernelspec": {
   "display_name": "Python 3",
   "language": "python",
   "name": "python3"
  },
  "language_info": {
   "codemirror_mode": {
    "name": "ipython",
    "version": 3
   },
   "file_extension": ".py",
   "mimetype": "text/x-python",
   "name": "python",
   "nbconvert_exporter": "python",
   "pygments_lexer": "ipython3",
   "version": "3.6.5"
  }
 },
 "nbformat": 4,
 "nbformat_minor": 2
}
