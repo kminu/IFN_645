{
 "cells": [
  {
   "cell_type": "code",
   "execution_count": 4,
   "metadata": {},
   "outputs": [],
   "source": [
    "import pandas as pd\n",
    "import matplotlib.pyplot as plt\n",
    "import seaborn as sns\n",
    "import numpy as np\n",
    "from sklearn.model_selection import train_test_split\n",
    "from sklearn.tree import DecisionTreeClassifier\n",
    "from sklearn.model_selection import GridSearchCV\n",
    "from sklearn.metrics import classification_report, accuracy_score\n",
    "import pydot\n",
    "from io import StringIO\n",
    "from sklearn.tree import export_graphviz\n",
    "from tools import data_prep \n",
    "\n",
    "%matplotlib inline"
   ]
  },
  {
   "cell_type": "code",
   "execution_count": 9,
   "metadata": {},
   "outputs": [
    {
     "name": "stderr",
     "output_type": "stream",
     "text": [
      "D:\\Programs\\conda\\lib\\site-packages\\IPython\\core\\interactiveshell.py:2903: DtypeWarning: Columns (27) have mixed types. Specify dtype option on import or set low_memory=False.\n",
      "  if self.run_code(code, result):\n"
     ]
    },
    {
     "name": "stdout",
     "output_type": "stream",
     "text": [
      "<class 'pandas.core.frame.DataFrame'>\n",
      "Int64Index: 41432 entries, 0 to 41475\n",
      "Data columns (total 31 columns):\n",
      "PurchaseID                           41432 non-null int64\n",
      "PurchaseTimestamp                    41432 non-null int64\n",
      "PurchaseDate                         41432 non-null object\n",
      "Auction                              41432 non-null object\n",
      "VehYear                              41432 non-null float64\n",
      "Make                                 41432 non-null object\n",
      "Color                                41432 non-null object\n",
      "Transmission                         41432 non-null object\n",
      "WheelTypeID                          41432 non-null object\n",
      "WheelType                            41380 non-null object\n",
      "VehOdo                               41432 non-null float64\n",
      "Nationality                          41432 non-null object\n",
      "Size                                 41432 non-null object\n",
      "TopThreeAmericanName                 41432 non-null object\n",
      "MMRAcquisitionAuctionAveragePrice    41416 non-null object\n",
      "MMRAcquisitionAuctionCleanPrice      41429 non-null object\n",
      "MMRAcquisitionRetailAveragePrice     41429 non-null object\n",
      "MMRAcquisitonRetailCleanPrice        41327 non-null object\n",
      "MMRCurrentAuctionAveragePrice        41429 non-null object\n",
      "MMRCurrentAuctionCleanPrice          41429 non-null object\n",
      "MMRCurrentRetailAveragePrice         41409 non-null object\n",
      "MMRCurrentRetailCleanPrice           41409 non-null object\n",
      "MMRCurrentRetailRatio                41116 non-null object\n",
      "PRIMEUNIT                            41432 non-null object\n",
      "AUCGUART                             41432 non-null object\n",
      "VNST                                 41432 non-null object\n",
      "VehBCost                             41432 non-null object\n",
      "IsOnlineSale                         41432 non-null object\n",
      "WarrantyCost                         41432 non-null float64\n",
      "ForSale                              41432 non-null object\n",
      "IsBadBuy                             41432 non-null int64\n",
      "dtypes: float64(3), int64(3), object(25)\n",
      "memory usage: 10.1+ MB\n"
     ]
    }
   ],
   "source": [
    "X, y = data_prep()\n",
    "#X.count()"
   ]
  },
  {
   "cell_type": "markdown",
   "metadata": {},
   "source": [
    "### Splitting the dataset "
   ]
  },
  {
   "cell_type": "code",
   "execution_count": 10,
   "metadata": {},
   "outputs": [
    {
     "name": "stderr",
     "output_type": "stream",
     "text": [
      "D:\\Programs\\conda\\lib\\site-packages\\ipykernel_launcher.py:5: FutureWarning: Method .as_matrix will be removed in a future version. Use .values instead.\n",
      "  \"\"\"\n"
     ]
    }
   ],
   "source": [
    "# setting random state\n",
    "# .as_matrix removed replaced with .values\n",
    "# train test 70 / 30 percent\n",
    "rs = 10\n",
    "X_mat = X.as_matrix()\n",
    "X_train, X_test, y_train, y_test = train_test_split(X_mat, y, test_size=0.30, stratify=y, random_state=rs)\n",
    "#print(X_train.shape)\n",
    "#print(X_test.shape)\n",
    "#print(y_train.shape)\n",
    "#print(y_test.shape)"
   ]
  },
  {
   "cell_type": "markdown",
   "metadata": {},
   "source": [
    "### Model construction and evaluation"
   ]
  },
  {
   "cell_type": "code",
   "execution_count": 11,
   "metadata": {},
   "outputs": [
    {
     "name": "stdout",
     "output_type": "stream",
     "text": [
      "Train accuracy: 1.0\n",
      "Test accuracy: 0.7471264367816092\n",
      "             precision    recall  f1-score   support\n",
      "\n",
      "          0       0.74      0.75      0.75      1609\n",
      "          1       0.75      0.74      0.75      1610\n",
      "\n",
      "avg / total       0.75      0.75      0.75      3219\n",
      "\n",
      "\n",
      "\n",
      "*********** Feature Importances ************\n",
      "\n",
      "Auction_ADESA                      :0.19951016019947426\n",
      "MMRCurrentAuctionAveragePrice      :0.08493098973111801\n",
      "VehBCost                           :0.05688382874458479\n",
      "VehOdo                             :0.054786956752776526\n",
      "MMRCurrentRetailRatio              :0.037998167151660205\n",
      "VNST_OK                            :0.03641251579359702\n",
      "WarrantyCost                       :0.03190701258619256\n",
      "MMRAcquisitionRetailAveragePrice   :0.031429901082742975\n",
      "MMRCurrentRetailCleanPrice         :0.030469678836920363\n",
      "MMRAcquisitionAuctionCleanPrice    :0.029402931173324005\n",
      "MMRAcquisitonRetailCleanPrice      :0.028022298128793026\n",
      "VNST_CO                            :0.026037261837505165\n",
      "MMRCurrentAuctionCleanPrice        :0.02475382328271623\n",
      "MMRAcquisitionAuctionAveragePrice  :0.024079039004257036\n",
      "Auction_OTHER                      :0.02132711179099512\n",
      "MMRCurrentRetailAveragePrice       :0.01711140758371284\n",
      "VNST_AZ                            :0.016164140460716705\n",
      "VNST_CA                            :0.014892512389012449\n",
      "VNST_PA                            :0.01472943057944932\n",
      "Auction_MANHEIM                    :0.012095843708390855\n"
     ]
    }
   ],
   "source": [
    "# simple decision tree training\n",
    "model = DecisionTreeClassifier(random_state=rs)\n",
    "model.fit(X_train, y_train)\n",
    "\n",
    "# decision tree evaluation\n",
    "print(\"Train accuracy:\", model.score(X_train, y_train))\n",
    "print(\"Test accuracy:\", model.score(X_test, y_test))\n",
    "\n",
    "# Confusion Matrix\n",
    "y_pred = model.predict(X_test)\n",
    "print(classification_report(y_test, y_pred))\n",
    "\n",
    "# grab feature importances from the model and feature name from the original X\n",
    "importances = model.feature_importances_\n",
    "feature_names = X.columns\n",
    "\n",
    "indices = np.argsort(importances)\n",
    "indices = np.flip(indices, axis=0)\n",
    "\n",
    "# limit to 20 features, you can leave this out to print out everything\n",
    "indices = indices[:20]\n",
    "\n",
    "print(\"\\n\\n*********** Feature Importances ************\\n\")   \n",
    "for i in indices:\n",
    "    print(f\"{feature_names[i]:<35}:{importances[i]}\")"
   ]
  },
  {
   "cell_type": "markdown",
   "metadata": {},
   "source": [
    "#### Another Decition Tree model "
   ]
  },
  {
   "cell_type": "code",
   "execution_count": 15,
   "metadata": {},
   "outputs": [
    {
     "name": "stdout",
     "output_type": "stream",
     "text": [
      "Train accuracy: 0.7441086406603648\n",
      "Test accuracy: 0.7418452935694315\n",
      "             precision    recall  f1-score   support\n",
      "\n",
      "          0       0.70      0.84      0.76      1609\n",
      "          1       0.80      0.65      0.72      1610\n",
      "\n",
      "avg / total       0.75      0.74      0.74      3219\n",
      "\n"
     ]
    }
   ],
   "source": [
    "#retrain with a small max_depth limit 3\n",
    "model_2 = DecisionTreeClassifier(max_depth=3, random_state=rs, )\n",
    "model_2.fit(X_train, y_train)\n",
    "\n",
    "print(\"Train accuracy:\", model_2.score(X_train, y_train))\n",
    "print(\"Test accuracy:\", model_2.score(X_test, y_test))\n",
    "\n",
    "y_pred = model_2.predict(X_test)\n",
    "print(classification_report(y_test, y_pred))"
   ]
  },
  {
   "cell_type": "code",
   "execution_count": 16,
   "metadata": {},
   "outputs": [
    {
     "name": "stdout",
     "output_type": "stream",
     "text": [
      "Train accuracy: 0.7540939954733058\n",
      "Test accuracy: 0.7530288909599254\n",
      "             precision    recall  f1-score   support\n",
      "\n",
      "          0       0.72      0.84      0.77      1609\n",
      "          1       0.80      0.67      0.73      1610\n",
      "\n",
      "avg / total       0.76      0.75      0.75      3219\n",
      "\n",
      "\n",
      "\n",
      "*********** Feature Importances ************\n",
      "\n",
      "Auction_ADESA                      :0.6393264236558694\n",
      "MMRCurrentAuctionAveragePrice      :0.12713659886786932\n",
      "VNST_OK                            :0.09553155133038324\n",
      "VNST_CO                            :0.04485855622790786\n",
      "VNST_AZ                            :0.03366041621952035\n",
      "VNST_CA                            :0.030926899326011344\n",
      "Auction_OTHER                      :0.028559554372438543\n",
      "Make_JEEP                          :0.0\n",
      "Make_MAZDA                         :0.0\n",
      "Make_LINCOLN                       :0.0\n",
      "Make_LEXUS                         :0.0\n",
      "Make_KIA                           :0.0\n",
      "VNST_WV                            :0.0\n",
      "Make_MINI                          :0.0\n",
      "Make_ISUZU                         :0.0\n",
      "Make_INFINITI                      :0.0\n",
      "Make_HYUNDAI                       :0.0\n",
      "Make_HONDA                         :0.0\n",
      "Make_GMC                           :0.0\n",
      "Make_MERCURY                       :0.0\n"
     ]
    }
   ],
   "source": [
    "#retrain with a small max_depth limit 4\n",
    "model_3 = DecisionTreeClassifier(max_depth=4, random_state=rs, criterion='entropy',)\n",
    "model_3.fit(X_train, y_train)\n",
    "\n",
    "print(\"Train accuracy:\", model_3.score(X_train, y_train))\n",
    "print(\"Test accuracy:\", model_3.score(X_test, y_test))\n",
    "\n",
    "y_pred = model_3.predict(X_test)\n",
    "print(classification_report(y_test, y_pred))\n",
    "\n",
    "#max_depth 4.8 maximal optimum\n",
    "\n",
    "# grab feature importances from the model and feature name from the original X\n",
    "importances = model_3.feature_importances_\n",
    "feature_names = X.columns\n",
    "\n",
    "indices = np.argsort(importances)\n",
    "indices = np.flip(indices, axis=0)\n",
    "\n",
    "# limit to 20 features, you can leave this out to print out everything\n",
    "indices = indices[:20]\n",
    "\n",
    "\n",
    "print(\"\\n\\n*********** Feature Importances ************\\n\")   \n",
    "for i in indices:\n",
    "    print(f\"{feature_names[i]:<35}:{importances[i]}\")"
   ]
  },
  {
   "cell_type": "code",
   "execution_count": 17,
   "metadata": {},
   "outputs": [
    {
     "name": "stdout",
     "output_type": "stream",
     "text": [
      "Train accuracy: 0.7540939954733058\n",
      "Test accuracy: 0.7530288909599254\n",
      "             precision    recall  f1-score   support\n",
      "\n",
      "          0       0.72      0.84      0.77      1609\n",
      "          1       0.80      0.67      0.73      1610\n",
      "\n",
      "avg / total       0.76      0.75      0.75      3219\n",
      "\n",
      "\n",
      "\n",
      "***********  Feature Importances ************\n",
      "\n",
      "Auction_ADESA                      :0.6038690878394325\n",
      "MMRCurrentAuctionAveragePrice      :0.15369199214912177\n",
      "VNST_OK                            :0.09714194151783923\n",
      "VNST_CO                            :0.05480493808838575\n",
      "VNST_AZ                            :0.03426193135146481\n",
      "Auction_OTHER                      :0.028982800389801798\n",
      "VehBCost                           :0.02724730866395407\n",
      "Make_ISUZU                         :0.0\n",
      "Make_INFINITI                      :0.0\n",
      "Make_JEEP                          :0.0\n",
      "Make_MITSUBISHI                    :0.0\n",
      "Make_HYUNDAI                       :0.0\n",
      "Make_KIA                           :0.0\n",
      "Make_LEXUS                         :0.0\n",
      "Make_LINCOLN                       :0.0\n",
      "Make_HONDA                         :0.0\n",
      "Make_MAZDA                         :0.0\n",
      "Make_MERCURY                       :0.0\n",
      "Make_MINI                          :0.0\n",
      "VNST_WV                            :0.0\n"
     ]
    }
   ],
   "source": [
    "# another model with params change\n",
    "# retrain with a small max_depth limit 4\n",
    "model_3 = DecisionTreeClassifier(max_depth=4, random_state=rs, criterion = 'gini', splitter='best'  )\n",
    "model_3.fit(X_train, y_train)\n",
    "\n",
    "print(\"Train accuracy:\", model_3.score(X_train, y_train))\n",
    "print(\"Test accuracy:\", model_3.score(X_test, y_test))\n",
    "\n",
    "y_pred = model_3.predict(X_test)\n",
    "print(classification_report(y_test, y_pred))\n",
    "\n",
    "#max_depth 4 maximal optimum\n",
    "\n",
    "# grab feature importances from the model and feature name from the original X\n",
    "importances = model_3.feature_importances_\n",
    "feature_names = X.columns\n",
    "\n",
    "indices = np.argsort(importances)\n",
    "indices = np.flip(indices, axis=0)\n",
    "\n",
    "# limit to 20 features, you can leave this out to print out everything\n",
    "indices = indices[:20]\n",
    "\n",
    "\n",
    "print(\"\\n\\n***********  Feature Importances ************\\n\")   \n",
    "for i in indices:\n",
    "    print(f\"{feature_names[i]:<35}:{importances[i]}\")"
   ]
  },
  {
   "cell_type": "code",
   "execution_count": 72,
   "metadata": {},
   "outputs": [],
   "source": [
    "# visualize with graphViz\n",
    "# refer to png file in your folder\n",
    "dotfile = StringIO()\n",
    "export_graphviz(model_3, out_file=dotfile, feature_names=X.columns)\n",
    "graph = pydot.graph_from_dot_data(dotfile.getvalue())\n",
    "graph[0].write_png(\"model_3Tree.png\") # saved in the following file - will return True if successful"
   ]
  },
  {
   "cell_type": "code",
   "execution_count": 22,
   "metadata": {},
   "outputs": [
    {
     "data": {
      "text/plain": [
       "Text(0,0.5,'accuracy')"
      ]
     },
     "execution_count": 22,
     "metadata": {},
     "output_type": "execute_result"
    },
    {
     "data": {
      "image/png": "[encoded data removed]",
      "text/plain": [
       "<Figure size 432x288 with 1 Axes>"
      ]
     },
     "metadata": {},
     "output_type": "display_data"
    }
   ],
   "source": [
    "test_score = []\n",
    "train_score = []\n",
    "\n",
    "# check the model performance for max depth from 2-20\n",
    "for max_depth in range(2, 21):\n",
    "    model = DecisionTreeClassifier(max_depth=max_depth, random_state=rs)\n",
    "    model.fit(X_train, y_train)\n",
    "    \n",
    "    test_score.append(model.score(X_test, y_test))\n",
    "    train_score.append(model.score(X_train, y_train))\n",
    "\n",
    "\n",
    "plt.plot(range(2, 21), train_score, 'b', range(2,21), test_score, 'r', )\n",
    "plt.xlabel('max_depth\\nBlue = training acc. Red = test acc.')\n",
    "plt.ylabel('accuracy')\n",
    "\n",
    "\n",
    "\n",
    "# At max_depth 5 ovefitting is  evident"
   ]
  },
  {
   "cell_type": "markdown",
   "metadata": {},
   "source": [
    "#### Task 2.2 Grid Search"
   ]
  },
  {
   "cell_type": "code",
   "execution_count": 60,
   "metadata": {},
   "outputs": [
    {
     "name": "stdout",
     "output_type": "stream",
     "text": [
      "Train accuracy: 0.75902010384769\n",
      "Test accuracy: 0.7567567567567568\n",
      "             precision    recall  f1-score   support\n",
      "\n",
      "          0       0.72      0.84      0.77      1609\n",
      "          1       0.80      0.68      0.74      1610\n",
      "\n",
      "avg / total       0.76      0.76      0.76      3219\n",
      "\n",
      "{'criterion': 'entropy', 'max_depth': 5, 'min_samples_leaf': 20}\n"
     ]
    }
   ],
   "source": [
    "# grid search CV\n",
    "params = {'criterion': ['gini', 'entropy'],\n",
    "          'max_depth': range(2, 6),\n",
    "          'min_samples_leaf': range(20, 60, 10)}\n",
    "\n",
    "cv = GridSearchCV(param_grid=params, estimator=DecisionTreeClassifier(random_state=rs), cv=10)\n",
    "cv.fit(X_train, y_train)\n",
    "\n",
    "print(\"Train accuracy:\", cv.score(X_train, y_train))\n",
    "print(\"Test accuracy:\", cv.score(X_test, y_test))\n",
    "\n",
    "# test the best model\n",
    "y_pred = cv.predict(X_test)\n",
    "print(classification_report(y_test, y_pred))\n",
    "\n",
    "# print parameters of the best model\n",
    "print(cv.best_params_)"
   ]
  },
  {
   "cell_type": "code",
   "execution_count": 32,
   "metadata": {},
   "outputs": [
    {
     "name": "stdout",
     "output_type": "stream",
     "text": [
      "Train accuracy: 0.7588184685976485\n",
      "Test accuracy: 0.7574547390841321\n",
      "             precision    recall  f1-score   support\n",
      "\n",
      "          0       0.72      0.84      0.78      1878\n",
      "          1       0.81      0.68      0.74      1878\n",
      "\n",
      "avg / total       0.76      0.76      0.76      3756\n",
      "\n",
      "{'criterion': 'gini', 'max_depth': 5, 'min_samples_leaf': 20}\n"
     ]
    }
   ],
   "source": [
    "# grid search CV #2\n",
    "params = {'criterion': ['gini', 'entropy'],\n",
    "          'max_depth': range(2, 6),\n",
    "          'min_samples_leaf': range(20, 35)}\n",
    "\n",
    "cv = GridSearchCV(param_grid=params, estimator=DecisionTreeClassifier(random_state=rs), cv=10)\n",
    "cv.fit(X_train, y_train)\n",
    "\n",
    "print(\"Train accuracy:\", cv.score(X_train, y_train))\n",
    "print(\"Test accuracy:\", cv.score(X_test, y_test))\n",
    "\n",
    "# test the best model\n",
    "y_pred = cv.predict(X_test)\n",
    "print(classification_report(y_test, y_pred))\n",
    "\n",
    "# print parameters of the best model\n",
    "print(cv.best_params_)"
   ]
  },
  {
   "cell_type": "code",
   "execution_count": 61,
   "metadata": {},
   "outputs": [],
   "source": [
    "def analyse_feature_importance(dm_model, feature_names, n_to_display=20):\n",
    "    # grab feature importances from the model\n",
    "    importances = dm_model.feature_importances_\n",
    "    \n",
    "    # sort them out in descending order\n",
    "    indices = np.argsort(importances)\n",
    "    indices = np.flip(indices, axis=0)\n",
    "\n",
    "    # limit to 20 features, you can leave this out to print out everything\n",
    "    indices = indices[:n_to_display]\n",
    "\n",
    "    print(\"\\n\\n*********** Feature Importances ************\\n\")   \n",
    "    for i in indices:\n",
    "        print(f\"{feature_names[i]:<35}:{importances[i]}\")\n",
    "\n",
    "def visualize_decision_tree(dm_model, feature_names, save_name):\n",
    "    dotfile = StringIO()\n",
    "    export_graphviz(dm_model, out_file=dotfile, feature_names=feature_names)\n",
    "    graph = pydot.graph_from_dot_data(dotfile.getvalue())\n",
    "    graph[0].write_png(save_name) # saved in the following file"
   ]
  },
  {
   "cell_type": "code",
   "execution_count": 34,
   "metadata": {},
   "outputs": [
    {
     "name": "stdout",
     "output_type": "stream",
     "text": [
      "\n",
      "\n",
      "*********** Feature Importances ************\n",
      "\n",
      "Auction_ADESA                      :0.5672826439711274\n",
      "MMRCurrentAuctionAveragePrice      :0.15123621308987978\n",
      "VNST_OK                            :0.09070992370642476\n",
      "VNST_CO                            :0.04876768331817406\n",
      "VNST_AZ                            :0.031744765503795104\n",
      "VNST_PA                            :0.02981892003066385\n",
      "Auction_OTHER                      :0.028489778131569644\n",
      "VehBCost                           :0.026015007069806598\n",
      "VNST_CA                            :0.015930029591855587\n",
      "VNST_TX                            :0.005290196571720035\n",
      "MMRCurrentRetailRatio              :0.004714839014983362\n",
      "Make_MAZDA                         :0.0\n",
      "Make_LINCOLN                       :0.0\n",
      "Make_KIA                           :0.0\n",
      "Make_LEXUS                         :0.0\n",
      "Make_MINI                          :0.0\n",
      "Make_JEEP                          :0.0\n",
      "Make_ISUZU                         :0.0\n",
      "Make_INFINITI                      :0.0\n",
      "Make_HYUNDAI                       :0.0\n"
     ]
    }
   ],
   "source": [
    "analyse_feature_importance(cv.best_estimator_, X.columns, 20)\n",
    "visualize_decision_tree(cv.best_estimator_, X.columns, \"optimal_tree.png\")"
   ]
  },
  {
   "cell_type": "code",
   "execution_count": null,
   "metadata": {},
   "outputs": [],
   "source": []
  }
 ],
 "metadata": {
  "kernelspec": {
   "display_name": "Python 3",
   "language": "python",
   "name": "python3"
  },
  "language_info": {
   "codemirror_mode": {
    "name": "ipython",
    "version": 3
   },
   "file_extension": ".py",
   "mimetype": "text/x-python",
   "name": "python",
   "nbconvert_exporter": "python",
   "pygments_lexer": "ipython3",
   "version": "3.7.1"
  }
 },
 "nbformat": 4,
 "nbformat_minor": 2
}
