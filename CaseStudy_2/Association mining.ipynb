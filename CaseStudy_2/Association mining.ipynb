{
 "cells": [
  {
   "cell_type": "code",
   "execution_count": 3,
   "metadata": {},
   "outputs": [],
   "source": [
    "import pandas as pd\n",
    "from apyori import apriori"
   ]
  },
  {
   "cell_type": "code",
   "execution_count": 4,
   "metadata": {},
   "outputs": [
    {
     "name": "stderr",
     "output_type": "stream",
     "text": [
      "C:\\Users\\kmw41\\Anaconda3\\lib\\site-packages\\IPython\\core\\interactiveshell.py:3049: DtypeWarning: Columns (0) have mixed types. Specify dtype option on import or set low_memory=False.\n",
      "  interactivity=interactivity, compiler=compiler, result=result)\n"
     ]
    }
   ],
   "source": [
    "#read the dataset\n",
    "#Due to the error utf-8 codec can't decode byte 0xa3 in position 28: invalid start byte\n",
    "#encoding = 'unicode_escape' are added\n",
    "df = pd.read_csv('casestudy2-data/online retail.csv',header=0,encoding = 'unicode_escape')"
   ]
  },
  {
   "cell_type": "code",
   "execution_count": 5,
   "metadata": {},
   "outputs": [
    {
     "name": "stdout",
     "output_type": "stream",
     "text": [
      "<class 'pandas.core.frame.DataFrame'>\n",
      "RangeIndex: 532619 entries, 0 to 532618\n",
      "Data columns (total 8 columns):\n",
      "InvoiceNo      532619 non-null object\n",
      "StockCode      532619 non-null object\n",
      "Description    531165 non-null object\n",
      "Quantity       532619 non-null int64\n",
      "InvoiceDate    532619 non-null object\n",
      "UnitPrice      532619 non-null float64\n",
      "CustomerID     397924 non-null float64\n",
      "Country        532619 non-null object\n",
      "dtypes: float64(2), int64(1), object(5)\n",
      "memory usage: 32.5+ MB\n",
      "None\n",
      "  InvoiceNo StockCode                          Description  Quantity  \\\n",
      "0    536365    85123A   WHITE HANGING HEART T-LIGHT HOLDER         6   \n",
      "1    536365     71053                  WHITE METAL LANTERN         6   \n",
      "2    536365    84406B       CREAM CUPID HEARTS COAT HANGER         8   \n",
      "3    536365    84029G  KNITTED UNION FLAG HOT WATER BOTTLE         6   \n",
      "4    536365    84029E       RED WOOLLY HOTTIE WHITE HEART.         6   \n",
      "5    536365     22752         SET 7 BABUSHKA NESTING BOXES         2   \n",
      "6    536365     21730    GLASS STAR FROSTED T-LIGHT HOLDER         6   \n",
      "7    536366     22633               HAND WARMER UNION JACK         6   \n",
      "8    536366     22632            HAND WARMER RED POLKA DOT         6   \n",
      "9    536367     84879        ASSORTED COLOUR BIRD ORNAMENT        32   \n",
      "\n",
      "      InvoiceDate  UnitPrice  CustomerID         Country  \n",
      "0  1/12/2010 8:26       2.55     17850.0  United Kingdom  \n",
      "1  1/12/2010 8:26       3.39     17850.0  United Kingdom  \n",
      "2  1/12/2010 8:26       2.75     17850.0  United Kingdom  \n",
      "3  1/12/2010 8:26       3.39     17850.0  United Kingdom  \n",
      "4  1/12/2010 8:26       3.39     17850.0  United Kingdom  \n",
      "5  1/12/2010 8:26       7.65     17850.0  United Kingdom  \n",
      "6  1/12/2010 8:26       4.25     17850.0  United Kingdom  \n",
      "7  1/12/2010 8:28       1.85     17850.0  United Kingdom  \n",
      "8  1/12/2010 8:28       1.85     17850.0  United Kingdom  \n",
      "9  1/12/2010 8:34       1.69     13047.0  United Kingdom  \n"
     ]
    }
   ],
   "source": [
    "# info of dataset\n",
    "print(df.info())\n",
    "print(df.head(10))"
   ]
  },
  {
   "cell_type": "code",
   "execution_count": 6,
   "metadata": {},
   "outputs": [
    {
     "name": "stdout",
     "output_type": "stream",
     "text": [
      "CustomerID     134695\n",
      "Description      1454\n",
      "Country             0\n",
      "UnitPrice           0\n",
      "InvoiceDate         0\n",
      "Quantity            0\n",
      "StockCode           0\n",
      "InvoiceNo           0\n",
      "dtype: int64\n"
     ]
    }
   ],
   "source": [
    "#check nan values in a dataset\n",
    "MissingData = df.isnull().sum()\n",
    "print(MissingData.sort_values(ascending = False))"
   ]
  },
  {
   "cell_type": "code",
   "execution_count": 7,
   "metadata": {},
   "outputs": [],
   "source": [
    "#remove negative values in quantiy column as it is not necessaory values in terms of analysis of association.\n",
    "df.drop(df[df.Quantity < 0].index, inplace=True)"
   ]
  },
  {
   "cell_type": "code",
   "execution_count": null,
   "metadata": {},
   "outputs": [],
   "source": []
  },
  {
   "cell_type": "code",
   "execution_count": 8,
   "metadata": {},
   "outputs": [
    {
     "name": "stdout",
     "output_type": "stream",
     "text": [
      "CustomerID     133360\n",
      "Description       592\n",
      "Country             0\n",
      "UnitPrice           0\n",
      "InvoiceDate         0\n",
      "Quantity            0\n",
      "StockCode           0\n",
      "InvoiceNo           0\n",
      "dtype: int64\n"
     ]
    }
   ],
   "source": [
    "#result after removing negative values in Quantity\n",
    "MissingData = df.isnull().sum()\n",
    "print(MissingData.sort_values(ascending = False))"
   ]
  },
  {
   "cell_type": "code",
   "execution_count": 9,
   "metadata": {},
   "outputs": [],
   "source": [
    "df.drop(df[df.StockCode == 'AMAZONEFEE'].index, inplace=True)\n",
    "df.drop(df[df.StockCode == 'B'].index, inplace=True)\n",
    "df.drop(df[df.StockCode == 'BANK CHARGES'].index, inplace=True)\n",
    "df.drop(df[df.StockCode == 'C2'].index, inplace=True)\n",
    "df.drop(df[df.StockCode == 'DCGS0003'].index, inplace=True)\n",
    "df.drop(df[df.StockCode == 'DCGS0004'].index, inplace=True)\n",
    "df.drop(df[df.StockCode == 'DCGS0069'].index, inplace=True)\n",
    "df.drop(df[df.StockCode == 'DCGS0070'].index, inplace=True)\n",
    "df.drop(df[df.StockCode == 'DCGS0076'].index, inplace=True)\n",
    "df.drop(df[df.StockCode == 'DCGSSBOY'].index, inplace=True)\n",
    "df.drop(df[df.StockCode == 'DCGSSGIRL'].index, inplace=True)\n",
    "df.drop(df[df.StockCode == 'DOT'].index, inplace=True)\n",
    "\n",
    "\n",
    "#gift is a gift voucher so that it may be better not to remove it\n",
    "df.drop(df[df.StockCode == 'gift_0001_10'].index, inplace=True)\n",
    "df.drop(df[df.StockCode == 'gift_0001_20'].index, inplace=True)\n",
    "df.drop(df[df.StockCode == 'gift_0001_30'].index, inplace=True)\n",
    "df.drop(df[df.StockCode == 'gift_0001_40'].index, inplace=True)\n",
    "df.drop(df[df.StockCode == 'gift_0001_50'].index, inplace=True)\n",
    "\n",
    "\n",
    "df.drop(df[df.StockCode == 'M'].index, inplace=True)\n",
    "df.drop(df[df.StockCode == 'PADS'].index, inplace=True)\n",
    "df.drop(df[df.StockCode == 'POST'].index, inplace=True)\n",
    "df.drop(df[df.StockCode == 'S'].index, inplace=True)\n"
   ]
  },
  {
   "cell_type": "code",
   "execution_count": 10,
   "metadata": {
    "scrolled": true
   },
   "outputs": [
    {
     "name": "stdout",
     "output_type": "stream",
     "text": [
      "CustomerID     132518\n",
      "Description       584\n",
      "Country             0\n",
      "UnitPrice           0\n",
      "InvoiceDate         0\n",
      "Quantity            0\n",
      "StockCode           0\n",
      "InvoiceNo           0\n",
      "dtype: int64\n"
     ]
    }
   ],
   "source": [
    "#result after removing negative values in Quantity\n",
    "MissingData = df.isnull().sum()\n",
    "print(MissingData.sort_values(ascending = False))"
   ]
  },
  {
   "cell_type": "code",
   "execution_count": null,
   "metadata": {},
   "outputs": [],
   "source": []
  },
  {
   "cell_type": "code",
   "execution_count": null,
   "metadata": {},
   "outputs": [],
   "source": []
  },
  {
   "cell_type": "code",
   "execution_count": 11,
   "metadata": {},
   "outputs": [
    {
     "name": "stdout",
     "output_type": "stream",
     "text": [
      "InvoiceNo\n",
      "536365    [85123A, 71053, 84406B, 84029G, 84029E, 22752,...\n",
      "536366                                       [22633, 22632]\n",
      "536367    [84879, 22745, 22748, 22749, 22310, 84969, 226...\n",
      "536368                         [22960, 22913, 22912, 22914]\n",
      "536369                                              [21756]\n",
      "Name: StockCode, dtype: object\n"
     ]
    }
   ],
   "source": [
    "# group by account, then list all services\n",
    "transactions = df.groupby(['InvoiceNo'])['StockCode'].apply(list)\n",
    "print(transactions.head(5))"
   ]
  },
  {
   "cell_type": "code",
   "execution_count": 15,
   "metadata": {},
   "outputs": [
    {
     "name": "stdout",
     "output_type": "stream",
     "text": [
      "[RelationRecord(items=frozenset({'20685'}), support=0.033932135728542916, ordered_statistics=[OrderedStatistic(items_base=frozenset(), items_add=frozenset({'20685'}), confidence=0.033932135728542916, lift=1.0)]), RelationRecord(items=frozenset({'20712'}), support=0.042013533907794165, ordered_statistics=[OrderedStatistic(items_base=frozenset(), items_add=frozenset({'20712'}), confidence=0.042013533907794165, lift=1.0)]), RelationRecord(items=frozenset({'20713'}), support=0.032374275838566766, ordered_statistics=[OrderedStatistic(items_base=frozenset(), items_add=frozenset({'20713'}), confidence=0.032374275838566766, lift=1.0)]), RelationRecord(items=frozenset({'20719'}), support=0.04065040650406504, ordered_statistics=[OrderedStatistic(items_base=frozenset(), items_add=frozenset({'20719'}), confidence=0.04065040650406504, lift=1.0)]), RelationRecord(items=frozenset({'20723'}), support=0.03514921376758678, ordered_statistics=[OrderedStatistic(items_base=frozenset(), items_add=frozenset({'20723'}), confidence=0.03514921376758678, lift=1.0)])]\n"
     ]
    }
   ],
   "source": [
    "# type cast the transactions from pandas into normal list format and run apriori\n",
    "transaction_list = list(transactions)\n",
    "results = list(apriori(transaction_list, min_support=0.03, min_confidence=0.01))\n",
    "\n",
    "# print first 5 rules\n",
    "print(results[:5])"
   ]
  },
  {
   "cell_type": "code",
   "execution_count": 16,
   "metadata": {},
   "outputs": [
    {
     "name": "stdout",
     "output_type": "stream",
     "text": [
      "   Left_side Right_side   Support  Confidence  Lift\n",
      "0                 20685  0.033932    0.033932   1.0\n",
      "1                 20712  0.042014    0.042014   1.0\n",
      "2                 20713  0.032374    0.032374   1.0\n",
      "3                 20719  0.040650    0.040650   1.0\n",
      "4                 20723  0.035149    0.035149   1.0\n",
      "5                 20724  0.050338    0.050338   1.0\n",
      "6                 20725  0.076189    0.076189   1.0\n",
      "7                 20726  0.049559    0.049559   1.0\n",
      "8                 20727  0.061974    0.061974   1.0\n",
      "9                 20728  0.055986    0.055986   1.0\n",
      "10                20914  0.042841    0.042841   1.0\n",
      "11                21034  0.042403    0.042403   1.0\n",
      "12                21080  0.048002    0.048002   1.0\n",
      "13                21166  0.035198    0.035198   1.0\n",
      "14                21175  0.039385    0.039385   1.0\n",
      "15                21181  0.041381    0.041381   1.0\n",
      "16                21212  0.064262    0.064262   1.0\n",
      "17                21213  0.032277    0.032277   1.0\n",
      "18                21232  0.040456    0.040456   1.0\n",
      "19                21485  0.030330    0.030330   1.0\n",
      "20                21731  0.041332    0.041332   1.0\n",
      "21                21733  0.036074    0.036074   1.0\n",
      "22                21754  0.037827    0.037827   1.0\n",
      "23                21755  0.030622    0.030622   1.0\n",
      "24                21790  0.045081    0.045081   1.0\n",
      "25                21915  0.032228    0.032228   1.0\n",
      "26                21928  0.039239    0.039239   1.0\n",
      "27                21929  0.042111    0.042111   1.0\n",
      "28                21930  0.034322    0.034322   1.0\n",
      "29                21931  0.057641    0.057641   1.0\n",
      "..       ...        ...       ...         ...   ...\n",
      "70                22726  0.047758    0.047758   1.0\n",
      "71                22727  0.051166    0.051166   1.0\n",
      "72                22728  0.038119    0.038119   1.0\n",
      "73                22835  0.031985    0.031985   1.0\n",
      "74                22865  0.031887    0.031887   1.0\n",
      "75                22907  0.032618    0.032618   1.0\n",
      "76                22910  0.039920    0.039920   1.0\n",
      "77                22952  0.030135    0.030135   1.0\n",
      "78                22960  0.055158    0.055158   1.0\n",
      "79                22961  0.056570    0.056570   1.0\n",
      "80                22966  0.032618    0.032618   1.0\n",
      "81                22969  0.031449    0.031449   1.0\n",
      "82                22993  0.052237    0.052237   1.0\n",
      "83                23084  0.049024    0.049024   1.0\n",
      "84                23199  0.047612    0.047612   1.0\n",
      "85                23201  0.044107    0.044107   1.0\n",
      "86                23202  0.042841    0.042841   1.0\n",
      "87                23203  0.059978    0.059978   1.0\n",
      "88                23206  0.050436    0.050436   1.0\n",
      "89                23207  0.036026    0.036026   1.0\n",
      "90                23208  0.032520    0.032520   1.0\n",
      "91                23209  0.053503    0.053503   1.0\n",
      "92                23245  0.042500    0.042500   1.0\n",
      "93                23284  0.035587    0.035587   1.0\n",
      "94                23298  0.055840    0.055840   1.0\n",
      "95                23300  0.036902    0.036902   1.0\n",
      "96                23301  0.044448    0.044448   1.0\n",
      "97                23307  0.030622    0.030622   1.0\n",
      "98                23321  0.030622    0.030622   1.0\n",
      "99                23344  0.034857    0.034857   1.0\n",
      "\n",
      "[100 rows x 5 columns]\n"
     ]
    }
   ],
   "source": [
    "def convert_apriori_results_to_pandas_df(results):\n",
    "    rules = []\n",
    "    \n",
    "    for rule_set in results:\n",
    "        for rule in rule_set.ordered_statistics:\n",
    "            # items_base = left side of rules, items_add = right side\n",
    "            # support, confidence and lift for respective rules\n",
    "            rules.append([','.join(rule.items_base), ','.join(rule.items_add),\n",
    "                         rule_set.support, rule.confidence, rule.lift]) \n",
    "    \n",
    "    # typecast it to pandas df\n",
    "    return pd.DataFrame(rules, columns=['Left_side', 'Right_side', 'Support', 'Confidence', 'Lift']) \n",
    "\n",
    "result_df = convert_apriori_results_to_pandas_df(results)\n",
    "\n",
    "print(result_df.head(100))"
   ]
  },
  {
   "cell_type": "code",
   "execution_count": 14,
   "metadata": {},
   "outputs": [
    {
     "name": "stdout",
     "output_type": "stream",
     "text": [
      "        Left_side Right_side   Support  Confidence       Lift\n",
      "2105        22917      22916  0.010759    0.920833  79.809441\n",
      "2104        22916      22917  0.010759    0.932489  79.809441\n",
      "2107        22918      22916  0.010370    0.894958  77.566801\n",
      "2106        22916      22918  0.010370    0.898734  77.566801\n",
      "2112        22917      22918  0.010467    0.895833  77.316439\n",
      "2113        22918      22917  0.010467    0.903361  77.316439\n",
      "2119        22919      22918  0.010321    0.883333  76.237605\n",
      "2118        22918      22919  0.010321    0.890756  76.237605\n",
      "2117        22920      22917  0.010418    0.884298  75.684814\n",
      "2116        22917      22920  0.010418    0.891667  75.684814\n",
      "2121        22920      22918  0.010321    0.876033  75.607542\n",
      "2120        22918      22920  0.010321    0.890756  75.607542\n",
      "2114        22917      22919  0.010321    0.883333  75.602292\n",
      "2115        22919      22917  0.010321    0.883333  75.602292\n",
      "2110        22916      22920  0.010223    0.886076  75.210273\n",
      "2111        22920      22916  0.010223    0.867769  75.210273\n",
      "2109        22919      22916  0.010029    0.858333  74.392511\n",
      "2108        22916      22919  0.010029    0.869198  74.392511\n",
      "2123        22920      22919  0.010126    0.859504  73.562810\n",
      "2122        22919      22920  0.010126    0.866667  73.562810\n",
      "2945  23170,23171      23172  0.012414    0.799373  53.835809\n",
      "2946  23170,23172      23171  0.012414    0.947955  51.107485\n",
      "2154        23171      23172  0.013534    0.729659  49.140725\n",
      "2155        23172      23171  0.013534    0.911475  49.140725\n",
      "2274        23265      23266  0.010662    0.747440  48.129062\n",
      "2275        23266      23265  0.010662    0.686520  48.129062\n",
      "2161        23175      23174  0.011830    0.736364  46.974054\n",
      "2160        23174      23175  0.011830    0.754658  46.974054\n",
      "2943  22748,22745      22746  0.010905    0.715655  44.817891\n",
      "2141        22963      22962  0.011100    0.742671  44.605863\n",
      "...           ...        ...       ...         ...        ...\n",
      "1232        21086      21094  0.017039    0.817757  31.873903\n",
      "1233        21094      21086  0.017039    0.664137  31.873903\n",
      "2285        23296      23294  0.010077    0.547619  31.775827\n",
      "2284        23294      23296  0.010077    0.584746  31.775827\n",
      "2343       84596F     84596B  0.016990    0.802299  31.570921\n",
      "2342       84596B     84596F  0.016990    0.668582  31.570921\n",
      "2273        23266      23263  0.010613    0.683386  31.544771\n",
      "2272        23263      23266  0.010613    0.489888  31.544771\n",
      "2363       84997D     84997C  0.011830    0.513742  31.500824\n",
      "2362       84997C     84997D  0.011830    0.725373  31.500824\n",
      "1493        21933      21932  0.013631    0.682927  31.452915\n",
      "1492        21932      21933  0.013631    0.627803  31.452915\n",
      "2914  22578,22579      22577  0.011246    0.822064  31.386650\n",
      "1354        21670      21673  0.010029    0.549333  30.830208\n",
      "1355        21673      21670  0.010029    0.562842  30.830208\n",
      "2283        23295      23294  0.011441    0.529279  30.711654\n",
      "2282        23294      23295  0.011441    0.663842  30.711654\n",
      "1352        21670      21671  0.010029    0.549333  30.579556\n",
      "1353        21671      21670  0.010029    0.558266  30.579556\n",
      "1346        21668      21671  0.011343    0.533181  29.680397\n",
      "1347        21671      21668  0.011343    0.631436  29.680397\n",
      "1357        21672      21671  0.010516    0.528117  29.398533\n",
      "1356        21671      21672  0.010516    0.585366  29.398533\n",
      "1930        22577      22578  0.018889    0.721190  28.933507\n",
      "1931        22578      22577  0.018889    0.757813  28.933507\n",
      "1528        21990      21993  0.010418    0.584699  28.259556\n",
      "1529        21993      21990  0.010418    0.503529  28.259556\n",
      "2084        22749      22750  0.012414    0.567929  28.246547\n",
      "2085        22750      22749  0.012414    0.617433  28.246547\n",
      "2286        23295      23296  0.011197    0.518018  28.149757\n",
      "\n",
      "[100 rows x 5 columns]\n"
     ]
    }
   ],
   "source": [
    "# sort all acquired rules descending by lift\n",
    "result_df = result_df.sort_values(by='Lift', ascending=False)\n",
    "print(result_df.head(100))"
   ]
  },
  {
   "cell_type": "code",
   "execution_count": null,
   "metadata": {},
   "outputs": [],
   "source": []
  },
  {
   "cell_type": "code",
   "execution_count": null,
   "metadata": {},
   "outputs": [],
   "source": []
  }
 ],
 "metadata": {
  "kernelspec": {
   "display_name": "Python 3",
   "language": "python",
   "name": "python3"
  },
  "language_info": {
   "codemirror_mode": {
    "name": "ipython",
    "version": 3
   },
   "file_extension": ".py",
   "mimetype": "text/x-python",
   "name": "python",
   "nbconvert_exporter": "python",
   "pygments_lexer": "ipython3",
   "version": "3.7.3"
  }
 },
 "nbformat": 4,
 "nbformat_minor": 2
}
