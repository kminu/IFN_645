{
 "cells": [
  {
   "cell_type": "markdown",
   "metadata": {},
   "source": [
    "## 1. Loading Text Data\n"
   ]
  },
  {
   "cell_type": "code",
   "execution_count": 1,
   "metadata": {},
   "outputs": [],
   "source": [
    "import pandas as pd\n",
    "import os\n",
    "import glob"
   ]
  },
  {
   "cell_type": "code",
   "execution_count": 4,
   "metadata": {},
   "outputs": [],
   "source": [
    "# Read all files in the directory and combine then into file named corpus \n",
    "\n",
    "#---- df = pd.read_csv('001.txt', delimiter = \"\\t\", names=['Text'],)\n",
    "\n",
    "file_list = glob.glob(os.path.join(os.getcwd(), \"CaseStudy2Data\\datasets\", \"*.txt\"))\n",
    "corpus = []\n",
    "for file_path in file_list:\n",
    "    with open(file_path) as f_input:\n",
    "        corpus.append(f_input.read())\n",
    " \n",
    "#print(corpus)\n",
    "\n",
    "# Convert the corpus list into a data frame\n",
    "df = pd.DataFrame(corpus, columns= ['Text'],)"
   ]
  },
  {
   "cell_type": "code",
   "execution_count": 5,
   "metadata": {},
   "outputs": [
    {
     "data": {
      "text/html": [
       "<div>\n",
       "<style scoped>\n",
       "    .dataframe tbody tr th:only-of-type {\n",
       "        vertical-align: middle;\n",
       "    }\n",
       "\n",
       "    .dataframe tbody tr th {\n",
       "        vertical-align: top;\n",
       "    }\n",
       "\n",
       "    .dataframe thead th {\n",
       "        text-align: right;\n",
       "    }\n",
       "</style>\n",
       "<table border=\"1\" class=\"dataframe\">\n",
       "  <thead>\n",
       "    <tr style=\"text-align: right;\">\n",
       "      <th></th>\n",
       "      <th>Title</th>\n",
       "      <th>Abstract</th>\n",
       "      <th>Text</th>\n",
       "    </tr>\n",
       "  </thead>\n",
       "  <tbody>\n",
       "    <tr>\n",
       "      <th>0</th>\n",
       "      <td>Claxton hunting first major medal</td>\n",
       "      <td>British hurdler Sarah Claxton is confident she...</td>\n",
       "      <td>The 25-year-old has already smashed the Britis...</td>\n",
       "    </tr>\n",
       "    <tr>\n",
       "      <th>1</th>\n",
       "      <td>O'Sullivan could run in Worlds</td>\n",
       "      <td>Sonia O'Sullivan has indicated that she would ...</td>\n",
       "      <td>Athletics Ireland have hinted that the 35-year...</td>\n",
       "    </tr>\n",
       "    <tr>\n",
       "      <th>2</th>\n",
       "      <td>Greene sets sights on world title</td>\n",
       "      <td>Maurice Greene aims to wipe out the pain of lo...</td>\n",
       "      <td>He had to settle for bronze in Greece behind f...</td>\n",
       "    </tr>\n",
       "    <tr>\n",
       "      <th>3</th>\n",
       "      <td>IAAF launches fight against drugs</td>\n",
       "      <td>The IAAF - athletics' world governing body - h...</td>\n",
       "      <td>Two task forces have been set up to examine do...</td>\n",
       "    </tr>\n",
       "    <tr>\n",
       "      <th>4</th>\n",
       "      <td>Dibaba breaks 5,000m world record</td>\n",
       "      <td>Ethiopia's Tirunesh Dibaba set a new world rec...</td>\n",
       "      <td>Dibaba won in 14 minutes 32.93 seconds to eras...</td>\n",
       "    </tr>\n",
       "  </tbody>\n",
       "</table>\n",
       "</div>"
      ],
      "text/plain": [
       "                               Title  \\\n",
       "0  Claxton hunting first major medal   \n",
       "1     O'Sullivan could run in Worlds   \n",
       "2  Greene sets sights on world title   \n",
       "3  IAAF launches fight against drugs   \n",
       "4  Dibaba breaks 5,000m world record   \n",
       "\n",
       "                                            Abstract  \\\n",
       "0  British hurdler Sarah Claxton is confident she...   \n",
       "1  Sonia O'Sullivan has indicated that she would ...   \n",
       "2  Maurice Greene aims to wipe out the pain of lo...   \n",
       "3  The IAAF - athletics' world governing body - h...   \n",
       "4  Ethiopia's Tirunesh Dibaba set a new world rec...   \n",
       "\n",
       "                                                Text  \n",
       "0  The 25-year-old has already smashed the Britis...  \n",
       "1  Athletics Ireland have hinted that the 35-year...  \n",
       "2  He had to settle for bronze in Greece behind f...  \n",
       "3  Two task forces have been set up to examine do...  \n",
       "4  Dibaba won in 14 minutes 32.93 seconds to eras...  "
      ]
     },
     "execution_count": 5,
     "metadata": {},
     "output_type": "execute_result"
    }
   ],
   "source": [
    "df2 = pd.DataFrame(df.Text.str.split('\\n\\n', n = 2).tolist(), columns = ['Title', 'Abstract', 'Text'])\n",
    "df2.head()"
   ]
  },
  {
   "cell_type": "code",
   "execution_count": 6,
   "metadata": {},
   "outputs": [
    {
     "name": "stdout",
     "output_type": "stream",
     "text": [
      "<class 'pandas.core.frame.DataFrame'>\n",
      "RangeIndex: 200 entries, 0 to 199\n",
      "Data columns (total 3 columns):\n",
      "Title       200 non-null object\n",
      "Abstract    200 non-null object\n",
      "Text        200 non-null object\n",
      "dtypes: object(3)\n",
      "memory usage: 4.8+ KB\n"
     ]
    }
   ],
   "source": [
    "# random state\n",
    "rs = 42\n",
    "# as usual, explore the dataset\n",
    "df2.info()"
   ]
  },
  {
   "cell_type": "code",
   "execution_count": 7,
   "metadata": {},
   "outputs": [
    {
     "name": "stdout",
     "output_type": "stream",
     "text": [
      "British hurdler Sarah Claxton is confident she can win her first major medal at next month's European Indoor Championships in Madrid.\n"
     ]
    },
    {
     "name": "stderr",
     "output_type": "stream",
     "text": [
      "D:\\Programs\\conda\\lib\\site-packages\\ipykernel_launcher.py:2: FutureWarning: get_value is deprecated and will be removed in a future release. Please use .at[] or .iat[] accessors instead\n",
      "  \n"
     ]
    }
   ],
   "source": [
    "# print out the first 200 characters of the first row of text column\n",
    "print(df2.get_value(index=0, col = 'Abstract')[:500])\n",
    "#print(df.at[0, 'Text'] [:200])"
   ]
  },
  {
   "cell_type": "code",
   "execution_count": 8,
   "metadata": {},
   "outputs": [
    {
     "name": "stdout",
     "output_type": "stream",
     "text": [
      "Average length of the data:  1773.025\n",
      "Minimum length of the data:  479\n",
      "Maximum length of the data:  9581\n"
     ]
    }
   ],
   "source": [
    "# average length of text column\n",
    "print(\"Average length of the data: \", df2['Text'].apply(lambda x: len(x)).mean())\n",
    "\n",
    "# Minimum length of text column\n",
    "print(\"Minimum length of the data: \", df2['Text'].apply(lambda x: len(x)).min())\n",
    "\n",
    "# Maximum length of text column\n",
    "print(\"Maximum length of the data: \", df2['Text'].apply(lambda x: len(x)).max())"
   ]
  },
  {
   "cell_type": "markdown",
   "metadata": {},
   "source": [
    "## 2. Data Prepocessing"
   ]
  },
  {
   "cell_type": "code",
   "execution_count": 9,
   "metadata": {},
   "outputs": [],
   "source": [
    "import string\n",
    "from nltk.corpus import stopwords as sw\n",
    "from nltk.corpus import wordnet as wn\n",
    "from nltk import wordpunct_tokenize\n",
    "from nltk import WordNetLemmatizer\n",
    "from nltk import sent_tokenize\n",
    "from nltk import pos_tag"
   ]
  },
  {
   "cell_type": "code",
   "execution_count": 11,
   "metadata": {},
   "outputs": [],
   "source": [
    "# initialise WordNet lemmatizer and punctuation filter\n",
    "lemmatizer = WordNetLemmatizer()\n",
    "punct = set(string.punctuation)\n",
    "\n",
    "# load the provided stopwords\n",
    "df_stop = pd.read_json('CaseStudy2Data\\Federaliststop.json')\n",
    "#df = pd.read_csv('001.txt', delimiter = \"\\t\", names=['Text'],)\n",
    "\n",
    "# join provided stopwords with the default NLTK English stopwords\n",
    "stopwords = set(df_stop['Term']).union(set(sw.words('english')))\n",
    "#stopwords = set(sw.words('english'))\n",
    "\n",
    "def lemmatize(token, tag):\n",
    "    tag = {\n",
    "        'N': wn.NOUN,\n",
    "        'V': wn.VERB,\n",
    "        'R': wn.ADV,\n",
    "        'J': wn.ADJ\n",
    "    }.get(tag[0], wn.NOUN)\n",
    "\n",
    "    return lemmatizer.lemmatize(token, tag)"
   ]
  },
  {
   "cell_type": "code",
   "execution_count": 12,
   "metadata": {},
   "outputs": [],
   "source": [
    "def cab_tokenizer(document):\n",
    "    # initialize token list\n",
    "    tokens = []\n",
    "    \n",
    "    # split the document into sentences\n",
    "    for sent in sent_tokenize(document):\n",
    "        # split the document into tokens and then create part of speech tag for each token\n",
    "        for token, tag in pos_tag(wordpunct_tokenize(sent)):\n",
    "            # preprocess and remove unnecessary characters\n",
    "            token = token.lower()\n",
    "            token = token.strip()\n",
    "            token = token.strip('_')\n",
    "            token = token.strip('*')\n",
    "\n",
    "            # If stopword, ignore token and continue\n",
    "            if token in stopwords:\n",
    "                continue\n",
    "\n",
    "            # If punctuation, ignore token and continue\n",
    "            if all(char in punct for char in token):\n",
    "                continue\n",
    "\n",
    "            # Lemmatize the token and add back to the tokens list\n",
    "            lemma = lemmatize(token, tag)\n",
    "            tokens.append(lemma)\n",
    "    \n",
    "    return tokens"
   ]
  },
  {
   "cell_type": "code",
   "execution_count": 14,
   "metadata": {},
   "outputs": [
    {
     "name": "stdout",
     "output_type": "stream",
     "text": [
      "2866\n"
     ]
    }
   ],
   "source": [
    "from sklearn.feature_extraction.text import TfidfVectorizer\n",
    "\n",
    "# tf idf vectoriser\n",
    "tfidf_vec = TfidfVectorizer(tokenizer=cab_tokenizer, ngram_range=(1,2))\n",
    "X = tfidf_vec.fit_transform(df2['Abstract'])\n",
    "\n",
    "# see the number of unique tokens produced by the vectorizer. Lots of them...\n",
    "print(len(tfidf_vec.get_feature_names()))"
   ]
  },
  {
   "cell_type": "code",
   "execution_count": 179,
   "metadata": {},
   "outputs": [],
   "source": [
    "#print(tfidf_vec.get_feature_names())"
   ]
  },
  {
   "cell_type": "markdown",
   "metadata": {},
   "source": [
    "## 3. Initial Document Analysis\n",
    "\n"
   ]
  },
  {
   "cell_type": "code",
   "execution_count": 15,
   "metadata": {},
   "outputs": [],
   "source": [
    "from sklearn.cluster import KMeans\n",
    "\n",
    "# K means clustering using the term vector\n",
    "#kmeans = KMeans(n_clusters=7, random_state=rs).fit(X)\n",
    "kmeans = KMeans(n_clusters=7, random_state=rs).fit(X)"
   ]
  },
  {
   "cell_type": "code",
   "execution_count": 16,
   "metadata": {
    "scrolled": true
   },
   "outputs": [
    {
     "name": "stdout",
     "output_type": "stream",
     "text": [
      "Top terms for cluster 0: manager, newcastle, marathon, coach, liverpool, \n",
      "Top terms for cluster 1: olympic, sprinter, britain, champion, michael, \n",
      "Top terms for cluster 2: six, six nation, nation, ireland, saturday, \n",
      "Top terms for cluster 3: beat, andy, andy roddick, roddick, cup, \n",
      "Top terms for cluster 4: manchester, player, 1, alex ferguson, ferguson, \n",
      "Top terms for cluster 5: australian, win, champion, injury, rule, \n",
      "Top terms for cluster 6: day, england, 1, final, test, \n"
     ]
    }
   ],
   "source": [
    "# function to visualise text cluster. Useful for the assignment too :)\n",
    "def visualise_text_cluster(n_clusters, cluster_centers, terms, num_word = 5):\n",
    "    # -- Params --\n",
    "    # cluster_centers: cluster centers of fitted/trained KMeans/other centroid-based clustering\n",
    "    # terms: terms used for clustering\n",
    "    # num_word: number of terms to show per cluster. Change as you please.\n",
    "    \n",
    "    # find features/terms closest to centroids\n",
    "    ordered_centroids = cluster_centers.argsort()[:, ::-1]\n",
    "    \n",
    "    for cluster in range(n_clusters):\n",
    "        print(\"Top terms for cluster {}:\".format(cluster), end=\" \")\n",
    "        for term_idx in ordered_centroids[cluster, :5]:\n",
    "            print(terms[term_idx], end=', ')\n",
    "        print()\n",
    "        \n",
    "# call it\n",
    "visualise_text_cluster(kmeans.n_clusters, kmeans.cluster_centers_, tfidf_vec.get_feature_names())"
   ]
  },
  {
   "cell_type": "markdown",
   "metadata": {},
   "source": [
    "## 4. Feature Selection and Transformation\n",
    "\n",
    "### 4.1. Zipf's Law and Document Frequency Filtering\n",
    "\n",
    "Zipf's law is an empirical law based on distribution of phrases in many large collections of documents. It states that the frequency of a term will be inversely proportioned with its rank in the frequency table ([more info](https://en.wikipedia.org/wiki/Zipf%27s_law)). Zipf law can be observed when you plot document occurences vs term occurences from the vectorised terms."
   ]
  },
  {
   "cell_type": "code",
   "execution_count": 17,
   "metadata": {},
   "outputs": [],
   "source": [
    "import seaborn as sns\n",
    "import matplotlib.pyplot as plt\n",
    "\n",
    "# creating tf-idf terms - a bit slow, do it occasionaly\n",
    "def calculate_tf_idf_terms(document_col):\n",
    "    # Param - document_col: collection of raw document text that you want to analyse\n",
    "    from sklearn.feature_extraction.text import CountVectorizer\n",
    "\n",
    "    # use count vectorizer to find TF and DF of each term\n",
    "    count_vec = CountVectorizer(tokenizer=cab_tokenizer, ngram_range=(1,2))\n",
    "    X_count = count_vec.fit_transform(df['Text'])\n",
    "    \n",
    "    # create list of terms and their tf and df\n",
    "    terms = [{'term': t, 'idx': count_vec.vocabulary_[t],\n",
    "              'tf': X_count[:, count_vec.vocabulary_[t]].sum(),\n",
    "              'df': X_count[:, count_vec.vocabulary_[t]].count_nonzero()}\n",
    "             for t in count_vec.vocabulary_]\n",
    "    #print(count_vec.get_feature_names())\n",
    "    #print(len(count_vec.get_feature_names()))\n",
    "    return terms\n",
    "    \n",
    "terms = calculate_tf_idf_terms(df2['Text'])"
   ]
  },
  {
   "cell_type": "code",
   "execution_count": 18,
   "metadata": {},
   "outputs": [
    {
     "data": {
      "image/png": "[encoded data removed]",
      "text/plain": [
       "<Figure size 432x288 with 1 Axes>"
      ]
     },
     "metadata": {},
     "output_type": "display_data"
    }
   ],
   "source": [
    "# visualisation of ZIPF law\n",
    "def visualise_zipf(terms, itr_step = 50):\n",
    "    from scipy.spatial.distance import euclidean\n",
    "    from math import sqrt\n",
    "    \n",
    "    # --- Param ---\n",
    "    # terms: collection of terms dictionary from calculate_tf_idf_terms function\n",
    "    # itr_step: used to control how many terms that you want to plot. Num of terms to plot = N terms / itr_step\n",
    "    \n",
    "    # sort terms by its frequency\n",
    "    terms.sort(key=lambda x: (x['tf'], x['df']), reverse=True)\n",
    "    \n",
    "    # select a few of the terms for plotting purpose\n",
    "    sel_terms = [terms[i] for i in range(0, len(terms), itr_step)]\n",
    "    labels = [term['term'] for term in sel_terms]\n",
    "    \n",
    "    # plot term frequency ranking vs its DF\n",
    "    plt.plot(range(len(sel_terms)), [x['df'] for x in sel_terms])\n",
    "    plt.xlabel('Term frequency ranking')\n",
    "    plt.ylabel('Document frequency')\n",
    "    \n",
    "    max_x = len(sel_terms)\n",
    "    max_y = max([x['df'] for x in sel_terms])\n",
    "    \n",
    "    # annotate the points\n",
    "    prev_x, prev_y = 0, 0\n",
    "    for label, x, y in zip(labels,range(len(sel_terms)), [x['df'] for x in sel_terms]):\n",
    "        # calculate the relative distance between labels to increase visibility\n",
    "        x_dist = (abs(x - prev_x) / float(max_x)) ** 2\n",
    "        y_dist = (abs(y - prev_y) / float(max_y)) ** 2\n",
    "        scaled_dist = sqrt(x_dist + y_dist)\n",
    "        \n",
    "        if (scaled_dist > 0.1):\n",
    "            plt.text(x+2, y+2, label, {'ha': 'left', 'va': 'bottom'}, rotation=30)\n",
    "            prev_x, prev_y = x, y\n",
    "    \n",
    "    plt.show()\n",
    "    \n",
    "visualise_zipf(terms)"
   ]
  },
  {
   "cell_type": "code",
   "execution_count": 19,
   "metadata": {
    "scrolled": false
   },
   "outputs": [
    {
     "name": "stdout",
     "output_type": "stream",
     "text": [
      "The top 10 terms with high tf and df\n"
     ]
    },
    {
     "data": {
      "text/plain": [
       "[{'term': 'year', 'idx': 30493, 'tf': 308, 'df': 134},\n",
       " {'term': 'game', 'idx': 11849, 'tf': 249, 'df': 106},\n",
       " {'term': 'win', 'idx': 29805, 'tf': 246, 'df': 102},\n",
       " {'term': 'play', 'idx': 20809, 'tf': 240, 'df': 104},\n",
       " {'term': 'one', 'idx': 19661, 'tf': 204, 'df': 104},\n",
       " {'term': 'england', 'idx': 9601, 'tf': 199, 'df': 52},\n",
       " {'term': 'world', 'idx': 30219, 'tf': 180, 'df': 92},\n",
       " {'term': 'player', 'idx': 20975, 'tf': 164, 'df': 82},\n",
       " {'term': 'make', 'idx': 17112, 'tf': 163, 'df': 108},\n",
       " {'term': 'would', 'idx': 30295, 'tf': 156, 'df': 93}]"
      ]
     },
     "execution_count": 19,
     "metadata": {},
     "output_type": "execute_result"
    }
   ],
   "source": [
    "print(\"The top 10 terms with high tf and df\")\n",
    "terms[:10]"
   ]
  },
  {
   "cell_type": "markdown",
   "metadata": {},
   "source": [
    "Zipf's law is applied in text mining during the feature selection process. Terms that occured on the left-top area of the diagram above (e.g. state and latter) are terms that are too frequent (high TF and DF). Meanwhile, terms on the right-bottom side of the diagram e.g. (\"acquire revision\" and \"facilitate\n",
    "inroad\") only appear in select number of documents. Both groups of terms do not add value, thus filtering the low and high end terms, and keeping only terms in the middle area will benefit a clustering solution. This filtering can easily be done through limiting the DF value of terms in vectoriser."
   ]
  },
  {
   "cell_type": "code",
   "execution_count": 20,
   "metadata": {
    "scrolled": true
   },
   "outputs": [
    {
     "name": "stdout",
     "output_type": "stream",
     "text": [
      "631\n"
     ]
    }
   ],
   "source": [
    "# another tf idf vectoriser\n",
    "# limit the terms produced to terms that occured in min of 2 documents and max 80% of all documents\n",
    "filter_vec = TfidfVectorizer(tokenizer=cab_tokenizer, ngram_range=(1,2), min_df=2, max_df=0.8)\n",
    "X_filter = filter_vec.fit_transform(df2['Abstract'])\n",
    "\n",
    "# see the number of unique tokens produced by the vectorizer. Reduced!\n",
    "print(len(filter_vec.get_feature_names()))"
   ]
  },
  {
   "cell_type": "markdown",
   "metadata": {},
   "source": [
    "print(filter_vec.get_feature_names())"
   ]
  },
  {
   "cell_type": "markdown",
   "metadata": {},
   "source": [
    "This process greatly reduced the number of terms in a feature set. Try to build another clustering solution and check if the clusters are more meaningful."
   ]
  },
  {
   "cell_type": "code",
   "execution_count": 21,
   "metadata": {},
   "outputs": [
    {
     "name": "stdout",
     "output_type": "stream",
     "text": [
      "Wall time: 144 ms\n"
     ]
    }
   ],
   "source": [
    "%%time\n",
    "# K means clustering using the new term vector, time it for comparison to SVD\n",
    "#kmeans_fil = KMeans(n_clusters=7, random_state=rs).fit(X_filter)\n",
    "kmeans_fil = KMeans(n_clusters=7, random_state=rs).fit(X_filter)"
   ]
  },
  {
   "cell_type": "code",
   "execution_count": 22,
   "metadata": {
    "scrolled": true
   },
   "outputs": [
    {
     "name": "stdout",
     "output_type": "stream",
     "text": [
      "Top terms for cluster 0: cup, international, australian, tennis, coach, \n",
      "Top terms for cluster 1: six, six nation, nation, saturday, ireland, \n",
      "Top terms for cluster 2: sprinter, ban, marathon, greek, kenteris, \n",
      "Top terms for cluster 3: arsenal, game, chelsea, manager, bos, \n",
      "Top terms for cluster 4: day, england, test, south africa, south, \n",
      "Top terms for cluster 5: madrid, city, agree, birmingham, manchester, \n",
      "Top terms for cluster 6: injury, tour, miss, championship, summer, \n"
     ]
    }
   ],
   "source": [
    "# visualisation\n",
    "visualise_text_cluster(kmeans_fil.n_clusters, kmeans_fil.cluster_centers_, filter_vec.get_feature_names())"
   ]
  },
  {
   "cell_type": "markdown",
   "metadata": {},
   "source": [
    "With much less terms in the feature vector, the clustering process managed to\n",
    "result in much more meaningful solution. The cluster topics can be distinctly\n",
    "recognized like justice department (\\#6), military (\\#2), parliament (\\#3), etc."
   ]
  },
  {
   "cell_type": "markdown",
   "metadata": {},
   "source": [
    "### Clustering with filtered terms"
   ]
  },
  {
   "cell_type": "code",
   "execution_count": 23,
   "metadata": {},
   "outputs": [],
   "source": [
    "# list to save the clusters and cost\n",
    "clusters = []\n",
    "inertia_vals = []\n",
    "\n",
    "# this whole process should take a while\n",
    "for k in range(1, 22, 3):\n",
    "    # train clustering with the specified K\n",
    "    model = KMeans(n_clusters=k, random_state=rs, n_jobs=-10)\n",
    "    model.fit(X_filter)\n",
    "    \n",
    "    # append model to cluster list\n",
    "    clusters.append(model)\n",
    "    inertia_vals.append(model.inertia_)"
   ]
  },
  {
   "cell_type": "code",
   "execution_count": 24,
   "metadata": {},
   "outputs": [
    {
     "data": {
      "image/png": "[encoded data removed]",
      "text/plain": [
       "<Figure size 432x288 with 1 Axes>"
      ]
     },
     "metadata": {},
     "output_type": "display_data"
    }
   ],
   "source": [
    "# plot the inertia vs K values\n",
    "plt.plot(range(1,22,3), inertia_vals, marker='*')\n",
    "plt.show()"
   ]
  },
  {
   "cell_type": "code",
   "execution_count": 25,
   "metadata": {},
   "outputs": [
    {
     "name": "stdout",
     "output_type": "stream",
     "text": [
      "KMeans(algorithm='auto', copy_x=True, init='k-means++', max_iter=300,\n",
      "    n_clusters=4, n_init=10, n_jobs=-10, precompute_distances='auto',\n",
      "    random_state=42, tol=0.0001, verbose=0)\n",
      "Silhouette score for k=3 0.006987546521171406\n",
      "\n",
      "\n",
      "KMeans(algorithm='auto', copy_x=True, init='k-means++', max_iter=300,\n",
      "    n_clusters=7, n_init=10, n_jobs=-10, precompute_distances='auto',\n",
      "    random_state=42, tol=0.0001, verbose=0)\n",
      "Silhouette score for k=6 0.010929069291902904\n"
     ]
    }
   ],
   "source": [
    "#Get optimum clusters\n",
    "\n",
    "from sklearn.metrics import silhouette_score\n",
    "\n",
    "print(clusters[1])\n",
    "print(\"Silhouette score for k=3\", silhouette_score(X, clusters[1].predict(X_filter)))\n",
    "print('\\n')\n",
    "\n",
    "print(clusters[2])\n",
    "print(\"Silhouette score for k=6\", silhouette_score(X, clusters[2].predict(X_filter)))"
   ]
  },
  {
   "cell_type": "code",
   "execution_count": 26,
   "metadata": {},
   "outputs": [
    {
     "name": "stdout",
     "output_type": "stream",
     "text": [
      "Top terms for cluster 0: cricket, tennis, international, cup, one, \n",
      "Top terms for cluster 1: manager, arsenal, chelsea, manchester, bos, \n",
      "Top terms for cluster 2: test, day, england, pakistan, africa, \n",
      "Top terms for cluster 3: olympic, champion, union, return, year, \n",
      "Top terms for cluster 4: six, six nation, nation, saturday, ireland, \n",
      "Top terms for cluster 5: madrid, win, championship, world, indoor, \n"
     ]
    }
   ],
   "source": [
    "# best cluster number k = 6\n",
    "kmeans_fil = KMeans(n_clusters=6, random_state=rs).fit(X_filter)\n",
    "# visualisation\n",
    "visualise_text_cluster(kmeans_fil.n_clusters, kmeans_fil.cluster_centers_, filter_vec.get_feature_names())"
   ]
  },
  {
   "cell_type": "code",
   "execution_count": null,
   "metadata": {},
   "outputs": [],
   "source": []
  },
  {
   "cell_type": "code",
   "execution_count": null,
   "metadata": {},
   "outputs": [],
   "source": []
  },
  {
   "cell_type": "code",
   "execution_count": null,
   "metadata": {},
   "outputs": [],
   "source": []
  },
  {
   "cell_type": "code",
   "execution_count": null,
   "metadata": {},
   "outputs": [],
   "source": []
  },
  {
   "cell_type": "code",
   "execution_count": null,
   "metadata": {},
   "outputs": [],
   "source": []
  },
  {
   "cell_type": "markdown",
   "metadata": {},
   "source": [
    "### 4.2. Singular Value Decomposition\n",
    "\n",
    "Singular value decomposition (SVD) is a dimensionality reduction method that\n",
    "works by factorizing a matrix. SVD is used widely in data mining through many techniques like Principal Component Analysis (PCA - a common dimensionality reduction method applied on traditional data to understand variables dependencies) and in text mining, Latent Semantic Analysis (LSA). LSA is\n",
    "applied to analyzing documents by finding the underlying meaning or concepts of words in these documents. LSA uses SVD to reduce the number of terms while\n",
    "preserving the similarity structure among documents.\n",
    "\n",
    "[More info](https://en.wikipedia.org/wiki/Latent_semantic_analysis)\n",
    "\n",
    "LSA is typically used to help comparing and finding similar documents (like in document clustering and classification) and also finding synonymous/polysemous relationships between words. LSA can help in increasing speed (less features) and accuracy (comparison is now based on document concept similary instead of word similarity) of the model.\n",
    "\n",
    "In the following code, we will reduce the original `X` into only 100 components."
   ]
  },
  {
   "cell_type": "code",
   "execution_count": 87,
   "metadata": {},
   "outputs": [],
   "source": [
    "from sklearn.decomposition import TruncatedSVD\n",
    "\n",
    "#svd = TruncatedSVD(n_components=100, random_state=42)\n",
    "svd = TruncatedSVD(n_components=3, random_state=42)\n",
    "X_trans = svd.fit_transform(X_filter)"
   ]
  },
  {
   "cell_type": "markdown",
   "metadata": {},
   "source": [
    "Each of the components produced by SVD contain weights associated with each word. The larger the weight is, the more connected the word is to the component."
   ]
  },
  {
   "cell_type": "code",
   "execution_count": 88,
   "metadata": {
    "scrolled": true
   },
   "outputs": [
    {
     "name": "stdout",
     "output_type": "stream",
     "text": [
      "Top terms in component #0 medal, year, first, major medal, major, first major, european, hurdle, win, british, \n",
      "Top terms in component #1 major medal, major, first major, first, medal, win, british, confident, european, 25 year, \n",
      "Top terms in component #2 first, major medal, first major, major, old, long, new, year old, season, take, \n"
     ]
    }
   ],
   "source": [
    "# sort the components by largest weighted word\n",
    "sorted_comp = svd.components_.argsort()[:, ::-1]\n",
    "terms = filter_vec.get_feature_names()\n",
    "\n",
    "# visualise word - concept/component relationships\n",
    "for comp_num in range(3):\n",
    "    print(\"Top terms in component #{}\".format(comp_num), end=\" \")\n",
    "    for i in sorted_comp[comp_num, :10]:\n",
    "        print(terms[i], end=\", \")\n",
    "    print()"
   ]
  },
  {
   "cell_type": "markdown",
   "metadata": {},
   "source": [
    "The transformed `X` can now be used for clustering. Build a new clustering solution on the transformed `X`."
   ]
  },
  {
   "cell_type": "code",
   "execution_count": 89,
   "metadata": {
    "scrolled": true
   },
   "outputs": [
    {
     "name": "stdout",
     "output_type": "stream",
     "text": [
      "Wall time: 9.97 ms\n"
     ]
    }
   ],
   "source": [
    "%%time\n",
    "# K-means clustering using LSA-transformed X\n",
    "svd_kmeans = KMeans(n_clusters=3, random_state=rs).fit(X_trans)"
   ]
  },
  {
   "cell_type": "markdown",
   "metadata": {},
   "source": [
    "SVD transformed clustering is much much faster than the normal one (~50 ms vs ~800 ms). Let's see if the SVD transformation changes the clustering characteristics."
   ]
  },
  {
   "cell_type": "code",
   "execution_count": 90,
   "metadata": {},
   "outputs": [
    {
     "name": "stdout",
     "output_type": "stream",
     "text": [
      "Top terms for cluster 0: year, hurdle, 25, old, long, \n",
      "Top terms for cluster 1: medal, major medal, first major, major, win, \n",
      "Top terms for cluster 2: major medal, major, first major, first, medal, \n"
     ]
    }
   ],
   "source": [
    "# transform cluster centers back to original feature space for visualisation\n",
    "original_space_centroids = svd.inverse_transform(svd_kmeans.cluster_centers_)\n",
    "\n",
    "# visualisation\n",
    "visualise_text_cluster(svd_kmeans.n_clusters, original_space_centroids, filter_vec.get_feature_names())"
   ]
  },
  {
   "cell_type": "markdown",
   "metadata": {},
   "source": [
    "There is not much difference in the cluster topic terms between SVD-transformed feature vs normal feature. This means the original clustering solution has managed to capture the difference in concepts/topics in the document space. SVD is still beneficial due to reduced training time, which is extremely beneficial in large document clustering.\n",
    "\n",
    "## End Notes\n",
    "\n",
    "This practical gives you a tour to familiarize with text mining functions and libraries in Python, and how a data set appearing in the text format can be analyzed with data mining techniques such as clustering. You prepared the FEDPAPERS data set for finding the natural groupings of the text data. It particularly covered text pre-processing (such as stop-word removal, lemmatizing), dimensionality reduction (applying Zipf’s law and transformation of the text data with a factorization method (for feature selection) called as Singular Value Decomposition (SVD)), and finally performing clustering on the text data for finding similarity and understanding the common themes in the data set."
   ]
  }
 ],
 "metadata": {
  "kernelspec": {
   "display_name": "Python 3",
   "language": "python",
   "name": "python3"
  },
  "language_info": {
   "codemirror_mode": {
    "name": "ipython",
    "version": 3
   },
   "file_extension": ".py",
   "mimetype": "text/x-python",
   "name": "python",
   "nbconvert_exporter": "python",
   "pygments_lexer": "ipython3",
   "version": "3.6.5"
  }
 },
 "nbformat": 4,
 "nbformat_minor": 2
}
